{
 "cells": [
  {
   "cell_type": "markdown",
   "metadata": {},
   "source": [
    "# Load"
   ]
  },
  {
   "cell_type": "code",
   "execution_count": null,
   "metadata": {},
   "outputs": [],
   "source": [
    "datadir <- '/n/scratch3/users/i/ik97/'"
   ]
  },
  {
   "cell_type": "code",
   "execution_count": null,
   "metadata": {},
   "outputs": [],
   "source": [
    "suppressWarnings({\n",
    "    source('utils_celldive.R')    \n",
    "})\n"
   ]
  },
  {
   "cell_type": "markdown",
   "metadata": {},
   "source": [
    "# Label Niches"
   ]
  },
  {
   "cell_type": "code",
   "execution_count": null,
   "metadata": {},
   "outputs": [],
   "source": [
    "spots <- readRDS(glue('{datadir}/lip1_spots.rds'))\n",
    "cells <- readRDS(glue('{datadir}/lip1_cells.rds'))\n"
   ]
  },
  {
   "cell_type": "markdown",
   "metadata": {},
   "source": [
    "## Plot clusters"
   ]
  },
  {
   "cell_type": "code",
   "execution_count": null,
   "metadata": {},
   "outputs": [],
   "source": [
    "## Only plot up to 33 colors \n",
    "with(spots, {\n",
    "    clusters_plot <- names(which(Clusters %>% map(table) %>% map_int(length) <= length(colors_overload)))\n",
    "    fig.size(4 * length(clusters_plot), 15)\n",
    "    map(clusters_plot, function(.name) {\n",
    "        do_scatter(U1$embedding, Clusters, .name) |\n",
    "        do_scatter(data.frame(x = metadata$y, y = -metadata$x), Clusters, .name, do_labels = FALSE)\n",
    "    }) %>% \n",
    "        reduce(`/`)\n",
    "    \n",
    "})\n"
   ]
  },
  {
   "cell_type": "code",
   "execution_count": null,
   "metadata": {},
   "outputs": [],
   "source": [
    "fig.size(10, 10)\n",
    "with(spots, do_scatter(U1$embedding, Clusters, 'Clust0.8'))\n"
   ]
  },
  {
   "cell_type": "code",
   "execution_count": null,
   "metadata": {},
   "outputs": [],
   "source": [
    "fig.size(15, 10)\n",
    "with(spots, {\n",
    "    do_scatter(U1$embedding, Clusters, 'Clust0.8', quo(`Clust0.4`), do_labels=FALSE, nrow=6)   \n",
    "})\n"
   ]
  },
  {
   "cell_type": "markdown",
   "metadata": {},
   "source": [
    "## EXTRA: subcluster"
   ]
  },
  {
   "cell_type": "code",
   "execution_count": null,
   "metadata": {},
   "outputs": [],
   "source": [
    "spots$metadata$Cluster_sub <- spots$Clusters$`Clust0.8`\n",
    "spots$metadata$Cluster_sub <- unlist(do_subcluster(spots, 'U1', .2, spots$metadata$Cluster_sub, c('2')))\n",
    "spots$metadata$Cluster_sub <- unlist(do_subcluster(spots, 'U1', .3, spots$metadata$Cluster_sub, c('8')))"
   ]
  },
  {
   "cell_type": "code",
   "execution_count": null,
   "metadata": {},
   "outputs": [],
   "source": [
    "library(RColorBrewer)\n",
    "n <- length(unique(spots$metadata$Cluster_sub))\n",
    "qual_col_pals = brewer.pal.info[brewer.pal.info$category == 'qual',]\n",
    "pal = unlist(mapply(brewer.pal, qual_col_pals$maxcolors, rownames(qual_col_pals)))\n",
    "\n",
    "fig.size(8, 12)\n",
    "with(spots, {\n",
    "    do_scatter(U1$embedding, metadata, 'Cluster_sub', do_labels = TRUE, palette_use = pal)\n",
    "})\n"
   ]
  },
  {
   "cell_type": "code",
   "execution_count": null,
   "metadata": {},
   "outputs": [],
   "source": [
    "spots$Markers$Cluster_sub <- wilcoxauc(t(spots$z), spots$metadata$Cluster_sub)"
   ]
  },
  {
   "cell_type": "markdown",
   "metadata": {},
   "source": [
    "## Plot markers (UMAP)"
   ]
  },
  {
   "cell_type": "code",
   "execution_count": null,
   "metadata": {},
   "outputs": [],
   "source": [
    "fig.size(4, 15)\n",
    "plotFeatures(t(spots$z), spots$U1$embedding, c('ASMA', 'CD31', 'CD90', 'CD146'), nrow = 1,no_guide = TRUE, empty_theme = TRUE) %>% plot()\n",
    "plotFeatures(t(spots$z), spots$U1$embedding, c('CCL19', 'CD3', 'CD4', 'CD45'), nrow = 1,no_guide = TRUE, empty_theme = TRUE) %>% plot() \n",
    "plotFeatures(t(spots$z), spots$U1$embedding, c('VIM', 'PANCK', 'PDPN', 'SPARC', 'PDGFRA'), nrow = 1, no_guide = TRUE, empty_theme = TRUE) %>% plot() \n",
    "\n"
   ]
  },
  {
   "cell_type": "markdown",
   "metadata": {},
   "source": [
    "## Plot markers (heatmap)"
   ]
  },
  {
   "cell_type": "code",
   "execution_count": null,
   "metadata": {},
   "outputs": [],
   "source": [
    "fig.size(4, 12)\n",
    "# plot_heatmap(spots$Markers$`Clust0.1`, c('ASMA', 'CD31', 'CD90', 'CD146', 'CCL19', 'CD3', 'CD4', 'CD45', 'VIM', 'PANCK'), TRUE)\n",
    "plot_heatmap(spots$Markers$Cluster_sub, c('ASMA', 'CD31', 'CD146', 'CD3', 'PANCK'), TRUE)\n",
    "# plot_heatmap(spots$Markers$`Clust0.8`, c('ASMA', 'CD31', 'CD146', 'CD3', 'PANCK'), TRUE)\n",
    "\n"
   ]
  },
  {
   "cell_type": "markdown",
   "metadata": {},
   "source": [
    "## Label "
   ]
  },
  {
   "cell_type": "code",
   "execution_count": null,
   "metadata": {},
   "outputs": [],
   "source": [
    "if ('Niche' %in% colnames(spots$metadata)) \n",
    "    spots$metadata$Niche <- NULL\n",
    "\n",
    "spots$metadata$Cluster <- paste0('C', spots$metadata$Cluster_sub) ## subclustering of Clust0.8\n",
    "# spots$metadata$Cluster <- paste0('C', spots$Clusters$`Clust0.8`)\n",
    "\n",
    "spots$metadata <- spots$metadata %>% \n",
    "    dplyr::mutate(Niche = case_when(\n",
    "        Cluster %in% paste0('C', c(13)) ~ 'Lymphoid1',\n",
    "        Cluster %in% paste0('C', c(22)) ~ 'Lymphoid2',\n",
    "        # Cluster %in% paste0('C', c()) ~ 'Lymphoid3',\n",
    "        # Cluster %in% paste0('C', c(12)) ~ 'Garbage',\n",
    "        Cluster %in% paste0('C', c(3)) ~ 'Perivascular2',\n",
    "        # Cluster %in% paste0('C', c(8)) ~ 'Perivascular3',\n",
    "        Cluster %in% paste0('C', c('8_0', '8_8', '8_6')) ~ 'Perivascular3',\n",
    "        Cluster %in% paste0('C', c('8_3', '8_5', '8_7', '8_4', '8_1', '8_2')) ~ 'Perivascular4',     \n",
    "        # Cluster %in% paste0('C', c('8_3', '8_5', '8_7', '8_4', '8_1', '8_2')) ~ 'Perivascular4',        \n",
    "\n",
    "        \n",
    "        # Cluster %in% paste0('C', c(2)) ~ 'Lympho_Vascular1',\n",
    "        Cluster %in% paste0('C', c('2_0', '2_5', '2_3')) ~ 'Lymphoid2',\n",
    "        Cluster %in% paste0('C', c('2_1', '2_2')) ~ 'Lympho_Vascular1',\n",
    "        \n",
    "        \n",
    "        Cluster %in% paste0('C', c(1)) ~ 'Lympho_Vascular2',\n",
    "        # Cluster %in% paste0('C', c()) ~ 'Lympho_Vascular3',\n",
    "        # Cluster %in% paste0('C', c()) ~ 'Lympho_Vascular4',\n",
    "        # Cluster %in% paste0('C', c()) ~ 'Epithelial',\n",
    "        Cluster %in% paste0('C', c(5)) ~ 'Epithelial_Vascular1',\n",
    "        # Cluster %in% paste0('C', c()) ~ 'Epithelial_Vascular2',\n",
    "        # Cluster %in% paste0('C', c()) ~ 'Epithelial_Vascular3',\n",
    "        # Cluster %in% paste0('C', c()) ~ 'Epithelial_Vascular4',\n",
    "        # Cluster %in% paste0('C', c()) ~ 'Epithelial_Vascular5',\n",
    "        TRUE ~ 'Other'\n",
    "    )) %>% \n",
    "    dplyr::mutate(Niche_Broad = gsub('\\\\d+', '', Niche))\n"
   ]
  },
  {
   "cell_type": "markdown",
   "metadata": {},
   "source": [
    "## Viz Labels (UMAP)"
   ]
  },
  {
   "cell_type": "code",
   "execution_count": null,
   "metadata": {},
   "outputs": [],
   "source": [
    "fig.size(8, 12)\n",
    "with(spots, {\n",
    "    do_scatter(U1$embedding, metadata, 'Niche', do_labels = TRUE)    \n",
    "})\n"
   ]
  },
  {
   "cell_type": "markdown",
   "metadata": {},
   "source": [
    "## Viz Labels (Physical)"
   ]
  },
  {
   "cell_type": "code",
   "execution_count": null,
   "metadata": {},
   "outputs": [],
   "source": [
    "fig.size(8, 12)\n",
    "with(spots, {\n",
    "    do_scatter(\n",
    "        data.frame(x = metadata$y, y = -metadata$x),\n",
    "        metadata, \n",
    "        'Niche', quo(Niche_Broad), \n",
    "        do_labels = FALSE, \n",
    "        nrow = 2\n",
    "    )    \n",
    "})\n"
   ]
  },
  {
   "cell_type": "markdown",
   "metadata": {},
   "source": [
    "## Niche heatmap"
   ]
  },
  {
   "cell_type": "code",
   "execution_count": null,
   "metadata": {},
   "outputs": [],
   "source": [
    "fig.size(8, 10)\n",
    "with(spots, wilcoxauc(t(z), metadata$Niche)) %>% \n",
    "    plot_heatmap(.scale=FALSE)"
   ]
  },
  {
   "cell_type": "markdown",
   "metadata": {},
   "source": [
    "## Cache"
   ]
  },
  {
   "cell_type": "code",
   "execution_count": null,
   "metadata": {},
   "outputs": [],
   "source": [
    "saveRDS(spots, glue('{datadir}/lip1_spots.rds'))"
   ]
  },
  {
   "cell_type": "markdown",
   "metadata": {},
   "source": [
    "# Fibroblast fine-grained"
   ]
  },
  {
   "cell_type": "code",
   "execution_count": null,
   "metadata": {},
   "outputs": [],
   "source": [
    "cells <- readRDS(glue('{datadir}/lip1_cells.rds'))\n"
   ]
  },
  {
   "cell_type": "markdown",
   "metadata": {},
   "source": [
    "## Visualize cell clusters"
   ]
  },
  {
   "cell_type": "code",
   "execution_count": null,
   "metadata": {},
   "outputs": [],
   "source": [
    "fig.size(6, 8)\n",
    "with(cells, do_scatter(U1$embedding, Clusters, 'Clust0.8'))\n"
   ]
  },
  {
   "cell_type": "code",
   "execution_count": null,
   "metadata": {},
   "outputs": [],
   "source": [
    "fig.size(10, 15)\n",
    "with(cells, {\n",
    "    plotFeatures(t(z), U1$embedding, c('ASMA', 'CD31', 'CD90', 'PDGFRA', 'CD146', 'PDPN', 'PANCK', 'CD45', 'CD3', 'SPARC', 'CD68', 'CCL19'), nrow = 3, no_guide = TRUE, empty_theme = TRUE) %>% plot()\n",
    "})\n"
   ]
  },
  {
   "cell_type": "code",
   "execution_count": null,
   "metadata": {},
   "outputs": [],
   "source": [
    "spots <- readRDS(glue('{datadir}/lip1_spots.rds'))\n",
    "cells$metadata$Niche <- NULL\n",
    "cells$metadata$Niche <- cells$metadata %>% \n",
    "    left_join(\n",
    "        dplyr::select(spots$metadata, SpotID, Niche), \n",
    "        by = c('CellID' = 'SpotID')\n",
    "    ) %>% \n",
    "    with(Niche)\n"
   ]
  },
  {
   "cell_type": "code",
   "execution_count": null,
   "metadata": {},
   "outputs": [],
   "source": [
    "fig.size(8, 12)\n",
    "with(cells, do_scatter(U1$embedding, metadata, 'Niche', quo(Niche), nrow=3, do_labels = FALSE))\n"
   ]
  },
  {
   "cell_type": "markdown",
   "metadata": {},
   "source": [
    "## Isolate fibroblasts"
   ]
  },
  {
   "cell_type": "code",
   "execution_count": null,
   "metadata": {},
   "outputs": [],
   "source": [
    "fig.size(5, 12)\n",
    "p1 <- data.table(cbind(cells$metadata, cells$z, Cluster=cells$Clusters$`Clust0.8`))[\n",
    "    , V1 := median(PDPN), by = Cluster\n",
    "] %>% \n",
    "    tidyr::gather(key, val, PDPN, PDGFRA, CD90) %>% \n",
    "    ggplot(aes(val, reorder(Cluster, V1), color = key)) + \n",
    "    # ggplot(aes(PDPN + PDGFRA, reorder(Cluster, V1))) + \n",
    "        geom_density_ridges2(fill = NA) + \n",
    "        scale_color_tableau() + \n",
    "        geom_vline(xintercept = c(0), linetype = 2) + \n",
    "        NULL \n",
    "\n",
    "p2 <- cells$z %>% \n",
    "    data.frame() %>% \n",
    "    dplyr::select(PDPN, PDGFRA) %>% \n",
    "    do_scatter(cbind(cells$Clusters, cells$metadata), 'Clust0.8', do_labels = FALSE, no_guides = FALSE) + \n",
    "        labs(x = 'PDPN', y = 'PDGFRA') + \n",
    "        facet_wrap(~LibraryID, scales = 'free') + \n",
    "        geom_vline(xintercept = 1, linetype = 2) + \n",
    "        geom_hline(yintercept = -.2, linetype = 2) + \n",
    "        NULL\n",
    "\n",
    "(p1 | p2) + plot_layout(widths = c(1, 2.5))\n"
   ]
  },
  {
   "cell_type": "code",
   "execution_count": null,
   "metadata": {},
   "outputs": [],
   "source": [
    "fig.size(6, 8)\n",
    "plot_biaxial(cells$z, 'PDPN', 'PDGFRA', 1.5, 0)"
   ]
  },
  {
   "cell_type": "code",
   "execution_count": null,
   "metadata": {},
   "outputs": [],
   "source": [
    "fibroblast_clusters <- cells$Markers$`Clust0.4` %>% \n",
    "    subset(\n",
    "        (feature %in% c('PDPN') & auc > .6) | \n",
    "        (feature %in% c('PDGFRA') & auc > .6)\n",
    "    ) %>% \n",
    "    with(unique(group))\n",
    "\n",
    "message('Fibroblast clusters:')\n",
    "fibroblast_clusters\n",
    "\n",
    "idx <- cbind(Cluster = cells$Clusters$`Clust0.4`, cells$z) %>% \n",
    "    data.frame() %>% \n",
    "    tibble::rowid_to_column('id') %>% \n",
    "    subset(Cluster %in% fibroblast_clusters) %>% \n",
    "    subset(PDPN > 1.5 | PDGFRA > 0.5) %>% \n",
    "    with(id)\n",
    "\n",
    "message('Number of fibroblasts:')\n",
    "length(idx)"
   ]
  },
  {
   "cell_type": "code",
   "execution_count": null,
   "metadata": {},
   "outputs": [],
   "source": [
    "fig.size(6, 8)\n",
    "with(cells, do_scatter(\n",
    "    U1$embedding, \n",
    "    tibble(val = seq_len(nrow(cells$metadata)) %in% idx), \n",
    "    'val', \n",
    "    quo(val)\n",
    "))\n"
   ]
  },
  {
   "cell_type": "code",
   "execution_count": null,
   "metadata": {},
   "outputs": [],
   "source": [
    "fibroblasts <- list(\n",
    "    metadata = cells$metadata[idx, ], \n",
    "    intensity = cells$intensity[idx, ],\n",
    "    Clusters = cells$Clusters[idx, ]\n",
    ")\n"
   ]
  },
  {
   "cell_type": "markdown",
   "metadata": {},
   "source": [
    "## PCA etc. "
   ]
  },
  {
   "cell_type": "code",
   "execution_count": null,
   "metadata": {},
   "outputs": [],
   "source": [
    "system.time({\n",
    "     fibroblasts <- fibroblasts %>% \n",
    "        do_norm() %>% \n",
    "        do_scale(3, TRUE) %>% \n",
    "        do_pca() %>% \n",
    "        do_umap('V', 'U1') %>% \n",
    "        do_louvain('U1', c(.1, .4, .8, 1.2)) %>% \n",
    "        do_markers() %>% \n",
    "        identity()\n",
    "})\n"
   ]
  },
  {
   "cell_type": "code",
   "execution_count": null,
   "metadata": {},
   "outputs": [],
   "source": [
    "fig.size(6, 12)\n",
    "with(fibroblasts, do_scatter(U1$embedding, Clusters, 'Clust0.4')) | \n",
    "with(fibroblasts, do_scatter(U1$embedding, Clusters, 'Clust0.8'))\n"
   ]
  },
  {
   "cell_type": "markdown",
   "metadata": {},
   "source": [
    "## Viz markers"
   ]
  },
  {
   "cell_type": "code",
   "execution_count": null,
   "metadata": {},
   "outputs": [],
   "source": [
    "fig.size(4, 15)\n",
    "with(fibroblasts, {\n",
    "    plotFeatures(t(z), U1$embedding, c('SPARC', 'CD90', 'CD31', 'CD146', 'PDPN'), nrow = 1, no_guide = TRUE, empty_theme = TRUE) %>% plot()\n",
    "    plotFeatures(t(z), U1$embedding, c('CCL19', 'HLADR', 'CD3', 'CD45', 'PANCK'), nrow = 1, no_guide = TRUE, empty_theme = TRUE) %>% plot()\n",
    "    # plotFeatures(t(z), U1$embedding, c('CD3', 'CCL19', 'HLADR', 'CD90', 'SPARC', 'PDPN', 'CD68', 'CD31'), nrow = 2, no_guide = TRUE, empty_theme = TRUE) %>% plot()\n",
    "})\n",
    "\n"
   ]
  },
  {
   "cell_type": "code",
   "execution_count": null,
   "metadata": {},
   "outputs": [],
   "source": [
    "plot_heatmap(fibroblasts$Markers$`Clust0.4`, c('CCL19', 'PDPN', 'PDGFRA', 'SPARC', 'CD90'))"
   ]
  },
  {
   "cell_type": "markdown",
   "metadata": {},
   "source": [
    "## Viz Niches"
   ]
  },
  {
   "cell_type": "code",
   "execution_count": null,
   "metadata": {},
   "outputs": [],
   "source": [
    "# spots <- readRDS(glue('{datadir}/lip1_spots.rds'))\n",
    "fibroblasts$metadata$Niche <- fibroblasts$metadata %>% \n",
    "    dplyr::select(-Niche) %>% \n",
    "    left_join(\n",
    "        dplyr::select(spots$metadata, SpotID, Niche), \n",
    "        by = c('CellID' = 'SpotID')\n",
    "    ) %>% \n",
    "    with(Niche)\n"
   ]
  },
  {
   "cell_type": "code",
   "execution_count": null,
   "metadata": {},
   "outputs": [],
   "source": [
    "fig.size(8, 12)\n",
    "with(fibroblasts, do_scatter(U1$embedding, metadata, 'Niche', quo(Niche), nrow=3, do_labels = FALSE))\n"
   ]
  },
  {
   "cell_type": "markdown",
   "metadata": {},
   "source": [
    "## Label subtypes "
   ]
  },
  {
   "cell_type": "code",
   "execution_count": null,
   "metadata": {},
   "outputs": [],
   "source": [
    "fig.size(5, 12)\n",
    "plot_biaxial(fibroblasts$z, 'CCL19', 'CD90', 1, 1) | \n",
    "plot_biaxial(fibroblasts$z, 'SPARC', 'CD90', 1, 1) \n"
   ]
  },
  {
   "cell_type": "code",
   "execution_count": null,
   "metadata": {},
   "outputs": [],
   "source": [
    "fibroblasts$metadata$Subtype <- data.frame(fibroblasts$z) %>% \n",
    "    cbind(fibroblasts$metadata) %>% \n",
    "    cbind(fibroblasts$Clusters) %>% \n",
    "    dplyr::mutate(Subtype = case_when(\n",
    "        `Clust0.4` %in% c('7', '1') & CCL19 > 1 ~ 'Immuno',\n",
    "        `Clust0.4` %in% c('3', '4') & (SPARC > 0 & CD90 > 0) ~ 'Vascular',\n",
    "        # `Clust0.4` %in% c('3', '4') & (SPARC > 1 | CD90 > 1) ~ 'Vascular',\n",
    "        # CCL19 > 1 ~ 'Immuno',\n",
    "        # SPARC > 1 ~ 'Vascular',\n",
    "        TRUE ~ 'Fibroblast'\n",
    "    )) %>% \n",
    "    with(Subtype)\n",
    "table(fibroblasts$metadata$Subtype)\n"
   ]
  },
  {
   "cell_type": "code",
   "execution_count": null,
   "metadata": {},
   "outputs": [],
   "source": [
    "fig.size(6, 15)\n",
    "with(fibroblasts, do_scatter(U1$embedding, metadata, 'Subtype', no_guides=FALSE, do_labels=FALSE)) | \n",
    "with(fibroblasts, do_scatter(U1$embedding, metadata, 'Niche', do_labels = FALSE))\n",
    "\n"
   ]
  },
  {
   "cell_type": "markdown",
   "metadata": {},
   "source": [
    "## Cache"
   ]
  },
  {
   "cell_type": "code",
   "execution_count": null,
   "metadata": {},
   "outputs": [],
   "source": [
    "saveRDS(fibroblasts, glue('{datadir}/lip1_fibroblasts.rds'))"
   ]
  },
  {
   "cell_type": "code",
   "execution_count": null,
   "metadata": {},
   "outputs": [],
   "source": [
    "# fibroblasts <- readRDS(glue('{datadir}/lip1_fibroblasts.rds'))"
   ]
  },
  {
   "cell_type": "markdown",
   "metadata": {},
   "source": [
    "# Co-localization enrichment "
   ]
  },
  {
   "cell_type": "markdown",
   "metadata": {},
   "source": [
    "## Rename niches with nice names"
   ]
  },
  {
   "cell_type": "code",
   "execution_count": null,
   "metadata": {},
   "outputs": [],
   "source": [
    "spots <- readRDS(glue('{datadir}/lip1_spots.rds'))\n",
    "spots$metadata$Niche_nice <- NULL\n",
    "spots$metadata <- spots$metadata %>% \n",
    "    left_join(\n",
    "        tribble(\n",
    "            ~Niche, ~Niche_nice,\n",
    "            'Other', 'Other',\n",
    "            'Perivascular4', 'Mural', \n",
    "            'Perivascular3', 'Vascular',\n",
    "            'Lympho_Vascular2', 'Other', \n",
    "            'Perivascular2', 'Other', \n",
    "            'Epithelial_Vascular1', 'Other', \n",
    "            'Lymphoid2', 'Lymphoid', \n",
    "            'Lympho_Vascular1', 'Lympho_Vascular',\n",
    "            'Lymphoid1', 'Lymphoid'  \n",
    "\n",
    "        )\n",
    "    )\n",
    "\n"
   ]
  },
  {
   "cell_type": "markdown",
   "metadata": {},
   "source": [
    "## Attach to fibroblasts"
   ]
  },
  {
   "cell_type": "code",
   "execution_count": null,
   "metadata": {},
   "outputs": [],
   "source": [
    "fibroblasts <- readRDS(glue('{datadir}/lip1_fibroblasts.rds'))\n",
    "fibroblasts$metadata$Niche <- NULL\n",
    "fibroblasts$metadata$Niche_nice <- NULL\n",
    "fibroblasts$metadata <- fibroblasts$metadata %>% \n",
    "    left_join(\n",
    "        dplyr::select(spots$metadata, SpotID, Niche, Niche_nice), \n",
    "        by = c('CellID' = 'SpotID')\n",
    "    ) \n"
   ]
  },
  {
   "cell_type": "markdown",
   "metadata": {},
   "source": [
    "## Nice co-loc plots"
   ]
  },
  {
   "cell_type": "code",
   "execution_count": null,
   "metadata": {},
   "outputs": [],
   "source": []
  },
  {
   "cell_type": "code",
   "execution_count": null,
   "metadata": {},
   "outputs": [],
   "source": [
    "fig.size(8, 20)\n",
    "nice_plot_coloc(spots, fibroblasts, c('Mural'), 'Vascular')\n"
   ]
  },
  {
   "cell_type": "code",
   "execution_count": null,
   "metadata": {},
   "outputs": [],
   "source": [
    "fig.size(8, 20)\n",
    "nice_plot_coloc(spots, fibroblasts, c('Lymphoid'), 'Immuno')\n"
   ]
  },
  {
   "cell_type": "markdown",
   "metadata": {},
   "source": [
    "## Enrichment"
   ]
  },
  {
   "cell_type": "code",
   "execution_count": null,
   "metadata": {},
   "outputs": [],
   "source": [
    "get_coloc_stats <- function(obj) {\n",
    "    X <- with(obj$metadata, table(Niche_nice, Subtype)) %>% data.frame() \n",
    "    res <- expand.grid(Niche = unique(X$Niche_nice), Type = unique(X$Subtype)) %>% apply(1, function(vals) {\n",
    "        glm(\n",
    "            y ~ 1 + x, \n",
    "            family = poisson, \n",
    "            X %>% dplyr::mutate(y = Subtype==vals[['Type']], x = Niche_nice == vals[['Niche']]),\n",
    "            weights = Freq\n",
    "        ) %>% \n",
    "            broom::tidy() %>% \n",
    "            subset(term == 'xTRUE') %>% \n",
    "            dplyr::mutate(Niche_nice = vals[['Niche']], Subtype=vals[['Type']]) %>% \n",
    "            dplyr::select(-term) %>% \n",
    "            dplyr::select(Niche_nice, Subtype, everything())\n",
    "\n",
    "    }) %>% \n",
    "        bind_rows() \n",
    "    return(res)\n",
    "}"
   ]
  },
  {
   "cell_type": "code",
   "execution_count": null,
   "metadata": {},
   "outputs": [],
   "source": [
    "coloc_heatmap <- function(stats) {\n",
    "    stats %>% \n",
    "        dplyr::select(Niche_nice, Subtype, estimate) %>% \n",
    "        tidyr::spread(Niche_nice, estimate) %>% \n",
    "        tibble::column_to_rownames('Subtype') %>% \n",
    "        as.matrix() %>% \n",
    "        Heatmap(column_names_rot = 45)\n",
    "    \n",
    "}\n",
    "\n"
   ]
  },
  {
   "cell_type": "code",
   "execution_count": null,
   "metadata": {},
   "outputs": [],
   "source": [
    "res_coloc <- get_coloc_stats(fibroblasts)\n",
    "res_coloc %>% arrange(-statistic) %>% head(3)"
   ]
  },
  {
   "cell_type": "code",
   "execution_count": null,
   "metadata": {},
   "outputs": [],
   "source": [
    "fig.size(4, 6)\n",
    "coloc_heatmap(res_coloc)"
   ]
  },
  {
   "cell_type": "markdown",
   "metadata": {},
   "source": [
    "## Cache"
   ]
  },
  {
   "cell_type": "code",
   "execution_count": null,
   "metadata": {},
   "outputs": [],
   "source": [
    "saveRDS(fibroblasts, glue('{datadir}/lip1_fibroblasts.rds'))\n",
    "saveRDS(spots, glue('{datadir}/lip1_spots.rds'))\n",
    "saveRDS(res_coloc, glue('{datadir}/lip1_res_coloc.rds'))\n"
   ]
  }
 ],
 "metadata": {
  "kernelspec": {
   "display_name": "R",
   "language": "R",
   "name": "ir"
  },
  "language_info": {
   "codemirror_mode": "r",
   "file_extension": ".r",
   "mimetype": "text/x-r-source",
   "name": "R",
   "pygments_lexer": "r",
   "version": "4.1.2"
  },
  "toc-autonumbering": true
 },
 "nbformat": 4,
 "nbformat_minor": 4
}
