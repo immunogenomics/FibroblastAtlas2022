{
 "cells": [
  {
   "cell_type": "code",
   "execution_count": 2,
   "id": "rapid-winning",
   "metadata": {},
   "outputs": [],
   "source": [
    "import scanpy\n",
    "import pandas as pd\n",
    "import numpy as np\n",
    "import bbknn\n",
    "import matplotlib.pyplot as plt"
   ]
  },
  {
   "cell_type": "code",
   "execution_count": 5,
   "id": "77c3f9b6-13f6-461e-8d60-549c1c87cfae",
   "metadata": {},
   "outputs": [
    {
     "data": {
      "text/plain": [
       "<module 'bbknn' from '/PHShome/ik936/anaconda3/lib/python3.7/site-packages/bbknn/__init__.py'>"
      ]
     },
     "execution_count": 5,
     "metadata": {},
     "output_type": "execute_result"
    }
   ],
   "source": [
    "bbknn"
   ]
  },
  {
   "cell_type": "code",
   "execution_count": null,
   "id": "sweet-giving",
   "metadata": {},
   "outputs": [],
   "source": [
    "# fields_load <- c('meta_data', 'umap_after', 'umap_before', 'V', 'var_genes', 'exprs_raw')\n",
    "# obj <- map(fields_load, function(name) {\n",
    "#     readRDS(file.path(dname, paste0(name, '.rds')))\n",
    "# })\n",
    "# names(obj) <- fields_load\n",
    "\n"
   ]
  },
  {
   "cell_type": "code",
   "execution_count": 2,
   "id": "disturbed-aruba",
   "metadata": {},
   "outputs": [],
   "source": [
    "V=pd.read_table('/data/srlab/ik936/Roche/data/cache/obj_fibroblasts/V.tsv')"
   ]
  },
  {
   "cell_type": "code",
   "execution_count": 3,
   "id": "apart-father",
   "metadata": {},
   "outputs": [
    {
     "name": "stderr",
     "output_type": "stream",
     "text": [
      "/PHShome/ik936/anaconda3/lib/python3.7/site-packages/IPython/core/interactiveshell.py:3166: DtypeWarning: Columns (10) have mixed types.Specify dtype option on import or set low_memory=False.\n",
      "  interactivity=interactivity, compiler=compiler, result=result)\n"
     ]
    }
   ],
   "source": [
    "m=pd.read_csv('/data/srlab/ik936/Roche/data/cache/obj_fibroblasts/meta.csv')"
   ]
  },
  {
   "cell_type": "markdown",
   "id": "coordinate-coffee",
   "metadata": {},
   "source": [
    "# Tissues"
   ]
  },
  {
   "cell_type": "code",
   "execution_count": 117,
   "id": "harmful-produce",
   "metadata": {},
   "outputs": [
    {
     "name": "stdout",
     "output_type": "stream",
     "text": [
      "CPU times: user 12.1 s, sys: 79 ms, total: 12.1 s\n",
      "Wall time: 12.1 s\n"
     ]
    }
   ],
   "source": [
    "%%time\n",
    "res=bbknn.bbknn_pca_matrix(np.asarray(V), m.Tissue)\n"
   ]
  },
  {
   "cell_type": "code",
   "execution_count": 118,
   "id": "outstanding-stranger",
   "metadata": {},
   "outputs": [
    {
     "name": "stdout",
     "output_type": "stream",
     "text": [
      "CPU times: user 34min 48s, sys: 47.8 s, total: 35min 36s\n",
      "Wall time: 3min 12s\n"
     ]
    }
   ],
   "source": [
    "%%time\n",
    "import umap\n",
    "reducer=umap.umap_.UMAP(random_state=42)\n",
    "U=reducer.fit(res[0])"
   ]
  },
  {
   "cell_type": "code",
   "execution_count": 178,
   "id": "welsh-compilation",
   "metadata": {},
   "outputs": [],
   "source": [
    "np.savetxt(X=U.embedding_, fname='/data/srlab/ik936/Roche/data/bbknn_U_tissues.csv', delimiter=',')"
   ]
  },
  {
   "cell_type": "markdown",
   "id": "critical-moscow",
   "metadata": {},
   "source": [
    "# Case status"
   ]
  },
  {
   "cell_type": "code",
   "execution_count": 180,
   "id": "qualified-olive",
   "metadata": {},
   "outputs": [
    {
     "name": "stdout",
     "output_type": "stream",
     "text": [
      "CPU times: user 25.2 s, sys: 98 ms, total: 25.3 s\n",
      "Wall time: 25.2 s\n"
     ]
    }
   ],
   "source": [
    "%%time\n",
    "res=bbknn.bbknn_pca_matrix(np.asarray(V), m.Case)\n"
   ]
  },
  {
   "cell_type": "code",
   "execution_count": 181,
   "id": "emerging-bracket",
   "metadata": {},
   "outputs": [
    {
     "name": "stdout",
     "output_type": "stream",
     "text": [
      "CPU times: user 35min 7s, sys: 52.4 s, total: 36min\n",
      "Wall time: 3min 15s\n"
     ]
    }
   ],
   "source": [
    "%%time\n",
    "import umap\n",
    "reducer=umap.umap_.UMAP(random_state=42)\n",
    "U=reducer.fit(res[0])"
   ]
  },
  {
   "cell_type": "code",
   "execution_count": 182,
   "id": "sized-favor",
   "metadata": {},
   "outputs": [],
   "source": [
    "np.savetxt(X=U.embedding_, fname='/data/srlab/ik936/Roche/data/bbknn_U_case.csv', delimiter=',')"
   ]
  },
  {
   "cell_type": "markdown",
   "id": "spoken-jacket",
   "metadata": {},
   "source": [
    "# Donor"
   ]
  },
  {
   "cell_type": "code",
   "execution_count": 183,
   "id": "regulated-maple",
   "metadata": {},
   "outputs": [
    {
     "name": "stderr",
     "output_type": "stream",
     "text": [
      "/PHShome/ik936/anaconda3/lib/python3.7/site-packages/IPython/core/interactiveshell.py:3166: DtypeWarning: Columns (10) have mixed types.Specify dtype option on import or set low_memory=False.\n",
      "  interactivity=interactivity, compiler=compiler, result=result)\n"
     ]
    }
   ],
   "source": [
    "m=pd.read_csv('/data/srlab/ik936/Roche/data/cache/obj_fibroblasts/meta_for_bbknn.csv')"
   ]
  },
  {
   "cell_type": "code",
   "execution_count": 184,
   "id": "dying-foundation",
   "metadata": {},
   "outputs": [
    {
     "name": "stdout",
     "output_type": "stream",
     "text": [
      "CPU times: user 2min, sys: 959 ms, total: 2min 1s\n",
      "Wall time: 2min 1s\n"
     ]
    }
   ],
   "source": [
    "%%time\n",
    "res=bbknn.bbknn_pca_matrix(np.asarray(V), m.BatchID)\n"
   ]
  },
  {
   "cell_type": "code",
   "execution_count": 185,
   "id": "wrong-developer",
   "metadata": {},
   "outputs": [
    {
     "name": "stdout",
     "output_type": "stream",
     "text": [
      "CPU times: user 31min 20s, sys: 41.7 s, total: 32min 2s\n",
      "Wall time: 2min 58s\n"
     ]
    }
   ],
   "source": [
    "%%time\n",
    "import umap\n",
    "reducer=umap.umap_.UMAP(random_state=42)\n",
    "U=reducer.fit(res[0])"
   ]
  },
  {
   "cell_type": "code",
   "execution_count": 186,
   "id": "narrative-premium",
   "metadata": {},
   "outputs": [],
   "source": [
    "np.savetxt(X=U.embedding_, fname='/data/srlab/ik936/Roche/data/bbknn_U_donor.csv', delimiter=',')"
   ]
  },
  {
   "cell_type": "markdown",
   "id": "compound-store",
   "metadata": {},
   "source": [
    "# Donor within tissue"
   ]
  },
  {
   "cell_type": "code",
   "execution_count": 24,
   "id": "allied-trouble",
   "metadata": {},
   "outputs": [],
   "source": [
    "adata = scanpy.read_h5ad('/data/srlab/ik936/Roche/data/cache/obj_fibroblasts_scanpy.h5ad')"
   ]
  },
  {
   "cell_type": "code",
   "execution_count": 25,
   "id": "soviet-editor",
   "metadata": {},
   "outputs": [],
   "source": [
    "tissues = ['SalivaryGland', 'Gut', 'Synovium'] ## Failed on Lung "
   ]
  },
  {
   "cell_type": "code",
   "execution_count": 26,
   "id": "short-engineering",
   "metadata": {},
   "outputs": [
    {
     "name": "stdout",
     "output_type": "stream",
     "text": [
      "SalivaryGland\n"
     ]
    },
    {
     "name": "stderr",
     "output_type": "stream",
     "text": [
      "/PHShome/ik936/anaconda3/lib/python3.7/site-packages/pandas/core/arrays/categorical.py:2487: FutureWarning: The `inplace` parameter in pandas.Categorical.remove_unused_categories is deprecated and will be removed in a future version.\n",
      "  res = method(*args, **kwargs)\n",
      "/PHShome/ik936/anaconda3/lib/python3.7/site-packages/pandas/core/arrays/categorical.py:2487: FutureWarning: The `inplace` parameter in pandas.Categorical.remove_unused_categories is deprecated and will be removed in a future version.\n",
      "  res = method(*args, **kwargs)\n",
      "/PHShome/ik936/anaconda3/lib/python3.7/site-packages/ipykernel_launcher.py:18: FutureWarning: This location for 'connectivities' is deprecated. It has been moved to .obsp[connectivities], and will not be accesible here in a future version of anndata.\n"
     ]
    },
    {
     "name": "stdout",
     "output_type": "stream",
     "text": [
      "Gut\n"
     ]
    },
    {
     "name": "stderr",
     "output_type": "stream",
     "text": [
      "/PHShome/ik936/anaconda3/lib/python3.7/site-packages/pandas/core/arrays/categorical.py:2487: FutureWarning: The `inplace` parameter in pandas.Categorical.remove_unused_categories is deprecated and will be removed in a future version.\n",
      "  res = method(*args, **kwargs)\n",
      "/PHShome/ik936/anaconda3/lib/python3.7/site-packages/pandas/core/arrays/categorical.py:2487: FutureWarning: The `inplace` parameter in pandas.Categorical.remove_unused_categories is deprecated and will be removed in a future version.\n",
      "  res = method(*args, **kwargs)\n",
      "/PHShome/ik936/anaconda3/lib/python3.7/site-packages/ipykernel_launcher.py:18: FutureWarning: This location for 'connectivities' is deprecated. It has been moved to .obsp[connectivities], and will not be accesible here in a future version of anndata.\n"
     ]
    },
    {
     "name": "stdout",
     "output_type": "stream",
     "text": [
      "Synovium\n"
     ]
    },
    {
     "name": "stderr",
     "output_type": "stream",
     "text": [
      "/PHShome/ik936/anaconda3/lib/python3.7/site-packages/pandas/core/arrays/categorical.py:2487: FutureWarning: The `inplace` parameter in pandas.Categorical.remove_unused_categories is deprecated and will be removed in a future version.\n",
      "  res = method(*args, **kwargs)\n",
      "/PHShome/ik936/anaconda3/lib/python3.7/site-packages/pandas/core/arrays/categorical.py:2487: FutureWarning: The `inplace` parameter in pandas.Categorical.remove_unused_categories is deprecated and will be removed in a future version.\n",
      "  res = method(*args, **kwargs)\n",
      "/PHShome/ik936/anaconda3/lib/python3.7/site-packages/ipykernel_launcher.py:18: FutureWarning: This location for 'connectivities' is deprecated. It has been moved to .obsp[connectivities], and will not be accesible here in a future version of anndata.\n"
     ]
    }
   ],
   "source": [
    "import umap\n",
    "from umap import umap_\n",
    "\n",
    "adatas=[]\n",
    "for tissue in tissues: \n",
    "    print(tissue)\n",
    "    \n",
    "    ## Copy and preprocess\n",
    "    bdata = adata[adata.obs.Tissue == tissue].copy()\n",
    "    scanpy.pp.recipe_zheng17(bdata, n_top_genes=1000)\n",
    "    scanpy.tl.pca(bdata)\n",
    "\n",
    "    ## BBKNN\n",
    "    scanpy.external.pp.bbknn(bdata, batch_key='LibraryID')\n",
    "    \n",
    "    ## UMAP\n",
    "    reducer=umap.umap_.UMAP(random_state=42)\n",
    "    U=reducer.fit(bdata.uns['neighbors']['connectivities'])\n",
    "    bdata.obsm['X_umap']=U.embedding_\n",
    "    \n",
    "    ## Append and save\n",
    "    adatas.append(bdata)\n",
    "    "
   ]
  },
  {
   "cell_type": "code",
   "execution_count": 31,
   "id": "cross-gabriel",
   "metadata": {},
   "outputs": [
    {
     "name": "stdout",
     "output_type": "stream",
     "text": [
      "CPU times: user 1.53 s, sys: 39 ms, total: 1.57 s\n",
      "Wall time: 1.98 s\n"
     ]
    }
   ],
   "source": [
    "%%time\n",
    "\n",
    "for adata, outname in zip(adatas, tissues):\n",
    "    fname_out='/data/srlab/ik936/Roche/data/cache/bbknn_donors_{}_umap.csv'.format(outname)\n",
    "    np.savetxt(X=adata.obsm['X_umap'], fname=fname_out, fmt='%.5f', delimiter=',')\n",
    "    \n",
    "    fname_out='/data/srlab/ik936/Roche/data/cache/bbknn_donors_{}_meta.csv'.format(outname)\n",
    "    adata.obs.to_csv(fname_out) "
   ]
  },
  {
   "cell_type": "code",
   "execution_count": null,
   "id": "meaningful-superior",
   "metadata": {},
   "outputs": [],
   "source": []
  },
  {
   "cell_type": "code",
   "execution_count": 4,
   "id": "choice-arena",
   "metadata": {},
   "outputs": [],
   "source": [
    "# scanpy.pl.umap(adata, color=['LibraryID', 'Case'])"
   ]
  },
  {
   "cell_type": "raw",
   "id": "spatial-brook",
   "metadata": {},
   "source": [
    "\n",
    "\n",
    "\n",
    "\n",
    "\n",
    "\n",
    "\n",
    "\n",
    "\n",
    "\n",
    "\n",
    "\n",
    "\n"
   ]
  }
 ],
 "metadata": {
  "kernelspec": {
   "display_name": "Python 3",
   "language": "python",
   "name": "python3"
  },
  "language_info": {
   "codemirror_mode": {
    "name": "ipython",
    "version": 3
   },
   "file_extension": ".py",
   "mimetype": "text/x-python",
   "name": "python",
   "nbconvert_exporter": "python",
   "pygments_lexer": "ipython3",
   "version": "3.7.8"
  }
 },
 "nbformat": 4,
 "nbformat_minor": 5
}
