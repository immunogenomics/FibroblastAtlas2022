{
 "cells": [
  {
   "cell_type": "code",
   "execution_count": 2,
   "id": "statewide-anxiety",
   "metadata": {},
   "outputs": [],
   "source": [
    "import matplotlib.pyplot as plt\n",
    "import scanpy\n",
    "import pandas as pd\n",
    "import numpy as np\n",
    "import scanorama\n",
    "from sys import exit\n",
    "import scipy\n",
    "import openTSNE"
   ]
  },
  {
   "cell_type": "code",
   "execution_count": 3,
   "id": "03b50d0a-7132-4053-9e96-9f467ff55c76",
   "metadata": {},
   "outputs": [
    {
     "data": {
      "text/plain": [
       "'1.7.1'"
      ]
     },
     "execution_count": 3,
     "metadata": {},
     "output_type": "execute_result"
    }
   ],
   "source": [
    "scanorama.__version__"
   ]
  },
  {
   "cell_type": "code",
   "execution_count": 7,
   "id": "c8bf147e-d7b6-463b-beb5-9f97e4a54938",
   "metadata": {},
   "outputs": [
    {
     "data": {
      "text/plain": [
       "'1.7.1'"
      ]
     },
     "execution_count": 7,
     "metadata": {},
     "output_type": "execute_result"
    }
   ],
   "source": [
    "scanpy.__version__"
   ]
  },
  {
   "cell_type": "markdown",
   "id": "fifth-maximum",
   "metadata": {},
   "source": [
    "# Tissue"
   ]
  },
  {
   "cell_type": "code",
   "execution_count": 3,
   "id": "golden-alpha",
   "metadata": {},
   "outputs": [
    {
     "name": "stderr",
     "output_type": "stream",
     "text": [
      "/PHShome/ik936/anaconda3/lib/python3.7/site-packages/pandas/core/arrays/categorical.py:2487: FutureWarning: The `inplace` parameter in pandas.Categorical.remove_unused_categories is deprecated and will be removed in a future version.\n",
      "  res = method(*args, **kwargs)\n",
      "/PHShome/ik936/anaconda3/lib/python3.7/site-packages/pandas/core/arrays/categorical.py:2487: FutureWarning: The `inplace` parameter in pandas.Categorical.remove_unused_categories is deprecated and will be removed in a future version.\n",
      "  res = method(*args, **kwargs)\n"
     ]
    }
   ],
   "source": [
    "adata = scanpy.read_h5ad('/data/srlab/ik936/Roche/data/cache/obj_fibroblasts_scanpy.h5ad')\n",
    "scanpy.pp.recipe_zheng17(adata, n_top_genes=5000)\n",
    "scanpy.tl.pca(adata)"
   ]
  },
  {
   "cell_type": "code",
   "execution_count": 4,
   "id": "atmospheric-flower",
   "metadata": {},
   "outputs": [
    {
     "name": "stdout",
     "output_type": "stream",
     "text": [
      "[[0.         0.04803318 0.31137309 0.08308804]\n",
      " [0.         0.         0.13938974 0.07580615]\n",
      " [0.         0.         0.         0.29958391]\n",
      " [0.         0.         0.         0.        ]]\n",
      "Processing datasets SalivaryGland <=> Lung\n",
      "Processing datasets Lung <=> Synovium\n",
      "Processing datasets Gut <=> Lung\n",
      "CPU times: user 1min 1s, sys: 55.4 s, total: 1min 56s\n",
      "Wall time: 48.4 s\n"
     ]
    }
   ],
   "source": [
    "%%time\n",
    "scanpy.external.pp.scanorama_integrate(adata, 'Tissue')"
   ]
  },
  {
   "cell_type": "code",
   "execution_count": 10,
   "id": "regular-legend",
   "metadata": {},
   "outputs": [],
   "source": [
    "# %%time\n",
    "# scanpy.pp.neighbors(adata, use_rep='X_scanorama')\n",
    "\n",
    "# %%time\n",
    "# scanpy.tl.umap(adata)"
   ]
  },
  {
   "cell_type": "code",
   "execution_count": null,
   "id": "present-elizabeth",
   "metadata": {},
   "outputs": [],
   "source": [
    "%%time\n",
    "model=openTSNE.TSNE()\n",
    "tsne_res=model.fit(adata.obsm['X_scanorama'])\n",
    "adata.obsm['X_tsne']=tsne_res"
   ]
  },
  {
   "cell_type": "code",
   "execution_count": null,
   "id": "several-frontier",
   "metadata": {},
   "outputs": [],
   "source": [
    "## So yea, it does a shitty job \n",
    "scanpy.pl.tsne(adata, color='Tissue')"
   ]
  },
  {
   "cell_type": "markdown",
   "id": "unusual-liberia",
   "metadata": {},
   "source": [
    "## UMAP"
   ]
  },
  {
   "cell_type": "code",
   "execution_count": 5,
   "id": "continent-jumping",
   "metadata": {},
   "outputs": [
    {
     "name": "stderr",
     "output_type": "stream",
     "text": [
      "/PHShome/ik936/anaconda3/lib/python3.7/site-packages/sklearn/manifold/_spectral_embedding.py:245: UserWarning: Graph is not fully connected, spectral embedding may not work as expected.\n",
      "  warnings.warn(\"Graph is not fully connected, spectral embedding\"\n"
     ]
    },
    {
     "name": "stdout",
     "output_type": "stream",
     "text": [
      "CPU times: user 4min 25s, sys: 2min 7s, total: 6min 32s\n",
      "Wall time: 2min 6s\n"
     ]
    }
   ],
   "source": [
    "%%time\n",
    "\n",
    "import umap\n",
    "from umap import umap_\n",
    "\n",
    "reducer=umap.umap_.UMAP(random_state=42)\n",
    "U=reducer.fit(adata.obsm['X_scanorama'])\n",
    "np.savetxt(X=U.embedding_, fname='/data/srlab/ik936/Roche/data/cache/scanorama_tissues_umap.csv', fmt='%.5f', delimiter=',')"
   ]
  },
  {
   "cell_type": "markdown",
   "id": "completed-clerk",
   "metadata": {},
   "source": [
    "# Donors"
   ]
  },
  {
   "cell_type": "code",
   "execution_count": 78,
   "id": "catholic-heating",
   "metadata": {},
   "outputs": [
    {
     "name": "stdout",
     "output_type": "stream",
     "text": [
      "CPU times: user 604 ms, sys: 556 ms, total: 1.16 s\n",
      "Wall time: 1.45 s\n"
     ]
    },
    {
     "name": "stderr",
     "output_type": "stream",
     "text": [
      "<string>:2: DtypeWarning: Columns (10) have mixed types.Specify dtype option on import or set low_memory=False.\n"
     ]
    }
   ],
   "source": [
    "%%time\n",
    "adata = scanpy.read_h5ad('/data/srlab/ik936/Roche/data/cache/obj_fibroblasts_scanpy.h5ad')\n",
    "m=pd.read_csv('/data/srlab/ik936/Roche/data/cache/obj_fibroblasts/meta_for_bbknn.csv') ## Has BatchID variable\n",
    "adata.obs['BatchID'] = m.BatchID.values\n"
   ]
  },
  {
   "cell_type": "code",
   "execution_count": 79,
   "id": "handled-robertson",
   "metadata": {},
   "outputs": [],
   "source": [
    "obs_sorted=adata.obs.sort_values('BatchID')\n",
    "idx=[int(x) for x in obs_sorted.index.values]"
   ]
  },
  {
   "cell_type": "code",
   "execution_count": 73,
   "id": "objective-publisher",
   "metadata": {},
   "outputs": [
    {
     "name": "stderr",
     "output_type": "stream",
     "text": [
      "/PHShome/ik936/anaconda3/lib/python3.7/site-packages/pandas/core/arrays/categorical.py:2487: FutureWarning: The `inplace` parameter in pandas.Categorical.remove_unused_categories is deprecated and will be removed in a future version.\n",
      "  res = method(*args, **kwargs)\n",
      "/PHShome/ik936/anaconda3/lib/python3.7/site-packages/pandas/core/arrays/categorical.py:2487: FutureWarning: The `inplace` parameter in pandas.Categorical.remove_unused_categories is deprecated and will be removed in a future version.\n",
      "  res = method(*args, **kwargs)\n"
     ]
    }
   ],
   "source": [
    "## same as adata but sorted on BatchID\n",
    "bdata=scanpy.AnnData(X=adata.X[idx, ], obs=obs_sorted, var=adata.var)\n",
    "scanpy.pp.recipe_zheng17(bdata, n_top_genes=5000)\n",
    "scanpy.tl.pca(bdata)"
   ]
  },
  {
   "cell_type": "code",
   "execution_count": 74,
   "id": "industrial-commons",
   "metadata": {},
   "outputs": [
    {
     "name": "stdout",
     "output_type": "stream",
     "text": [
      "[[0.         0.75928918 0.05654281 ... 0.         0.         0.        ]\n",
      " [0.         0.         0.02931194 ... 0.         0.         0.        ]\n",
      " [0.         0.         0.         ... 0.         0.         0.0049505 ]\n",
      " ...\n",
      " [0.         0.         0.         ... 0.         0.         0.        ]\n",
      " [0.         0.         0.         ... 0.         0.         0.        ]\n",
      " [0.         0.         0.         ... 0.         0.         0.        ]]\n",
      "Processing datasets BRI210 <=> Lung\n",
      "Processing datasets BRI209 <=> Lung\n",
      "Processing datasets BRI216 <=> Lung\n",
      "Processing datasets GX46 <=> GX47\n",
      "Processing datasets BWH075 <=> BWH076CD45n\n",
      "Processing datasets BRI190 <=> Lung\n",
      "Processing datasets GX47 <=> GX48\n",
      "Processing datasets GX21 <=> GX45\n",
      "Processing datasets GX09 <=> GX21\n",
      "Processing datasets BRI134 <=> BRI140\n",
      "Processing datasets BRI124 <=> BRI209\n",
      "Processing datasets BRI124 <=> Lung\n",
      "Processing datasets BRI152 <=> BRI153\n",
      "Processing datasets 180116A <=> 180116B\n",
      "Processing datasets BRI137 <=> BRI138\n",
      "Processing datasets GX21 <=> GX57\n",
      "Processing datasets GX47 <=> GX50\n",
      "Processing datasets BRI075 <=> BRI077\n",
      "Processing datasets BRI015 <=> BRI133\n",
      "Processing datasets GX21 <=> GX69\n",
      "Processing datasets GX45 <=> GX93\n",
      "Processing datasets GX09 <=> GX45\n",
      "Processing datasets GX48 <=> GX50\n",
      "Processing datasets GX21 <=> GX33\n",
      "Processing datasets BRI111 <=> BRI133\n",
      "Processing datasets GX21 <=> GX93\n",
      "Processing datasets BRI015 <=> BRI138\n",
      "Processing datasets BRI007 <=> BRI009\n",
      "Processing datasets GX45 <=> GX69\n",
      "Processing datasets BRI114 <=> BRI140\n",
      "Processing datasets BRI009 <=> BRI077\n",
      "Processing datasets GX57 <=> GX69\n",
      "Processing datasets GX44 <=> GX46\n",
      "Processing datasets BRI111 <=> BRI153\n",
      "Processing datasets GX69 <=> GX81\n",
      "Processing datasets BRI021 <=> BRI137\n",
      "Processing datasets GX44 <=> GX50\n",
      "Processing datasets BRI114 <=> BRI134\n",
      "Processing datasets BRI140 <=> Gut\n",
      "Processing datasets BRI133 <=> BRI138\n",
      "Processing datasets BRI009 <=> BRI011\n",
      "Processing datasets BRI019 <=> BRI136\n",
      "Processing datasets BRI015 <=> BRI137\n",
      "Processing datasets GX45 <=> GX57\n",
      "Processing datasets BRI015 <=> BRI021\n",
      "Processing datasets BRI013 <=> BRI139\n",
      "Processing datasets BRI190 <=> BRI216\n",
      "Processing datasets BRI001 <=> BRI003\n",
      "Processing datasets GX69 <=> GX93\n",
      "Processing datasets BRI004 <=> BRI106\n",
      "Processing datasets BRI013 <=> BRI114\n",
      "Processing datasets BRI041 <=> BWH075\n",
      "Processing datasets BRI136 <=> BRI140\n",
      "Processing datasets BRI001 <=> BRI004\n",
      "Processing datasets BRI209 <=> BRI210\n",
      "Processing datasets GX09 <=> GX93\n",
      "Processing datasets BRI190 <=> BRI209\n",
      "Processing datasets BRI007 <=> BRI011\n",
      "Processing datasets BRI039 <=> BRI041\n",
      "Processing datasets GX09 <=> GX69\n",
      "Processing datasets GX33 <=> GX45\n",
      "Processing datasets BRI124 <=> BRI216\n",
      "Processing datasets BRI133 <=> BRI139\n",
      "Processing datasets GX57 <=> GX81\n",
      "Processing datasets BRI004 <=> BRI007\n",
      "Processing datasets GX09 <=> GX57\n",
      "Processing datasets BRI013 <=> BRI015\n",
      "Processing datasets BRI007 <=> BRI106\n",
      "Processing datasets BRI139 <=> BRI153\n",
      "Processing datasets BRI021 <=> BRI138\n",
      "Processing datasets 180116B <=> BRI039\n",
      "Processing datasets GX45 <=> GX47\n",
      "Processing datasets GX44 <=> GX47\n",
      "Processing datasets BRI013 <=> BRI134\n",
      "Processing datasets BRI039 <=> BRI083\n",
      "Processing datasets GX44 <=> GX48\n",
      "Processing datasets BRI015 <=> BRI111\n",
      "Processing datasets GX46 <=> GX50\n",
      "Processing datasets BRI011 <=> BRI106\n",
      "Processing datasets BRI153 <=> Gut\n",
      "Processing datasets BRI111 <=> BRI152\n",
      "Processing datasets BRI133 <=> BRI137\n",
      "Processing datasets BRI006 <=> BRI073\n",
      "Processing datasets GX57 <=> GX93\n",
      "Processing datasets BRI114 <=> BRI136\n",
      "Processing datasets BRI019 <=> BRI134\n",
      "Processing datasets GX81 <=> GX93\n",
      "Processing datasets BRI139 <=> BRI152\n",
      "Processing datasets BRI013 <=> BRI019\n",
      "Processing datasets BRI209 <=> BRI216\n",
      "Processing datasets BRI138 <=> BRI139\n",
      "Processing datasets GX46 <=> GX48\n",
      "Processing datasets BRI139 <=> Gut\n",
      "Processing datasets BRI007 <=> BRI077\n",
      "Processing datasets GX09 <=> GX81\n",
      "Processing datasets BRI114 <=> BRI139\n",
      "Processing datasets BRI001 <=> BRI075\n",
      "Processing datasets BRI073 <=> BRI083\n",
      "Processing datasets BRI111 <=> BRI139\n",
      "Processing datasets BRI009 <=> BRI039\n",
      "Processing datasets BRI009 <=> BRI075\n",
      "Processing datasets BRI039 <=> BRI072\n",
      "Processing datasets BRI009 <=> BRI106\n",
      "Processing datasets BRI114 <=> Gut\n",
      "Processing datasets BRI013 <=> Gut\n",
      "Processing datasets BRI134 <=> BRI136\n",
      "Processing datasets BRI137 <=> BRI139\n",
      "Processing datasets 180116A <=> BRI041\n",
      "Processing datasets BRI124 <=> BRI190\n",
      "Processing datasets BRI083 <=> BWH075\n",
      "Processing datasets GX33 <=> GX93\n",
      "Processing datasets GX21 <=> GX81\n",
      "Processing datasets BRI019 <=> BRI140\n",
      "Processing datasets GX33 <=> GX47\n",
      "Processing datasets GX47 <=> GX69\n",
      "Processing datasets BRI003 <=> BWH075\n",
      "Processing datasets BRI041 <=> BRI072\n",
      "Processing datasets BRI152 <=> Gut\n",
      "Processing datasets BRI133 <=> Gut\n",
      "Processing datasets BRI019 <=> BRI114\n",
      "Processing datasets GX21 <=> GX47\n",
      "Processing datasets BRI041 <=> BWH076CD45n\n",
      "Processing datasets BRI021 <=> BRI133\n",
      "Processing datasets GX48 <=> GX69\n",
      "Processing datasets BRI138 <=> Gut\n",
      "Processing datasets 180123A <=> BWH078\n",
      "Processing datasets BRI003 <=> BWH076CD45n\n",
      "Processing datasets BWH076CD45n <=> BWH078\n",
      "Processing datasets 180123A <=> BRI011\n",
      "Processing datasets GX45 <=> GX81\n",
      "Processing datasets BRI001 <=> BRI007\n",
      "Processing datasets GX09 <=> GX48\n",
      "Processing datasets BRI013 <=> BRI152\n",
      "Processing datasets BRI210 <=> BRI216\n",
      "Processing datasets BRI013 <=> BRI111\n",
      "Processing datasets BRI133 <=> BRI153\n",
      "Processing datasets GX47 <=> GX93\n",
      "Processing datasets GX48 <=> GX57\n",
      "Processing datasets BRI140 <=> BRI152\n",
      "Processing datasets BRI134 <=> BRI139\n",
      "Processing datasets BRI013 <=> BRI140\n",
      "Processing datasets BRI015 <=> BRI139\n",
      "Processing datasets BRI006 <=> BRI039\n",
      "Processing datasets BRI133 <=> BRI134\n",
      "Processing datasets GX33 <=> GX57\n",
      "Processing datasets BRI041 <=> BRI083\n",
      "Processing datasets GX45 <=> GX48\n",
      "Processing datasets GX09 <=> GX50\n",
      "Processing datasets 180123A <=> BRI001\n",
      "Processing datasets GX47 <=> GX57\n",
      "Processing datasets BRI013 <=> BRI153\n",
      "Processing datasets 180116A <=> BRI073\n",
      "Processing datasets GX50 <=> GX81\n",
      "Processing datasets GX09 <=> GX47\n",
      "Processing datasets BRI134 <=> Gut\n",
      "Processing datasets 180116A <=> BRI039\n",
      "Processing datasets BRI139 <=> BRI140\n",
      "Processing datasets BRI011 <=> BRI077\n",
      "Processing datasets BRI006 <=> BRI083\n",
      "Processing datasets BRI004 <=> BRI009\n",
      "Processing datasets BRI013 <=> BRI138\n",
      "Processing datasets GX45 <=> GX46\n",
      "Processing datasets BRI136 <=> Gut\n",
      "Processing datasets GX09 <=> GX44\n",
      "Processing datasets GX50 <=> GX69\n",
      "Processing datasets GX44 <=> GX45\n",
      "Processing datasets BRI133 <=> BRI190\n",
      "Processing datasets BRI009 <=> BRI041\n",
      "Processing datasets BRI083 <=> BWH076CD45n\n",
      "Processing datasets 180116A <=> BWH075\n",
      "Processing datasets 180116A <=> BRI003\n",
      "Processing datasets BRI007 <=> BRI039\n",
      "Processing datasets BRI077 <=> BRI083\n",
      "Processing datasets BRI004 <=> BRI006\n",
      "Processing datasets BRI007 <=> BRI075\n",
      "Processing datasets BRI009 <=> BRI083\n",
      "Processing datasets BRI136 <=> BRI152\n",
      "Processing datasets BRI004 <=> BRI011\n",
      "Processing datasets BRI015 <=> BRI134\n",
      "Processing datasets GX45 <=> GX50\n",
      "Processing datasets 180116B <=> BRI041\n",
      "Processing datasets BWH075 <=> BWH078\n",
      "Processing datasets BRI021 <=> Gut\n",
      "Processing datasets BRI013 <=> BRI021\n",
      "Processing datasets BRI114 <=> BRI153\n",
      "Processing datasets BRI001 <=> BWH076CD45n\n",
      "Processing datasets BRI072 <=> BRI083\n",
      "Processing datasets GX09 <=> GX33\n",
      "Processing datasets BRI004 <=> BWH075\n",
      "Processing datasets BRI019 <=> Gut\n",
      "Processing datasets BRI111 <=> BRI138\n",
      "Processing datasets 180116B <=> BRI083\n",
      "Processing datasets BRI013 <=> BRI133\n",
      "Processing datasets BRI134 <=> BRI152\n",
      "Processing datasets BRI003 <=> BRI075\n",
      "Processing datasets BRI006 <=> BRI007\n",
      "Processing datasets BRI137 <=> BRI153\n",
      "Processing datasets GX33 <=> GX46\n",
      "Processing datasets 180116B <=> BRI006\n",
      "Processing datasets BRI001 <=> BRI009\n",
      "Processing datasets GX48 <=> GX93\n",
      "Processing datasets BRI075 <=> BRI083\n",
      "Processing datasets BRI021 <=> BRI139\n",
      "Processing datasets BRI138 <=> BRI152\n",
      "Processing datasets BRI134 <=> BRI138\n",
      "Processing datasets BRI021 <=> BRI134\n",
      "Processing datasets BRI001 <=> BWH075\n",
      "Processing datasets GX21 <=> GX48\n",
      "Processing datasets BRI039 <=> BWH075\n",
      "Processing datasets GX44 <=> GX81\n",
      "Processing datasets BRI140 <=> BRI153\n",
      "Processing datasets GX33 <=> GX69\n",
      "Processing datasets BRI006 <=> BRI072\n",
      "Processing datasets 180123A <=> BRI007\n",
      "Processing datasets BRI021 <=> BRI111\n",
      "Processing datasets BRI004 <=> BWH076CD45n\n",
      "Processing datasets BRI003 <=> BRI083\n",
      "Processing datasets BRI133 <=> BRI152\n",
      "Processing datasets BRI114 <=> BRI152\n",
      "Processing datasets BRI004 <=> BRI083\n",
      "Processing datasets BRI111 <=> Gut\n",
      "Processing datasets BRI015 <=> Gut\n",
      "Processing datasets BRI077 <=> BRI106\n",
      "Processing datasets 180123A <=> BRI004\n",
      "Processing datasets BRI111 <=> BRI114\n",
      "Processing datasets BRI003 <=> BRI041\n",
      "Processing datasets BRI015 <=> BRI152\n",
      "Processing datasets 180123A <=> BRI003\n",
      "Processing datasets GX21 <=> GX44\n",
      "Processing datasets BRI009 <=> BWH075\n",
      "Processing datasets BRI001 <=> BRI083\n",
      "Processing datasets 180116A <=> BWH076CD45n\n",
      "Processing datasets BRI001 <=> BRI077\n",
      "Processing datasets BRI039 <=> BWH076CD45n\n",
      "Processing datasets 180123A <=> BRI075\n",
      "Processing datasets BRI015 <=> BRI210\n",
      "Processing datasets BRI001 <=> BRI210\n",
      "Processing datasets BRI007 <=> BWH075\n",
      "Processing datasets 180116B <=> BRI003\n",
      "Processing datasets 180116A <=> BRI083\n",
      "Processing datasets BRI134 <=> BRI153\n",
      "Processing datasets 180116A <=> BRI072\n",
      "Processing datasets BRI011 <=> BRI075\n",
      "Processing datasets GX44 <=> GX57\n",
      "Processing datasets 180116B <=> BWH075\n",
      "Processing datasets BRI039 <=> BRI077\n",
      "Processing datasets BRI106 <=> BWH078\n",
      "Processing datasets BRI111 <=> BRI137\n",
      "Processing datasets BRI011 <=> BWH078\n",
      "Processing datasets BRI003 <=> BWH078\n",
      "Processing datasets BRI004 <=> BRI039\n",
      "Processing datasets BRI077 <=> BWH078\n",
      "Processing datasets BRI004 <=> BRI073\n",
      "Processing datasets BRI007 <=> BWH078\n",
      "Processing datasets BRI137 <=> BRI152\n",
      "Processing datasets 180116A <=> BRI006\n",
      "Processing datasets BRI007 <=> BRI041\n",
      "Processing datasets GX50 <=> GX57\n",
      "Processing datasets BRI111 <=> BRI134\n",
      "CPU times: user 9min 3s, sys: 12min 48s, total: 21min 51s\n",
      "Wall time: 6min 8s\n"
     ]
    }
   ],
   "source": [
    "%%time\n",
    "scanpy.external.pp.scanorama_integrate(bdata, 'BatchID')"
   ]
  },
  {
   "cell_type": "markdown",
   "id": "frank-ordinance",
   "metadata": {},
   "source": [
    "## UMAP"
   ]
  },
  {
   "cell_type": "code",
   "execution_count": 75,
   "id": "spiritual-flavor",
   "metadata": {},
   "outputs": [
    {
     "name": "stderr",
     "output_type": "stream",
     "text": [
      "/PHShome/ik936/anaconda3/lib/python3.7/site-packages/sklearn/manifold/_spectral_embedding.py:245: UserWarning: Graph is not fully connected, spectral embedding may not work as expected.\n",
      "  warnings.warn(\"Graph is not fully connected, spectral embedding\"\n"
     ]
    },
    {
     "name": "stdout",
     "output_type": "stream",
     "text": [
      "CPU times: user 11min 36s, sys: 7min 14s, total: 18min 51s\n",
      "Wall time: 2min 19s\n"
     ]
    }
   ],
   "source": [
    "%%time\n",
    "\n",
    "import umap\n",
    "from umap import umap_\n",
    "\n",
    "reducer=umap.umap_.UMAP(random_state=42)\n",
    "U=reducer.fit(bdata.obsm['X_scanorama'])\n",
    "np.savetxt(X=U.embedding_, fname='/data/srlab/ik936/Roche/data/cache/scanorama_donors_umap.csv', fmt='%.5f', delimiter=',')"
   ]
  },
  {
   "cell_type": "code",
   "execution_count": 77,
   "id": "missing-encoding",
   "metadata": {},
   "outputs": [],
   "source": [
    "bdata.obs.to_csv('/data/srlab/ik936/Roche/data/cache/scanorama_donors_meta.csv')"
   ]
  },
  {
   "cell_type": "markdown",
   "id": "quality-kuwait",
   "metadata": {
    "tags": []
   },
   "source": [
    "# Donors per tissue\n"
   ]
  },
  {
   "cell_type": "code",
   "execution_count": 11,
   "id": "colored-virus",
   "metadata": {},
   "outputs": [],
   "source": [
    "adata = scanpy.read_h5ad('/data/srlab/ik936/Roche/data/cache/obj_fibroblasts_scanpy.h5ad')\n"
   ]
  },
  {
   "cell_type": "code",
   "execution_count": null,
   "id": "swiss-albert",
   "metadata": {},
   "outputs": [],
   "source": [
    "adatas=[]\n",
    "for tissue in adata.obs.Tissue.unique(): \n",
    "    print(tissue)\n",
    "    ## Copy and preprocess\n",
    "    bdata = adata[adata.obs.Tissue == tissue].copy()\n",
    "    scanpy.pp.recipe_zheng17(bdata, n_top_genes=5000)\n",
    "    scanpy.tl.pca(bdata) \n",
    "    ## Scanorama and tSNE\n",
    "    scanpy.external.pp.scanorama_integrate(bdata, 'LibraryID')\n",
    "#     model=openTSNE.TSNE()\n",
    "#     tsne_res=model.fit(bdata.obsm['X_scanorama'])\n",
    "#     bdata.obsm['X_tsne']=tsne_res\n",
    "    adatas.append(bdata)"
   ]
  },
  {
   "cell_type": "code",
   "execution_count": 4,
   "id": "processed-marking",
   "metadata": {},
   "outputs": [],
   "source": [
    "# ## Hey, scanorama kind of sucks at integrating donors within tissue too! \n",
    "# for bdata in adatas:\n",
    "#     scanpy.pl.tsne(bdata, color='LibraryID')"
   ]
  },
  {
   "cell_type": "markdown",
   "id": "suited-marketplace",
   "metadata": {},
   "source": [
    "## UMAP"
   ]
  },
  {
   "cell_type": "code",
   "execution_count": 13,
   "id": "crude-range",
   "metadata": {},
   "outputs": [
    {
     "name": "stderr",
     "output_type": "stream",
     "text": [
      "/PHShome/ik936/anaconda3/lib/python3.7/site-packages/sklearn/manifold/_spectral_embedding.py:245: UserWarning: Graph is not fully connected, spectral embedding may not work as expected.\n",
      "  warnings.warn(\"Graph is not fully connected, spectral embedding\"\n",
      "/PHShome/ik936/anaconda3/lib/python3.7/site-packages/sklearn/manifold/_spectral_embedding.py:245: UserWarning: Graph is not fully connected, spectral embedding may not work as expected.\n",
      "  warnings.warn(\"Graph is not fully connected, spectral embedding\"\n"
     ]
    },
    {
     "name": "stdout",
     "output_type": "stream",
     "text": [
      "CPU times: user 3min 3s, sys: 2min, total: 5min 3s\n",
      "Wall time: 2min 2s\n"
     ]
    }
   ],
   "source": [
    "%%time\n",
    "import umap\n",
    "from umap import umap_\n",
    "\n",
    "for bdata, outname in zip(adatas, adata.obs.Tissue.unique()):\n",
    "    reducer=umap.umap_.UMAP(random_state=42)\n",
    "    U=reducer.fit(bdata.obsm['X_scanorama'])\n",
    "    fname_out='/data/srlab/ik936/Roche/data/cache/scanorama_donors_{}_umap.csv'.format(outname)\n",
    "    np.savetxt(X=U.embedding_, fname=fname_out, fmt='%.5f', delimiter=',')\n",
    "    \n",
    "    fname_out='/data/srlab/ik936/Roche/data/cache/scanorama_donors_{}_meta.csv'.format(outname)\n",
    "    bdata.obs.to_csv(fname_out) \n",
    "    "
   ]
  },
  {
   "cell_type": "raw",
   "id": "revolutionary-plate",
   "metadata": {},
   "source": [
    "\n",
    "\n",
    "\n",
    "\n",
    "\n",
    "\n",
    "\n",
    "\n",
    "\n",
    "\n",
    "\n",
    "\n",
    "\n",
    "\n",
    "\n"
   ]
  }
 ],
 "metadata": {
  "kernelspec": {
   "display_name": "Python 3",
   "language": "python",
   "name": "python3"
  },
  "language_info": {
   "codemirror_mode": {
    "name": "ipython",
    "version": 3
   },
   "file_extension": ".py",
   "mimetype": "text/x-python",
   "name": "python",
   "nbconvert_exporter": "python",
   "pygments_lexer": "ipython3",
   "version": "3.7.8"
  }
 },
 "nbformat": 4,
 "nbformat_minor": 5
}
