{
 "cells": [
  {
   "cell_type": "code",
   "execution_count": null,
   "id": "0feb7fa9-c395-43d3-89f4-e99b928dd826",
   "metadata": {},
   "outputs": [],
   "source": [
    "suppressPackageStartupMessages({\n",
    "    source('../libs.R')\n",
    "    source('../utils.R')    \n",
    "    source('../Figures/colors.R')\n",
    "    source('../utils_mapping.R')\n",
    "    source('../utils_plotting.R')\n",
    "})\n"
   ]
  },
  {
   "cell_type": "markdown",
   "id": "ba1643b1-81ef-4b97-81ea-b335ef090b91",
   "metadata": {},
   "source": [
    "# Alternative algorithms (Tissue)\n",
    "\n",
    "Alternative algorithms \n",
    "- BBKNN (#1)\n",
    "- scanorama (#2)\n",
    "- scVI (#3)\n",
    "\n"
   ]
  },
  {
   "cell_type": "code",
   "execution_count": null,
   "id": "8052aa0a-63c6-4bb9-9112-6e939ced9e47",
   "metadata": {},
   "outputs": [],
   "source": [
    "columns_select <- c('CellID', 'LibraryID', 'Case', 'Tissue', 'Cluster')"
   ]
  },
  {
   "cell_type": "code",
   "execution_count": null,
   "id": "06ddc2f2-d818-4afe-b275-f8a089c28f8c",
   "metadata": {},
   "outputs": [],
   "source": [
    "# fread('/data/srlab2/ik936/Roche/data/cache/scvi_donors_meta.csv')"
   ]
  },
  {
   "cell_type": "code",
   "execution_count": null,
   "id": "7f4688a2-c2af-4b9b-83d8-67b1a281b0fe",
   "metadata": {},
   "outputs": [],
   "source": [
    "umap_df <- bind_rows(\n",
    "    list(\n",
    "        fread('/data/srlab2/ik936/Roche/data/bbknn_U_donor.csv')[, `:=`(Algorithm='BBKNN', Variable='Donor')][] %>% \n",
    "            cbind(\n",
    "                fread('/data/srlab2/ik936/Roche/data/cache/obj_fibroblasts/meta_for_bbknn.csv') %>% \n",
    "                    dplyr::select(contains(columns_select))\n",
    "            ),\n",
    "#             cbind(Tissue=$Tissue),\n",
    "        fread('/data/srlab2/ik936/Roche/data/bbknn_U_tissues.csv')[, `:=`(Algorithm='BBKNN', Variable='Tissue')][] %>% \n",
    "#             cbind(Tissue=fread('/data/srlab2/ik936/Roche/data/cache/obj_fibroblasts/meta_for_bbknn.csv')$Tissue),\n",
    "            cbind(\n",
    "                fread('/data/srlab2/ik936/Roche/data/cache/obj_fibroblasts/meta_for_bbknn.csv') %>% \n",
    "                    dplyr::select(contains(columns_select))\n",
    "            ),\n",
    "        fread('/data/srlab2/ik936/Roche/data/cache/scvi_tissues_umap.csv')[, `:=`(Algorithm='scVI', Variable='Tissue')][] %>% \n",
    "#             cbind(Tissue=fread('/data/srlab2/ik936/Roche/data/cache/obj_fibroblasts/meta_for_bbknn.csv')$Tissue),\n",
    "            cbind(\n",
    "                fread('/data/srlab2/ik936/Roche/data/cache/obj_fibroblasts/meta_for_bbknn.csv') %>% \n",
    "                    dplyr::select(contains(columns_select))\n",
    "            ),\n",
    "        fread('/data/srlab2/ik936/Roche/data/cache/scvi_donors_umap.csv')[, `:=`(Algorithm='scVI', Variable='Donor')][] %>% \n",
    "#             cbind(Tissue=fread('/data/srlab2/ik936/Roche/data/cache/scvi_donors_meta.csv')$Tissue),  \n",
    "            cbind(\n",
    "                fread('/data/srlab2/ik936/Roche/data/cache/scvi_donors_meta.csv') %>% \n",
    "                    dplyr::select(contains(columns_select))\n",
    "            ),\n",
    "        fread('/data/srlab2/ik936/Roche/data/cache/scanorama_tissues_umap.csv')[, `:=`(Algorithm='Scanorama', Variable='Tissue')][] %>% \n",
    "#             cbind(Tissue=fread('/data/srlab2/ik936/Roche/data/cache/obj_fibroblasts/meta_for_bbknn.csv')$Tissue),\n",
    "            cbind(\n",
    "                fread('/data/srlab2/ik936/Roche/data/cache/obj_fibroblasts/meta_for_bbknn.csv') %>% \n",
    "                    dplyr::select(contains(columns_select))\n",
    "            ),\n",
    "        fread('/data/srlab2/ik936/Roche/data/cache/scanorama_donors_umap.csv')[, `:=`(Algorithm='Scanorama', Variable='Donor')][] %>% \n",
    "#             cbind(Tissue=fread('/data/srlab2/ik936/Roche/data/cache/scanorama_donors_meta.csv')$Tissue)\n",
    "            cbind(\n",
    "                fread('/data/srlab2/ik936/Roche/data/cache/scanorama_donors_meta.csv') %>% \n",
    "                    dplyr::select(contains(columns_select))\n",
    "            )\n",
    "    )\n",
    ")# %>% \n",
    "#     subset(Variable == 'Donor') ## ignore the Tissue results\n",
    "#     subset(Variable == 'Tissue') \n"
   ]
  },
  {
   "cell_type": "code",
   "execution_count": null,
   "id": "007c62e0-2b61-4931-9114-be9ab474e33f",
   "metadata": {},
   "outputs": [],
   "source": [
    "umap_df <- subset(umap_df, Algorithm == 'scVI')"
   ]
  },
  {
   "cell_type": "code",
   "execution_count": null,
   "id": "34b721c3-7962-438d-9459-87dc72b9c14a",
   "metadata": {},
   "outputs": [],
   "source": [
    "# fig.size(4, 12)\n",
    "# p3_tissue <- do_scatter(\n",
    "#     umap_df %>% subset(Variable == 'Donor') %>% dplyr::select(V1, V2),\n",
    "#     umap_df %>% subset(Variable == 'Donor') %>% dplyr::select(-V1, -V2),\n",
    "#     'Tissue',\n",
    "#     palette_use=palette_global, \n",
    "#     do_labels=FALSE, no_guides=FALSE\n",
    "# ) + \n",
    "# #     labs(title = 'scVI Integrate over Donor', subtitle = 'Colored by Tissue') + \n",
    "#     facet_wrap(~Algorithm, scales='free') + \n",
    "#     NULL\n",
    "# p3_tissue"
   ]
  },
  {
   "cell_type": "code",
   "execution_count": null,
   "id": "b13f9d2b-cc5b-446f-93d5-fb90f972a6db",
   "metadata": {},
   "outputs": [],
   "source": [
    "# fig.size(4, 12)\n",
    "# p3_donor <- do_scatter(\n",
    "#     umap_df %>% subset(Variable == 'Donor') %>% dplyr::select(V1, V2),\n",
    "#     umap_df %>% subset(Variable == 'Donor') %>% dplyr::select(-V1, -V2),\n",
    "#     'LibraryID',\n",
    "#     palette_use=colorRampPalette(tableau_color_pal('Tableau 20')(20))(length(unique(umap_df$LibraryID))), \n",
    "#     do_labels=FALSE, no_guides=TRUE\n",
    "# ) + \n",
    "# #     labs(title = 'scVI Integrate over Donor', subtitle = 'Colored by Tissue') + \n",
    "#     facet_wrap(~Algorithm, scales='free') + \n",
    "#     NULL\n",
    "# p3_donor"
   ]
  },
  {
   "cell_type": "code",
   "execution_count": null,
   "id": "9ec362cc-32fd-4727-8122-61ff5cbbd15c",
   "metadata": {},
   "outputs": [],
   "source": [
    "# fig.size(4, 12)\n",
    "# p4_tissue <- do_scatter(\n",
    "#     umap_df %>% subset(Variable == 'Tissue') %>% dplyr::select(V1, V2),\n",
    "#     umap_df %>% subset(Variable == 'Tissue') %>% dplyr::select(-V1, -V2),\n",
    "#     'Tissue',\n",
    "#     palette_use=palette_global, \n",
    "#     do_labels=FALSE, no_guides=FALSE\n",
    "# ) + \n",
    "# #     labs(title = 'scVI Integrate over Donor', subtitle = 'Colored by Tissue') + \n",
    "#     facet_wrap(~Algorithm, scales='free') + \n",
    "#     NULL\n",
    "# p4_tissue"
   ]
  },
  {
   "cell_type": "code",
   "execution_count": null,
   "id": "8196c086-1174-48d8-adeb-adb41e2a5507",
   "metadata": {},
   "outputs": [],
   "source": [
    "# fig.size(4, 12)\n",
    "# p4_donor <- do_scatter(\n",
    "#     umap_df %>% subset(Variable == 'Tissue') %>% dplyr::select(V1, V2),\n",
    "#     umap_df %>% subset(Variable == 'Tissue') %>% dplyr::select(-V1, -V2),\n",
    "#     'LibraryID',\n",
    "#     palette_use=colorRampPalette(tableau_color_pal('Tableau 20')(20))(length(unique(umap_df$LibraryID))), \n",
    "#     do_labels=FALSE, no_guides=TRUE\n",
    "# ) + \n",
    "# #     labs(title = 'scVI Integrate over Donor', subtitle = 'Colored by Tissue') + \n",
    "#     facet_wrap(~Algorithm, scales='free') + \n",
    "#     NULL\n",
    "# p4_donor"
   ]
  },
  {
   "cell_type": "code",
   "execution_count": null,
   "id": "02be3714-9776-4551-9c8f-b77419c6da8c",
   "metadata": {},
   "outputs": [],
   "source": [
    "# fig.size(5, 12)\n",
    "# p3 + p4 + plot_annotation(tag_levels = 'a') + plot_layout(widths = c(1.2, 1))"
   ]
  },
  {
   "cell_type": "code",
   "execution_count": null,
   "id": "83049bd5-d685-4e02-81d7-e059a50e623a",
   "metadata": {},
   "outputs": [],
   "source": [
    "fig.size(4, 12)\n",
    "p4 <- do_scatter(\n",
    "    umap_df %>% dplyr::select(V1, V2),\n",
    "    umap_df %>% dplyr::select(-V1, -V2) %>% dplyr::mutate(Variable = sprintf('Integrated over %s', Variable)),\n",
    "    'LibraryID',\n",
    "    palette_use=colorRampPalette(tableau_color_pal('Tableau 20')(20))(length(unique(umap_df$LibraryID))), \n",
    "    do_labels=FALSE, no_guides=TRUE\n",
    ") + \n",
    "    facet_wrap(~Variable, scales = 'free') + \n",
    "#     labs(title = 'scVI Integrate over Tissue', subtitle = 'Colored by Tissue') + \n",
    "    NULL\n",
    "p4"
   ]
  },
  {
   "cell_type": "code",
   "execution_count": null,
   "id": "39f79245-ce94-4bde-b784-6eb6cddbe2c7",
   "metadata": {},
   "outputs": [],
   "source": [
    "fig.size(4, 12)\n",
    "p5 <- do_scatter(\n",
    "    umap_df %>% dplyr::select(V1, V2),\n",
    "    umap_df %>% dplyr::select(-V1, -V2) %>% dplyr::mutate(Variable = sprintf('Integrated over %s', Variable)),\n",
    "    'Tissue',\n",
    "    palette_use=palette_global,\n",
    "    do_labels=TRUE, no_guides=TRUE\n",
    ") + \n",
    "    facet_wrap(~Variable, scales = 'free') + \n",
    "#     labs(title = 'scVI Integrate over Tissue', subtitle = 'Colored by Tissue') + \n",
    "    NULL\n",
    "p5"
   ]
  },
  {
   "cell_type": "code",
   "execution_count": null,
   "id": "31206fb5-a4f9-4f3d-9474-7a8bcaa0d166",
   "metadata": {},
   "outputs": [],
   "source": []
  },
  {
   "cell_type": "markdown",
   "id": "7c05dcef-ba42-4685-9f0c-ae8b14d56c6d",
   "metadata": {},
   "source": [
    "# Alternative algorithms (Donors within Tissue)\n",
    "\n",
    "Alternative algorithms \n",
    "- BBKNN (#1)\n",
    "- scanorama (#2)\n",
    "- scVI (#3)\n",
    "\n",
    "\n"
   ]
  },
  {
   "cell_type": "code",
   "execution_count": null,
   "id": "b9d05b6c-60a8-43dd-a305-87c38d79e7e9",
   "metadata": {},
   "outputs": [],
   "source": [
    "tissues <- c('Synovium', 'Gut', 'SalivaryGland', 'Lung')\n",
    "columns_select <- c('CellID', 'LibraryID', 'Case', 'Tissue', 'Cluster')"
   ]
  },
  {
   "cell_type": "code",
   "execution_count": null,
   "id": "869e8769-65c9-43f9-8b46-e406497337a6",
   "metadata": {},
   "outputs": [],
   "source": [
    "umap_df2 <- list(\n",
    "#     PCA = cbind(\n",
    "#         readRDS('/data/srlab2/ik936/Roche/data/cache/obj_fibroblasts/umap_before.rds') %>% data.table() %>% \n",
    "#                     dplyr::rename(UMAP1=V1, UMAP2=V2),\n",
    "#         readRDS('/data/srlab2/ik936/Roche/data/cache/obj_fibroblasts/meta_data.rds') %>% \n",
    "#             dplyr::select(CellID, LibraryID, Case, Tissue)\n",
    "#     ),\n",
    "    Scanorama = cbind(\n",
    "        glue('/data/srlab2/ik936/Roche/data/cache/scanorama_donors_{tissues}_umap.csv') %>% map(fread) %>% bind_rows() %>% \n",
    "            dplyr::rename(UMAP1=V1, UMAP2=V2),\n",
    "        glue('/data/srlab2/ik936/Roche/data/cache/scanorama_donors_{tissues}_meta.csv') %>% map(fread) %>% bind_rows() %>% \n",
    "            dplyr::select(contains(columns_select))\n",
    "    ),\n",
    "    BBKNN = cbind(\n",
    "        glue('/data/srlab2/ik936/Roche/data/cache/bbknn_donors_{setdiff(tissues, \\\"Lung\\\")}_umap.csv') %>% map(fread) %>% bind_rows() %>% \n",
    "            dplyr::rename(UMAP1=V1, UMAP2=V2),\n",
    "        glue('/data/srlab2/ik936/Roche/data/cache/bbknn_donors_{setdiff(tissues, \\\"Lung\\\")}_meta.csv') %>% map(fread)  %>% bind_rows() %>% \n",
    "            dplyr::select(contains(columns_select))\n",
    "    ),\n",
    "    scVI = cbind(\n",
    "        glue('/data/srlab2/ik936/Roche/data/cache/scvi_donors_{tissues}_umap.csv') %>% map(fread) %>% bind_rows() %>% \n",
    "            dplyr::rename(UMAP1=V1, UMAP2=V2),\n",
    "        glue('/data/srlab2/ik936/Roche/data/cache/scvi_donors_{tissues}_meta.csv') %>% map(fread)  %>% bind_rows() %>% \n",
    "            dplyr::select(contains(columns_select))\n",
    "    )\n",
    ") %>% \n",
    "    bind_rows(.id = 'Algorithm')"
   ]
  },
  {
   "cell_type": "code",
   "execution_count": null,
   "id": "e2ff9705-51eb-4f8e-8ec1-0562c96a065a",
   "metadata": {},
   "outputs": [],
   "source": [
    "## BBKNN failed on lung - put placeholder in plots \n",
    "umap_df2 <- umap_df2 %>% \n",
    "    plyr::rbind.fill(tibble(Algorithm='BBKNN', Tissue='Lung')) %>% \n",
    "    dplyr::mutate(\n",
    "        Algorithm = factor(Algorithm, c('PCA', 'scVI', 'Scanorama', 'BBKNN')),\n",
    "#         Algorithm = factor(Algorithm, c('scVI', 'Scanorama', 'BBKNN')),\n",
    "        Tissue = factor(Tissue, c('Gut', 'Synovium', 'SalivaryGland', 'Lung'))\n",
    "    ) \n"
   ]
  },
  {
   "cell_type": "code",
   "execution_count": null,
   "id": "eb040f6b-62c8-4b96-b3ea-12a89b47e1b4",
   "metadata": {},
   "outputs": [],
   "source": [
    "p6 <- umap_df2 %>% \n",
    "    split(.$Tissue) %>% \n",
    "    imap(function(.SD, .tissue) {\n",
    "        fig.size(8, 12)\n",
    "        do_scatter(\n",
    "            dplyr::select(.SD, matches('UMAP')),\n",
    "            dplyr::select(.SD, -matches('UMAP')),\n",
    "            'LibraryID',\n",
    "#             palette_use=colorRampPalette(brewer.pal(8, \"Set2\"))(length(unique(.SD$LibraryID))), \n",
    "            palette_use=colorRampPalette(tableau_color_pal('Tableau 20')(20))(length(unique(.SD$LibraryID))), \n",
    "            do_labels=FALSE, no_guides=FALSE\n",
    "        ) + \n",
    "            theme_void() + \n",
    "            facet_wrap(~Algorithm, scales = 'free', ncol=1) + \n",
    "            guides(color = FALSE, fill = FALSE) + \n",
    "            labs(title = .tissue) + \n",
    "            NULL\n",
    "        \n",
    "    }) %>% \n",
    "    reduce(`+`) + \n",
    "    plot_layout(nrow=1)\n",
    "\n",
    "p6"
   ]
  }
 ],
 "metadata": {
  "kernelspec": {
   "display_name": "R",
   "language": "R",
   "name": "ir"
  },
  "language_info": {
   "codemirror_mode": "r",
   "file_extension": ".r",
   "mimetype": "text/x-r-source",
   "name": "R",
   "pygments_lexer": "r",
   "version": "4.1.1"
  }
 },
 "nbformat": 4,
 "nbformat_minor": 5
}
