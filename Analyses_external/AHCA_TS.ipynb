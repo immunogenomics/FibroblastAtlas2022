{
 "cells": [
  {
   "cell_type": "code",
   "execution_count": 1,
   "id": "24d5bdbc-9fae-4ca1-b829-eb76f701988e",
   "metadata": {},
   "outputs": [],
   "source": [
    "suppressPackageStartupMessages({\n",
    "    source('../libs.R')\n",
    "    source('../utils.R')    \n",
    "    source('../Figures/colors.R')\n",
    "    source('../utils_plotting.R')\n",
    "    source('../utils_mapping.R')    \n",
    "})\n"
   ]
  },
  {
   "cell_type": "markdown",
   "id": "cbbf252e-cb65-449f-820e-7f361104b1d6",
   "metadata": {},
   "source": [
    "# Adult Human Cell Atlas"
   ]
  },
  {
   "cell_type": "markdown",
   "id": "5a965d11-3864-4ac5-b641-2d468e914fa6",
   "metadata": {
    "toc-hr-collapsed": true
   },
   "source": [
    "## Load"
   ]
  },
  {
   "cell_type": "markdown",
   "id": "1aff4fb3-5fa4-42de-b7c5-1b3d01c9b1b7",
   "metadata": {},
   "source": [
    "### Exprs"
   ]
  },
  {
   "cell_type": "code",
   "execution_count": 8,
   "id": "eae50e79-a91c-4adc-8a3e-ffeef09dfcca",
   "metadata": {},
   "outputs": [
    {
     "name": "stderr",
     "output_type": "stream",
     "text": [
      "GSM4850577_Bladder_Counts.csv\n",
      "\n",
      "GSM4850578_Blood_Counts.csv\n",
      "\n",
      "GSM4850579_Common.bile.duct_Counts.csv\n",
      "\n",
      "GSM4850580_Esophagus_Counts.csv\n",
      "\n",
      "GSM4850581_Heart_Counts.csv\n",
      "\n",
      "GSM4850582_Liver_Counts.csv\n",
      "\n",
      "GSM4850583_Lymph.node_Counts.csv\n",
      "\n",
      "GSM4850584_Marrow_Counts.csv\n",
      "\n",
      "GSM4850585_Muscle_Counts.csv\n",
      "\n",
      "GSM4850586_Rectum_Counts.csv\n",
      "\n",
      "GSM4850587_Skin_Counts.csv\n",
      "\n",
      "GSM4850588_Small.intestine_Counts.csv\n",
      "\n",
      "GSM4850589_Spleen_Counts.csv\n",
      "\n",
      "GSM4850590_Stomach_Counts.csv\n",
      "\n",
      "GSM4850591_Trachea_Counts.csv\n",
      "\n"
     ]
    }
   ],
   "source": [
    "datadir <- '/data/srlab/ik936/Roche/data/AdultHumanCellAtlas/'\n",
    "fnames <- list.files(datadir, pattern='^GSM.*csv$')\n",
    "\n",
    "plan(multicore)\n",
    "suppressWarnings({\n",
    "    counts_list <- future_map(fnames, function(fname) {\n",
    "        message(fname)\n",
    "        ## fread is fastest way to read text file\n",
    "        res <- fread(file.path(datadir, fname))\n",
    "\n",
    "        ## save and remove the gene names for now \n",
    "        gene_names <- res$V1\n",
    "        res$V1 <- NULL\n",
    "\n",
    "        ## fix column names to have the format: <BARCODE>_<LIBRARYID>\n",
    "        colnames(res) <- gsub('-1$', '', colnames(res))\n",
    "        SampleID <- gsub('^(GSM\\\\d+)_.*', '\\\\1', fname)\n",
    "        colnames(res) <- paste(colnames(res), SampleID, sep='_')\n",
    "\n",
    "        ## matrix has lots of zeros, so let's recode it to be sparse\n",
    "        res <- res %>% as('matrix') %>% as('dgCMatrix') \n",
    "\n",
    "        ## sum over redundant row (i.e. gene) names \n",
    "        D <- Matrix::sparse.model.matrix(~0+gene_names, drop.unused.levels=TRUE)\n",
    "        colnames(D) <- gsub('gene_names', '', colnames(D))\n",
    "        res <- t(D) %*% res\n",
    "        return(res)\n",
    "    #     fname_out=as.character(glue('{datadir}/{SampleID}_counts.rds'))\n",
    "    #     saveRDS(res, fname_out)\n",
    "      }) \n",
    "  }) \n"
   ]
  },
  {
   "cell_type": "code",
   "execution_count": 9,
   "id": "f22bde6e-9838-4cca-a073-ab1cd287c445",
   "metadata": {},
   "outputs": [],
   "source": [
    "counts <- Reduce(cbind2_fill, counts_list)"
   ]
  },
  {
   "cell_type": "markdown",
   "id": "f3c1ad1c-c5e5-426d-a3c4-ebec56b4cbec",
   "metadata": {},
   "source": [
    "### GEO meta"
   ]
  },
  {
   "cell_type": "code",
   "execution_count": 10,
   "id": "e3ca6e28-4634-4931-912c-66f5d7ec7f10",
   "metadata": {},
   "outputs": [
    {
     "name": "stderr",
     "output_type": "stream",
     "text": [
      "Loading required package: Biobase\n",
      "\n",
      "Loading required package: BiocGenerics\n",
      "\n",
      "Loading required package: parallel\n",
      "\n",
      "\n",
      "Attaching package: ‘BiocGenerics’\n",
      "\n",
      "\n",
      "The following objects are masked from ‘package:parallel’:\n",
      "\n",
      "    clusterApply, clusterApplyLB, clusterCall, clusterEvalQ,\n",
      "    clusterExport, clusterMap, parApply, parCapply, parLapply,\n",
      "    parLapplyLB, parRapply, parSapply, parSapplyLB\n",
      "\n",
      "\n",
      "The following objects are masked from ‘package:dplyr’:\n",
      "\n",
      "    combine, intersect, setdiff, union\n",
      "\n",
      "\n",
      "The following objects are masked from ‘package:stats’:\n",
      "\n",
      "    IQR, mad, sd, var, xtabs\n",
      "\n",
      "\n",
      "The following objects are masked from ‘package:base’:\n",
      "\n",
      "    anyDuplicated, append, as.data.frame, basename, cbind, colnames,\n",
      "    dirname, do.call, duplicated, eval, evalq, Filter, Find, get, grep,\n",
      "    grepl, intersect, is.unsorted, lapply, Map, mapply, match, mget,\n",
      "    order, paste, pmax, pmax.int, pmin, pmin.int, Position, rank,\n",
      "    rbind, Reduce, rownames, sapply, setdiff, sort, table, tapply,\n",
      "    union, unique, unsplit, which.max, which.min\n",
      "\n",
      "\n",
      "Welcome to Bioconductor\n",
      "\n",
      "    Vignettes contain introductory material; view with\n",
      "    'browseVignettes()'. To cite Bioconductor, see\n",
      "    'citation(\"Biobase\")', and for packages 'citation(\"pkgname\")'.\n",
      "\n",
      "\n",
      "Setting options('download.file.method.GEOquery'='auto')\n",
      "\n",
      "Setting options('GEOquery.inmemory.gpl'=FALSE)\n",
      "\n",
      "Found 1 file(s)\n",
      "\n",
      "GSE159929_series_matrix.txt.gz\n",
      "\n",
      "\n",
      "\u001b[36m──\u001b[39m \u001b[1m\u001b[1mColumn specification\u001b[1m\u001b[22m \u001b[36m────────────────────────────────────────────────────────────────────────────────────────────────────────────────────────────────────────────────────────────────────────────────────\u001b[39m\n",
      "cols(\n",
      "  .default = col_character()\n",
      ")\n",
      "\u001b[36mℹ\u001b[39m Use \u001b[30m\u001b[47m\u001b[30m\u001b[47m`spec()`\u001b[47m\u001b[30m\u001b[49m\u001b[39m for the full column specifications.\n",
      "\n",
      "\n",
      "File stored at: \n",
      "\n",
      "/tmp/RtmphzJHP8/GPL20795.soft\n",
      "\n"
     ]
    }
   ],
   "source": [
    "library(GEOquery)\n",
    "m <- GEOquery::getGEO('GSE159929')\n",
    "m <- m$GSE159929_series_matrix.txt.gz@phenoData@data"
   ]
  },
  {
   "cell_type": "code",
   "execution_count": 11,
   "id": "766a4b84-d41e-45b0-923f-eb3c10373e63",
   "metadata": {},
   "outputs": [
    {
     "data": {
      "text/html": [
       "<table class=\"dataframe\">\n",
       "<caption>A data.frame: 6 × 6</caption>\n",
       "<thead>\n",
       "\t<tr><th></th><th scope=col>LibraryID</th><th scope=col>title</th><th scope=col>age</th><th scope=col>gender</th><th scope=col>Sex</th><th scope=col>tissue</th></tr>\n",
       "\t<tr><th></th><th scope=col>&lt;chr&gt;</th><th scope=col>&lt;chr&gt;</th><th scope=col>&lt;chr&gt;</th><th scope=col>&lt;chr&gt;</th><th scope=col>&lt;chr&gt;</th><th scope=col>&lt;chr&gt;</th></tr>\n",
       "</thead>\n",
       "<tbody>\n",
       "\t<tr><th scope=row>GSM4850577</th><td>GSM4850577</td><td>Bladder_cDNA         </td><td>31 years</td><td>NA</td><td>male</td><td>Bladder         </td></tr>\n",
       "\t<tr><th scope=row>GSM4850578</th><td>GSM4850578</td><td>Blood_cDNA           </td><td>31 years</td><td>NA</td><td>male</td><td>Blood           </td></tr>\n",
       "\t<tr><th scope=row>GSM4850579</th><td>GSM4850579</td><td>Common.bile.duct_cDNA</td><td>31 years</td><td>NA</td><td>male</td><td>Common bile duct</td></tr>\n",
       "\t<tr><th scope=row>GSM4850580</th><td>GSM4850580</td><td>Esophagus_cDNA       </td><td>31 years</td><td>NA</td><td>male</td><td>Esophagus       </td></tr>\n",
       "\t<tr><th scope=row>GSM4850581</th><td>GSM4850581</td><td>Heart_cDNA           </td><td>31 years</td><td>NA</td><td>male</td><td>Heart           </td></tr>\n",
       "\t<tr><th scope=row>GSM4850582</th><td>GSM4850582</td><td>Liver_cDNA           </td><td>31 years</td><td>NA</td><td>male</td><td>Liver           </td></tr>\n",
       "</tbody>\n",
       "</table>\n"
      ],
      "text/latex": [
       "A data.frame: 6 × 6\n",
       "\\begin{tabular}{r|llllll}\n",
       "  & LibraryID & title & age & gender & Sex & tissue\\\\\n",
       "  & <chr> & <chr> & <chr> & <chr> & <chr> & <chr>\\\\\n",
       "\\hline\n",
       "\tGSM4850577 & GSM4850577 & Bladder\\_cDNA          & 31 years & NA & male & Bladder         \\\\\n",
       "\tGSM4850578 & GSM4850578 & Blood\\_cDNA            & 31 years & NA & male & Blood           \\\\\n",
       "\tGSM4850579 & GSM4850579 & Common.bile.duct\\_cDNA & 31 years & NA & male & Common bile duct\\\\\n",
       "\tGSM4850580 & GSM4850580 & Esophagus\\_cDNA        & 31 years & NA & male & Esophagus       \\\\\n",
       "\tGSM4850581 & GSM4850581 & Heart\\_cDNA            & 31 years & NA & male & Heart           \\\\\n",
       "\tGSM4850582 & GSM4850582 & Liver\\_cDNA            & 31 years & NA & male & Liver           \\\\\n",
       "\\end{tabular}\n"
      ],
      "text/markdown": [
       "\n",
       "A data.frame: 6 × 6\n",
       "\n",
       "| <!--/--> | LibraryID &lt;chr&gt; | title &lt;chr&gt; | age &lt;chr&gt; | gender &lt;chr&gt; | Sex &lt;chr&gt; | tissue &lt;chr&gt; |\n",
       "|---|---|---|---|---|---|---|\n",
       "| GSM4850577 | GSM4850577 | Bladder_cDNA          | 31 years | NA | male | Bladder          |\n",
       "| GSM4850578 | GSM4850578 | Blood_cDNA            | 31 years | NA | male | Blood            |\n",
       "| GSM4850579 | GSM4850579 | Common.bile.duct_cDNA | 31 years | NA | male | Common bile duct |\n",
       "| GSM4850580 | GSM4850580 | Esophagus_cDNA        | 31 years | NA | male | Esophagus        |\n",
       "| GSM4850581 | GSM4850581 | Heart_cDNA            | 31 years | NA | male | Heart            |\n",
       "| GSM4850582 | GSM4850582 | Liver_cDNA            | 31 years | NA | male | Liver            |\n",
       "\n"
      ],
      "text/plain": [
       "           LibraryID  title                 age      gender Sex \n",
       "GSM4850577 GSM4850577 Bladder_cDNA          31 years NA     male\n",
       "GSM4850578 GSM4850578 Blood_cDNA            31 years NA     male\n",
       "GSM4850579 GSM4850579 Common.bile.duct_cDNA 31 years NA     male\n",
       "GSM4850580 GSM4850580 Esophagus_cDNA        31 years NA     male\n",
       "GSM4850581 GSM4850581 Heart_cDNA            31 years NA     male\n",
       "GSM4850582 GSM4850582 Liver_cDNA            31 years NA     male\n",
       "           tissue          \n",
       "GSM4850577 Bladder         \n",
       "GSM4850578 Blood           \n",
       "GSM4850579 Common bile duct\n",
       "GSM4850580 Esophagus       \n",
       "GSM4850581 Heart           \n",
       "GSM4850582 Liver           "
      ]
     },
     "metadata": {},
     "output_type": "display_data"
    }
   ],
   "source": [
    "lib_df <- m %>%\n",
    "  dplyr::select(LibraryID=geo_accession, title, matches(':ch1$'))\n",
    "colnames(lib_df) <- gsub(':ch1', '', colnames(lib_df))\n",
    "head(lib_df)"
   ]
  },
  {
   "cell_type": "markdown",
   "id": "be9ca3a2-d352-4ea2-932f-53d8ee30a06e",
   "metadata": {},
   "source": [
    "### Cell meta"
   ]
  },
  {
   "cell_type": "code",
   "execution_count": 12,
   "id": "e5c35083-3d67-4bf8-83c6-0e171b426644",
   "metadata": {},
   "outputs": [
    {
     "name": "stderr",
     "output_type": "stream",
     "text": [
      "Warning message in fread(\"/data/srlab/ik936/Roche/data/AdultHumanCellAtlas/Reannotation_HCA_alltissues_meta.data_84363_cell_demo.txt\"):\n",
      "“Detected 12 column names but the data has 13 columns (i.e. invalid file). Added 1 extra default column name for the first column which is guessed to be row names or an index. Use setnames() afterwards if this guess is not correct, or fix the file write command that created the file to create a valid file.”\n"
     ]
    }
   ],
   "source": [
    "meta_data <- fread('/data/srlab/ik936/Roche/data/AdultHumanCellAtlas/Reannotation_HCA_alltissues_meta.data_84363_cell_demo.txt')"
   ]
  },
  {
   "cell_type": "code",
   "execution_count": 13,
   "id": "93e004a5-9c6b-4493-bc13-9697d42a6cfa",
   "metadata": {},
   "outputs": [
    {
     "data": {
      "text/html": [
       "<table class=\"dataframe\">\n",
       "<caption>A data.table: 6 × 13</caption>\n",
       "<thead>\n",
       "\t<tr><th scope=col>V1</th><th scope=col>orig.ident</th><th scope=col>nCount_RNA</th><th scope=col>nFeature_RNA</th><th scope=col>percent.mito</th><th scope=col>RNA_snn_res.orig</th><th scope=col>seurat_clusters</th><th scope=col>Color_of_tissues</th><th scope=col>Cell_type_of_each_tissue</th><th scope=col>Cell_type_of_all_data</th><th scope=col>tSNE_1</th><th scope=col>tSNE_2</th><th scope=col>re_Cell_type_of_all_data</th></tr>\n",
       "\t<tr><th scope=col>&lt;chr&gt;</th><th scope=col>&lt;chr&gt;</th><th scope=col>&lt;int&gt;</th><th scope=col>&lt;int&gt;</th><th scope=col>&lt;dbl&gt;</th><th scope=col>&lt;int&gt;</th><th scope=col>&lt;int&gt;</th><th scope=col>&lt;chr&gt;</th><th scope=col>&lt;chr&gt;</th><th scope=col>&lt;chr&gt;</th><th scope=col>&lt;dbl&gt;</th><th scope=col>&lt;dbl&gt;</th><th scope=col>&lt;chr&gt;</th></tr>\n",
       "</thead>\n",
       "<tbody>\n",
       "\t<tr><td>Bladder_cDNA_AAACCTGAGACACTAA-1</td><td>Bladder_cDNA</td><td>1152</td><td> 610</td><td>0.07899306</td><td> 7</td><td>15</td><td>#aec7e8ff</td><td>Monocyte Bladder                </td><td>Monocyte             </td><td>-26.951585</td><td>  4.300844</td><td>Monocyte             </td></tr>\n",
       "\t<tr><td>Bladder_cDNA_AAACCTGAGCATGGCA-1</td><td>Bladder_cDNA</td><td>3551</td><td>1415</td><td>0.05688538</td><td>14</td><td> 8</td><td>#aec7e8ff</td><td>Macrophage HLA-DPB1_high Bladder</td><td>Macrophage C1QB_high </td><td>-24.330971</td><td> 16.842912</td><td>Macrophage C1QB_high </td></tr>\n",
       "\t<tr><td>Bladder_cDNA_AAACCTGAGCTGAACG-1</td><td>Bladder_cDNA</td><td>1842</td><td> 632</td><td>0.02660152</td><td> 4</td><td> 1</td><td>#aec7e8ff</td><td>T Cell IL7R_high Bladder        </td><td>T Cell IL7R_high     </td><td> 14.544360</td><td>  1.401564</td><td>T Cell IL7R_high     </td></tr>\n",
       "\t<tr><td>Bladder_cDNA_AAACCTGCAAGCTGGA-1</td><td>Bladder_cDNA</td><td>1599</td><td> 890</td><td>0.02689181</td><td>13</td><td>13</td><td>#aec7e8ff</td><td>Fibroblast APOD_high Bladder    </td><td>Fibroblast PTGDS_high</td><td> -9.773034</td><td>  3.715093</td><td>Fibroblast PTGDS_high</td></tr>\n",
       "\t<tr><td>Bladder_cDNA_AAACCTGCATTACCTT-1</td><td>Bladder_cDNA</td><td>1347</td><td> 613</td><td>0.05419451</td><td> 1</td><td> 2</td><td>#aec7e8ff</td><td>T Cell CCL5_high Bladder        </td><td>T Cell XCL1_high     </td><td>  8.165036</td><td>-12.280489</td><td>T Cell XCL1_high     </td></tr>\n",
       "\t<tr><td>Bladder_cDNA_AAACCTGGTCTCTCGT-1</td><td>Bladder_cDNA</td><td>2355</td><td>1093</td><td>0.04118896</td><td> 6</td><td>17</td><td>#aec7e8ff</td><td>FibSmo APOE_high Bladder        </td><td>FibSmo PLAT_high     </td><td>-16.660912</td><td> -2.341792</td><td>FibSmo PLAT_high     </td></tr>\n",
       "</tbody>\n",
       "</table>\n"
      ],
      "text/latex": [
       "A data.table: 6 × 13\n",
       "\\begin{tabular}{lllllllllllll}\n",
       " V1 & orig.ident & nCount\\_RNA & nFeature\\_RNA & percent.mito & RNA\\_snn\\_res.orig & seurat\\_clusters & Color\\_of\\_tissues & Cell\\_type\\_of\\_each\\_tissue & Cell\\_type\\_of\\_all\\_data & tSNE\\_1 & tSNE\\_2 & re\\_Cell\\_type\\_of\\_all\\_data\\\\\n",
       " <chr> & <chr> & <int> & <int> & <dbl> & <int> & <int> & <chr> & <chr> & <chr> & <dbl> & <dbl> & <chr>\\\\\n",
       "\\hline\n",
       "\t Bladder\\_cDNA\\_AAACCTGAGACACTAA-1 & Bladder\\_cDNA & 1152 &  610 & 0.07899306 &  7 & 15 & \\#aec7e8ff & Monocyte Bladder                 & Monocyte              & -26.951585 &   4.300844 & Monocyte             \\\\\n",
       "\t Bladder\\_cDNA\\_AAACCTGAGCATGGCA-1 & Bladder\\_cDNA & 3551 & 1415 & 0.05688538 & 14 &  8 & \\#aec7e8ff & Macrophage HLA-DPB1\\_high Bladder & Macrophage C1QB\\_high  & -24.330971 &  16.842912 & Macrophage C1QB\\_high \\\\\n",
       "\t Bladder\\_cDNA\\_AAACCTGAGCTGAACG-1 & Bladder\\_cDNA & 1842 &  632 & 0.02660152 &  4 &  1 & \\#aec7e8ff & T Cell IL7R\\_high Bladder         & T Cell IL7R\\_high      &  14.544360 &   1.401564 & T Cell IL7R\\_high     \\\\\n",
       "\t Bladder\\_cDNA\\_AAACCTGCAAGCTGGA-1 & Bladder\\_cDNA & 1599 &  890 & 0.02689181 & 13 & 13 & \\#aec7e8ff & Fibroblast APOD\\_high Bladder     & Fibroblast PTGDS\\_high &  -9.773034 &   3.715093 & Fibroblast PTGDS\\_high\\\\\n",
       "\t Bladder\\_cDNA\\_AAACCTGCATTACCTT-1 & Bladder\\_cDNA & 1347 &  613 & 0.05419451 &  1 &  2 & \\#aec7e8ff & T Cell CCL5\\_high Bladder         & T Cell XCL1\\_high      &   8.165036 & -12.280489 & T Cell XCL1\\_high     \\\\\n",
       "\t Bladder\\_cDNA\\_AAACCTGGTCTCTCGT-1 & Bladder\\_cDNA & 2355 & 1093 & 0.04118896 &  6 & 17 & \\#aec7e8ff & FibSmo APOE\\_high Bladder         & FibSmo PLAT\\_high      & -16.660912 &  -2.341792 & FibSmo PLAT\\_high     \\\\\n",
       "\\end{tabular}\n"
      ],
      "text/markdown": [
       "\n",
       "A data.table: 6 × 13\n",
       "\n",
       "| V1 &lt;chr&gt; | orig.ident &lt;chr&gt; | nCount_RNA &lt;int&gt; | nFeature_RNA &lt;int&gt; | percent.mito &lt;dbl&gt; | RNA_snn_res.orig &lt;int&gt; | seurat_clusters &lt;int&gt; | Color_of_tissues &lt;chr&gt; | Cell_type_of_each_tissue &lt;chr&gt; | Cell_type_of_all_data &lt;chr&gt; | tSNE_1 &lt;dbl&gt; | tSNE_2 &lt;dbl&gt; | re_Cell_type_of_all_data &lt;chr&gt; |\n",
       "|---|---|---|---|---|---|---|---|---|---|---|---|---|\n",
       "| Bladder_cDNA_AAACCTGAGACACTAA-1 | Bladder_cDNA | 1152 |  610 | 0.07899306 |  7 | 15 | #aec7e8ff | Monocyte Bladder                 | Monocyte              | -26.951585 |   4.300844 | Monocyte              |\n",
       "| Bladder_cDNA_AAACCTGAGCATGGCA-1 | Bladder_cDNA | 3551 | 1415 | 0.05688538 | 14 |  8 | #aec7e8ff | Macrophage HLA-DPB1_high Bladder | Macrophage C1QB_high  | -24.330971 |  16.842912 | Macrophage C1QB_high  |\n",
       "| Bladder_cDNA_AAACCTGAGCTGAACG-1 | Bladder_cDNA | 1842 |  632 | 0.02660152 |  4 |  1 | #aec7e8ff | T Cell IL7R_high Bladder         | T Cell IL7R_high      |  14.544360 |   1.401564 | T Cell IL7R_high      |\n",
       "| Bladder_cDNA_AAACCTGCAAGCTGGA-1 | Bladder_cDNA | 1599 |  890 | 0.02689181 | 13 | 13 | #aec7e8ff | Fibroblast APOD_high Bladder     | Fibroblast PTGDS_high |  -9.773034 |   3.715093 | Fibroblast PTGDS_high |\n",
       "| Bladder_cDNA_AAACCTGCATTACCTT-1 | Bladder_cDNA | 1347 |  613 | 0.05419451 |  1 |  2 | #aec7e8ff | T Cell CCL5_high Bladder         | T Cell XCL1_high      |   8.165036 | -12.280489 | T Cell XCL1_high      |\n",
       "| Bladder_cDNA_AAACCTGGTCTCTCGT-1 | Bladder_cDNA | 2355 | 1093 | 0.04118896 |  6 | 17 | #aec7e8ff | FibSmo APOE_high Bladder         | FibSmo PLAT_high      | -16.660912 |  -2.341792 | FibSmo PLAT_high      |\n",
       "\n"
      ],
      "text/plain": [
       "  V1                              orig.ident   nCount_RNA nFeature_RNA\n",
       "1 Bladder_cDNA_AAACCTGAGACACTAA-1 Bladder_cDNA 1152        610        \n",
       "2 Bladder_cDNA_AAACCTGAGCATGGCA-1 Bladder_cDNA 3551       1415        \n",
       "3 Bladder_cDNA_AAACCTGAGCTGAACG-1 Bladder_cDNA 1842        632        \n",
       "4 Bladder_cDNA_AAACCTGCAAGCTGGA-1 Bladder_cDNA 1599        890        \n",
       "5 Bladder_cDNA_AAACCTGCATTACCTT-1 Bladder_cDNA 1347        613        \n",
       "6 Bladder_cDNA_AAACCTGGTCTCTCGT-1 Bladder_cDNA 2355       1093        \n",
       "  percent.mito RNA_snn_res.orig seurat_clusters Color_of_tissues\n",
       "1 0.07899306    7               15              #aec7e8ff       \n",
       "2 0.05688538   14                8              #aec7e8ff       \n",
       "3 0.02660152    4                1              #aec7e8ff       \n",
       "4 0.02689181   13               13              #aec7e8ff       \n",
       "5 0.05419451    1                2              #aec7e8ff       \n",
       "6 0.04118896    6               17              #aec7e8ff       \n",
       "  Cell_type_of_each_tissue         Cell_type_of_all_data tSNE_1     tSNE_2    \n",
       "1 Monocyte Bladder                 Monocyte              -26.951585   4.300844\n",
       "2 Macrophage HLA-DPB1_high Bladder Macrophage C1QB_high  -24.330971  16.842912\n",
       "3 T Cell IL7R_high Bladder         T Cell IL7R_high       14.544360   1.401564\n",
       "4 Fibroblast APOD_high Bladder     Fibroblast PTGDS_high  -9.773034   3.715093\n",
       "5 T Cell CCL5_high Bladder         T Cell XCL1_high        8.165036 -12.280489\n",
       "6 FibSmo APOE_high Bladder         FibSmo PLAT_high      -16.660912  -2.341792\n",
       "  re_Cell_type_of_all_data\n",
       "1 Monocyte                \n",
       "2 Macrophage C1QB_high    \n",
       "3 T Cell IL7R_high        \n",
       "4 Fibroblast PTGDS_high   \n",
       "5 T Cell XCL1_high        \n",
       "6 FibSmo PLAT_high        "
      ]
     },
     "metadata": {},
     "output_type": "display_data"
    }
   ],
   "source": [
    "head(meta_data)"
   ]
  },
  {
   "cell_type": "code",
   "execution_count": 14,
   "id": "4852bc68-578f-4ec4-9608-8b2e4839bfca",
   "metadata": {},
   "outputs": [
    {
     "name": "stderr",
     "output_type": "stream",
     "text": [
      "Joining, by = \"Cell_type_of_all_data\"\n",
      "\n"
     ]
    }
   ],
   "source": [
    "meta_data <- meta_data %>% \n",
    "    left_join(\n",
    "        tribble(\n",
    "            ~CellType, ~Cell_type_of_all_data, \n",
    "            'endothelial', c(\n",
    "                'Endothelial Cell ACKR1_high', 'Endothelial Cell FABP4_high', 'Lymphatic Endothelial Cell'\n",
    "            ),\n",
    "            'mesenchymal', c(\n",
    "                'Fibroblast PTGDS_high', 'Fibroblast C7_high', \n",
    "                'Fibroblast PLA2G2A_high', 'Fibroblast PTN_high', \n",
    "                'Fibroblast APOD_high'\n",
    "            ), \n",
    "            'mural_muscle', c(\n",
    "                'Smooth Muscle Cell RGS5_high', 'FibSmo PLAT_high'\n",
    "            ),\n",
    "            'immune', c(\n",
    "                'Monocyte', 'Macrophage C1QB_high', 'T Cell IL7R_high',\n",
    "                'T Cell XCL1_high', 'High Proliferation Erythrocyte', 'Plasma Cell', \n",
    "                'T Cell GZMA_high', 'Macrophage FCN3_high',\n",
    "                'T Cell CCL5_high', 'T Cell RGS1_high', 'B Cell VPREB3_high', 'B Cell EZR_high',\n",
    "                'B Cell CD79A_high', 'T Cell GNLY_high', 'T Cell GZMK_high'\n",
    "            ), \n",
    "            'epithelial', c(\n",
    "                'Mucosal Epithelial Cell', 'Melanocyte', 'Keratinocyte KRT14_high', \n",
    "                'Secretory Cell', 'Satellite Cell', 'Tuft Cell', 'Enterocyte APOA1_high', \n",
    "                'Cholangiocyte', 'Absorptive Cell', 'Squamous Epithelial Cell KRT13_high', \n",
    "                'Squamous Epithelial Cell KRT15_high',\n",
    "                'Epithelial Cell TFF3_high', 'Basal Cell KRT17_high', 'Keratinocyte KRT1_high'\n",
    "            )\n",
    "        ) %>% \n",
    "            tidyr::unnest(Cell_type_of_all_data)    \n",
    "    ) "
   ]
  },
  {
   "cell_type": "code",
   "execution_count": 15,
   "id": "ad4d04fc-1bde-459a-aee8-4ef3b2b2edd4",
   "metadata": {},
   "outputs": [
    {
     "data": {
      "text/html": [
       "'Doublets'"
      ],
      "text/latex": [
       "'Doublets'"
      ],
      "text/markdown": [
       "'Doublets'"
      ],
      "text/plain": [
       "[1] \"Doublets\""
      ]
     },
     "metadata": {},
     "output_type": "display_data"
    }
   ],
   "source": [
    "## Did we miss any cell types? \n",
    "meta_data %>% subset(is.na(CellType)) %>% with(unique(Cell_type_of_all_data))"
   ]
  },
  {
   "cell_type": "code",
   "execution_count": 16,
   "id": "b18a6d09-3d12-413f-8c45-56f26f2c86a6",
   "metadata": {},
   "outputs": [],
   "source": [
    "meta_data$Tissue <- gsub('_cDNA', '', meta_data$orig.ident)"
   ]
  },
  {
   "cell_type": "code",
   "execution_count": 17,
   "id": "9f20d739-71c1-42a1-a142-ba55f1465e33",
   "metadata": {},
   "outputs": [
    {
     "data": {
      "text/plain": [
       "                  CellType\n",
       "Tissue             endothelial epithelial immune mesenchymal mural_muscle\n",
       "  Bladder                  312        200   2593        2157         2293\n",
       "  Blood                      0          4   1369           0            0\n",
       "  Common.bile.duct         103        784   2127          81           64\n",
       "  Esophagus                882       4276    485        3089          374\n",
       "  Heart                   1804         31    804        4116          900\n",
       "  Liver                     89         58   2658           2           32\n",
       "  Lymph.node                 0          0   7770           1            0\n",
       "  Marrow                     0         29   3200           1            0\n",
       "  Muscle                  1140       2319    701         872          615\n",
       "  Rectum                    85        954   3821        1183          236\n",
       "  Skin                    1505       4687    225         719          574\n",
       "  Small.intestine            1       3385    925           1            0\n",
       "  Spleen                     1          1   4510           0            0\n",
       "  Stomach                   22        590   4586          80           40\n",
       "  Trachea                  897       3442   2327         647          207"
      ]
     },
     "metadata": {},
     "output_type": "display_data"
    }
   ],
   "source": [
    "## The overall distribution\n",
    "with(meta_data, table(Tissue, CellType))"
   ]
  },
  {
   "cell_type": "markdown",
   "id": "23478d3d-fd35-414b-8a39-70a58919e2c2",
   "metadata": {},
   "source": [
    "### Match CellID"
   ]
  },
  {
   "cell_type": "code",
   "execution_count": 18,
   "id": "f1818dbe-01db-4916-8566-ff6143e08a71",
   "metadata": {},
   "outputs": [],
   "source": [
    "meta_data <- meta_data %>% \n",
    "    left_join(lib_df, by = c('orig.ident' = 'title')) %>% \n",
    "    dplyr::mutate(Barcode = gsub('.*_cDNA_(.*)-\\\\d+$', '\\\\1', V1)) %>% \n",
    "    dplyr::mutate(CellID = as.character(glue('{Barcode}_{LibraryID}')) )\n"
   ]
  },
  {
   "cell_type": "code",
   "execution_count": 19,
   "id": "584dc178-de1c-4099-a500-73e48b8c262a",
   "metadata": {},
   "outputs": [
    {
     "data": {
      "text/html": [
       "0"
      ],
      "text/latex": [
       "0"
      ],
      "text/markdown": [
       "0"
      ],
      "text/plain": [
       "[1] 0"
      ]
     },
     "metadata": {},
     "output_type": "display_data"
    },
    {
     "data": {
      "text/html": [
       "0"
      ],
      "text/latex": [
       "0"
      ],
      "text/markdown": [
       "0"
      ],
      "text/plain": [
       "[1] 0"
      ]
     },
     "metadata": {},
     "output_type": "display_data"
    }
   ],
   "source": [
    "length(setdiff(meta_data$CellID, colnames(counts)))\n",
    "length(setdiff(colnames(counts), meta_data$CellID))"
   ]
  },
  {
   "cell_type": "markdown",
   "id": "894b14a0-3945-4bfa-a4e0-48bf28426fcc",
   "metadata": {},
   "source": [
    "### Filter"
   ]
  },
  {
   "cell_type": "code",
   "execution_count": 20,
   "id": "68cbf307-a912-4824-83b1-2ede0188cfae",
   "metadata": {},
   "outputs": [
    {
     "data": {
      "text/html": [
       "<style>\n",
       ".list-inline {list-style: none; margin:0; padding: 0}\n",
       ".list-inline>li {display: inline-block}\n",
       ".list-inline>li:not(:last-child)::after {content: \"\\00b7\"; padding: 0 .5ex}\n",
       "</style>\n",
       "<ol class=list-inline><li>'Bladder'</li><li>'Esophagus'</li><li>'Heart'</li><li>'Muscle'</li><li>'Rectum'</li><li>'Skin'</li><li>'Trachea'</li></ol>\n"
      ],
      "text/latex": [
       "\\begin{enumerate*}\n",
       "\\item 'Bladder'\n",
       "\\item 'Esophagus'\n",
       "\\item 'Heart'\n",
       "\\item 'Muscle'\n",
       "\\item 'Rectum'\n",
       "\\item 'Skin'\n",
       "\\item 'Trachea'\n",
       "\\end{enumerate*}\n"
      ],
      "text/markdown": [
       "1. 'Bladder'\n",
       "2. 'Esophagus'\n",
       "3. 'Heart'\n",
       "4. 'Muscle'\n",
       "5. 'Rectum'\n",
       "6. 'Skin'\n",
       "7. 'Trachea'\n",
       "\n",
       "\n"
      ],
      "text/plain": [
       "[1] \"Bladder\"   \"Esophagus\" \"Heart\"     \"Muscle\"    \"Rectum\"    \"Skin\"     \n",
       "[7] \"Trachea\"  "
      ]
     },
     "metadata": {},
     "output_type": "display_data"
    }
   ],
   "source": [
    "## Only use tissues with good fibroblast numbers \n",
    "tissues_use <- data.table(meta_data)[CellType=='mesenchymal', .N, by = .(Tissue)][N > 500, Tissue]\n",
    "tissues_use"
   ]
  },
  {
   "cell_type": "code",
   "execution_count": 21,
   "id": "e4f2e56f-a106-456a-b71e-7d1f2f2f2473",
   "metadata": {},
   "outputs": [],
   "source": [
    "meta_data <- subset(meta_data, tissue %in% tissues_use)"
   ]
  },
  {
   "cell_type": "code",
   "execution_count": 22,
   "id": "e6b614bf-c056-4074-b4e5-35c854ab8737",
   "metadata": {},
   "outputs": [],
   "source": [
    "counts <- counts[, meta_data$CellID]"
   ]
  },
  {
   "cell_type": "markdown",
   "id": "51868834-2c63-41ec-9085-b67f5b2806b2",
   "metadata": {},
   "source": [
    "### Cache"
   ]
  },
  {
   "cell_type": "code",
   "execution_count": 25,
   "id": "cfa50304-9a27-4883-85f3-f91108d3b6c0",
   "metadata": {},
   "outputs": [],
   "source": [
    "saveRDS(meta_data, '/data/srlab/ik936/Roche/data/AdultHumanCellAtlas/cache/meta.rds')\n",
    "saveRDS(counts, '/data/srlab/ik936/Roche/data/AdultHumanCellAtlas/cache/counts.rds')\n"
   ]
  },
  {
   "cell_type": "markdown",
   "id": "631e1f40-4d4d-49a9-befc-f1eab94d3551",
   "metadata": {
    "tags": [],
    "toc-hr-collapsed": true
   },
   "source": [
    "## Model "
   ]
  },
  {
   "cell_type": "code",
   "execution_count": 6,
   "id": "6ca5a746-9282-4857-8184-f20126e373ff",
   "metadata": {},
   "outputs": [],
   "source": [
    "meta_data <- readRDS('/data/srlab/ik936/Roche/data/AdultHumanCellAtlas/cache/meta.rds')\n",
    "counts <- readRDS('/data/srlab/ik936/Roche/data/AdultHumanCellAtlas/cache/counts.rds')\n"
   ]
  },
  {
   "cell_type": "code",
   "execution_count": 7,
   "id": "18a87f2a-4f95-427d-8b00-f524dedfc83a",
   "metadata": {},
   "outputs": [
    {
     "data": {
      "text/html": [
       "51814"
      ],
      "text/latex": [
       "51814"
      ],
      "text/markdown": [
       "51814"
      ],
      "text/plain": [
       "[1] 51814"
      ]
     },
     "metadata": {},
     "output_type": "display_data"
    }
   ],
   "source": [
    "## number of cells (shoul)\n",
    "nrow(meta_data)"
   ]
  },
  {
   "cell_type": "markdown",
   "id": "0020c73b-e71b-41d3-878e-fa7e06edff16",
   "metadata": {},
   "source": [
    "### Pseudobulk"
   ]
  },
  {
   "cell_type": "code",
   "execution_count": 8,
   "id": "45d62a0f-acba-4b00-b480-998f57a57b20",
   "metadata": {},
   "outputs": [
    {
     "name": "stderr",
     "output_type": "stream",
     "text": [
      "CAREFUL: get_norm makes very strong assumptions about data\n",
      "\n"
     ]
    }
   ],
   "source": [
    "## Collapse Counts\n",
    "pb <- presto::collapse_counts(\n",
    "    counts,\n",
    "    meta_data,\n",
    "    c('CellType', 'tissue'),\n",
    "    keep_n=TRUE, \n",
    "    how='sum'\n",
    ") \n",
    "pb$meta_data$logUMI <- log(colSums(pb$counts_mat))\n"
   ]
  },
  {
   "cell_type": "code",
   "execution_count": 9,
   "id": "f3f05f07-807f-4af2-b605-2902afc6135e",
   "metadata": {},
   "outputs": [
    {
     "data": {
      "text/html": [
       "<table class=\"dataframe\">\n",
       "<caption>A data.frame: 6 × 4</caption>\n",
       "<thead>\n",
       "\t<tr><th></th><th scope=col>CellType</th><th scope=col>tissue</th><th scope=col>N</th><th scope=col>logUMI</th></tr>\n",
       "\t<tr><th></th><th scope=col>&lt;chr&gt;</th><th scope=col>&lt;chr&gt;</th><th scope=col>&lt;int&gt;</th><th scope=col>&lt;dbl&gt;</th></tr>\n",
       "</thead>\n",
       "<tbody>\n",
       "\t<tr><th scope=row>sample_2</th><td>immune      </td><td>Bladder  </td><td>2593</td><td>15.34358</td></tr>\n",
       "\t<tr><th scope=row>sample_3</th><td>mesenchymal </td><td>Bladder  </td><td>2157</td><td>15.70565</td></tr>\n",
       "\t<tr><th scope=row>sample_4</th><td>mural_muscle</td><td>Bladder  </td><td>2293</td><td>15.48018</td></tr>\n",
       "\t<tr><th scope=row>sample_1</th><td>epithelial  </td><td>Bladder  </td><td> 200</td><td>13.31939</td></tr>\n",
       "\t<tr><th scope=row>sample_0</th><td>endothelial </td><td>Bladder  </td><td> 312</td><td>13.50847</td></tr>\n",
       "\t<tr><th scope=row>sample_6</th><td>epithelial  </td><td>Esophagus</td><td>4276</td><td>16.97680</td></tr>\n",
       "</tbody>\n",
       "</table>\n"
      ],
      "text/latex": [
       "A data.frame: 6 × 4\n",
       "\\begin{tabular}{r|llll}\n",
       "  & CellType & tissue & N & logUMI\\\\\n",
       "  & <chr> & <chr> & <int> & <dbl>\\\\\n",
       "\\hline\n",
       "\tsample\\_2 & immune       & Bladder   & 2593 & 15.34358\\\\\n",
       "\tsample\\_3 & mesenchymal  & Bladder   & 2157 & 15.70565\\\\\n",
       "\tsample\\_4 & mural\\_muscle & Bladder   & 2293 & 15.48018\\\\\n",
       "\tsample\\_1 & epithelial   & Bladder   &  200 & 13.31939\\\\\n",
       "\tsample\\_0 & endothelial  & Bladder   &  312 & 13.50847\\\\\n",
       "\tsample\\_6 & epithelial   & Esophagus & 4276 & 16.97680\\\\\n",
       "\\end{tabular}\n"
      ],
      "text/markdown": [
       "\n",
       "A data.frame: 6 × 4\n",
       "\n",
       "| <!--/--> | CellType &lt;chr&gt; | tissue &lt;chr&gt; | N &lt;int&gt; | logUMI &lt;dbl&gt; |\n",
       "|---|---|---|---|---|\n",
       "| sample_2 | immune       | Bladder   | 2593 | 15.34358 |\n",
       "| sample_3 | mesenchymal  | Bladder   | 2157 | 15.70565 |\n",
       "| sample_4 | mural_muscle | Bladder   | 2293 | 15.48018 |\n",
       "| sample_1 | epithelial   | Bladder   |  200 | 13.31939 |\n",
       "| sample_0 | endothelial  | Bladder   |  312 | 13.50847 |\n",
       "| sample_6 | epithelial   | Esophagus | 4276 | 16.97680 |\n",
       "\n"
      ],
      "text/plain": [
       "         CellType     tissue    N    logUMI  \n",
       "sample_2 immune       Bladder   2593 15.34358\n",
       "sample_3 mesenchymal  Bladder   2157 15.70565\n",
       "sample_4 mural_muscle Bladder   2293 15.48018\n",
       "sample_1 epithelial   Bladder    200 13.31939\n",
       "sample_0 endothelial  Bladder    312 13.50847\n",
       "sample_6 epithelial   Esophagus 4276 16.97680"
      ]
     },
     "metadata": {},
     "output_type": "display_data"
    },
    {
     "data": {
      "text/html": [
       "35"
      ],
      "text/latex": [
       "35"
      ],
      "text/markdown": [
       "35"
      ],
      "text/plain": [
       "[1] 35"
      ]
     },
     "metadata": {},
     "output_type": "display_data"
    }
   ],
   "source": [
    "head(pb$meta_data)\n",
    "nrow(pb$meta_data)"
   ]
  },
  {
   "cell_type": "code",
   "execution_count": 10,
   "id": "838bbbf8-2d90-48bc-a35e-4c9c6a7b3f74",
   "metadata": {},
   "outputs": [
    {
     "data": {
      "text/html": [
       "<style>\n",
       ".list-inline {list-style: none; margin:0; padding: 0}\n",
       ".list-inline>li {display: inline-block}\n",
       ".list-inline>li:not(:last-child)::after {content: \"\\00b7\"; padding: 0 .5ex}\n",
       "</style>\n",
       "<ol class=list-inline><li>'immune'</li><li>'mesenchymal'</li><li>'mural_muscle'</li><li>'epithelial'</li><li>'endothelial'</li></ol>\n"
      ],
      "text/latex": [
       "\\begin{enumerate*}\n",
       "\\item 'immune'\n",
       "\\item 'mesenchymal'\n",
       "\\item 'mural\\_muscle'\n",
       "\\item 'epithelial'\n",
       "\\item 'endothelial'\n",
       "\\end{enumerate*}\n"
      ],
      "text/markdown": [
       "1. 'immune'\n",
       "2. 'mesenchymal'\n",
       "3. 'mural_muscle'\n",
       "4. 'epithelial'\n",
       "5. 'endothelial'\n",
       "\n",
       "\n"
      ],
      "text/plain": [
       "[1] \"immune\"       \"mesenchymal\"  \"mural_muscle\" \"epithelial\"   \"endothelial\" "
      ]
     },
     "metadata": {},
     "output_type": "display_data"
    },
    {
     "data": {
      "text/html": [
       "<style>\n",
       ".list-inline {list-style: none; margin:0; padding: 0}\n",
       ".list-inline>li {display: inline-block}\n",
       ".list-inline>li:not(:last-child)::after {content: \"\\00b7\"; padding: 0 .5ex}\n",
       "</style>\n",
       "<ol class=list-inline><li>'Bladder'</li><li>'Esophagus'</li><li>'Heart'</li><li>'Muscle'</li><li>'Rectum'</li><li>'Skin'</li><li>'Trachea'</li></ol>\n"
      ],
      "text/latex": [
       "\\begin{enumerate*}\n",
       "\\item 'Bladder'\n",
       "\\item 'Esophagus'\n",
       "\\item 'Heart'\n",
       "\\item 'Muscle'\n",
       "\\item 'Rectum'\n",
       "\\item 'Skin'\n",
       "\\item 'Trachea'\n",
       "\\end{enumerate*}\n"
      ],
      "text/markdown": [
       "1. 'Bladder'\n",
       "2. 'Esophagus'\n",
       "3. 'Heart'\n",
       "4. 'Muscle'\n",
       "5. 'Rectum'\n",
       "6. 'Skin'\n",
       "7. 'Trachea'\n",
       "\n",
       "\n"
      ],
      "text/plain": [
       "[1] \"Bladder\"   \"Esophagus\" \"Heart\"     \"Muscle\"    \"Rectum\"    \"Skin\"     \n",
       "[7] \"Trachea\"  "
      ]
     },
     "metadata": {},
     "output_type": "display_data"
    }
   ],
   "source": [
    "unique(pb$meta_data$CellType)\n",
    "unique(pb$meta_data$tissue)"
   ]
  },
  {
   "cell_type": "code",
   "execution_count": 29,
   "id": "546519f1-b68a-46f3-9dd1-27258d3c920a",
   "metadata": {},
   "outputs": [],
   "source": [
    "saveRDS(pb, '/data/srlab/ik936/Roche/data/AdultHumanCellAtlas/cache/pseudobulk.rds')\n"
   ]
  },
  {
   "cell_type": "markdown",
   "id": "16af58a3-2aab-4c88-a7b8-3c1842ee57d4",
   "metadata": {},
   "source": [
    "### Presto"
   ]
  },
  {
   "cell_type": "code",
   "execution_count": 34,
   "id": "1de812b9-e2ce-426f-8167-2ff7b60a3baf",
   "metadata": {},
   "outputs": [
    {
     "data": {
      "text/html": [
       "18975"
      ],
      "text/latex": [
       "18975"
      ],
      "text/markdown": [
       "18975"
      ],
      "text/plain": [
       "[1] 18975"
      ]
     },
     "metadata": {},
     "output_type": "display_data"
    }
   ],
   "source": [
    "## at least 5 counts in 2 samples\n",
    "genes_test <- rownames(pb$counts_mat)[which(rowSums(pb$counts_mat >= 5) >= 2)]# %>% head(100)\n",
    "length(genes_test)\n"
   ]
  },
  {
   "cell_type": "code",
   "execution_count": 35,
   "id": "da1dda6a-fc6d-4de9-bb2f-c3bffff6750f",
   "metadata": {},
   "outputs": [
    {
     "name": "stderr",
     "output_type": "stream",
     "text": [
      "CAUTION: if using GLMM, make sure your counts are integers!\n",
      "\n",
      "Set up models\n",
      "\n",
      "Learn the models\n",
      "\n",
      "Aggregate the results\n",
      "\n",
      "Cleap up names\n",
      "\n",
      "Joining, by = \"grpvar_orig\"\n",
      "\n",
      "Compute gene means\n",
      "\n"
     ]
    }
   ],
   "source": [
    "## Fit Models\n",
    "t1 <- system.time({\n",
    "    suppressWarnings({\n",
    "        obj <- presto.presto(\n",
    "            formula = y~1+(1|CellType)+(1|tissue/CellType)+offset(logUMI), \n",
    "            design = pb$meta_data, \n",
    "            response = pb$counts_mat, \n",
    "            size_varname = 'logUMI',\n",
    "#             features = grep('^COL\\\\d|^MMP\\\\d', rownames(counts), value=TRUE),\n",
    "            features = genes_test, \n",
    "            ncore = 20,\n",
    "            nsim = 1e3,\n",
    "            effects_cov = c('CellType', 'CellType:tissue', 'tissue'),\n",
    "            min_sigma = .5,\n",
    "            verbose = 1\n",
    "        ) \n",
    "    })\n",
    "})\n"
   ]
  },
  {
   "cell_type": "code",
   "execution_count": 36,
   "id": "df6e3f93-fe26-4715-9618-6d0dd4bb5677",
   "metadata": {},
   "outputs": [],
   "source": [
    "saveRDS(obj, '/data/srlab/ik936/Roche/data/AdultHumanCellAtlas/cache/presto_obj.rds')\n"
   ]
  },
  {
   "cell_type": "code",
   "execution_count": 37,
   "id": "b06930f5-2f9e-438b-acf9-f199417cbbd0",
   "metadata": {},
   "outputs": [
    {
     "data": {
      "text/html": [
       "18.7401"
      ],
      "text/latex": [
       "18.7401"
      ],
      "text/markdown": [
       "18.7401"
      ],
      "text/plain": [
       "[1] 18.7401"
      ]
     },
     "metadata": {},
     "output_type": "display_data"
    }
   ],
   "source": [
    "t1[['elapsed']] / 60"
   ]
  },
  {
   "cell_type": "markdown",
   "id": "5e33cb87-205f-4089-af33-e59840b3baf8",
   "metadata": {},
   "source": [
    "### Contrasts"
   ]
  },
  {
   "cell_type": "code",
   "execution_count": 38,
   "id": "e5dee961-ba24-4d40-8892-41f4f0388255",
   "metadata": {},
   "outputs": [],
   "source": [
    "obj <- readRDS('/data/srlab/ik936/Roche/data/AdultHumanCellAtlas/cache/presto_obj.rds')\n"
   ]
  },
  {
   "cell_type": "code",
   "execution_count": 39,
   "id": "3d9a132e-0042-4481-bdf6-859f4f141013",
   "metadata": {},
   "outputs": [
    {
     "name": "stderr",
     "output_type": "stream",
     "text": [
      "Warning message:\n",
      "“Expected 2 pieces. Missing pieces filled with `NA` in 5 rows [1, 2, 3, 4, 5].”\n"
     ]
    }
   ],
   "source": [
    "contrasts_mat <- make_contrast.presto(obj, var_contrast='CellType', var_nested='tissue')\n",
    "effects <- contrasts.presto(obj, contrasts_mat, one_tailed = TRUE) %>% \n",
    "    tidyr::separate(contrast, c('Cluster', 'tissue'), sep = '\\\\|', remove = FALSE) %>% \n",
    "    arrange(pvalue)\n",
    "saveRDS(effects, '/data/srlab/ik936/Roche/data/AdultHumanCellAtlas/cache/presto_cluster_nested.rds')"
   ]
  },
  {
   "cell_type": "code",
   "execution_count": 40,
   "id": "53f1f4a5-9164-4116-94f3-d7fa551bf4d7",
   "metadata": {},
   "outputs": [],
   "source": [
    "contrasts_mat <- make_contrast.presto(obj, 'CellType')\n",
    "effects <- contrasts.presto(obj, contrasts_mat, one_tailed = TRUE) %>% \n",
    "    dplyr::mutate(Cluster = contrast) %>% \n",
    "    arrange(pvalue)\n",
    "saveRDS(effects, '/data/srlab/ik936/Roche/data/AdultHumanCellAtlas/cache/presto_cluster_marginal.rds')\n"
   ]
  },
  {
   "cell_type": "code",
   "execution_count": 39,
   "id": "5d0ad84c-40fb-45d0-be1e-9ec275e79271",
   "metadata": {},
   "outputs": [],
   "source": [
    "# contrasts_mat <- make_contrast.presto(obj, var_contrast='tissue', var_nested='CellType')\n",
    "# effects <- contrasts.presto(obj, contrasts_mat, one_tailed = TRUE) %>% \n",
    "#     tidyr::separate(contrast, c('tissue', 'Cluster'), sep = '\\\\|', remove = FALSE) %>% \n",
    "#     arrange(pvalue)\n",
    "# saveRDS(effects, '/data/srlab/ik936/Roche/data/AdultHumanCellAtlas/cache/presto_tissue_nested.rds')"
   ]
  },
  {
   "cell_type": "code",
   "execution_count": 40,
   "id": "92f382ef-2a6e-4c3e-816b-722ea6ad107c",
   "metadata": {},
   "outputs": [],
   "source": [
    "# contrasts_mat <- make_contrast.presto(obj, var_contrast='tissue')\n",
    "# effects <- contrasts.presto(obj, contrasts_mat, one_tailed = TRUE) %>% \n",
    "#     dplyr::mutate(tissue = contrast) %>% \n",
    "#     arrange(pvalue)\n",
    "# saveRDS(effects, '/data/srlab/ik936/Roche/data/AdultHumanCellAtlas/cache/presto_tissue_marginal.rds')"
   ]
  },
  {
   "cell_type": "markdown",
   "id": "b3a90b55-c76f-40e1-a665-c1af2e0a23e1",
   "metadata": {},
   "source": [
    "### Classify genes"
   ]
  },
  {
   "cell_type": "code",
   "execution_count": 110,
   "id": "0bb8ffd5-34e4-4653-81da-1e1c2ca2f4bc",
   "metadata": {},
   "outputs": [],
   "source": [
    "effects_nested <- readRDS('/data/srlab/ik936/Roche/data/AdultHumanCellAtlas/cache/presto_cluster_nested.rds')\n",
    "effects_marginal <- readRDS('/data/srlab/ik936/Roche/data/AdultHumanCellAtlas/cache/presto_cluster_marginal.rds')"
   ]
  },
  {
   "cell_type": "code",
   "execution_count": 109,
   "id": "e54075b8-794c-42f7-96e9-43cbf895d9e2",
   "metadata": {},
   "outputs": [
    {
     "data": {
      "text/html": [
       "<table>\n",
       "<caption>A data.table: 4 × 2</caption>\n",
       "<thead>\n",
       "\t<tr><th scope=col>Cluster</th><th scope=col>N</th></tr>\n",
       "\t<tr><th scope=col>&lt;chr&gt;</th><th scope=col>&lt;int&gt;</th></tr>\n",
       "</thead>\n",
       "<tbody>\n",
       "\t<tr><td>immune     </td><td>1048</td></tr>\n",
       "\t<tr><td>mesenchymal</td><td>1257</td></tr>\n",
       "\t<tr><td>endothelial</td><td> 941</td></tr>\n",
       "\t<tr><td>epithelial </td><td> 634</td></tr>\n",
       "</tbody>\n",
       "</table>\n"
      ],
      "text/latex": [
       "A data.table: 4 × 2\n",
       "\\begin{tabular}{ll}\n",
       " Cluster & N\\\\\n",
       " <chr> & <int>\\\\\n",
       "\\hline\n",
       "\t immune      & 1048\\\\\n",
       "\t mesenchymal & 1257\\\\\n",
       "\t endothelial &  941\\\\\n",
       "\t epithelial  &  634\\\\\n",
       "\\end{tabular}\n"
      ],
      "text/markdown": [
       "\n",
       "A data.table: 4 × 2\n",
       "\n",
       "| Cluster &lt;chr&gt; | N &lt;int&gt; |\n",
       "|---|---|\n",
       "| immune      | 1048 |\n",
       "| mesenchymal | 1257 |\n",
       "| endothelial |  941 |\n",
       "| epithelial  |  634 |\n",
       "\n"
      ],
      "text/plain": [
       "  Cluster     N   \n",
       "1 immune      1048\n",
       "2 mesenchymal 1257\n",
       "3 endothelial  941\n",
       "4 epithelial   634"
      ]
     },
     "metadata": {},
     "output_type": "display_data"
    }
   ],
   "source": [
    "data.table(effects_nested)[, all(beta > 0 & pvalue < .05), by = .(feature, Cluster)][V1==TRUE][, V1:=NULL][, .N, by = Cluster]"
   ]
  },
  {
   "cell_type": "code",
   "execution_count": 158,
   "id": "2f1920ce-7d46-4cde-a563-b2c977cd4e00",
   "metadata": {},
   "outputs": [],
   "source": [
    "effects_joint <- inner_join(\n",
    "    dplyr::select(effects_marginal, Cluster, feature, beta, sigma, pvalue),\n",
    "    dplyr::select(effects_nested, Cluster, Tissue=tissue, feature, beta, sigma, pvalue), \n",
    "    by = c('Cluster', 'feature'), \n",
    "    suffix = c('_marginal', '_nested')\n",
    ") %>% \n",
    "    dplyr::mutate(beta = beta_marginal - beta_nested) %>% \n",
    "#     dplyr::mutate(zscore = beta / sqrt(sigma_marginal^2 + sigma_nested^2)) %>% \n",
    "    dplyr::mutate(zscore = beta / sigma_nested) %>% \n",
    "    dplyr::mutate(pvalue = 2 * pnorm(-abs(zscore))) %>% \n",
    "    identity()\n",
    "\n"
   ]
  },
  {
   "cell_type": "markdown",
   "id": "25b7cb2b-1220-4b6e-9647-a5c1002da684",
   "metadata": {},
   "source": [
    "#### Shared\n"
   ]
  },
  {
   "cell_type": "code",
   "execution_count": 296,
   "id": "a0ac2dbc-7674-44ad-ba02-0b1b399ad157",
   "metadata": {},
   "outputs": [],
   "source": [
    "markers_conserved_df <- data.table(effects_nested)[\n",
    "    ## marker is upregulated in all tissues for that cluster\n",
    "    , all(pvalue < .05 & beta > 0), by = .(Cluster, feature)\n",
    "][V1==TRUE][, V1:=NULL][\n",
    "    ## marker is only associated with one cluster\n",
    "    , N:=.N, by = .(feature)\n",
    "][N==1][, N:=NULL][]\n"
   ]
  },
  {
   "cell_type": "code",
   "execution_count": 295,
   "id": "42056566-d23f-47fc-bc3f-770cd9d9f04e",
   "metadata": {},
   "outputs": [],
   "source": [
    "# markers_conserved_df <- inner_join(\n",
    "#     ## filter out genes with heterogeneous effects (from mean effect)\n",
    "#     data.table(effects_joint)[\n",
    "#         , all(pvalue > .05 & pvalue_marginal < .05), by = .(feature, Cluster)\n",
    "#     ][V1 == TRUE][, V1 := NULL][],\n",
    "\n",
    "#     ## conserved genes must individually be significantly > 0\n",
    "#     data.table(effects_nested)[\n",
    "#         , all(pvalue < .05 & beta > 0), by = .(feature, Cluster)\n",
    "#     ][V1 == TRUE][, V1 := NULL][]\n",
    "# )\n",
    "\n"
   ]
  },
  {
   "cell_type": "code",
   "execution_count": 297,
   "id": "4885b291-d6fd-4581-ba74-b399b6f969c0",
   "metadata": {},
   "outputs": [],
   "source": [
    "# ## Can only be a marker for one cell type \n",
    "# markers_conserved_df <- data.table(markers_conserved_df)[, N:=.N, by = feature][N==1][, N:=NULL][]"
   ]
  },
  {
   "cell_type": "code",
   "execution_count": 298,
   "id": "c1377435-9964-4289-86cf-26724449d52b",
   "metadata": {},
   "outputs": [
    {
     "data": {
      "text/html": [
       "<table>\n",
       "<caption>A data.table: 4 × 2</caption>\n",
       "<thead>\n",
       "\t<tr><th scope=col>Cluster</th><th scope=col>N</th></tr>\n",
       "\t<tr><th scope=col>&lt;chr&gt;</th><th scope=col>&lt;int&gt;</th></tr>\n",
       "</thead>\n",
       "<tbody>\n",
       "\t<tr><td>immune     </td><td> 985</td></tr>\n",
       "\t<tr><td>mesenchymal</td><td>1191</td></tr>\n",
       "\t<tr><td>endothelial</td><td> 851</td></tr>\n",
       "\t<tr><td>epithelial </td><td> 603</td></tr>\n",
       "</tbody>\n",
       "</table>\n"
      ],
      "text/latex": [
       "A data.table: 4 × 2\n",
       "\\begin{tabular}{ll}\n",
       " Cluster & N\\\\\n",
       " <chr> & <int>\\\\\n",
       "\\hline\n",
       "\t immune      &  985\\\\\n",
       "\t mesenchymal & 1191\\\\\n",
       "\t endothelial &  851\\\\\n",
       "\t epithelial  &  603\\\\\n",
       "\\end{tabular}\n"
      ],
      "text/markdown": [
       "\n",
       "A data.table: 4 × 2\n",
       "\n",
       "| Cluster &lt;chr&gt; | N &lt;int&gt; |\n",
       "|---|---|\n",
       "| immune      |  985 |\n",
       "| mesenchymal | 1191 |\n",
       "| endothelial |  851 |\n",
       "| epithelial  |  603 |\n",
       "\n"
      ],
      "text/plain": [
       "  Cluster     N   \n",
       "1 immune       985\n",
       "2 mesenchymal 1191\n",
       "3 endothelial  851\n",
       "4 epithelial   603"
      ]
     },
     "metadata": {},
     "output_type": "display_data"
    }
   ],
   "source": [
    "data.table(markers_conserved_df)[, .N, by = Cluster]"
   ]
  },
  {
   "cell_type": "markdown",
   "id": "d93b0b2b-9e3f-4d24-b306-b91e85fb8d51",
   "metadata": {},
   "source": [
    "#### Specific"
   ]
  },
  {
   "cell_type": "code",
   "execution_count": 299,
   "id": "b11a957e-d2f3-4596-bcf8-c917fbbc975f",
   "metadata": {},
   "outputs": [],
   "source": [
    "## Look for genes that mark only one Tissue:Cluster combo\n",
    "genes_specific <- data.table(effects_nested)[, sum(beta > 0 & pvalue < .05), by = feature][V1==1, feature]\n",
    "markers_specific_df <- effects_nested %>% subset(feature %in% genes_specific) %>% subset(beta > 0 & pvalue < .05)"
   ]
  },
  {
   "cell_type": "code",
   "execution_count": 300,
   "id": "ea2916ad-7292-4f35-afcb-0ac3dcbdc911",
   "metadata": {},
   "outputs": [
    {
     "data": {
      "text/html": [
       "<table>\n",
       "<caption>A data.table: 4 × 8</caption>\n",
       "<thead>\n",
       "\t<tr><th scope=col>Cluster</th><th scope=col>Bladder</th><th scope=col>Esophagus</th><th scope=col>Heart</th><th scope=col>Muscle</th><th scope=col>Rectum</th><th scope=col>Skin</th><th scope=col>Trachea</th></tr>\n",
       "\t<tr><th scope=col>&lt;chr&gt;</th><th scope=col>&lt;int&gt;</th><th scope=col>&lt;int&gt;</th><th scope=col>&lt;int&gt;</th><th scope=col>&lt;int&gt;</th><th scope=col>&lt;int&gt;</th><th scope=col>&lt;int&gt;</th><th scope=col>&lt;int&gt;</th></tr>\n",
       "</thead>\n",
       "<tbody>\n",
       "\t<tr><td>endothelial</td><td>170</td><td> 57</td><td> 21</td><td>68</td><td>141</td><td>119</td><td>35</td></tr>\n",
       "\t<tr><td>epithelial </td><td>175</td><td> 47</td><td>107</td><td>82</td><td>281</td><td>131</td><td>62</td></tr>\n",
       "\t<tr><td>immune     </td><td> 79</td><td> 16</td><td> 40</td><td>51</td><td> 41</td><td>252</td><td>62</td></tr>\n",
       "\t<tr><td>mesenchymal</td><td>199</td><td>154</td><td> 23</td><td>62</td><td> 61</td><td>307</td><td>13</td></tr>\n",
       "</tbody>\n",
       "</table>\n"
      ],
      "text/latex": [
       "A data.table: 4 × 8\n",
       "\\begin{tabular}{llllllll}\n",
       " Cluster & Bladder & Esophagus & Heart & Muscle & Rectum & Skin & Trachea\\\\\n",
       " <chr> & <int> & <int> & <int> & <int> & <int> & <int> & <int>\\\\\n",
       "\\hline\n",
       "\t endothelial & 170 &  57 &  21 & 68 & 141 & 119 & 35\\\\\n",
       "\t epithelial  & 175 &  47 & 107 & 82 & 281 & 131 & 62\\\\\n",
       "\t immune      &  79 &  16 &  40 & 51 &  41 & 252 & 62\\\\\n",
       "\t mesenchymal & 199 & 154 &  23 & 62 &  61 & 307 & 13\\\\\n",
       "\\end{tabular}\n"
      ],
      "text/markdown": [
       "\n",
       "A data.table: 4 × 8\n",
       "\n",
       "| Cluster &lt;chr&gt; | Bladder &lt;int&gt; | Esophagus &lt;int&gt; | Heart &lt;int&gt; | Muscle &lt;int&gt; | Rectum &lt;int&gt; | Skin &lt;int&gt; | Trachea &lt;int&gt; |\n",
       "|---|---|---|---|---|---|---|---|\n",
       "| endothelial | 170 |  57 |  21 | 68 | 141 | 119 | 35 |\n",
       "| epithelial  | 175 |  47 | 107 | 82 | 281 | 131 | 62 |\n",
       "| immune      |  79 |  16 |  40 | 51 |  41 | 252 | 62 |\n",
       "| mesenchymal | 199 | 154 |  23 | 62 |  61 | 307 | 13 |\n",
       "\n"
      ],
      "text/plain": [
       "  Cluster     Bladder Esophagus Heart Muscle Rectum Skin Trachea\n",
       "1 endothelial 170      57        21   68     141    119  35     \n",
       "2 epithelial  175      47       107   82     281    131  62     \n",
       "3 immune       79      16        40   51      41    252  62     \n",
       "4 mesenchymal 199     154        23   62      61    307  13     "
      ]
     },
     "metadata": {},
     "output_type": "display_data"
    }
   ],
   "source": [
    "data.table(markers_specific_df)[, .N, by = .(Cluster, tissue)] %>% \n",
    "    tidyr::spread(tissue, N)"
   ]
  },
  {
   "cell_type": "markdown",
   "id": "01324f60-f2ff-4c5f-8587-9e6ebdc30766",
   "metadata": {},
   "source": [
    "# Tabula Sapiens"
   ]
  },
  {
   "cell_type": "markdown",
   "id": "eb416146-0e2c-4d45-93b7-0ab8dc257298",
   "metadata": {
    "toc-hr-collapsed": true
   },
   "source": [
    "## Preprocess"
   ]
  },
  {
   "cell_type": "markdown",
   "id": "3f278b6e-8d0e-4b1a-bde0-73817598117b",
   "metadata": {},
   "source": [
    "### Process .h5ad files"
   ]
  },
  {
   "cell_type": "code",
   "execution_count": 2,
   "id": "c3739e18-b2b1-4b29-afac-5badef3999c3",
   "metadata": {},
   "outputs": [],
   "source": [
    "scanpy <- reticulate::import('scanpy')"
   ]
  },
  {
   "cell_type": "code",
   "execution_count": 9,
   "id": "dd4b7821-2630-4f5a-91a7-437aa954631c",
   "metadata": {},
   "outputs": [],
   "source": [
    "obj <- scanpy$read_h5ad('/data/srlab/ik936/Roche/data/tabula_sapiens/stromal.h5ad')\n",
    "meta_data <- obj$obs\n",
    "counts <- obj$X[1:nrow(obj$X), ] %>% as('dgCMatrix') %>% Matrix::t()\n",
    "colnames(counts) <- rownames(meta_data)\n",
    "rownames(counts) <- obj$var$gene_symbol\n",
    "saveRDS(counts, '/data/srlab/ik936/Roche/data/tabula_sapiens/counts_stromal.rds')\n",
    "saveRDS(meta_data, '/data/srlab/ik936/Roche/data/tabula_sapiens/meta_stromal.rds')"
   ]
  },
  {
   "cell_type": "code",
   "execution_count": 60,
   "id": "daf8d8ec-e01c-4acc-af97-d23ad39d7196",
   "metadata": {},
   "outputs": [],
   "source": [
    "obj <- scanpy$read_h5ad('/data/srlab/ik936/Roche/data/tabula_sapiens/endothelial.h5ad')\n",
    "meta_data <- obj$obs\n",
    "counts <- obj$X[1:nrow(obj$X), ] %>% as('dgCMatrix') %>% Matrix::t()\n",
    "colnames(counts) <- rownames(meta_data)\n",
    "rownames(counts) <- obj$var$gene_symbol\n",
    "saveRDS(counts, '/data/srlab/ik936/Roche/data/tabula_sapiens/counts_endothelial.rds')\n",
    "saveRDS(meta_data, '/data/srlab/ik936/Roche/data/tabula_sapiens/meta_endothelial.rds')"
   ]
  },
  {
   "cell_type": "code",
   "execution_count": 3,
   "id": "0eaae193-299d-4a37-8a09-41e5cdf87e11",
   "metadata": {},
   "outputs": [],
   "source": [
    "obj <- scanpy$read_h5ad('/data/srlab/ik936/Roche/data/tabula_sapiens/immune.h5ad')\n",
    "meta_data <- obj$obs\n",
    "counts <- obj$X[1:nrow(obj$X), ] %>% as('dgCMatrix') %>% Matrix::t()\n",
    "colnames(counts) <- rownames(meta_data)\n",
    "rownames(counts) <- obj$var$gene_symbol\n",
    "saveRDS(counts, '/data/srlab/ik936/Roche/data/tabula_sapiens/counts_immune.rds')\n",
    "saveRDS(meta_data, '/data/srlab/ik936/Roche/data/tabula_sapiens/meta_immune.rds')"
   ]
  },
  {
   "cell_type": "code",
   "execution_count": null,
   "id": "610a4756-6ed5-4f5c-9c6d-e2ed8d87985c",
   "metadata": {},
   "outputs": [],
   "source": [
    "obj <- scanpy$read_h5ad('/data/srlab/ik936/Roche/data/tabula_sapiens/epithelial.h5ad')\n",
    "meta_data <- obj$obs\n",
    "counts <- obj$X[1:nrow(obj$X), ] %>% as('dgCMatrix') %>% Matrix::t()\n",
    "colnames(counts) <- rownames(meta_data)\n",
    "rownames(counts) <- obj$var$gene_symbol\n",
    "saveRDS(counts, '/data/srlab/ik936/Roche/data/tabula_sapiens/counts_epithelial.rds')\n",
    "saveRDS(meta_data, '/data/srlab/ik936/Roche/data/tabula_sapiens/meta_epithelial.rds')"
   ]
  },
  {
   "cell_type": "code",
   "execution_count": null,
   "id": "cbe8d4de-9d0b-4cda-8bcf-adf129e82999",
   "metadata": {},
   "outputs": [],
   "source": [
    "obj <- scanpy$read_h5ad('/data/srlab/ik936/Roche/data/tabula_sapiens/all.h5ad')\n",
    "meta_data <- obj$obs\n",
    "counts <- obj$X[1:nrow(obj$X), ] %>% as('dgCMatrix') %>% Matrix::t()\n",
    "colnames(counts) <- rownames(meta_data)\n",
    "rownames(counts) <- obj$var$gene_symbol\n",
    "saveRDS(counts, '/data/srlab/ik936/Roche/data/tabula_sapiens/counts_all.rds')\n",
    "saveRDS(meta_data, '/data/srlab/ik936/Roche/data/tabula_sapiens/meta_all.rds')"
   ]
  },
  {
   "cell_type": "markdown",
   "id": "c2afbf31-c413-4141-916a-0d5eed02f56a",
   "metadata": {},
   "source": [
    "### Wrangle meta data"
   ]
  },
  {
   "cell_type": "code",
   "execution_count": 30,
   "id": "e078fecd-0c35-4a40-b942-43030dc930ea",
   "metadata": {},
   "outputs": [],
   "source": [
    "meta_data <- c(\n",
    "    '/data/srlab/ik936/Roche/data/tabula_sapiens/meta_endothelial.rds',\n",
    "    '/data/srlab/ik936/Roche/data/tabula_sapiens/meta_stromal.rds',\n",
    "    '/data/srlab/ik936/Roche/data/tabula_sapiens/meta_epithelial.rds',    \n",
    "    '/data/srlab/ik936/Roche/data/tabula_sapiens/meta_immune.rds'\n",
    ") %>% \n",
    "    map(readRDS) %>% \n",
    "    bind_rows() %>% \n",
    "    tibble::rownames_to_column('CellID')"
   ]
  },
  {
   "cell_type": "code",
   "execution_count": 31,
   "id": "e4f592fa-05ae-45a0-9a4c-3d469cf13db4",
   "metadata": {},
   "outputs": [
    {
     "data": {
      "text/html": [
       "<table class=\"dataframe\">\n",
       "<caption>A data.frame: 6 × 9</caption>\n",
       "<thead>\n",
       "\t<tr><th></th><th scope=col>CellID</th><th scope=col>Annotation</th><th scope=col>Predictability</th><th scope=col>Manually Annotated</th><th scope=col>Donor</th><th scope=col>Method</th><th scope=col>Organ</th><th scope=col>Compartment</th><th scope=col>Anatomical Information</th></tr>\n",
       "\t<tr><th></th><th scope=col>&lt;chr&gt;</th><th scope=col>&lt;fct&gt;</th><th scope=col>&lt;dbl&gt;</th><th scope=col>&lt;fct&gt;</th><th scope=col>&lt;fct&gt;</th><th scope=col>&lt;fct&gt;</th><th scope=col>&lt;fct&gt;</th><th scope=col>&lt;fct&gt;</th><th scope=col>&lt;fct&gt;</th></tr>\n",
       "</thead>\n",
       "<tbody>\n",
       "\t<tr><th scope=row>1</th><td>TSP2_Vasculature_aorta_SS2_B114577_B133059_Endothelial_J17_S233</td><td>endothelial cell                 </td><td>1.00</td><td>True</td><td>TSP2</td><td>smartseq2</td><td>Vasculature</td><td>Endothelial</td><td>aorta           </td></tr>\n",
       "\t<tr><th scope=row>2</th><td>ACATCCCTCCGCTAGG_TSP1_muscle_3                                 </td><td>endothelial cell of vascular tree</td><td>0.86</td><td>True</td><td>TSP1</td><td>10X      </td><td>Muscle     </td><td>Endothelial</td><td>nan             </td></tr>\n",
       "\t<tr><th scope=row>3</th><td>TAGATCGGTTCTGAGT_TSP1_bladder_2                                </td><td>vein endothelial cell            </td><td>1.00</td><td>True</td><td>TSP1</td><td>10X      </td><td>Bladder    </td><td>Endothelial</td><td>nan             </td></tr>\n",
       "\t<tr><th scope=row>4</th><td>CCGCAAGTCAAATAGG_TSP2_Lung_proxmedialdistal_10X_1_1            </td><td>capillary aerocyte               </td><td>1.00</td><td>True</td><td>TSP2</td><td>10X      </td><td>Lung       </td><td>Endothelial</td><td>proxmedialdistal</td></tr>\n",
       "\t<tr><th scope=row>5</th><td>TSP2_Thymus_NA_SS2_B113695_B133049_Epithelial_L4_S280          </td><td>capillary endothelial cell       </td><td>0.86</td><td>True</td><td>TSP2</td><td>smartseq2</td><td>Thymus     </td><td>Endothelial</td><td>nan             </td></tr>\n",
       "\t<tr><th scope=row>6</th><td>GAATCACCACGACTAT_TSP2_Thymus_NA_10X_1_2                        </td><td>vein endothelial cell            </td><td>1.00</td><td>True</td><td>TSP2</td><td>10X      </td><td>Thymus     </td><td>Endothelial</td><td>nan             </td></tr>\n",
       "</tbody>\n",
       "</table>\n"
      ],
      "text/latex": [
       "A data.frame: 6 × 9\n",
       "\\begin{tabular}{r|lllllllll}\n",
       "  & CellID & Annotation & Predictability & Manually Annotated & Donor & Method & Organ & Compartment & Anatomical Information\\\\\n",
       "  & <chr> & <fct> & <dbl> & <fct> & <fct> & <fct> & <fct> & <fct> & <fct>\\\\\n",
       "\\hline\n",
       "\t1 & TSP2\\_Vasculature\\_aorta\\_SS2\\_B114577\\_B133059\\_Endothelial\\_J17\\_S233 & endothelial cell                  & 1.00 & True & TSP2 & smartseq2 & Vasculature & Endothelial & aorta           \\\\\n",
       "\t2 & ACATCCCTCCGCTAGG\\_TSP1\\_muscle\\_3                                  & endothelial cell of vascular tree & 0.86 & True & TSP1 & 10X       & Muscle      & Endothelial & nan             \\\\\n",
       "\t3 & TAGATCGGTTCTGAGT\\_TSP1\\_bladder\\_2                                 & vein endothelial cell             & 1.00 & True & TSP1 & 10X       & Bladder     & Endothelial & nan             \\\\\n",
       "\t4 & CCGCAAGTCAAATAGG\\_TSP2\\_Lung\\_proxmedialdistal\\_10X\\_1\\_1             & capillary aerocyte                & 1.00 & True & TSP2 & 10X       & Lung        & Endothelial & proxmedialdistal\\\\\n",
       "\t5 & TSP2\\_Thymus\\_NA\\_SS2\\_B113695\\_B133049\\_Epithelial\\_L4\\_S280           & capillary endothelial cell        & 0.86 & True & TSP2 & smartseq2 & Thymus      & Endothelial & nan             \\\\\n",
       "\t6 & GAATCACCACGACTAT\\_TSP2\\_Thymus\\_NA\\_10X\\_1\\_2                         & vein endothelial cell             & 1.00 & True & TSP2 & 10X       & Thymus      & Endothelial & nan             \\\\\n",
       "\\end{tabular}\n"
      ],
      "text/markdown": [
       "\n",
       "A data.frame: 6 × 9\n",
       "\n",
       "| <!--/--> | CellID &lt;chr&gt; | Annotation &lt;fct&gt; | Predictability &lt;dbl&gt; | Manually Annotated &lt;fct&gt; | Donor &lt;fct&gt; | Method &lt;fct&gt; | Organ &lt;fct&gt; | Compartment &lt;fct&gt; | Anatomical Information &lt;fct&gt; |\n",
       "|---|---|---|---|---|---|---|---|---|---|\n",
       "| 1 | TSP2_Vasculature_aorta_SS2_B114577_B133059_Endothelial_J17_S233 | endothelial cell                  | 1.00 | True | TSP2 | smartseq2 | Vasculature | Endothelial | aorta            |\n",
       "| 2 | ACATCCCTCCGCTAGG_TSP1_muscle_3                                  | endothelial cell of vascular tree | 0.86 | True | TSP1 | 10X       | Muscle      | Endothelial | nan              |\n",
       "| 3 | TAGATCGGTTCTGAGT_TSP1_bladder_2                                 | vein endothelial cell             | 1.00 | True | TSP1 | 10X       | Bladder     | Endothelial | nan              |\n",
       "| 4 | CCGCAAGTCAAATAGG_TSP2_Lung_proxmedialdistal_10X_1_1             | capillary aerocyte                | 1.00 | True | TSP2 | 10X       | Lung        | Endothelial | proxmedialdistal |\n",
       "| 5 | TSP2_Thymus_NA_SS2_B113695_B133049_Epithelial_L4_S280           | capillary endothelial cell        | 0.86 | True | TSP2 | smartseq2 | Thymus      | Endothelial | nan              |\n",
       "| 6 | GAATCACCACGACTAT_TSP2_Thymus_NA_10X_1_2                         | vein endothelial cell             | 1.00 | True | TSP2 | 10X       | Thymus      | Endothelial | nan              |\n",
       "\n"
      ],
      "text/plain": [
       "  CellID                                                         \n",
       "1 TSP2_Vasculature_aorta_SS2_B114577_B133059_Endothelial_J17_S233\n",
       "2 ACATCCCTCCGCTAGG_TSP1_muscle_3                                 \n",
       "3 TAGATCGGTTCTGAGT_TSP1_bladder_2                                \n",
       "4 CCGCAAGTCAAATAGG_TSP2_Lung_proxmedialdistal_10X_1_1            \n",
       "5 TSP2_Thymus_NA_SS2_B113695_B133049_Epithelial_L4_S280          \n",
       "6 GAATCACCACGACTAT_TSP2_Thymus_NA_10X_1_2                        \n",
       "  Annotation                        Predictability Manually Annotated Donor\n",
       "1 endothelial cell                  1.00           True               TSP2 \n",
       "2 endothelial cell of vascular tree 0.86           True               TSP1 \n",
       "3 vein endothelial cell             1.00           True               TSP1 \n",
       "4 capillary aerocyte                1.00           True               TSP2 \n",
       "5 capillary endothelial cell        0.86           True               TSP2 \n",
       "6 vein endothelial cell             1.00           True               TSP2 \n",
       "  Method    Organ       Compartment Anatomical Information\n",
       "1 smartseq2 Vasculature Endothelial aorta                 \n",
       "2 10X       Muscle      Endothelial nan                   \n",
       "3 10X       Bladder     Endothelial nan                   \n",
       "4 10X       Lung        Endothelial proxmedialdistal      \n",
       "5 smartseq2 Thymus      Endothelial nan                   \n",
       "6 10X       Thymus      Endothelial nan                   "
      ]
     },
     "metadata": {},
     "output_type": "display_data"
    },
    {
     "data": {
      "text/html": [
       "156559"
      ],
      "text/latex": [
       "156559"
      ],
      "text/markdown": [
       "156559"
      ],
      "text/plain": [
       "[1] 156559"
      ]
     },
     "metadata": {},
     "output_type": "display_data"
    }
   ],
   "source": [
    "head(meta_data)\n",
    "nrow(meta_data)"
   ]
  },
  {
   "cell_type": "code",
   "execution_count": 32,
   "id": "5ff0c5b4-c550-4f5a-aa26-830c6d5af4f1",
   "metadata": {},
   "outputs": [
    {
     "data": {
      "text/plain": [
       ", , Donor = TSP1\n",
       "\n",
       "                 Compartment\n",
       "Organ             Endothelial Stromal Epithelial Immune\n",
       "  Bladder                 281    4877       1917   4685\n",
       "  Kidney                    0       0          0      0\n",
       "  Large_Intestine           0       0          0      0\n",
       "  Lung                    497     351       2037  10334\n",
       "  Lymph_Node                0       0          0      0\n",
       "  Muscle                 1044    2291          0    433\n",
       "  Pancreas                268      39       6673    284\n",
       "  Small_Intestine           0       0          0      0\n",
       "  Spleen                    0       0          0      0\n",
       "  Thymus                    0       0          0      0\n",
       "  Trachea                   0       0          0      0\n",
       "  Vasculature               0       0          0      0\n",
       "  Blood                     0       0          0   4032\n",
       "  Bone_Marrow               0       0          0      0\n",
       "\n",
       ", , Donor = TSP2\n",
       "\n",
       "                 Compartment\n",
       "Organ             Endothelial Stromal Epithelial Immune\n",
       "  Bladder                 124    3013        957   5714\n",
       "  Kidney                   95       0       8354   1233\n",
       "  Large_Intestine          23     101       2044     76\n",
       "  Lung                   2284     731       8177   7193\n",
       "  Lymph_Node               16       0          0   9789\n",
       "  Muscle                 3723   10932          0   1774\n",
       "  Pancreas                  0       0          0      0\n",
       "  Small_Intestine          31      25       1803    178\n",
       "  Spleen                  158       0          0   7558\n",
       "  Thymus                 1847    1450         39   8811\n",
       "  Trachea                  33     249       4115     48\n",
       "  Vasculature            1549    4682         26   2398\n",
       "  Blood                     0       0          0  11708\n",
       "  Bone_Marrow               0       0          0   3455\n"
      ]
     },
     "metadata": {},
     "output_type": "display_data"
    }
   ],
   "source": [
    "with(meta_data, table(Organ, Compartment, Donor))"
   ]
  },
  {
   "cell_type": "code",
   "execution_count": 33,
   "id": "a182aa1a-3042-4d69-8760-7dc3a3c74cbf",
   "metadata": {},
   "outputs": [],
   "source": [
    "keep <- data.table(meta_data)[Compartment == 'Stromal', .N, by = .(Donor, Organ)][N >= 100]#, .(Donor, Organ)] %>% unique()"
   ]
  },
  {
   "cell_type": "code",
   "execution_count": 34,
   "id": "0af20fe5-269a-45c4-a74f-750154c4b1ff",
   "metadata": {},
   "outputs": [
    {
     "data": {
      "text/html": [
       "<table class=\"dataframe\">\n",
       "<caption>A data.table: 10 × 3</caption>\n",
       "<thead>\n",
       "\t<tr><th scope=col>Donor</th><th scope=col>Organ</th><th scope=col>N</th></tr>\n",
       "\t<tr><th scope=col>&lt;fct&gt;</th><th scope=col>&lt;fct&gt;</th><th scope=col>&lt;int&gt;</th></tr>\n",
       "</thead>\n",
       "<tbody>\n",
       "\t<tr><td>TSP1</td><td>Bladder        </td><td> 4877</td></tr>\n",
       "\t<tr><td>TSP1</td><td>Lung           </td><td>  351</td></tr>\n",
       "\t<tr><td>TSP1</td><td>Muscle         </td><td> 2291</td></tr>\n",
       "\t<tr><td>TSP2</td><td>Bladder        </td><td> 3013</td></tr>\n",
       "\t<tr><td>TSP2</td><td>Large_Intestine</td><td>  101</td></tr>\n",
       "\t<tr><td>TSP2</td><td>Lung           </td><td>  731</td></tr>\n",
       "\t<tr><td>TSP2</td><td>Muscle         </td><td>10932</td></tr>\n",
       "\t<tr><td>TSP2</td><td>Thymus         </td><td> 1450</td></tr>\n",
       "\t<tr><td>TSP2</td><td>Trachea        </td><td>  249</td></tr>\n",
       "\t<tr><td>TSP2</td><td>Vasculature    </td><td> 4682</td></tr>\n",
       "</tbody>\n",
       "</table>\n"
      ],
      "text/latex": [
       "A data.table: 10 × 3\n",
       "\\begin{tabular}{lll}\n",
       " Donor & Organ & N\\\\\n",
       " <fct> & <fct> & <int>\\\\\n",
       "\\hline\n",
       "\t TSP1 & Bladder         &  4877\\\\\n",
       "\t TSP1 & Lung            &   351\\\\\n",
       "\t TSP1 & Muscle          &  2291\\\\\n",
       "\t TSP2 & Bladder         &  3013\\\\\n",
       "\t TSP2 & Large\\_Intestine &   101\\\\\n",
       "\t TSP2 & Lung            &   731\\\\\n",
       "\t TSP2 & Muscle          & 10932\\\\\n",
       "\t TSP2 & Thymus          &  1450\\\\\n",
       "\t TSP2 & Trachea         &   249\\\\\n",
       "\t TSP2 & Vasculature     &  4682\\\\\n",
       "\\end{tabular}\n"
      ],
      "text/markdown": [
       "\n",
       "A data.table: 10 × 3\n",
       "\n",
       "| Donor &lt;fct&gt; | Organ &lt;fct&gt; | N &lt;int&gt; |\n",
       "|---|---|---|\n",
       "| TSP1 | Bladder         |  4877 |\n",
       "| TSP1 | Lung            |   351 |\n",
       "| TSP1 | Muscle          |  2291 |\n",
       "| TSP2 | Bladder         |  3013 |\n",
       "| TSP2 | Large_Intestine |   101 |\n",
       "| TSP2 | Lung            |   731 |\n",
       "| TSP2 | Muscle          | 10932 |\n",
       "| TSP2 | Thymus          |  1450 |\n",
       "| TSP2 | Trachea         |   249 |\n",
       "| TSP2 | Vasculature     |  4682 |\n",
       "\n"
      ],
      "text/plain": [
       "   Donor Organ           N    \n",
       "1  TSP1  Bladder          4877\n",
       "2  TSP1  Lung              351\n",
       "3  TSP1  Muscle           2291\n",
       "4  TSP2  Bladder          3013\n",
       "5  TSP2  Large_Intestine   101\n",
       "6  TSP2  Lung              731\n",
       "7  TSP2  Muscle          10932\n",
       "8  TSP2  Thymus           1450\n",
       "9  TSP2  Trachea           249\n",
       "10 TSP2  Vasculature      4682"
      ]
     },
     "metadata": {},
     "output_type": "display_data"
    }
   ],
   "source": [
    "keep %>% arrange(Donor, Organ)"
   ]
  },
  {
   "cell_type": "code",
   "execution_count": 35,
   "id": "6b5a7f2c-00c4-4b35-b4b3-6bd3038f85d4",
   "metadata": {},
   "outputs": [
    {
     "name": "stderr",
     "output_type": "stream",
     "text": [
      "Joining, by = c(\"Donor\", \"Organ\")\n",
      "\n"
     ]
    }
   ],
   "source": [
    "meta_data <- meta_data %>% inner_join(keep) %>% dplyr::select(-N)"
   ]
  },
  {
   "cell_type": "code",
   "execution_count": 36,
   "id": "eadaf0ea-aedd-43c3-a10a-9de831dcb139",
   "metadata": {},
   "outputs": [
    {
     "data": {
      "text/html": [
       "100860"
      ],
      "text/latex": [
       "100860"
      ],
      "text/markdown": [
       "100860"
      ],
      "text/plain": [
       "[1] 100860"
      ]
     },
     "metadata": {},
     "output_type": "display_data"
    }
   ],
   "source": [
    "nrow(meta_data)"
   ]
  },
  {
   "cell_type": "code",
   "execution_count": 37,
   "id": "a2ca8d76-3aea-430e-b8ee-aa0c94f39a31",
   "metadata": {},
   "outputs": [],
   "source": [
    "saveRDS(meta_data, '/data/srlab/ik936/Roche/data/tabula_sapiens/metadata.rds')"
   ]
  },
  {
   "cell_type": "markdown",
   "id": "19868cb7-3765-4bed-a81f-dc2947cdfbf9",
   "metadata": {},
   "source": [
    "### Wrangle counts"
   ]
  },
  {
   "cell_type": "code",
   "execution_count": 38,
   "id": "1f56e7c4-a205-4362-ba37-9b9e0647fb7a",
   "metadata": {},
   "outputs": [],
   "source": [
    "meta_data <- readRDS('/data/srlab/ik936/Roche/data/tabula_sapiens/metadata.rds')"
   ]
  },
  {
   "cell_type": "code",
   "execution_count": 2,
   "id": "c1272923-75cc-42d4-b61c-060726973f1d",
   "metadata": {},
   "outputs": [],
   "source": [
    "counts_list <- c(\n",
    "    '/data/srlab/ik936/Roche/data/tabula_sapiens/counts_endothelial.rds',\n",
    "    '/data/srlab/ik936/Roche/data/tabula_sapiens/counts_stromal.rds',\n",
    "    '/data/srlab/ik936/Roche/data/tabula_sapiens/counts_epithelial.rds',    \n",
    "    '/data/srlab/ik936/Roche/data/tabula_sapiens/counts_immune.rds'\n",
    ") %>% \n",
    "    map(readRDS)"
   ]
  },
  {
   "cell_type": "code",
   "execution_count": 40,
   "id": "b589eb48-d2ca-4f39-bfd7-d932cc736bf6",
   "metadata": {},
   "outputs": [],
   "source": [
    "counts <- Reduce(Matrix::cbind2, counts_list)[, meta_data$CellID]"
   ]
  },
  {
   "cell_type": "code",
   "execution_count": 42,
   "id": "a26b62ab-e3f5-47d5-a314-ae91246f3a93",
   "metadata": {},
   "outputs": [
    {
     "data": {
      "text/html": [
       "<style>\n",
       ".list-inline {list-style: none; margin:0; padding: 0}\n",
       ".list-inline>li {display: inline-block}\n",
       ".list-inline>li:not(:last-child)::after {content: \"\\00b7\"; padding: 0 .5ex}\n",
       "</style>\n",
       "<ol class=list-inline><li>58833</li><li>100860</li></ol>\n"
      ],
      "text/latex": [
       "\\begin{enumerate*}\n",
       "\\item 58833\n",
       "\\item 100860\n",
       "\\end{enumerate*}\n"
      ],
      "text/markdown": [
       "1. 58833\n",
       "2. 100860\n",
       "\n",
       "\n"
      ],
      "text/plain": [
       "[1]  58833 100860"
      ]
     },
     "metadata": {},
     "output_type": "display_data"
    }
   ],
   "source": [
    "dim(counts)"
   ]
  },
  {
   "cell_type": "code",
   "execution_count": 43,
   "id": "ebd0f4ba-d4ae-4f9c-a35c-c043b6f1d70a",
   "metadata": {},
   "outputs": [],
   "source": [
    "saveRDS(counts, '/data/srlab/ik936/Roche/data/tabula_sapiens/counts.rds')"
   ]
  },
  {
   "cell_type": "markdown",
   "id": "fc50c7d5-e58f-40a7-9323-5256524984e0",
   "metadata": {
    "toc-hr-collapsed": true
   },
   "source": [
    "## Model "
   ]
  },
  {
   "cell_type": "markdown",
   "id": "a559c83d-da0e-40fa-b9f0-10ae29471855",
   "metadata": {},
   "source": [
    "### Pseudobulk"
   ]
  },
  {
   "cell_type": "code",
   "execution_count": 2,
   "id": "07a0de53-03bf-447d-92e3-7ef893298ba4",
   "metadata": {},
   "outputs": [],
   "source": [
    "counts <- readRDS('/data/srlab/ik936/Roche/data/tabula_sapiens/counts.rds')\n",
    "meta_data <- readRDS('/data/srlab/ik936/Roche/data/tabula_sapiens/metadata.rds')"
   ]
  },
  {
   "cell_type": "code",
   "execution_count": 3,
   "id": "63ccbeb6-5ed7-4465-b113-83993c626df8",
   "metadata": {},
   "outputs": [],
   "source": [
    "## Collapse Counts\n",
    "pb <- presto::collapse_counts(\n",
    "    counts,\n",
    "    meta_data,\n",
    "    c('Compartment', 'Organ', 'Donor'),\n",
    "    keep_n=TRUE, \n",
    "    how='mean',\n",
    "    get_norm=FALSE, get_nnz=FALSE ## these data are already normalized\n",
    ") \n",
    "pb$meta_data$logUMI <- log(colSums(pb$counts_mat))\n"
   ]
  },
  {
   "cell_type": "code",
   "execution_count": 4,
   "id": "df3bea66-0c7e-4e08-a444-f216f05a7ba8",
   "metadata": {},
   "outputs": [
    {
     "data": {
      "text/html": [
       "<table class=\"dataframe\">\n",
       "<caption>A matrix: 2 × 6 of type dbl</caption>\n",
       "<thead>\n",
       "\t<tr><th></th><th scope=col>used</th><th scope=col>(Mb)</th><th scope=col>gc trigger</th><th scope=col>(Mb)</th><th scope=col>max used</th><th scope=col>(Mb)</th></tr>\n",
       "</thead>\n",
       "<tbody>\n",
       "\t<tr><th scope=row>Ncells</th><td>4005930</td><td>214.0</td><td>   7566922</td><td> 404.2</td><td>   7566922</td><td> 404.2</td></tr>\n",
       "\t<tr><th scope=row>Vcells</th><td>9122445</td><td> 69.6</td><td>1064618725</td><td>8122.4</td><td>1123753885</td><td>8573.6</td></tr>\n",
       "</tbody>\n",
       "</table>\n"
      ],
      "text/latex": [
       "A matrix: 2 × 6 of type dbl\n",
       "\\begin{tabular}{r|llllll}\n",
       "  & used & (Mb) & gc trigger & (Mb) & max used & (Mb)\\\\\n",
       "\\hline\n",
       "\tNcells & 4005930 & 214.0 &    7566922 &  404.2 &    7566922 &  404.2\\\\\n",
       "\tVcells & 9122445 &  69.6 & 1064618725 & 8122.4 & 1123753885 & 8573.6\\\\\n",
       "\\end{tabular}\n"
      ],
      "text/markdown": [
       "\n",
       "A matrix: 2 × 6 of type dbl\n",
       "\n",
       "| <!--/--> | used | (Mb) | gc trigger | (Mb) | max used | (Mb) |\n",
       "|---|---|---|---|---|---|---|\n",
       "| Ncells | 4005930 | 214.0 |    7566922 |  404.2 |    7566922 |  404.2 |\n",
       "| Vcells | 9122445 |  69.6 | 1064618725 | 8122.4 | 1123753885 | 8573.6 |\n",
       "\n"
      ],
      "text/plain": [
       "       used    (Mb)  gc trigger (Mb)   max used   (Mb)  \n",
       "Ncells 4005930 214.0    7566922  404.2    7566922  404.2\n",
       "Vcells 9122445  69.6 1064618725 8122.4 1123753885 8573.6"
      ]
     },
     "metadata": {},
     "output_type": "display_data"
    }
   ],
   "source": [
    "rm(counts); rm(meta_data); gc()"
   ]
  },
  {
   "cell_type": "code",
   "execution_count": 5,
   "id": "0b734178-d265-4beb-acb1-ee0b654cda16",
   "metadata": {},
   "outputs": [
    {
     "data": {
      "text/html": [
       "<table class=\"dataframe\">\n",
       "<caption>A data.frame: 6 × 5</caption>\n",
       "<thead>\n",
       "\t<tr><th></th><th scope=col>Compartment</th><th scope=col>Organ</th><th scope=col>Donor</th><th scope=col>N</th><th scope=col>logUMI</th></tr>\n",
       "\t<tr><th></th><th scope=col>&lt;fct&gt;</th><th scope=col>&lt;fct&gt;</th><th scope=col>&lt;fct&gt;</th><th scope=col>&lt;int&gt;</th><th scope=col>&lt;dbl&gt;</th></tr>\n",
       "</thead>\n",
       "<tbody>\n",
       "\t<tr><th scope=row>sample_52</th><td>Endothelial</td><td>Vasculature</td><td>TSP2</td><td>1549</td><td>8.773050</td></tr>\n",
       "\t<tr><th scope=row>sample_12</th><td>Endothelial</td><td>Muscle     </td><td>TSP1</td><td>1044</td><td>8.673872</td></tr>\n",
       "\t<tr><th scope=row>sample_0</th><td>Endothelial</td><td>Bladder    </td><td>TSP1</td><td> 281</td><td>8.938295</td></tr>\n",
       "\t<tr><th scope=row>sample_36</th><td>Endothelial</td><td>Lung       </td><td>TSP2</td><td>2284</td><td>8.824224</td></tr>\n",
       "\t<tr><th scope=row>sample_44</th><td>Endothelial</td><td>Thymus     </td><td>TSP2</td><td>1847</td><td>8.814592</td></tr>\n",
       "\t<tr><th scope=row>sample_40</th><td>Endothelial</td><td>Muscle     </td><td>TSP2</td><td>3723</td><td>8.688612</td></tr>\n",
       "</tbody>\n",
       "</table>\n"
      ],
      "text/latex": [
       "A data.frame: 6 × 5\n",
       "\\begin{tabular}{r|lllll}\n",
       "  & Compartment & Organ & Donor & N & logUMI\\\\\n",
       "  & <fct> & <fct> & <fct> & <int> & <dbl>\\\\\n",
       "\\hline\n",
       "\tsample\\_52 & Endothelial & Vasculature & TSP2 & 1549 & 8.773050\\\\\n",
       "\tsample\\_12 & Endothelial & Muscle      & TSP1 & 1044 & 8.673872\\\\\n",
       "\tsample\\_0 & Endothelial & Bladder     & TSP1 &  281 & 8.938295\\\\\n",
       "\tsample\\_36 & Endothelial & Lung        & TSP2 & 2284 & 8.824224\\\\\n",
       "\tsample\\_44 & Endothelial & Thymus      & TSP2 & 1847 & 8.814592\\\\\n",
       "\tsample\\_40 & Endothelial & Muscle      & TSP2 & 3723 & 8.688612\\\\\n",
       "\\end{tabular}\n"
      ],
      "text/markdown": [
       "\n",
       "A data.frame: 6 × 5\n",
       "\n",
       "| <!--/--> | Compartment &lt;fct&gt; | Organ &lt;fct&gt; | Donor &lt;fct&gt; | N &lt;int&gt; | logUMI &lt;dbl&gt; |\n",
       "|---|---|---|---|---|---|\n",
       "| sample_52 | Endothelial | Vasculature | TSP2 | 1549 | 8.773050 |\n",
       "| sample_12 | Endothelial | Muscle      | TSP1 | 1044 | 8.673872 |\n",
       "| sample_0 | Endothelial | Bladder     | TSP1 |  281 | 8.938295 |\n",
       "| sample_36 | Endothelial | Lung        | TSP2 | 2284 | 8.824224 |\n",
       "| sample_44 | Endothelial | Thymus      | TSP2 | 1847 | 8.814592 |\n",
       "| sample_40 | Endothelial | Muscle      | TSP2 | 3723 | 8.688612 |\n",
       "\n"
      ],
      "text/plain": [
       "          Compartment Organ       Donor N    logUMI  \n",
       "sample_52 Endothelial Vasculature TSP2  1549 8.773050\n",
       "sample_12 Endothelial Muscle      TSP1  1044 8.673872\n",
       "sample_0  Endothelial Bladder     TSP1   281 8.938295\n",
       "sample_36 Endothelial Lung        TSP2  2284 8.824224\n",
       "sample_44 Endothelial Thymus      TSP2  1847 8.814592\n",
       "sample_40 Endothelial Muscle      TSP2  3723 8.688612"
      ]
     },
     "metadata": {},
     "output_type": "display_data"
    },
    {
     "data": {
      "text/html": [
       "38"
      ],
      "text/latex": [
       "38"
      ],
      "text/markdown": [
       "38"
      ],
      "text/plain": [
       "[1] 38"
      ]
     },
     "metadata": {},
     "output_type": "display_data"
    }
   ],
   "source": [
    "head(pb$meta_data)\n",
    "nrow(pb$meta_data)"
   ]
  },
  {
   "cell_type": "code",
   "execution_count": 6,
   "id": "c053158a-c557-46c8-8205-ec61d4d8b16e",
   "metadata": {},
   "outputs": [],
   "source": [
    "saveRDS(pb, '/data/srlab/ik936/Roche/data/tabula_sapiens/pb.rds')"
   ]
  },
  {
   "cell_type": "markdown",
   "id": "3ad30251-1498-4752-82e0-11597703fdc1",
   "metadata": {},
   "source": [
    "### Presto"
   ]
  },
  {
   "cell_type": "code",
   "execution_count": 7,
   "id": "5e867d14-0025-4013-9e5e-08d450d62f52",
   "metadata": {},
   "outputs": [],
   "source": [
    "pb <- readRDS('/data/srlab/ik936/Roche/data/tabula_sapiens/pb.rds')"
   ]
  },
  {
   "cell_type": "code",
   "execution_count": 8,
   "id": "93a0f6f4-6ce3-485e-a9fe-b9535d8a1746",
   "metadata": {},
   "outputs": [],
   "source": [
    "# genes_roche <- readRDS('/data/srlab/ik936/Roche/data/cache/all_obj_all/exprs_norm.rds') %>% row.names()"
   ]
  },
  {
   "cell_type": "code",
   "execution_count": 16,
   "id": "b98d9f0f-ee2b-4e5a-807c-ce24629712da",
   "metadata": {},
   "outputs": [
    {
     "data": {
      "text/html": [
       "18262"
      ],
      "text/latex": [
       "18262"
      ],
      "text/markdown": [
       "18262"
      ],
      "text/plain": [
       "[1] 18262"
      ]
     },
     "metadata": {},
     "output_type": "display_data"
    }
   ],
   "source": [
    "## at least 5 counts in 2 samples\n",
    "genes_test <- rownames(pb$counts_mat)[which(rowSums(pb$counts_mat >= 0.1) >= 5)] \n",
    "length(genes_test)\n"
   ]
  },
  {
   "cell_type": "code",
   "execution_count": 17,
   "id": "9c2d8f44-5bc5-4503-b764-8fa0604b8384",
   "metadata": {},
   "outputs": [],
   "source": [
    "# options(future.globals.maxSize=2000*1024^2) ## 2GBs"
   ]
  },
  {
   "cell_type": "code",
   "execution_count": 23,
   "id": "a52a9f4e-64ac-4660-acd5-c8e89ba66bae",
   "metadata": {},
   "outputs": [
    {
     "name": "stderr",
     "output_type": "stream",
     "text": [
      "Set up models\n",
      "\n",
      "Learn the models\n",
      "\n",
      "Aggregate the results\n",
      "\n",
      "Cleap up names\n",
      "\n",
      "Joining, by = \"grpvar_orig\"\n",
      "\n",
      "Compute gene means\n",
      "\n"
     ]
    }
   ],
   "source": [
    "## Fit Models\n",
    "# set.seed(100)\n",
    "t1 <- system.time({\n",
    "    suppressWarnings({\n",
    "        obj <- presto.presto(\n",
    "            formula = y~1+(1|Compartment)+(1|Organ/Compartment)+offset(logUMI), \n",
    "            design = pb$meta_data, \n",
    "            response = pb$counts_mat, \n",
    "            size_varname = 'logUMI',\n",
    "#             features = grep('^COL\\\\d|^MMP\\\\d', rownames(counts), value=TRUE),\n",
    "#             features = sample(genes_test, 20), \n",
    "            features = genes_test, \n",
    "            ncore = 20,\n",
    "            nsim = 1e3,\n",
    "            family = 'gaussian',\n",
    "            effects_cov = c('Compartment', 'Compartment:Organ'),\n",
    "            min_sigma = .5,\n",
    "            verbose = 1\n",
    "        ) \n",
    "    })\n",
    "})\n"
   ]
  },
  {
   "cell_type": "code",
   "execution_count": 29,
   "id": "1f370a24-755b-4d58-9b85-772743a01542",
   "metadata": {},
   "outputs": [
    {
     "data": {
      "text/html": [
       "13.8737833333333"
      ],
      "text/latex": [
       "13.8737833333333"
      ],
      "text/markdown": [
       "13.8737833333333"
      ],
      "text/plain": [
       "[1] 13.87378"
      ]
     },
     "metadata": {},
     "output_type": "display_data"
    }
   ],
   "source": [
    "t1[['elapsed']] / 60"
   ]
  },
  {
   "cell_type": "code",
   "execution_count": 25,
   "id": "3993b1e0-565f-4d54-badd-f8ab5d825fca",
   "metadata": {},
   "outputs": [],
   "source": [
    "saveRDS(obj, '/data/srlab/ik936/Roche/data/tabula_sapiens/presto_obj.rds')\n"
   ]
  },
  {
   "cell_type": "markdown",
   "id": "3646fc02-9a87-4cd9-9218-d2d5fe975eed",
   "metadata": {},
   "source": [
    "### Contrasts"
   ]
  },
  {
   "cell_type": "code",
   "execution_count": 26,
   "id": "623fc158-5304-44bc-a395-dd32eed0398a",
   "metadata": {},
   "outputs": [],
   "source": [
    "obj <- readRDS('/data/srlab/ik936/Roche/data/tabula_sapiens/presto_obj.rds')\n"
   ]
  },
  {
   "cell_type": "code",
   "execution_count": 27,
   "id": "4d0f38f7-211a-42c5-a090-42f65b4eaa9a",
   "metadata": {},
   "outputs": [
    {
     "name": "stderr",
     "output_type": "stream",
     "text": [
      "Warning message:\n",
      "“Expected 2 pieces. Missing pieces filled with `NA` in 4 rows [1, 2, 3, 4].”\n"
     ]
    }
   ],
   "source": [
    "contrasts_mat <- make_contrast.presto(obj, var_contrast='Compartment', var_nested='Organ')\n",
    "effects <- contrasts.presto(obj, contrasts_mat, one_tailed = TRUE) %>% \n",
    "    tidyr::separate(contrast, c('Cluster', 'Tissue'), sep = '\\\\|', remove = FALSE) %>% \n",
    "    arrange(pvalue)\n",
    "saveRDS(effects, '/data/srlab/ik936/Roche/data/tabula_sapiens/presto_cluster_nested.rds')"
   ]
  },
  {
   "cell_type": "code",
   "execution_count": 28,
   "id": "514c63cf-320a-47da-a39b-d07b296cc0ec",
   "metadata": {},
   "outputs": [
    {
     "data": {
      "text/html": [
       "<dl>\n",
       "\t<dt>$Endothelial</dt>\n",
       "\t\t<dd><table class=\"dataframe\">\n",
       "<caption>A tibble: 5 × 8</caption>\n",
       "<thead>\n",
       "\t<tr><th scope=col>contrast</th><th scope=col>Cluster</th><th scope=col>Tissue</th><th scope=col>feature</th><th scope=col>beta</th><th scope=col>sigma</th><th scope=col>zscore</th><th scope=col>pvalue</th></tr>\n",
       "\t<tr><th scope=col>&lt;chr&gt;</th><th scope=col>&lt;chr&gt;</th><th scope=col>&lt;chr&gt;</th><th scope=col>&lt;chr&gt;</th><th scope=col>&lt;dbl&gt;</th><th scope=col>&lt;dbl&gt;</th><th scope=col>&lt;dbl&gt;</th><th scope=col>&lt;dbl&gt;</th></tr>\n",
       "</thead>\n",
       "<tbody>\n",
       "\t<tr><td>Endothelial|Bladder</td><td>Endothelial</td><td>Bladder</td><td>CASKIN2</td><td>2.148895</td><td>0.08481740</td><td>25.33554</td><td>6.485749e-142</td></tr>\n",
       "\t<tr><td>Endothelial|Bladder</td><td>Endothelial</td><td>Bladder</td><td>SOX17  </td><td>3.585057</td><td>0.14689626</td><td>24.40537</td><td>7.499542e-132</td></tr>\n",
       "\t<tr><td>Endothelial|Lung   </td><td>Endothelial</td><td>Lung   </td><td>SLC6A4 </td><td>2.098218</td><td>0.08659057</td><td>24.23148</td><td>5.182807e-130</td></tr>\n",
       "\t<tr><td>Endothelial|Lung   </td><td>Endothelial</td><td>Lung   </td><td>VIPR1  </td><td>2.115669</td><td>0.08872334</td><td>23.84568</td><td>5.613518e-126</td></tr>\n",
       "\t<tr><td>Endothelial|Bladder</td><td>Endothelial</td><td>Bladder</td><td>DOC2B  </td><td>3.305459</td><td>0.14263051</td><td>23.17498</td><td>4.071191e-119</td></tr>\n",
       "</tbody>\n",
       "</table>\n",
       "</dd>\n",
       "\t<dt>$Epithelial</dt>\n",
       "\t\t<dd><table class=\"dataframe\">\n",
       "<caption>A tibble: 5 × 8</caption>\n",
       "<thead>\n",
       "\t<tr><th scope=col>contrast</th><th scope=col>Cluster</th><th scope=col>Tissue</th><th scope=col>feature</th><th scope=col>beta</th><th scope=col>sigma</th><th scope=col>zscore</th><th scope=col>pvalue</th></tr>\n",
       "\t<tr><th scope=col>&lt;chr&gt;</th><th scope=col>&lt;chr&gt;</th><th scope=col>&lt;chr&gt;</th><th scope=col>&lt;chr&gt;</th><th scope=col>&lt;dbl&gt;</th><th scope=col>&lt;dbl&gt;</th><th scope=col>&lt;dbl&gt;</th><th scope=col>&lt;dbl&gt;</th></tr>\n",
       "</thead>\n",
       "<tbody>\n",
       "\t<tr><td>Epithelial|Thymus</td><td>Epithelial</td><td>Thymus</td><td>ITGB8 </td><td>4.317718</td><td>0.16461937</td><td>26.22849</td><td>6.289140e-152</td></tr>\n",
       "\t<tr><td>Epithelial|Thymus</td><td>Epithelial</td><td>Thymus</td><td>PAX9  </td><td>3.430727</td><td>0.13158302</td><td>26.07272</td><td>3.717577e-150</td></tr>\n",
       "\t<tr><td>Epithelial|Thymus</td><td>Epithelial</td><td>Thymus</td><td>VANGL2</td><td>1.954710</td><td>0.07635675</td><td>25.59970</td><td>7.686597e-145</td></tr>\n",
       "\t<tr><td>Epithelial|Thymus</td><td>Epithelial</td><td>Thymus</td><td>KRT19 </td><td>8.017987</td><td>0.31864779</td><td>25.16254</td><td>5.151920e-140</td></tr>\n",
       "\t<tr><td>Epithelial|Thymus</td><td>Epithelial</td><td>Thymus</td><td>GXYLT2</td><td>2.587309</td><td>0.10740298</td><td>24.08973</td><td>1.601544e-128</td></tr>\n",
       "</tbody>\n",
       "</table>\n",
       "</dd>\n",
       "\t<dt>$Immune</dt>\n",
       "\t\t<dd><table class=\"dataframe\">\n",
       "<caption>A tibble: 5 × 8</caption>\n",
       "<thead>\n",
       "\t<tr><th scope=col>contrast</th><th scope=col>Cluster</th><th scope=col>Tissue</th><th scope=col>feature</th><th scope=col>beta</th><th scope=col>sigma</th><th scope=col>zscore</th><th scope=col>pvalue</th></tr>\n",
       "\t<tr><th scope=col>&lt;chr&gt;</th><th scope=col>&lt;chr&gt;</th><th scope=col>&lt;chr&gt;</th><th scope=col>&lt;chr&gt;</th><th scope=col>&lt;dbl&gt;</th><th scope=col>&lt;dbl&gt;</th><th scope=col>&lt;dbl&gt;</th><th scope=col>&lt;dbl&gt;</th></tr>\n",
       "</thead>\n",
       "<tbody>\n",
       "\t<tr><td>Immune|Muscle         </td><td>Immune</td><td>Muscle         </td><td>FYB1</td><td>1.525282</td><td>0.08388848</td><td>18.18226</td><td>3.566448e-74</td></tr>\n",
       "\t<tr><td>Immune|Bladder        </td><td>Immune</td><td>Bladder        </td><td>FYB1</td><td>1.508827</td><td>0.08484059</td><td>17.78426</td><td>4.679614e-71</td></tr>\n",
       "\t<tr><td>Immune|Thymus         </td><td>Immune</td><td>Thymus         </td><td>FYB1</td><td>1.498109</td><td>0.08498977</td><td>17.62694</td><td>7.651598e-70</td></tr>\n",
       "\t<tr><td>Immune|Vasculature    </td><td>Immune</td><td>Vasculature    </td><td>FYB1</td><td>1.508234</td><td>0.08562100</td><td>17.61523</td><td>9.410367e-70</td></tr>\n",
       "\t<tr><td>Immune|Large_Intestine</td><td>Immune</td><td>Large_Intestine</td><td>FYB1</td><td>1.495939</td><td>0.08741286</td><td>17.11349</td><td>5.886891e-66</td></tr>\n",
       "</tbody>\n",
       "</table>\n",
       "</dd>\n",
       "\t<dt>$Stromal</dt>\n",
       "\t\t<dd><table class=\"dataframe\">\n",
       "<caption>A tibble: 5 × 8</caption>\n",
       "<thead>\n",
       "\t<tr><th scope=col>contrast</th><th scope=col>Cluster</th><th scope=col>Tissue</th><th scope=col>feature</th><th scope=col>beta</th><th scope=col>sigma</th><th scope=col>zscore</th><th scope=col>pvalue</th></tr>\n",
       "\t<tr><th scope=col>&lt;chr&gt;</th><th scope=col>&lt;chr&gt;</th><th scope=col>&lt;chr&gt;</th><th scope=col>&lt;chr&gt;</th><th scope=col>&lt;dbl&gt;</th><th scope=col>&lt;dbl&gt;</th><th scope=col>&lt;dbl&gt;</th><th scope=col>&lt;dbl&gt;</th></tr>\n",
       "</thead>\n",
       "<tbody>\n",
       "\t<tr><td>Stromal|Thymus</td><td>Stromal</td><td>Thymus</td><td>PRRX1     </td><td>2.439282</td><td>0.13132588</td><td>18.57427</td><td>2.595519e-77</td></tr>\n",
       "\t<tr><td>Stromal|Thymus</td><td>Stromal</td><td>Thymus</td><td>HSPB6     </td><td>2.256621</td><td>0.12689735</td><td>17.78304</td><td>4.782301e-71</td></tr>\n",
       "\t<tr><td>Stromal|Thymus</td><td>Stromal</td><td>Thymus</td><td>AC100803.3</td><td>1.293624</td><td>0.07354917</td><td>17.58856</td><td>1.507166e-69</td></tr>\n",
       "\t<tr><td>Stromal|Thymus</td><td>Stromal</td><td>Thymus</td><td>FST       </td><td>1.637658</td><td>0.10642282</td><td>15.38823</td><td>9.817104e-54</td></tr>\n",
       "\t<tr><td>Stromal|Thymus</td><td>Stromal</td><td>Thymus</td><td>FHL5      </td><td>1.515441</td><td>0.10004999</td><td>15.14684</td><td>3.975193e-52</td></tr>\n",
       "</tbody>\n",
       "</table>\n",
       "</dd>\n",
       "</dl>\n"
      ],
      "text/latex": [
       "\\begin{description}\n",
       "\\item[\\$Endothelial] A tibble: 5 × 8\n",
       "\\begin{tabular}{llllllll}\n",
       " contrast & Cluster & Tissue & feature & beta & sigma & zscore & pvalue\\\\\n",
       " <chr> & <chr> & <chr> & <chr> & <dbl> & <dbl> & <dbl> & <dbl>\\\\\n",
       "\\hline\n",
       "\t Endothelial\\textbar{}Bladder & Endothelial & Bladder & CASKIN2 & 2.148895 & 0.08481740 & 25.33554 & 6.485749e-142\\\\\n",
       "\t Endothelial\\textbar{}Bladder & Endothelial & Bladder & SOX17   & 3.585057 & 0.14689626 & 24.40537 & 7.499542e-132\\\\\n",
       "\t Endothelial\\textbar{}Lung    & Endothelial & Lung    & SLC6A4  & 2.098218 & 0.08659057 & 24.23148 & 5.182807e-130\\\\\n",
       "\t Endothelial\\textbar{}Lung    & Endothelial & Lung    & VIPR1   & 2.115669 & 0.08872334 & 23.84568 & 5.613518e-126\\\\\n",
       "\t Endothelial\\textbar{}Bladder & Endothelial & Bladder & DOC2B   & 3.305459 & 0.14263051 & 23.17498 & 4.071191e-119\\\\\n",
       "\\end{tabular}\n",
       "\n",
       "\\item[\\$Epithelial] A tibble: 5 × 8\n",
       "\\begin{tabular}{llllllll}\n",
       " contrast & Cluster & Tissue & feature & beta & sigma & zscore & pvalue\\\\\n",
       " <chr> & <chr> & <chr> & <chr> & <dbl> & <dbl> & <dbl> & <dbl>\\\\\n",
       "\\hline\n",
       "\t Epithelial\\textbar{}Thymus & Epithelial & Thymus & ITGB8  & 4.317718 & 0.16461937 & 26.22849 & 6.289140e-152\\\\\n",
       "\t Epithelial\\textbar{}Thymus & Epithelial & Thymus & PAX9   & 3.430727 & 0.13158302 & 26.07272 & 3.717577e-150\\\\\n",
       "\t Epithelial\\textbar{}Thymus & Epithelial & Thymus & VANGL2 & 1.954710 & 0.07635675 & 25.59970 & 7.686597e-145\\\\\n",
       "\t Epithelial\\textbar{}Thymus & Epithelial & Thymus & KRT19  & 8.017987 & 0.31864779 & 25.16254 & 5.151920e-140\\\\\n",
       "\t Epithelial\\textbar{}Thymus & Epithelial & Thymus & GXYLT2 & 2.587309 & 0.10740298 & 24.08973 & 1.601544e-128\\\\\n",
       "\\end{tabular}\n",
       "\n",
       "\\item[\\$Immune] A tibble: 5 × 8\n",
       "\\begin{tabular}{llllllll}\n",
       " contrast & Cluster & Tissue & feature & beta & sigma & zscore & pvalue\\\\\n",
       " <chr> & <chr> & <chr> & <chr> & <dbl> & <dbl> & <dbl> & <dbl>\\\\\n",
       "\\hline\n",
       "\t Immune\\textbar{}Muscle          & Immune & Muscle          & FYB1 & 1.525282 & 0.08388848 & 18.18226 & 3.566448e-74\\\\\n",
       "\t Immune\\textbar{}Bladder         & Immune & Bladder         & FYB1 & 1.508827 & 0.08484059 & 17.78426 & 4.679614e-71\\\\\n",
       "\t Immune\\textbar{}Thymus          & Immune & Thymus          & FYB1 & 1.498109 & 0.08498977 & 17.62694 & 7.651598e-70\\\\\n",
       "\t Immune\\textbar{}Vasculature     & Immune & Vasculature     & FYB1 & 1.508234 & 0.08562100 & 17.61523 & 9.410367e-70\\\\\n",
       "\t Immune\\textbar{}Large\\_Intestine & Immune & Large\\_Intestine & FYB1 & 1.495939 & 0.08741286 & 17.11349 & 5.886891e-66\\\\\n",
       "\\end{tabular}\n",
       "\n",
       "\\item[\\$Stromal] A tibble: 5 × 8\n",
       "\\begin{tabular}{llllllll}\n",
       " contrast & Cluster & Tissue & feature & beta & sigma & zscore & pvalue\\\\\n",
       " <chr> & <chr> & <chr> & <chr> & <dbl> & <dbl> & <dbl> & <dbl>\\\\\n",
       "\\hline\n",
       "\t Stromal\\textbar{}Thymus & Stromal & Thymus & PRRX1      & 2.439282 & 0.13132588 & 18.57427 & 2.595519e-77\\\\\n",
       "\t Stromal\\textbar{}Thymus & Stromal & Thymus & HSPB6      & 2.256621 & 0.12689735 & 17.78304 & 4.782301e-71\\\\\n",
       "\t Stromal\\textbar{}Thymus & Stromal & Thymus & AC100803.3 & 1.293624 & 0.07354917 & 17.58856 & 1.507166e-69\\\\\n",
       "\t Stromal\\textbar{}Thymus & Stromal & Thymus & FST        & 1.637658 & 0.10642282 & 15.38823 & 9.817104e-54\\\\\n",
       "\t Stromal\\textbar{}Thymus & Stromal & Thymus & FHL5       & 1.515441 & 0.10004999 & 15.14684 & 3.975193e-52\\\\\n",
       "\\end{tabular}\n",
       "\n",
       "\\end{description}\n"
      ],
      "text/markdown": [
       "$Endothelial\n",
       ":   \n",
       "A tibble: 5 × 8\n",
       "\n",
       "| contrast &lt;chr&gt; | Cluster &lt;chr&gt; | Tissue &lt;chr&gt; | feature &lt;chr&gt; | beta &lt;dbl&gt; | sigma &lt;dbl&gt; | zscore &lt;dbl&gt; | pvalue &lt;dbl&gt; |\n",
       "|---|---|---|---|---|---|---|---|\n",
       "| Endothelial|Bladder | Endothelial | Bladder | CASKIN2 | 2.148895 | 0.08481740 | 25.33554 | 6.485749e-142 |\n",
       "| Endothelial|Bladder | Endothelial | Bladder | SOX17   | 3.585057 | 0.14689626 | 24.40537 | 7.499542e-132 |\n",
       "| Endothelial|Lung    | Endothelial | Lung    | SLC6A4  | 2.098218 | 0.08659057 | 24.23148 | 5.182807e-130 |\n",
       "| Endothelial|Lung    | Endothelial | Lung    | VIPR1   | 2.115669 | 0.08872334 | 23.84568 | 5.613518e-126 |\n",
       "| Endothelial|Bladder | Endothelial | Bladder | DOC2B   | 3.305459 | 0.14263051 | 23.17498 | 4.071191e-119 |\n",
       "\n",
       "\n",
       "$Epithelial\n",
       ":   \n",
       "A tibble: 5 × 8\n",
       "\n",
       "| contrast &lt;chr&gt; | Cluster &lt;chr&gt; | Tissue &lt;chr&gt; | feature &lt;chr&gt; | beta &lt;dbl&gt; | sigma &lt;dbl&gt; | zscore &lt;dbl&gt; | pvalue &lt;dbl&gt; |\n",
       "|---|---|---|---|---|---|---|---|\n",
       "| Epithelial|Thymus | Epithelial | Thymus | ITGB8  | 4.317718 | 0.16461937 | 26.22849 | 6.289140e-152 |\n",
       "| Epithelial|Thymus | Epithelial | Thymus | PAX9   | 3.430727 | 0.13158302 | 26.07272 | 3.717577e-150 |\n",
       "| Epithelial|Thymus | Epithelial | Thymus | VANGL2 | 1.954710 | 0.07635675 | 25.59970 | 7.686597e-145 |\n",
       "| Epithelial|Thymus | Epithelial | Thymus | KRT19  | 8.017987 | 0.31864779 | 25.16254 | 5.151920e-140 |\n",
       "| Epithelial|Thymus | Epithelial | Thymus | GXYLT2 | 2.587309 | 0.10740298 | 24.08973 | 1.601544e-128 |\n",
       "\n",
       "\n",
       "$Immune\n",
       ":   \n",
       "A tibble: 5 × 8\n",
       "\n",
       "| contrast &lt;chr&gt; | Cluster &lt;chr&gt; | Tissue &lt;chr&gt; | feature &lt;chr&gt; | beta &lt;dbl&gt; | sigma &lt;dbl&gt; | zscore &lt;dbl&gt; | pvalue &lt;dbl&gt; |\n",
       "|---|---|---|---|---|---|---|---|\n",
       "| Immune|Muscle          | Immune | Muscle          | FYB1 | 1.525282 | 0.08388848 | 18.18226 | 3.566448e-74 |\n",
       "| Immune|Bladder         | Immune | Bladder         | FYB1 | 1.508827 | 0.08484059 | 17.78426 | 4.679614e-71 |\n",
       "| Immune|Thymus          | Immune | Thymus          | FYB1 | 1.498109 | 0.08498977 | 17.62694 | 7.651598e-70 |\n",
       "| Immune|Vasculature     | Immune | Vasculature     | FYB1 | 1.508234 | 0.08562100 | 17.61523 | 9.410367e-70 |\n",
       "| Immune|Large_Intestine | Immune | Large_Intestine | FYB1 | 1.495939 | 0.08741286 | 17.11349 | 5.886891e-66 |\n",
       "\n",
       "\n",
       "$Stromal\n",
       ":   \n",
       "A tibble: 5 × 8\n",
       "\n",
       "| contrast &lt;chr&gt; | Cluster &lt;chr&gt; | Tissue &lt;chr&gt; | feature &lt;chr&gt; | beta &lt;dbl&gt; | sigma &lt;dbl&gt; | zscore &lt;dbl&gt; | pvalue &lt;dbl&gt; |\n",
       "|---|---|---|---|---|---|---|---|\n",
       "| Stromal|Thymus | Stromal | Thymus | PRRX1      | 2.439282 | 0.13132588 | 18.57427 | 2.595519e-77 |\n",
       "| Stromal|Thymus | Stromal | Thymus | HSPB6      | 2.256621 | 0.12689735 | 17.78304 | 4.782301e-71 |\n",
       "| Stromal|Thymus | Stromal | Thymus | AC100803.3 | 1.293624 | 0.07354917 | 17.58856 | 1.507166e-69 |\n",
       "| Stromal|Thymus | Stromal | Thymus | FST        | 1.637658 | 0.10642282 | 15.38823 | 9.817104e-54 |\n",
       "| Stromal|Thymus | Stromal | Thymus | FHL5       | 1.515441 | 0.10004999 | 15.14684 | 3.975193e-52 |\n",
       "\n",
       "\n",
       "\n",
       "\n"
      ],
      "text/plain": [
       "$Endothelial\n",
       "\u001b[90m# A tibble: 5 x 8\u001b[39m\n",
       "  contrast            Cluster     Tissue  feature  beta  sigma zscore    pvalue\n",
       "  \u001b[3m\u001b[90m<chr>\u001b[39m\u001b[23m               \u001b[3m\u001b[90m<chr>\u001b[39m\u001b[23m       \u001b[3m\u001b[90m<chr>\u001b[39m\u001b[23m   \u001b[3m\u001b[90m<chr>\u001b[39m\u001b[23m   \u001b[3m\u001b[90m<dbl>\u001b[39m\u001b[23m  \u001b[3m\u001b[90m<dbl>\u001b[39m\u001b[23m  \u001b[3m\u001b[90m<dbl>\u001b[39m\u001b[23m     \u001b[3m\u001b[90m<dbl>\u001b[39m\u001b[23m\n",
       "\u001b[90m1\u001b[39m Endothelial|Bladder Endothelial Bladder CASKIN2  2.15 0.084\u001b[4m8\u001b[24m   25.3 6.49\u001b[90me\u001b[39m\u001b[31m-142\u001b[39m\n",
       "\u001b[90m2\u001b[39m Endothelial|Bladder Endothelial Bladder SOX17    3.59 0.147    24.4 7.50\u001b[90me\u001b[39m\u001b[31m-132\u001b[39m\n",
       "\u001b[90m3\u001b[39m Endothelial|Lung    Endothelial Lung    SLC6A4   2.10 0.086\u001b[4m6\u001b[24m   24.2 5.18\u001b[90me\u001b[39m\u001b[31m-130\u001b[39m\n",
       "\u001b[90m4\u001b[39m Endothelial|Lung    Endothelial Lung    VIPR1    2.12 0.088\u001b[4m7\u001b[24m   23.8 5.61\u001b[90me\u001b[39m\u001b[31m-126\u001b[39m\n",
       "\u001b[90m5\u001b[39m Endothelial|Bladder Endothelial Bladder DOC2B    3.31 0.143    23.2 4.07\u001b[90me\u001b[39m\u001b[31m-119\u001b[39m\n",
       "\n",
       "$Epithelial\n",
       "\u001b[90m# A tibble: 5 x 8\u001b[39m\n",
       "  contrast          Cluster    Tissue feature  beta  sigma zscore    pvalue\n",
       "  \u001b[3m\u001b[90m<chr>\u001b[39m\u001b[23m             \u001b[3m\u001b[90m<chr>\u001b[39m\u001b[23m      \u001b[3m\u001b[90m<chr>\u001b[39m\u001b[23m  \u001b[3m\u001b[90m<chr>\u001b[39m\u001b[23m   \u001b[3m\u001b[90m<dbl>\u001b[39m\u001b[23m  \u001b[3m\u001b[90m<dbl>\u001b[39m\u001b[23m  \u001b[3m\u001b[90m<dbl>\u001b[39m\u001b[23m     \u001b[3m\u001b[90m<dbl>\u001b[39m\u001b[23m\n",
       "\u001b[90m1\u001b[39m Epithelial|Thymus Epithelial Thymus ITGB8    4.32 0.165    26.2 6.29\u001b[90me\u001b[39m\u001b[31m-152\u001b[39m\n",
       "\u001b[90m2\u001b[39m Epithelial|Thymus Epithelial Thymus PAX9     3.43 0.132    26.1 3.72\u001b[90me\u001b[39m\u001b[31m-150\u001b[39m\n",
       "\u001b[90m3\u001b[39m Epithelial|Thymus Epithelial Thymus VANGL2   1.95 0.076\u001b[4m4\u001b[24m   25.6 7.69\u001b[90me\u001b[39m\u001b[31m-145\u001b[39m\n",
       "\u001b[90m4\u001b[39m Epithelial|Thymus Epithelial Thymus KRT19    8.02 0.319    25.2 5.15\u001b[90me\u001b[39m\u001b[31m-140\u001b[39m\n",
       "\u001b[90m5\u001b[39m Epithelial|Thymus Epithelial Thymus GXYLT2   2.59 0.107    24.1 1.60\u001b[90me\u001b[39m\u001b[31m-128\u001b[39m\n",
       "\n",
       "$Immune\n",
       "\u001b[90m# A tibble: 5 x 8\u001b[39m\n",
       "  contrast            Cluster Tissue        feature  beta  sigma zscore   pvalue\n",
       "  \u001b[3m\u001b[90m<chr>\u001b[39m\u001b[23m               \u001b[3m\u001b[90m<chr>\u001b[39m\u001b[23m   \u001b[3m\u001b[90m<chr>\u001b[39m\u001b[23m         \u001b[3m\u001b[90m<chr>\u001b[39m\u001b[23m   \u001b[3m\u001b[90m<dbl>\u001b[39m\u001b[23m  \u001b[3m\u001b[90m<dbl>\u001b[39m\u001b[23m  \u001b[3m\u001b[90m<dbl>\u001b[39m\u001b[23m    \u001b[3m\u001b[90m<dbl>\u001b[39m\u001b[23m\n",
       "\u001b[90m1\u001b[39m Immune|Muscle       Immune  Muscle        FYB1     1.53 0.083\u001b[4m9\u001b[24m   18.2 3.57\u001b[90me\u001b[39m\u001b[31m-74\u001b[39m\n",
       "\u001b[90m2\u001b[39m Immune|Bladder      Immune  Bladder       FYB1     1.51 0.084\u001b[4m8\u001b[24m   17.8 4.68\u001b[90me\u001b[39m\u001b[31m-71\u001b[39m\n",
       "\u001b[90m3\u001b[39m Immune|Thymus       Immune  Thymus        FYB1     1.50 0.085\u001b[4m0\u001b[24m   17.6 7.65\u001b[90me\u001b[39m\u001b[31m-70\u001b[39m\n",
       "\u001b[90m4\u001b[39m Immune|Vasculature  Immune  Vasculature   FYB1     1.51 0.085\u001b[4m6\u001b[24m   17.6 9.41\u001b[90me\u001b[39m\u001b[31m-70\u001b[39m\n",
       "\u001b[90m5\u001b[39m Immune|Large_Intes… Immune  Large_Intest… FYB1     1.50 0.087\u001b[4m4\u001b[24m   17.1 5.89\u001b[90me\u001b[39m\u001b[31m-66\u001b[39m\n",
       "\n",
       "$Stromal\n",
       "\u001b[90m# A tibble: 5 x 8\u001b[39m\n",
       "  contrast       Cluster Tissue feature     beta  sigma zscore   pvalue\n",
       "  \u001b[3m\u001b[90m<chr>\u001b[39m\u001b[23m          \u001b[3m\u001b[90m<chr>\u001b[39m\u001b[23m   \u001b[3m\u001b[90m<chr>\u001b[39m\u001b[23m  \u001b[3m\u001b[90m<chr>\u001b[39m\u001b[23m      \u001b[3m\u001b[90m<dbl>\u001b[39m\u001b[23m  \u001b[3m\u001b[90m<dbl>\u001b[39m\u001b[23m  \u001b[3m\u001b[90m<dbl>\u001b[39m\u001b[23m    \u001b[3m\u001b[90m<dbl>\u001b[39m\u001b[23m\n",
       "\u001b[90m1\u001b[39m Stromal|Thymus Stromal Thymus PRRX1       2.44 0.131    18.6 2.60\u001b[90me\u001b[39m\u001b[31m-77\u001b[39m\n",
       "\u001b[90m2\u001b[39m Stromal|Thymus Stromal Thymus HSPB6       2.26 0.127    17.8 4.78\u001b[90me\u001b[39m\u001b[31m-71\u001b[39m\n",
       "\u001b[90m3\u001b[39m Stromal|Thymus Stromal Thymus AC100803.3  1.29 0.073\u001b[4m5\u001b[24m   17.6 1.51\u001b[90me\u001b[39m\u001b[31m-69\u001b[39m\n",
       "\u001b[90m4\u001b[39m Stromal|Thymus Stromal Thymus FST         1.64 0.106    15.4 9.82\u001b[90me\u001b[39m\u001b[31m-54\u001b[39m\n",
       "\u001b[90m5\u001b[39m Stromal|Thymus Stromal Thymus FHL5        1.52 0.100    15.1 3.98\u001b[90me\u001b[39m\u001b[31m-52\u001b[39m\n"
      ]
     },
     "metadata": {},
     "output_type": "display_data"
    }
   ],
   "source": [
    "effects %>% \n",
    "    subset(beta > 0 & pvalue < .05) %>% \n",
    "    split(.$Cluster) %>% \n",
    "    map(arrange, -zscore) %>% \n",
    "    map(head, 5)"
   ]
  },
  {
   "cell_type": "code",
   "execution_count": null,
   "id": "ebe9bede-7640-458f-b586-13552a3f207d",
   "metadata": {},
   "outputs": [],
   "source": []
  },
  {
   "cell_type": "code",
   "execution_count": null,
   "id": "4f1d5a26-cee2-4ed1-808f-d328f37c657d",
   "metadata": {},
   "outputs": [],
   "source": []
  },
  {
   "cell_type": "code",
   "execution_count": null,
   "id": "7e94ee10-ac8f-41d7-ab31-b5d02dd43eec",
   "metadata": {},
   "outputs": [],
   "source": []
  },
  {
   "cell_type": "code",
   "execution_count": null,
   "id": "4cfe21a2-8add-4a16-928f-d1c211d923bc",
   "metadata": {},
   "outputs": [],
   "source": []
  },
  {
   "cell_type": "markdown",
   "id": "03ba363a-c240-4e88-aa6d-f0c7ad9adf10",
   "metadata": {},
   "source": [
    "# \"Present in normal tissues\""
   ]
  },
  {
   "cell_type": "raw",
   "id": "2b62db9f-6fe6-4f9f-bc1a-635f00dd5f8d",
   "metadata": {},
   "source": [
    "Proposed response: \n",
    "\n",
    "3b.\tTissue-specific signatures. We will identify gene programs that are unique to fibroblasts in our dataset in each tissue and validate this specificity in external datasets. We will also find genes that are shared among fibroblasts broadly in our data. \n",
    "3c.\tTissue-specific signatures in public datasets. We will repeat the identification of tissue-specific and tissue-shared stromal gene programs in public datasets, including the Tabula Muris and Mouse Cell Atlas studies, alluded to by Reviewer 1. "
   ]
  },
  {
   "cell_type": "code",
   "execution_count": 2,
   "id": "7960361a-66b9-403d-bbe0-23294e5c519a",
   "metadata": {},
   "outputs": [],
   "source": [
    "# do_tsne <- function(X, rho=4) {\n",
    "#     tsne_obj <- openTSNE$TSNE(\n",
    "#         n_components = 2L,\n",
    "#         n_jobs = 8L, \n",
    "#         perplexity = 30L,\n",
    "#         exaggeration = rho, ## rho=4 is close to UMAP \n",
    "#         learning_rate = nrow(obj$V) / 4,\n",
    "#         random_state = 42L\n",
    "#     )\n",
    "# #     obj$tsne$harmony <- \n",
    "#     res <- tsne_obj$fit(X)\n",
    "#     return(res)\n",
    "# }\n"
   ]
  },
  {
   "cell_type": "markdown",
   "id": "e729764f-1df0-4d70-8f3d-66d2fa30e35c",
   "metadata": {
    "toc-hr-collapsed": true
   },
   "source": [
    "## Public datasets"
   ]
  },
  {
   "cell_type": "markdown",
   "id": "7eeaf8dd-d90a-4863-982c-d073c078dadf",
   "metadata": {},
   "source": [
    "### Load"
   ]
  },
  {
   "cell_type": "code",
   "execution_count": 3,
   "id": "7a4db19e-e86e-48b8-95ed-938559336b36",
   "metadata": {},
   "outputs": [],
   "source": [
    "## Adult Human Cell Atlas\n",
    "effects_ahca <- readRDS('/data/srlab2/ik936/Roche/data/AdultHumanCellAtlas/cache/presto_cluster_nested.rds')\n",
    "effects_ahca$padj <- p.adjust(effects_ahca$pvalue, 'BH')\n",
    "effects_ahca$contrast <- gsub('mesenchymal', 'fibroblast', effects_ahca$contrast)\n",
    "effects_ahca$Cluster <- gsub('mesenchymal', 'fibroblast', effects_ahca$Cluster)\n",
    "\n",
    "pb_ahca <- readRDS('/data/srlab2/ik936/Roche/data/AdultHumanCellAtlas/cache/pseudobulk.rds')\n",
    "pb_ahca$meta_data$Tissue <- pb_ahca$meta_data$tissue\n"
   ]
  },
  {
   "cell_type": "code",
   "execution_count": 4,
   "id": "bf33ce9e-987a-4c41-992b-64c2f0b2d0a2",
   "metadata": {},
   "outputs": [],
   "source": [
    "effects_ts <- readRDS('/data/srlab2/ik936/Roche/data/tabula_sapiens/presto_cluster_nested.rds')\n",
    "effects_ts$padj <- p.adjust(effects_ts$pvalue, 'BH')\n",
    "# effects_ahca$contrast <- gsub('mesenchymal', 'fibroblast', effects_ahca$contrast)\n",
    "# effects_ahca$Cluster <- gsub('mesenchymal', 'fibroblast', effects_ahca$Cluster)\n",
    "\n",
    "pb_ts <- readRDS('/data/srlab2/ik936/Roche/data/tabula_sapiens/pb.rds')\n",
    "pb_ts$exprs_norm  <- normalizeData(pb_ts$counts_mat, 1e4, 'log')\n",
    "pb_ts$meta_data$Tissue <- pb_ts$meta_data$Organ\n",
    "pb_ts$meta_data$CellType <- pb_ts$meta_data$Compartment"
   ]
  },
  {
   "cell_type": "code",
   "execution_count": 5,
   "id": "b7b3e371-01d2-40b3-bf9e-02a12a5ee4c1",
   "metadata": {},
   "outputs": [],
   "source": [
    "## Mouse Cell Atlas\n",
    "effects_mca <- readRDS('/data/srlab2/ik936/Roche/data/MCA/cache/presto_effects_cluster_nested.rds')\n",
    "pb_mca <- readRDS('/data/srlab2/ik936/Roche/data/MCA/cache/pseudobulk.rds')"
   ]
  },
  {
   "cell_type": "code",
   "execution_count": 6,
   "id": "35d25437-f632-4fca-abe0-bffc253bd38f",
   "metadata": {},
   "outputs": [],
   "source": [
    "effects_tm <- readRDS('/data/srlab2/ik936/Roche/data/tabula_muris/presto_effects_cluster_nested.rds')\n",
    "effects_tm$padj <- p.adjust(effects_tm$pvalue, 'BH')\n",
    "pb_tm <- readRDS('/data/srlab2/ik936/Roche/data/tabula_muris/pseudobulk.rds')\n",
    "pb_tm$meta_data$Tissue <- pb_tm$meta_data$tissue"
   ]
  },
  {
   "cell_type": "markdown",
   "id": "ad033429-df03-44b3-857a-406dcae8c91d",
   "metadata": {},
   "source": [
    "### Summarize numbers "
   ]
  },
  {
   "cell_type": "code",
   "execution_count": 7,
   "id": "87905914-07b4-42fb-ba70-c98f85ebe109",
   "metadata": {},
   "outputs": [],
   "source": [
    "# df_ts <- data.table(effects_ts)[\n",
    "#     ## marker is upregulated in all tissues for that cluster\n",
    "#     , sum(padj < .05 & beta > 0), by = .(Cluster, feature)\n",
    "# ][V1 > 0 & Cluster == 'Stromal'][, .N, by = V1] %>% \n",
    "#     dplyr::mutate(\n",
    "#         label = case_when(\n",
    "#             V1 == 7 ~ 'Shared by all',\n",
    "#             V1 > 1 ~ 'Shared by some', \n",
    "#             TRUE ~ 'Tissue-specific'\n",
    "#         ),\n",
    "#         Study = 'Tabula Sapiens'\n",
    "#     ) \n"
   ]
  },
  {
   "cell_type": "code",
   "execution_count": 8,
   "id": "97740b95-5f50-4e56-a70a-23d8913afbd8",
   "metadata": {},
   "outputs": [
    {
     "data": {
      "text/html": [
       "<table class=\"dataframe\">\n",
       "<caption>A data.table: 13 × 3</caption>\n",
       "<thead>\n",
       "\t<tr><th scope=col>Tissue</th><th scope=col>N</th><th scope=col>Study</th></tr>\n",
       "\t<tr><th scope=col>&lt;chr&gt;</th><th scope=col>&lt;int&gt;</th><th scope=col>&lt;chr&gt;</th></tr>\n",
       "</thead>\n",
       "<tbody>\n",
       "\t<tr><td>Thymus             </td><td>349</td><td>Tabula Sapiens</td></tr>\n",
       "\t<tr><td>Bladder            </td><td>237</td><td>Tabula Sapiens</td></tr>\n",
       "\t<tr><td>Lung               </td><td> 90</td><td>Tabula Sapiens</td></tr>\n",
       "\t<tr><td>Trachea            </td><td> 71</td><td>Tabula Sapiens</td></tr>\n",
       "\t<tr><td>Large_Intestine    </td><td>186</td><td>Tabula Sapiens</td></tr>\n",
       "\t<tr><td>Vasculature        </td><td>  2</td><td>Tabula Sapiens</td></tr>\n",
       "\t<tr><td>Muscle             </td><td>  1</td><td>Tabula Sapiens</td></tr>\n",
       "\t<tr><td>Shared by 5 tissues</td><td>183</td><td>Tabula Sapiens</td></tr>\n",
       "\t<tr><td>Shared by 4 tissues</td><td>141</td><td>Tabula Sapiens</td></tr>\n",
       "\t<tr><td>Shared by 2 tissues</td><td>407</td><td>Tabula Sapiens</td></tr>\n",
       "\t<tr><td>Shared by 3 tissues</td><td>224</td><td>Tabula Sapiens</td></tr>\n",
       "\t<tr><td>Shared by 6 tissues</td><td> 73</td><td>Tabula Sapiens</td></tr>\n",
       "\t<tr><td>Shared by 7 tissues</td><td>357</td><td>Tabula Sapiens</td></tr>\n",
       "</tbody>\n",
       "</table>\n"
      ],
      "text/latex": [
       "A data.table: 13 × 3\n",
       "\\begin{tabular}{lll}\n",
       " Tissue & N & Study\\\\\n",
       " <chr> & <int> & <chr>\\\\\n",
       "\\hline\n",
       "\t Thymus              & 349 & Tabula Sapiens\\\\\n",
       "\t Bladder             & 237 & Tabula Sapiens\\\\\n",
       "\t Lung                &  90 & Tabula Sapiens\\\\\n",
       "\t Trachea             &  71 & Tabula Sapiens\\\\\n",
       "\t Large\\_Intestine     & 186 & Tabula Sapiens\\\\\n",
       "\t Vasculature         &   2 & Tabula Sapiens\\\\\n",
       "\t Muscle              &   1 & Tabula Sapiens\\\\\n",
       "\t Shared by 5 tissues & 183 & Tabula Sapiens\\\\\n",
       "\t Shared by 4 tissues & 141 & Tabula Sapiens\\\\\n",
       "\t Shared by 2 tissues & 407 & Tabula Sapiens\\\\\n",
       "\t Shared by 3 tissues & 224 & Tabula Sapiens\\\\\n",
       "\t Shared by 6 tissues &  73 & Tabula Sapiens\\\\\n",
       "\t Shared by 7 tissues & 357 & Tabula Sapiens\\\\\n",
       "\\end{tabular}\n"
      ],
      "text/markdown": [
       "\n",
       "A data.table: 13 × 3\n",
       "\n",
       "| Tissue &lt;chr&gt; | N &lt;int&gt; | Study &lt;chr&gt; |\n",
       "|---|---|---|\n",
       "| Thymus              | 349 | Tabula Sapiens |\n",
       "| Bladder             | 237 | Tabula Sapiens |\n",
       "| Lung                |  90 | Tabula Sapiens |\n",
       "| Trachea             |  71 | Tabula Sapiens |\n",
       "| Large_Intestine     | 186 | Tabula Sapiens |\n",
       "| Vasculature         |   2 | Tabula Sapiens |\n",
       "| Muscle              |   1 | Tabula Sapiens |\n",
       "| Shared by 5 tissues | 183 | Tabula Sapiens |\n",
       "| Shared by 4 tissues | 141 | Tabula Sapiens |\n",
       "| Shared by 2 tissues | 407 | Tabula Sapiens |\n",
       "| Shared by 3 tissues | 224 | Tabula Sapiens |\n",
       "| Shared by 6 tissues |  73 | Tabula Sapiens |\n",
       "| Shared by 7 tissues | 357 | Tabula Sapiens |\n",
       "\n"
      ],
      "text/plain": [
       "   Tissue              N   Study         \n",
       "1  Thymus              349 Tabula Sapiens\n",
       "2  Bladder             237 Tabula Sapiens\n",
       "3  Lung                 90 Tabula Sapiens\n",
       "4  Trachea              71 Tabula Sapiens\n",
       "5  Large_Intestine     186 Tabula Sapiens\n",
       "6  Vasculature           2 Tabula Sapiens\n",
       "7  Muscle                1 Tabula Sapiens\n",
       "8  Shared by 5 tissues 183 Tabula Sapiens\n",
       "9  Shared by 4 tissues 141 Tabula Sapiens\n",
       "10 Shared by 2 tissues 407 Tabula Sapiens\n",
       "11 Shared by 3 tissues 224 Tabula Sapiens\n",
       "12 Shared by 6 tissues  73 Tabula Sapiens\n",
       "13 Shared by 7 tissues 357 Tabula Sapiens"
      ]
     },
     "metadata": {},
     "output_type": "display_data"
    }
   ],
   "source": [
    "nshared <- data.table(effects_ts)[\n",
    "    ## marker is upregulated in all tissues for that cluster\n",
    "    , sum(padj < .05 & beta > 0), by = .(Cluster, feature)\n",
    "][V1 > 1 & Cluster == 'Stromal'] %>% nrow\n",
    "\n",
    "genes <- data.table(effects_ts)[\n",
    "    ## marker is upregulated in all tissues for that cluster\n",
    "    , sum(padj < .05 & beta > 0), by = .(Cluster, feature)\n",
    "][V1 == 1 & Cluster == 'Stromal', feature]\n",
    "\n",
    "df_ts <- data.table(effects_ts)[\n",
    "    ## marker is upregulated in all tissues for that cluster\n",
    "    padj < .05 & beta > 0 & feature %in% genes & Cluster == 'Stromal', .N, by = Tissue\n",
    "] %>% \n",
    "#     rbind(tibble(Tissue = 'SHARED', N = nshared)) %>% \n",
    "    rbind(\n",
    "        data.table(effects_ts)[\n",
    "            ## marker is upregulated in all tissues for that cluster\n",
    "            , sum(padj < .05 & beta > 0), by = .(Cluster, feature)\n",
    "        ][V1 > 1 & Cluster == 'Stromal'][, .N, by = V1][, .(Tissue = sprintf('Shared by %d tissues', V1), N)][]\n",
    "    ) %>% \n",
    "    dplyr::mutate(Study = 'Tabula Sapiens')\n",
    "            \n",
    "df_ts\n"
   ]
  },
  {
   "cell_type": "code",
   "execution_count": 9,
   "id": "7b55f90d-e33e-4a41-8725-790240981308",
   "metadata": {},
   "outputs": [
    {
     "data": {
      "text/html": [
       "<table class=\"dataframe\">\n",
       "<caption>A data.table: 13 × 3</caption>\n",
       "<thead>\n",
       "\t<tr><th scope=col>Tissue</th><th scope=col>N</th><th scope=col>Study</th></tr>\n",
       "\t<tr><th scope=col>&lt;chr&gt;</th><th scope=col>&lt;int&gt;</th><th scope=col>&lt;chr&gt;</th></tr>\n",
       "</thead>\n",
       "<tbody>\n",
       "\t<tr><td>Esophagus          </td><td>708</td><td>Adult Human Cell Atlas</td></tr>\n",
       "\t<tr><td>Skin               </td><td> 88</td><td>Adult Human Cell Atlas</td></tr>\n",
       "\t<tr><td>Muscle             </td><td> 27</td><td>Adult Human Cell Atlas</td></tr>\n",
       "\t<tr><td>Rectum             </td><td> 61</td><td>Adult Human Cell Atlas</td></tr>\n",
       "\t<tr><td>Trachea            </td><td> 60</td><td>Adult Human Cell Atlas</td></tr>\n",
       "\t<tr><td>Heart              </td><td>107</td><td>Adult Human Cell Atlas</td></tr>\n",
       "\t<tr><td>Bladder            </td><td>  6</td><td>Adult Human Cell Atlas</td></tr>\n",
       "\t<tr><td>Shared by 7 tissues</td><td>256</td><td>Adult Human Cell Atlas</td></tr>\n",
       "\t<tr><td>Shared by 6 tissues</td><td>179</td><td>Adult Human Cell Atlas</td></tr>\n",
       "\t<tr><td>Shared by 5 tissues</td><td>146</td><td>Adult Human Cell Atlas</td></tr>\n",
       "\t<tr><td>Shared by 4 tissues</td><td>210</td><td>Adult Human Cell Atlas</td></tr>\n",
       "\t<tr><td>Shared by 2 tissues</td><td>480</td><td>Adult Human Cell Atlas</td></tr>\n",
       "\t<tr><td>Shared by 3 tissues</td><td>274</td><td>Adult Human Cell Atlas</td></tr>\n",
       "</tbody>\n",
       "</table>\n"
      ],
      "text/latex": [
       "A data.table: 13 × 3\n",
       "\\begin{tabular}{lll}\n",
       " Tissue & N & Study\\\\\n",
       " <chr> & <int> & <chr>\\\\\n",
       "\\hline\n",
       "\t Esophagus           & 708 & Adult Human Cell Atlas\\\\\n",
       "\t Skin                &  88 & Adult Human Cell Atlas\\\\\n",
       "\t Muscle              &  27 & Adult Human Cell Atlas\\\\\n",
       "\t Rectum              &  61 & Adult Human Cell Atlas\\\\\n",
       "\t Trachea             &  60 & Adult Human Cell Atlas\\\\\n",
       "\t Heart               & 107 & Adult Human Cell Atlas\\\\\n",
       "\t Bladder             &   6 & Adult Human Cell Atlas\\\\\n",
       "\t Shared by 7 tissues & 256 & Adult Human Cell Atlas\\\\\n",
       "\t Shared by 6 tissues & 179 & Adult Human Cell Atlas\\\\\n",
       "\t Shared by 5 tissues & 146 & Adult Human Cell Atlas\\\\\n",
       "\t Shared by 4 tissues & 210 & Adult Human Cell Atlas\\\\\n",
       "\t Shared by 2 tissues & 480 & Adult Human Cell Atlas\\\\\n",
       "\t Shared by 3 tissues & 274 & Adult Human Cell Atlas\\\\\n",
       "\\end{tabular}\n"
      ],
      "text/markdown": [
       "\n",
       "A data.table: 13 × 3\n",
       "\n",
       "| Tissue &lt;chr&gt; | N &lt;int&gt; | Study &lt;chr&gt; |\n",
       "|---|---|---|\n",
       "| Esophagus           | 708 | Adult Human Cell Atlas |\n",
       "| Skin                |  88 | Adult Human Cell Atlas |\n",
       "| Muscle              |  27 | Adult Human Cell Atlas |\n",
       "| Rectum              |  61 | Adult Human Cell Atlas |\n",
       "| Trachea             |  60 | Adult Human Cell Atlas |\n",
       "| Heart               | 107 | Adult Human Cell Atlas |\n",
       "| Bladder             |   6 | Adult Human Cell Atlas |\n",
       "| Shared by 7 tissues | 256 | Adult Human Cell Atlas |\n",
       "| Shared by 6 tissues | 179 | Adult Human Cell Atlas |\n",
       "| Shared by 5 tissues | 146 | Adult Human Cell Atlas |\n",
       "| Shared by 4 tissues | 210 | Adult Human Cell Atlas |\n",
       "| Shared by 2 tissues | 480 | Adult Human Cell Atlas |\n",
       "| Shared by 3 tissues | 274 | Adult Human Cell Atlas |\n",
       "\n"
      ],
      "text/plain": [
       "   Tissue              N   Study                 \n",
       "1  Esophagus           708 Adult Human Cell Atlas\n",
       "2  Skin                 88 Adult Human Cell Atlas\n",
       "3  Muscle               27 Adult Human Cell Atlas\n",
       "4  Rectum               61 Adult Human Cell Atlas\n",
       "5  Trachea              60 Adult Human Cell Atlas\n",
       "6  Heart               107 Adult Human Cell Atlas\n",
       "7  Bladder               6 Adult Human Cell Atlas\n",
       "8  Shared by 7 tissues 256 Adult Human Cell Atlas\n",
       "9  Shared by 6 tissues 179 Adult Human Cell Atlas\n",
       "10 Shared by 5 tissues 146 Adult Human Cell Atlas\n",
       "11 Shared by 4 tissues 210 Adult Human Cell Atlas\n",
       "12 Shared by 2 tissues 480 Adult Human Cell Atlas\n",
       "13 Shared by 3 tissues 274 Adult Human Cell Atlas"
      ]
     },
     "metadata": {},
     "output_type": "display_data"
    }
   ],
   "source": [
    "nshared <- data.table(effects_ahca)[\n",
    "    ## marker is upregulated in all tissues for that cluster\n",
    "    , sum(padj < .05 & beta > 0), by = .(Cluster, feature)\n",
    "][V1 > 1 & Cluster == 'fibroblast'] %>% nrow\n",
    "\n",
    "genes <- data.table(effects_ahca)[\n",
    "    ## marker is upregulated in all tissues for that cluster\n",
    "    , sum(padj < .05 & beta > 0), by = .(Cluster, feature)\n",
    "][V1 == 1 & Cluster == 'fibroblast', feature]\n",
    "\n",
    "df_ahca <- data.table(effects_ahca)[\n",
    "    ## marker is upregulated in all tissues for that cluster\n",
    "    padj < .05 & beta > 0 & feature %in% genes & Cluster == 'fibroblast', .N, by = tissue\n",
    "] %>% \n",
    "#     rbind(tibble(tissue = 'SHARED', N = nshared)) %>% \n",
    "    rbind(\n",
    "        data.table(effects_ahca)[\n",
    "            ## marker is upregulated in all tissues for that cluster\n",
    "            , sum(padj < .05 & beta > 0), by = .(Cluster, feature)\n",
    "        ][V1 > 1 & Cluster == 'fibroblast'][, .N, by = V1][, .(tissue = sprintf('Shared by %d tissues', V1), N)][]\n",
    "    ) %>% \n",
    "    dplyr::mutate(Study = 'Adult Human Cell Atlas') %>% \n",
    "    dplyr::rename(Tissue = tissue)\n",
    "\n",
    "df_ahca"
   ]
  },
  {
   "cell_type": "code",
   "execution_count": 35,
   "id": "ab2a569e-a137-4aed-b6e9-a3c4f83ee582",
   "metadata": {},
   "outputs": [
    {
     "data": {
      "text/html": [
       "<table class=\"dataframe\">\n",
       "<caption>A data.table: 13 × 3</caption>\n",
       "<thead>\n",
       "\t<tr><th scope=col>Tissue</th><th scope=col>N</th><th scope=col>Study</th></tr>\n",
       "\t<tr><th scope=col>&lt;chr&gt;</th><th scope=col>&lt;int&gt;</th><th scope=col>&lt;chr&gt;</th></tr>\n",
       "</thead>\n",
       "<tbody>\n",
       "\t<tr><td>Esophagus          </td><td>708</td><td>Adult Human Cell Atlas</td></tr>\n",
       "\t<tr><td>Skin               </td><td> 88</td><td>Adult Human Cell Atlas</td></tr>\n",
       "\t<tr><td>Muscle             </td><td> 27</td><td>Adult Human Cell Atlas</td></tr>\n",
       "\t<tr><td>Rectum             </td><td> 61</td><td>Adult Human Cell Atlas</td></tr>\n",
       "\t<tr><td>Trachea            </td><td> 60</td><td>Adult Human Cell Atlas</td></tr>\n",
       "\t<tr><td>Heart              </td><td>107</td><td>Adult Human Cell Atlas</td></tr>\n",
       "\t<tr><td>Bladder            </td><td>  6</td><td>Adult Human Cell Atlas</td></tr>\n",
       "\t<tr><td>Shared by 7 tissues</td><td>256</td><td>Adult Human Cell Atlas</td></tr>\n",
       "\t<tr><td>Shared by 6 tissues</td><td>179</td><td>Adult Human Cell Atlas</td></tr>\n",
       "\t<tr><td>Shared by 5 tissues</td><td>146</td><td>Adult Human Cell Atlas</td></tr>\n",
       "\t<tr><td>Shared by 4 tissues</td><td>210</td><td>Adult Human Cell Atlas</td></tr>\n",
       "\t<tr><td>Shared by 2 tissues</td><td>480</td><td>Adult Human Cell Atlas</td></tr>\n",
       "\t<tr><td>Shared by 3 tissues</td><td>274</td><td>Adult Human Cell Atlas</td></tr>\n",
       "</tbody>\n",
       "</table>\n"
      ],
      "text/latex": [
       "A data.table: 13 × 3\n",
       "\\begin{tabular}{lll}\n",
       " Tissue & N & Study\\\\\n",
       " <chr> & <int> & <chr>\\\\\n",
       "\\hline\n",
       "\t Esophagus           & 708 & Adult Human Cell Atlas\\\\\n",
       "\t Skin                &  88 & Adult Human Cell Atlas\\\\\n",
       "\t Muscle              &  27 & Adult Human Cell Atlas\\\\\n",
       "\t Rectum              &  61 & Adult Human Cell Atlas\\\\\n",
       "\t Trachea             &  60 & Adult Human Cell Atlas\\\\\n",
       "\t Heart               & 107 & Adult Human Cell Atlas\\\\\n",
       "\t Bladder             &   6 & Adult Human Cell Atlas\\\\\n",
       "\t Shared by 7 tissues & 256 & Adult Human Cell Atlas\\\\\n",
       "\t Shared by 6 tissues & 179 & Adult Human Cell Atlas\\\\\n",
       "\t Shared by 5 tissues & 146 & Adult Human Cell Atlas\\\\\n",
       "\t Shared by 4 tissues & 210 & Adult Human Cell Atlas\\\\\n",
       "\t Shared by 2 tissues & 480 & Adult Human Cell Atlas\\\\\n",
       "\t Shared by 3 tissues & 274 & Adult Human Cell Atlas\\\\\n",
       "\\end{tabular}\n"
      ],
      "text/markdown": [
       "\n",
       "A data.table: 13 × 3\n",
       "\n",
       "| Tissue &lt;chr&gt; | N &lt;int&gt; | Study &lt;chr&gt; |\n",
       "|---|---|---|\n",
       "| Esophagus           | 708 | Adult Human Cell Atlas |\n",
       "| Skin                |  88 | Adult Human Cell Atlas |\n",
       "| Muscle              |  27 | Adult Human Cell Atlas |\n",
       "| Rectum              |  61 | Adult Human Cell Atlas |\n",
       "| Trachea             |  60 | Adult Human Cell Atlas |\n",
       "| Heart               | 107 | Adult Human Cell Atlas |\n",
       "| Bladder             |   6 | Adult Human Cell Atlas |\n",
       "| Shared by 7 tissues | 256 | Adult Human Cell Atlas |\n",
       "| Shared by 6 tissues | 179 | Adult Human Cell Atlas |\n",
       "| Shared by 5 tissues | 146 | Adult Human Cell Atlas |\n",
       "| Shared by 4 tissues | 210 | Adult Human Cell Atlas |\n",
       "| Shared by 2 tissues | 480 | Adult Human Cell Atlas |\n",
       "| Shared by 3 tissues | 274 | Adult Human Cell Atlas |\n",
       "\n"
      ],
      "text/plain": [
       "   Tissue              N   Study                 \n",
       "1  Esophagus           708 Adult Human Cell Atlas\n",
       "2  Skin                 88 Adult Human Cell Atlas\n",
       "3  Muscle               27 Adult Human Cell Atlas\n",
       "4  Rectum               61 Adult Human Cell Atlas\n",
       "5  Trachea              60 Adult Human Cell Atlas\n",
       "6  Heart               107 Adult Human Cell Atlas\n",
       "7  Bladder               6 Adult Human Cell Atlas\n",
       "8  Shared by 7 tissues 256 Adult Human Cell Atlas\n",
       "9  Shared by 6 tissues 179 Adult Human Cell Atlas\n",
       "10 Shared by 5 tissues 146 Adult Human Cell Atlas\n",
       "11 Shared by 4 tissues 210 Adult Human Cell Atlas\n",
       "12 Shared by 2 tissues 480 Adult Human Cell Atlas\n",
       "13 Shared by 3 tissues 274 Adult Human Cell Atlas"
      ]
     },
     "metadata": {},
     "output_type": "display_data"
    },
    {
     "data": {
      "text/html": [
       "<table class=\"dataframe\">\n",
       "<caption>A data.table: 13 × 3</caption>\n",
       "<thead>\n",
       "\t<tr><th scope=col>Tissue</th><th scope=col>N</th><th scope=col>Study</th></tr>\n",
       "\t<tr><th scope=col>&lt;chr&gt;</th><th scope=col>&lt;int&gt;</th><th scope=col>&lt;chr&gt;</th></tr>\n",
       "</thead>\n",
       "<tbody>\n",
       "\t<tr><td>Thymus             </td><td>349</td><td>Tabula Sapiens</td></tr>\n",
       "\t<tr><td>Bladder            </td><td>237</td><td>Tabula Sapiens</td></tr>\n",
       "\t<tr><td>Lung               </td><td> 90</td><td>Tabula Sapiens</td></tr>\n",
       "\t<tr><td>Trachea            </td><td> 71</td><td>Tabula Sapiens</td></tr>\n",
       "\t<tr><td>Large_Intestine    </td><td>186</td><td>Tabula Sapiens</td></tr>\n",
       "\t<tr><td>Vasculature        </td><td>  2</td><td>Tabula Sapiens</td></tr>\n",
       "\t<tr><td>Muscle             </td><td>  1</td><td>Tabula Sapiens</td></tr>\n",
       "\t<tr><td>Shared by 5 tissues</td><td>183</td><td>Tabula Sapiens</td></tr>\n",
       "\t<tr><td>Shared by 4 tissues</td><td>141</td><td>Tabula Sapiens</td></tr>\n",
       "\t<tr><td>Shared by 2 tissues</td><td>407</td><td>Tabula Sapiens</td></tr>\n",
       "\t<tr><td>Shared by 3 tissues</td><td>224</td><td>Tabula Sapiens</td></tr>\n",
       "\t<tr><td>Shared by 6 tissues</td><td> 73</td><td>Tabula Sapiens</td></tr>\n",
       "\t<tr><td>Shared by 7 tissues</td><td>357</td><td>Tabula Sapiens</td></tr>\n",
       "</tbody>\n",
       "</table>\n"
      ],
      "text/latex": [
       "A data.table: 13 × 3\n",
       "\\begin{tabular}{lll}\n",
       " Tissue & N & Study\\\\\n",
       " <chr> & <int> & <chr>\\\\\n",
       "\\hline\n",
       "\t Thymus              & 349 & Tabula Sapiens\\\\\n",
       "\t Bladder             & 237 & Tabula Sapiens\\\\\n",
       "\t Lung                &  90 & Tabula Sapiens\\\\\n",
       "\t Trachea             &  71 & Tabula Sapiens\\\\\n",
       "\t Large\\_Intestine     & 186 & Tabula Sapiens\\\\\n",
       "\t Vasculature         &   2 & Tabula Sapiens\\\\\n",
       "\t Muscle              &   1 & Tabula Sapiens\\\\\n",
       "\t Shared by 5 tissues & 183 & Tabula Sapiens\\\\\n",
       "\t Shared by 4 tissues & 141 & Tabula Sapiens\\\\\n",
       "\t Shared by 2 tissues & 407 & Tabula Sapiens\\\\\n",
       "\t Shared by 3 tissues & 224 & Tabula Sapiens\\\\\n",
       "\t Shared by 6 tissues &  73 & Tabula Sapiens\\\\\n",
       "\t Shared by 7 tissues & 357 & Tabula Sapiens\\\\\n",
       "\\end{tabular}\n"
      ],
      "text/markdown": [
       "\n",
       "A data.table: 13 × 3\n",
       "\n",
       "| Tissue &lt;chr&gt; | N &lt;int&gt; | Study &lt;chr&gt; |\n",
       "|---|---|---|\n",
       "| Thymus              | 349 | Tabula Sapiens |\n",
       "| Bladder             | 237 | Tabula Sapiens |\n",
       "| Lung                |  90 | Tabula Sapiens |\n",
       "| Trachea             |  71 | Tabula Sapiens |\n",
       "| Large_Intestine     | 186 | Tabula Sapiens |\n",
       "| Vasculature         |   2 | Tabula Sapiens |\n",
       "| Muscle              |   1 | Tabula Sapiens |\n",
       "| Shared by 5 tissues | 183 | Tabula Sapiens |\n",
       "| Shared by 4 tissues | 141 | Tabula Sapiens |\n",
       "| Shared by 2 tissues | 407 | Tabula Sapiens |\n",
       "| Shared by 3 tissues | 224 | Tabula Sapiens |\n",
       "| Shared by 6 tissues |  73 | Tabula Sapiens |\n",
       "| Shared by 7 tissues | 357 | Tabula Sapiens |\n",
       "\n"
      ],
      "text/plain": [
       "   Tissue              N   Study         \n",
       "1  Thymus              349 Tabula Sapiens\n",
       "2  Bladder             237 Tabula Sapiens\n",
       "3  Lung                 90 Tabula Sapiens\n",
       "4  Trachea              71 Tabula Sapiens\n",
       "5  Large_Intestine     186 Tabula Sapiens\n",
       "6  Vasculature           2 Tabula Sapiens\n",
       "7  Muscle                1 Tabula Sapiens\n",
       "8  Shared by 5 tissues 183 Tabula Sapiens\n",
       "9  Shared by 4 tissues 141 Tabula Sapiens\n",
       "10 Shared by 2 tissues 407 Tabula Sapiens\n",
       "11 Shared by 3 tissues 224 Tabula Sapiens\n",
       "12 Shared by 6 tissues  73 Tabula Sapiens\n",
       "13 Shared by 7 tissues 357 Tabula Sapiens"
      ]
     },
     "metadata": {},
     "output_type": "display_data"
    }
   ],
   "source": [
    "df_ahca\n",
    "df_ts"
   ]
  },
  {
   "cell_type": "code",
   "execution_count": 30,
   "id": "5a4c9d01-b47a-43eb-a2aa-4650973d1900",
   "metadata": {},
   "outputs": [
    {
     "data": {
      "text/html": [
       "2602"
      ],
      "text/latex": [
       "2602"
      ],
      "text/markdown": [
       "2602"
      ],
      "text/plain": [
       "[1] 2602"
      ]
     },
     "metadata": {},
     "output_type": "display_data"
    },
    {
     "data": {
      "text/html": [
       "2321"
      ],
      "text/latex": [
       "2321"
      ],
      "text/markdown": [
       "2321"
      ],
      "text/plain": [
       "[1] 2321"
      ]
     },
     "metadata": {},
     "output_type": "display_data"
    }
   ],
   "source": [
    "sum(df_ahca$N)\n",
    "sum(df_ts$N)"
   ]
  },
  {
   "cell_type": "markdown",
   "id": "0b362a29-df65-4773-90bf-c137fc92b46c",
   "metadata": {},
   "source": [
    "### Plot"
   ]
  },
  {
   "cell_type": "code",
   "execution_count": 12,
   "id": "c3ee03db-3e96-4f60-b244-5229a44fc198",
   "metadata": {},
   "outputs": [
    {
     "data": {
      "text/html": [
       "<style>\n",
       ".list-inline {list-style: none; margin:0; padding: 0}\n",
       ".list-inline>li {display: inline-block}\n",
       ".list-inline>li:not(:last-child)::after {content: \"\\00b7\"; padding: 0 .5ex}\n",
       "</style>\n",
       "<ol class=list-inline><li>'Adult Human Cell Atlas'</li><li>'Tabula Sapiens'</li></ol>\n"
      ],
      "text/latex": [
       "\\begin{enumerate*}\n",
       "\\item 'Adult Human Cell Atlas'\n",
       "\\item 'Tabula Sapiens'\n",
       "\\end{enumerate*}\n"
      ],
      "text/markdown": [
       "1. 'Adult Human Cell Atlas'\n",
       "2. 'Tabula Sapiens'\n",
       "\n",
       "\n"
      ],
      "text/plain": [
       "[1] \"Adult Human Cell Atlas\" \"Tabula Sapiens\"        "
      ]
     },
     "metadata": {},
     "output_type": "display_data"
    }
   ],
   "source": [
    "# bind_rows(list(df_ahca, df_mca, df_tm, df_ts)) %>% with(unique(Study))\n",
    "bind_rows(list(df_ahca, df_ts)) %>% with(unique(Study))"
   ]
  },
  {
   "cell_type": "code",
   "execution_count": 13,
   "id": "3c630dd5-774f-4e48-85de-ecd1850f8f61",
   "metadata": {},
   "outputs": [
    {
     "data": {
      "text/html": [
       "1057"
      ],
      "text/latex": [
       "1057"
      ],
      "text/markdown": [
       "1057"
      ],
      "text/plain": [
       "[1] 1057"
      ]
     },
     "metadata": {},
     "output_type": "display_data"
    }
   ],
   "source": [
    "df_ahca %>% subset(!grepl('Shared', Tissue))  %>% with(sum(N)) "
   ]
  },
  {
   "cell_type": "code",
   "execution_count": 14,
   "id": "ec8295de-0706-4cbf-a552-be18f5997974",
   "metadata": {},
   "outputs": [
    {
     "data": {
      "text/html": [
       "936"
      ],
      "text/latex": [
       "936"
      ],
      "text/markdown": [
       "936"
      ],
      "text/plain": [
       "[1] 936"
      ]
     },
     "metadata": {},
     "output_type": "display_data"
    }
   ],
   "source": [
    "df_ts %>% subset(!grepl('Shared', Tissue))  %>% with(sum(N)) "
   ]
  },
  {
   "cell_type": "code",
   "execution_count": 15,
   "id": "dc917251-a9be-44f9-8014-a5cb97a33941",
   "metadata": {},
   "outputs": [
    {
     "data": {
      "text/html": [
       "2321"
      ],
      "text/latex": [
       "2321"
      ],
      "text/markdown": [
       "2321"
      ],
      "text/plain": [
       "[1] 2321"
      ]
     },
     "metadata": {},
     "output_type": "display_data"
    }
   ],
   "source": [
    "sum(df_ts$N)"
   ]
  },
  {
   "cell_type": "code",
   "execution_count": 16,
   "id": "647deb12-39a1-4f45-80c2-75ada6955ba7",
   "metadata": {},
   "outputs": [
    {
     "name": "stderr",
     "output_type": "stream",
     "text": [
      "Warning message:\n",
      "“`guides(<scale> = FALSE)` is deprecated. Please use `guides(<scale> = \"none\")` instead.”\n"
     ]
    },
    {
     "data": {
      "image/png": "[encoded data removed]",
      "text/plain": [
       "plot without title"
      ]
     },
     "metadata": {
      "image/png": {
       "height": 240,
       "width": 480
      }
     },
     "output_type": "display_data"
    }
   ],
   "source": [
    "fig.size(4, 8)\n",
    "p1 <- bind_rows(list(df_ahca, df_ts)) %>% \n",
    "# bind_rows(list(df_ahca, df_mca, df_tm, df_ts)) %>% \n",
    "#     dplyr::mutate(Study = factor(Study, c('Adult Human Cell Atlas', 'Tabula Sapiens', 'Mouse Cell Atlas', 'Tabula Muris'))) %>% \n",
    "#     ggplot(aes(reorder(V1, V1), N, fill = label)) + \n",
    "    ggplot(aes(reorder(Tissue, grepl('Shared', Tissue)), N, fill = grepl('Shared', Tissue))) + \n",
    "#     ggplot(aes(reorder(Tissue, N), N, fill = grepl('Shared', Tissue))) + \n",
    "        geom_bar(stat = 'identity') + \n",
    "        theme_tufte(base_size = 14) + geom_rangeframe() + \n",
    "        labs(x = '', y = 'Number of markers', fill = 'Category', title = 'Number of fibroblast markers by tissue') + \n",
    "        scale_fill_manual(values = c('grey', muted('red'))) + \n",
    "#         scale_fill_manual(values = c(muted('red'), 'grey', muted('blue'))) + \n",
    "#         labs(title = 'Adult Human Cell Atlas') + \n",
    "        facet_wrap(~Study, scales = 'free_x') + \n",
    "        guides(fill = FALSE) + \n",
    "        theme(axis.text.x = element_text(angle = 90, hjust = 1)) + \n",
    "#         facet_grid(~Study, scales='free', space='free') + \n",
    "        NULL\n",
    "\n",
    "p1"
   ]
  },
  {
   "cell_type": "markdown",
   "id": "46b73cc5-7675-4d78-8d57-ad4963227b86",
   "metadata": {},
   "source": [
    "### Shannon's genes"
   ]
  },
  {
   "cell_type": "code",
   "execution_count": 17,
   "id": "d62ae615-1aac-45da-ab7e-40f66ae4207c",
   "metadata": {},
   "outputs": [
    {
     "data": {
      "text/html": [
       "<table class=\"dataframe\">\n",
       "<caption>A tibble: 21 × 10</caption>\n",
       "<thead>\n",
       "\t<tr><th scope=col>contrast</th><th scope=col>Cluster</th><th scope=col>tissue</th><th scope=col>feature</th><th scope=col>beta</th><th scope=col>sigma</th><th scope=col>zscore</th><th scope=col>pvalue</th><th scope=col>padj</th><th scope=col>X</th></tr>\n",
       "\t<tr><th scope=col>&lt;chr&gt;</th><th scope=col>&lt;chr&gt;</th><th scope=col>&lt;chr&gt;</th><th scope=col>&lt;chr&gt;</th><th scope=col>&lt;dbl&gt;</th><th scope=col>&lt;dbl&gt;</th><th scope=col>&lt;dbl&gt;</th><th scope=col>&lt;dbl&gt;</th><th scope=col>&lt;dbl&gt;</th><th scope=col>&lt;lgl&gt;</th></tr>\n",
       "</thead>\n",
       "<tbody>\n",
       "\t<tr><td>fibroblast|Heart    </td><td>fibroblast</td><td>Heart    </td><td>DPT   </td><td>4.942657</td><td>0.3881067</td><td>12.735304</td><td>1.881895e-37</td><td>2.015828e-33</td><td>TRUE</td></tr>\n",
       "\t<tr><td>fibroblast|Esophagus</td><td>fibroblast</td><td>Esophagus</td><td>DPT   </td><td>4.587814</td><td>0.4118453</td><td>11.139653</td><td>4.021606e-29</td><td>1.383860e-25</td><td>TRUE</td></tr>\n",
       "\t<tr><td>fibroblast|Trachea  </td><td>fibroblast</td><td>Trachea  </td><td>DPT   </td><td>5.591060</td><td>0.5091049</td><td>10.982137</td><td>2.328869e-28</td><td>7.393156e-25</td><td>TRUE</td></tr>\n",
       "\t<tr><td>fibroblast|Skin     </td><td>fibroblast</td><td>Skin     </td><td>DPT   </td><td>4.915820</td><td>0.4772396</td><td>10.300528</td><td>3.503794e-25</td><td>7.051386e-22</td><td>TRUE</td></tr>\n",
       "\t<tr><td>fibroblast|Rectum   </td><td>fibroblast</td><td>Rectum   </td><td>DPT   </td><td>5.131144</td><td>0.5239466</td><td> 9.793257</td><td>6.017736e-23</td><td>9.103710e-20</td><td>TRUE</td></tr>\n",
       "\t<tr><td>fibroblast|Bladder  </td><td>fibroblast</td><td>Bladder  </td><td>DPT   </td><td>4.554189</td><td>0.4901205</td><td> 9.291979</td><td>7.572308e-21</td><td>8.244195e-18</td><td>TRUE</td></tr>\n",
       "\t<tr><td>fibroblast|Esophagus</td><td>fibroblast</td><td>Esophagus</td><td>PI16  </td><td>5.433726</td><td>0.6147496</td><td> 8.838926</td><td>4.832155e-19</td><td>3.942451e-16</td><td>TRUE</td></tr>\n",
       "\t<tr><td>fibroblast|Muscle   </td><td>fibroblast</td><td>Muscle   </td><td>DPT   </td><td>4.523033</td><td>0.5444912</td><td> 8.306898</td><td>4.911815e-17</td><td>2.856444e-14</td><td>TRUE</td></tr>\n",
       "\t<tr><td>fibroblast|Trachea  </td><td>fibroblast</td><td>Trachea  </td><td>PI16  </td><td>5.816134</td><td>0.7261376</td><td> 8.009686</td><td>5.750099e-16</td><td>2.828729e-13</td><td>TRUE</td></tr>\n",
       "\t<tr><td>fibroblast|Heart    </td><td>fibroblast</td><td>Heart    </td><td>PI16  </td><td>4.948645</td><td>0.6346603</td><td> 7.797314</td><td>3.161943e-15</td><td>1.382439e-12</td><td>TRUE</td></tr>\n",
       "\t<tr><td>fibroblast|Esophagus</td><td>fibroblast</td><td>Esophagus</td><td>COL5A1</td><td>3.221237</td><td>0.4402977</td><td> 7.316043</td><td>1.276948e-13</td><td>4.169386e-11</td><td>TRUE</td></tr>\n",
       "\t<tr><td>fibroblast|Skin     </td><td>fibroblast</td><td>Skin     </td><td>PI16  </td><td>5.101105</td><td>0.7100429</td><td> 7.184221</td><td>3.379583e-13</td><td>1.011932e-10</td><td>TRUE</td></tr>\n",
       "\t<tr><td>fibroblast|Bladder  </td><td>fibroblast</td><td>Bladder  </td><td>PI16  </td><td>4.746137</td><td>0.7153777</td><td> 6.634449</td><td>1.628588e-11</td><td>3.435787e-09</td><td>TRUE</td></tr>\n",
       "\t<tr><td>fibroblast|Muscle   </td><td>fibroblast</td><td>Muscle   </td><td>PI16  </td><td>4.787015</td><td>0.7290300</td><td> 6.566280</td><td>2.579387e-11</td><td>5.253099e-09</td><td>TRUE</td></tr>\n",
       "\t<tr><td>fibroblast|Rectum   </td><td>fibroblast</td><td>Rectum   </td><td>PI16  </td><td>4.872118</td><td>0.8053431</td><td> 6.049743</td><td>7.253877e-10</td><td>1.072219e-07</td><td>TRUE</td></tr>\n",
       "\t<tr><td>fibroblast|Trachea  </td><td>fibroblast</td><td>Trachea  </td><td>COL5A1</td><td>3.199001</td><td>0.6577613</td><td> 4.863468</td><td>5.767338e-07</td><td>4.133643e-05</td><td>TRUE</td></tr>\n",
       "\t<tr><td>fibroblast|Rectum   </td><td>fibroblast</td><td>Rectum   </td><td>COL5A1</td><td>2.964853</td><td>0.6740345</td><td> 4.398666</td><td>5.445906e-06</td><td>2.903631e-04</td><td>TRUE</td></tr>\n",
       "\t<tr><td>fibroblast|Heart    </td><td>fibroblast</td><td>Heart    </td><td>COL5A1</td><td>2.484072</td><td>0.6355982</td><td> 3.908242</td><td>4.648512e-05</td><td>1.825553e-03</td><td>TRUE</td></tr>\n",
       "\t<tr><td>fibroblast|Skin     </td><td>fibroblast</td><td>Skin     </td><td>COL5A1</td><td>2.629047</td><td>0.6726996</td><td> 3.908204</td><td>4.649247e-05</td><td>1.825595e-03</td><td>TRUE</td></tr>\n",
       "\t<tr><td>fibroblast|Bladder  </td><td>fibroblast</td><td>Bladder  </td><td>COL5A1</td><td>2.200646</td><td>0.6512961</td><td> 3.378871</td><td>3.639210e-04</td><td>1.009435e-02</td><td>TRUE</td></tr>\n",
       "\t<tr><td>fibroblast|Muscle   </td><td>fibroblast</td><td>Muscle   </td><td>COL5A1</td><td>1.020113</td><td>0.7777453</td><td> 1.311629</td><td>9.482274e-02</td><td>5.908960e-01</td><td>TRUE</td></tr>\n",
       "</tbody>\n",
       "</table>\n"
      ],
      "text/latex": [
       "A tibble: 21 × 10\n",
       "\\begin{tabular}{llllllllll}\n",
       " contrast & Cluster & tissue & feature & beta & sigma & zscore & pvalue & padj & X\\\\\n",
       " <chr> & <chr> & <chr> & <chr> & <dbl> & <dbl> & <dbl> & <dbl> & <dbl> & <lgl>\\\\\n",
       "\\hline\n",
       "\t fibroblast\\textbar{}Heart     & fibroblast & Heart     & DPT    & 4.942657 & 0.3881067 & 12.735304 & 1.881895e-37 & 2.015828e-33 & TRUE\\\\\n",
       "\t fibroblast\\textbar{}Esophagus & fibroblast & Esophagus & DPT    & 4.587814 & 0.4118453 & 11.139653 & 4.021606e-29 & 1.383860e-25 & TRUE\\\\\n",
       "\t fibroblast\\textbar{}Trachea   & fibroblast & Trachea   & DPT    & 5.591060 & 0.5091049 & 10.982137 & 2.328869e-28 & 7.393156e-25 & TRUE\\\\\n",
       "\t fibroblast\\textbar{}Skin      & fibroblast & Skin      & DPT    & 4.915820 & 0.4772396 & 10.300528 & 3.503794e-25 & 7.051386e-22 & TRUE\\\\\n",
       "\t fibroblast\\textbar{}Rectum    & fibroblast & Rectum    & DPT    & 5.131144 & 0.5239466 &  9.793257 & 6.017736e-23 & 9.103710e-20 & TRUE\\\\\n",
       "\t fibroblast\\textbar{}Bladder   & fibroblast & Bladder   & DPT    & 4.554189 & 0.4901205 &  9.291979 & 7.572308e-21 & 8.244195e-18 & TRUE\\\\\n",
       "\t fibroblast\\textbar{}Esophagus & fibroblast & Esophagus & PI16   & 5.433726 & 0.6147496 &  8.838926 & 4.832155e-19 & 3.942451e-16 & TRUE\\\\\n",
       "\t fibroblast\\textbar{}Muscle    & fibroblast & Muscle    & DPT    & 4.523033 & 0.5444912 &  8.306898 & 4.911815e-17 & 2.856444e-14 & TRUE\\\\\n",
       "\t fibroblast\\textbar{}Trachea   & fibroblast & Trachea   & PI16   & 5.816134 & 0.7261376 &  8.009686 & 5.750099e-16 & 2.828729e-13 & TRUE\\\\\n",
       "\t fibroblast\\textbar{}Heart     & fibroblast & Heart     & PI16   & 4.948645 & 0.6346603 &  7.797314 & 3.161943e-15 & 1.382439e-12 & TRUE\\\\\n",
       "\t fibroblast\\textbar{}Esophagus & fibroblast & Esophagus & COL5A1 & 3.221237 & 0.4402977 &  7.316043 & 1.276948e-13 & 4.169386e-11 & TRUE\\\\\n",
       "\t fibroblast\\textbar{}Skin      & fibroblast & Skin      & PI16   & 5.101105 & 0.7100429 &  7.184221 & 3.379583e-13 & 1.011932e-10 & TRUE\\\\\n",
       "\t fibroblast\\textbar{}Bladder   & fibroblast & Bladder   & PI16   & 4.746137 & 0.7153777 &  6.634449 & 1.628588e-11 & 3.435787e-09 & TRUE\\\\\n",
       "\t fibroblast\\textbar{}Muscle    & fibroblast & Muscle    & PI16   & 4.787015 & 0.7290300 &  6.566280 & 2.579387e-11 & 5.253099e-09 & TRUE\\\\\n",
       "\t fibroblast\\textbar{}Rectum    & fibroblast & Rectum    & PI16   & 4.872118 & 0.8053431 &  6.049743 & 7.253877e-10 & 1.072219e-07 & TRUE\\\\\n",
       "\t fibroblast\\textbar{}Trachea   & fibroblast & Trachea   & COL5A1 & 3.199001 & 0.6577613 &  4.863468 & 5.767338e-07 & 4.133643e-05 & TRUE\\\\\n",
       "\t fibroblast\\textbar{}Rectum    & fibroblast & Rectum    & COL5A1 & 2.964853 & 0.6740345 &  4.398666 & 5.445906e-06 & 2.903631e-04 & TRUE\\\\\n",
       "\t fibroblast\\textbar{}Heart     & fibroblast & Heart     & COL5A1 & 2.484072 & 0.6355982 &  3.908242 & 4.648512e-05 & 1.825553e-03 & TRUE\\\\\n",
       "\t fibroblast\\textbar{}Skin      & fibroblast & Skin      & COL5A1 & 2.629047 & 0.6726996 &  3.908204 & 4.649247e-05 & 1.825595e-03 & TRUE\\\\\n",
       "\t fibroblast\\textbar{}Bladder   & fibroblast & Bladder   & COL5A1 & 2.200646 & 0.6512961 &  3.378871 & 3.639210e-04 & 1.009435e-02 & TRUE\\\\\n",
       "\t fibroblast\\textbar{}Muscle    & fibroblast & Muscle    & COL5A1 & 1.020113 & 0.7777453 &  1.311629 & 9.482274e-02 & 5.908960e-01 & TRUE\\\\\n",
       "\\end{tabular}\n"
      ],
      "text/markdown": [
       "\n",
       "A tibble: 21 × 10\n",
       "\n",
       "| contrast &lt;chr&gt; | Cluster &lt;chr&gt; | tissue &lt;chr&gt; | feature &lt;chr&gt; | beta &lt;dbl&gt; | sigma &lt;dbl&gt; | zscore &lt;dbl&gt; | pvalue &lt;dbl&gt; | padj &lt;dbl&gt; | X &lt;lgl&gt; |\n",
       "|---|---|---|---|---|---|---|---|---|---|\n",
       "| fibroblast|Heart     | fibroblast | Heart     | DPT    | 4.942657 | 0.3881067 | 12.735304 | 1.881895e-37 | 2.015828e-33 | TRUE |\n",
       "| fibroblast|Esophagus | fibroblast | Esophagus | DPT    | 4.587814 | 0.4118453 | 11.139653 | 4.021606e-29 | 1.383860e-25 | TRUE |\n",
       "| fibroblast|Trachea   | fibroblast | Trachea   | DPT    | 5.591060 | 0.5091049 | 10.982137 | 2.328869e-28 | 7.393156e-25 | TRUE |\n",
       "| fibroblast|Skin      | fibroblast | Skin      | DPT    | 4.915820 | 0.4772396 | 10.300528 | 3.503794e-25 | 7.051386e-22 | TRUE |\n",
       "| fibroblast|Rectum    | fibroblast | Rectum    | DPT    | 5.131144 | 0.5239466 |  9.793257 | 6.017736e-23 | 9.103710e-20 | TRUE |\n",
       "| fibroblast|Bladder   | fibroblast | Bladder   | DPT    | 4.554189 | 0.4901205 |  9.291979 | 7.572308e-21 | 8.244195e-18 | TRUE |\n",
       "| fibroblast|Esophagus | fibroblast | Esophagus | PI16   | 5.433726 | 0.6147496 |  8.838926 | 4.832155e-19 | 3.942451e-16 | TRUE |\n",
       "| fibroblast|Muscle    | fibroblast | Muscle    | DPT    | 4.523033 | 0.5444912 |  8.306898 | 4.911815e-17 | 2.856444e-14 | TRUE |\n",
       "| fibroblast|Trachea   | fibroblast | Trachea   | PI16   | 5.816134 | 0.7261376 |  8.009686 | 5.750099e-16 | 2.828729e-13 | TRUE |\n",
       "| fibroblast|Heart     | fibroblast | Heart     | PI16   | 4.948645 | 0.6346603 |  7.797314 | 3.161943e-15 | 1.382439e-12 | TRUE |\n",
       "| fibroblast|Esophagus | fibroblast | Esophagus | COL5A1 | 3.221237 | 0.4402977 |  7.316043 | 1.276948e-13 | 4.169386e-11 | TRUE |\n",
       "| fibroblast|Skin      | fibroblast | Skin      | PI16   | 5.101105 | 0.7100429 |  7.184221 | 3.379583e-13 | 1.011932e-10 | TRUE |\n",
       "| fibroblast|Bladder   | fibroblast | Bladder   | PI16   | 4.746137 | 0.7153777 |  6.634449 | 1.628588e-11 | 3.435787e-09 | TRUE |\n",
       "| fibroblast|Muscle    | fibroblast | Muscle    | PI16   | 4.787015 | 0.7290300 |  6.566280 | 2.579387e-11 | 5.253099e-09 | TRUE |\n",
       "| fibroblast|Rectum    | fibroblast | Rectum    | PI16   | 4.872118 | 0.8053431 |  6.049743 | 7.253877e-10 | 1.072219e-07 | TRUE |\n",
       "| fibroblast|Trachea   | fibroblast | Trachea   | COL5A1 | 3.199001 | 0.6577613 |  4.863468 | 5.767338e-07 | 4.133643e-05 | TRUE |\n",
       "| fibroblast|Rectum    | fibroblast | Rectum    | COL5A1 | 2.964853 | 0.6740345 |  4.398666 | 5.445906e-06 | 2.903631e-04 | TRUE |\n",
       "| fibroblast|Heart     | fibroblast | Heart     | COL5A1 | 2.484072 | 0.6355982 |  3.908242 | 4.648512e-05 | 1.825553e-03 | TRUE |\n",
       "| fibroblast|Skin      | fibroblast | Skin      | COL5A1 | 2.629047 | 0.6726996 |  3.908204 | 4.649247e-05 | 1.825595e-03 | TRUE |\n",
       "| fibroblast|Bladder   | fibroblast | Bladder   | COL5A1 | 2.200646 | 0.6512961 |  3.378871 | 3.639210e-04 | 1.009435e-02 | TRUE |\n",
       "| fibroblast|Muscle    | fibroblast | Muscle    | COL5A1 | 1.020113 | 0.7777453 |  1.311629 | 9.482274e-02 | 5.908960e-01 | TRUE |\n",
       "\n"
      ],
      "text/plain": [
       "   contrast             Cluster    tissue    feature beta     sigma    \n",
       "1  fibroblast|Heart     fibroblast Heart     DPT     4.942657 0.3881067\n",
       "2  fibroblast|Esophagus fibroblast Esophagus DPT     4.587814 0.4118453\n",
       "3  fibroblast|Trachea   fibroblast Trachea   DPT     5.591060 0.5091049\n",
       "4  fibroblast|Skin      fibroblast Skin      DPT     4.915820 0.4772396\n",
       "5  fibroblast|Rectum    fibroblast Rectum    DPT     5.131144 0.5239466\n",
       "6  fibroblast|Bladder   fibroblast Bladder   DPT     4.554189 0.4901205\n",
       "7  fibroblast|Esophagus fibroblast Esophagus PI16    5.433726 0.6147496\n",
       "8  fibroblast|Muscle    fibroblast Muscle    DPT     4.523033 0.5444912\n",
       "9  fibroblast|Trachea   fibroblast Trachea   PI16    5.816134 0.7261376\n",
       "10 fibroblast|Heart     fibroblast Heart     PI16    4.948645 0.6346603\n",
       "11 fibroblast|Esophagus fibroblast Esophagus COL5A1  3.221237 0.4402977\n",
       "12 fibroblast|Skin      fibroblast Skin      PI16    5.101105 0.7100429\n",
       "13 fibroblast|Bladder   fibroblast Bladder   PI16    4.746137 0.7153777\n",
       "14 fibroblast|Muscle    fibroblast Muscle    PI16    4.787015 0.7290300\n",
       "15 fibroblast|Rectum    fibroblast Rectum    PI16    4.872118 0.8053431\n",
       "16 fibroblast|Trachea   fibroblast Trachea   COL5A1  3.199001 0.6577613\n",
       "17 fibroblast|Rectum    fibroblast Rectum    COL5A1  2.964853 0.6740345\n",
       "18 fibroblast|Heart     fibroblast Heart     COL5A1  2.484072 0.6355982\n",
       "19 fibroblast|Skin      fibroblast Skin      COL5A1  2.629047 0.6726996\n",
       "20 fibroblast|Bladder   fibroblast Bladder   COL5A1  2.200646 0.6512961\n",
       "21 fibroblast|Muscle    fibroblast Muscle    COL5A1  1.020113 0.7777453\n",
       "   zscore    pvalue       padj         X   \n",
       "1  12.735304 1.881895e-37 2.015828e-33 TRUE\n",
       "2  11.139653 4.021606e-29 1.383860e-25 TRUE\n",
       "3  10.982137 2.328869e-28 7.393156e-25 TRUE\n",
       "4  10.300528 3.503794e-25 7.051386e-22 TRUE\n",
       "5   9.793257 6.017736e-23 9.103710e-20 TRUE\n",
       "6   9.291979 7.572308e-21 8.244195e-18 TRUE\n",
       "7   8.838926 4.832155e-19 3.942451e-16 TRUE\n",
       "8   8.306898 4.911815e-17 2.856444e-14 TRUE\n",
       "9   8.009686 5.750099e-16 2.828729e-13 TRUE\n",
       "10  7.797314 3.161943e-15 1.382439e-12 TRUE\n",
       "11  7.316043 1.276948e-13 4.169386e-11 TRUE\n",
       "12  7.184221 3.379583e-13 1.011932e-10 TRUE\n",
       "13  6.634449 1.628588e-11 3.435787e-09 TRUE\n",
       "14  6.566280 2.579387e-11 5.253099e-09 TRUE\n",
       "15  6.049743 7.253877e-10 1.072219e-07 TRUE\n",
       "16  4.863468 5.767338e-07 4.133643e-05 TRUE\n",
       "17  4.398666 5.445906e-06 2.903631e-04 TRUE\n",
       "18  3.908242 4.648512e-05 1.825553e-03 TRUE\n",
       "19  3.908204 4.649247e-05 1.825595e-03 TRUE\n",
       "20  3.378871 3.639210e-04 1.009435e-02 TRUE\n",
       "21  1.311629 9.482274e-02 5.908960e-01 TRUE"
      ]
     },
     "metadata": {},
     "output_type": "display_data"
    }
   ],
   "source": [
    "effects_ahca %>% subset(feature %in% c('PI16', 'DPT', 'COL5A1') & Cluster == 'fibroblast') %>% \n",
    "    dplyr::mutate(X = pvalue < .1)\n"
   ]
  },
  {
   "cell_type": "markdown",
   "id": "9d0091dd-2832-495f-b609-a90b01bea451",
   "metadata": {},
   "source": [
    "### Venn"
   ]
  },
  {
   "cell_type": "code",
   "execution_count": 18,
   "id": "d97f1d6a-f49a-46d6-8ecb-4a5397c67ea4",
   "metadata": {},
   "outputs": [
    {
     "data": {
      "image/png": "[encoded data removed]",
      "text/plain": [
       "plot without title"
      ]
     },
     "metadata": {
      "image/png": {
       "height": 240,
       "width": 360
      }
     },
     "output_type": "display_data"
    }
   ],
   "source": [
    "fig.size(4, 6)\n",
    "inner_join(\n",
    "    data.table(effects_ts)[Cluster == 'Stromal'][, .(mean(beta)), by = .(feature)],\n",
    "    data.table(effects_ahca)[Cluster == 'fibroblast'][, .(mean(beta)), by = .(feature)],\n",
    "    by = c('feature'), suffix = c('_ts', '_ahca')\n",
    ") %>% \n",
    "    ggplot(aes(V1_ts, V1_ahca)) + \n",
    "        geom_point(shape = 21) + \n",
    "        labs(x = 'Tabula Sapiens (logFC)', y = 'Adult Human Cell Atlas (logFC)', title = 'Concordance between fibroblast markers') + \n",
    "        geom_hline(yintercept = 0, linetype = 2) + \n",
    "        geom_vline(xintercept = 0, linetype = 2) + \n",
    "        NULL\n"
   ]
  },
  {
   "cell_type": "markdown",
   "id": "39183380-67c6-4c5c-9f86-03568a48bca2",
   "metadata": {},
   "source": [
    "## Pseudobulk heatmaps"
   ]
  },
  {
   "cell_type": "code",
   "execution_count": 19,
   "id": "70ca16f5-6eb9-49a0-a173-fcd0585bfa24",
   "metadata": {},
   "outputs": [],
   "source": [
    "## Get all labels to assign colors \n",
    "all_tissues <- c(\n",
    "    as.character(unique(pb_ts$meta_data$Tissue)), \n",
    "    unique(pb_mca$meta_data$Tissue), \n",
    "    unique(pb_ahca$meta_data$Tissue), \n",
    "    unique(pb_tm$meta_data$Tissue)\n",
    ") %>% unique\n",
    "\n",
    "all_clusters <- c(\n",
    "    as.character(unique(pb_ts$meta_data$CellType)), \n",
    "    unique(pb_mca$meta_data$CellType), \n",
    "    unique(pb_ahca$meta_data$CellType), \n",
    "    unique(pb_tm$meta_data$CellType)\n",
    ") %>% unique\n",
    "\n",
    "# colors <- c(tableau_color_pal()(10), 'grey')\n",
    "# glue(\"\\t{all_clusters} = \\'{colors}\\',\") %>% writeLines\n",
    "\n",
    "# colors <- tableau_color_pal('Tableau 20')(17)\n",
    "# glue(\"\\t{all_tissues} = \\'{colors}\\',\") %>% writeLines\n",
    "\n",
    "# writeLines(paste(glue(\"\\'{all_tissues}\\'\"), collapse = ','))\n",
    "\n"
   ]
  },
  {
   "cell_type": "code",
   "execution_count": 20,
   "id": "14b0b859-27df-4867-9cec-8599715c9014",
   "metadata": {},
   "outputs": [],
   "source": [
    "ht_opt(RESET = TRUE)\n",
    "ht_opt(\"heatmap_column_names_gp\" = gpar(fontsize = 6))\n",
    "ht_opt(\"heatmap_row_names_gp\" = gpar(fontsize = 6))\n",
    "\n",
    "do_heat <- function(pb, .title='') {\n",
    "    ## Synchronize names \n",
    "    pb$meta_data <- pb$meta_data %>% dplyr::mutate(CellType = case_when(\n",
    "        CellType %in% c('Endothelial', 'endothelial') ~ 'Endothelial',\n",
    "        CellType %in% c('Stromal', 'stromal', 'mesenchymal') ~ 'Stromal',\n",
    "        CellType %in% c('mural_muscle', 'muscle_mural') ~ 'Mural_Muscle',\n",
    "        CellType %in% c('Epithelial', 'epithelial') ~ 'Epithelial',\n",
    "        CellType %in% c('Immune', 'immune') ~ 'Immune'\n",
    "    ))\n",
    "\n",
    "    ## Plot the top variable genes in the matrix \n",
    "    genes <- apply(pb$exprs_norm, 1, sd) %>% sort(TRUE) %>% head(1000) %>% names()\n",
    "    X <- pb$exprs_norm[genes, ] %>% t %>% scale %>% t\n",
    "    colnames(X) <- with(pb$meta_data, paste(CellType, Tissue))\n",
    "\n",
    "    fig.size(6, 8)\n",
    "    res <- Heatmap(show_column_names = FALSE, \n",
    "        X, show_row_dend = FALSE, show_row_names = FALSE, use_raster = TRUE,\n",
    "        top_annotation = columnAnnotation(df = pb$meta_data[, c('CellType', 'Tissue')], col=palette_heatmap), \n",
    "        name = 'Scaled\\nlog\\nCP10K', column_title = .title\n",
    "    )    \n",
    "    res <- grid.grabExpr(draw(res))\n",
    "    res <- wrap_elements(full = res)\n",
    "    return(res)\n",
    "}\n",
    "\n"
   ]
  },
  {
   "cell_type": "code",
   "execution_count": 21,
   "id": "fe57a3c3-444a-4c2e-b19b-cb9c15d6b7be",
   "metadata": {},
   "outputs": [
    {
     "name": "stderr",
     "output_type": "stream",
     "text": [
      "'magick' package is suggested to install to give better rasterization.\n",
      "\n",
      "Set `ht_opt$message = FALSE` to turn off this message.\n",
      "\n",
      "'magick' package is suggested to install to give better rasterization.\n",
      "\n",
      "Set `ht_opt$message = FALSE` to turn off this message.\n",
      "\n"
     ]
    }
   ],
   "source": [
    "plt_list <- list(\n",
    "    do_heat(pb_ahca, 'Adult Human Cell Atlas'),\n",
    "    do_heat(pb_ts, 'Tabula Sapiens')\n",
    "#     do_heat(pb_tm, 'Tabula Muris'),\n",
    "#     do_heat(pb_mca, 'Mouse Cell Atlas')\n",
    ")\n"
   ]
  },
  {
   "cell_type": "code",
   "execution_count": 22,
   "id": "a48170b0-81ec-4c66-af16-a2d407fb89d8",
   "metadata": {},
   "outputs": [
    {
     "data": {
      "image/png": "[encoded data removed]",
      "text/plain": [
       "plot without title"
      ]
     },
     "metadata": {
      "image/png": {
       "height": 180,
       "width": 420
      }
     },
     "output_type": "display_data"
    }
   ],
   "source": [
    "fig.size(3, 7)\n",
    "p2 <- Reduce(`+`, plt_list) + plot_layout(ncol = 2)\n",
    "p2"
   ]
  },
  {
   "cell_type": "code",
   "execution_count": 23,
   "id": "954dac52-9064-4f06-8ad5-bc948d252971",
   "metadata": {},
   "outputs": [
    {
     "data": {
      "image/png": "[encoded data removed]",
      "text/plain": [
       "plot without title"
      ]
     },
     "metadata": {
      "image/png": {
       "height": 480,
       "width": 720
      }
     },
     "output_type": "display_data"
    }
   ],
   "source": [
    "fig.size(8, 12)\n",
    "(p2 + p1) + plot_layout(heights = c(2, 1)) + plot_annotation(tag_levels = 'a')\n"
   ]
  },
  {
   "cell_type": "markdown",
   "id": "67dc00d2-c3cc-419e-80a8-af8ba44879df",
   "metadata": {
    "toc-hr-collapsed": true
   },
   "source": [
    "## Bulk genes in our single-cell profiles"
   ]
  },
  {
   "cell_type": "code",
   "execution_count": 24,
   "id": "3f243287-943a-4168-92e5-44ac1f07788c",
   "metadata": {},
   "outputs": [
    {
     "data": {
      "text/html": [
       "<table class=\"dataframe\">\n",
       "<caption>A tibble: 6 × 7</caption>\n",
       "<thead>\n",
       "\t<tr><th scope=col>contrast</th><th scope=col>feature</th><th scope=col>beta</th><th scope=col>sigma</th><th scope=col>zscore</th><th scope=col>pvalue</th><th scope=col>Cluster</th></tr>\n",
       "\t<tr><th scope=col>&lt;chr&gt;</th><th scope=col>&lt;chr&gt;</th><th scope=col>&lt;dbl&gt;</th><th scope=col>&lt;dbl&gt;</th><th scope=col>&lt;dbl&gt;</th><th scope=col>&lt;dbl&gt;</th><th scope=col>&lt;chr&gt;</th></tr>\n",
       "</thead>\n",
       "<tbody>\n",
       "\t<tr><td>11</td><td>CCL19  </td><td>4.866968</td><td>0.6387375</td><td>7.619669</td><td>1.271637e-14</td><td>11</td></tr>\n",
       "\t<tr><td>9 </td><td>PCOLCE2</td><td>2.606899</td><td>0.3801777</td><td>6.857055</td><td>3.514730e-12</td><td>9 </td></tr>\n",
       "\t<tr><td>11</td><td>CXCL10 </td><td>4.535924</td><td>0.6722624</td><td>6.747252</td><td>7.533556e-12</td><td>11</td></tr>\n",
       "\t<tr><td>9 </td><td>MFAP5  </td><td>3.019067</td><td>0.4530927</td><td>6.663244</td><td>1.339244e-11</td><td>9 </td></tr>\n",
       "\t<tr><td>9 </td><td>C1QTNF3</td><td>2.525249</td><td>0.3883603</td><td>6.502337</td><td>3.954093e-11</td><td>9 </td></tr>\n",
       "\t<tr><td>9 </td><td>CYP4B1 </td><td>1.912124</td><td>0.3295715</td><td>5.801849</td><td>3.279386e-09</td><td>9 </td></tr>\n",
       "</tbody>\n",
       "</table>\n"
      ],
      "text/latex": [
       "A tibble: 6 × 7\n",
       "\\begin{tabular}{lllllll}\n",
       " contrast & feature & beta & sigma & zscore & pvalue & Cluster\\\\\n",
       " <chr> & <chr> & <dbl> & <dbl> & <dbl> & <dbl> & <chr>\\\\\n",
       "\\hline\n",
       "\t 11 & CCL19   & 4.866968 & 0.6387375 & 7.619669 & 1.271637e-14 & 11\\\\\n",
       "\t 9  & PCOLCE2 & 2.606899 & 0.3801777 & 6.857055 & 3.514730e-12 & 9 \\\\\n",
       "\t 11 & CXCL10  & 4.535924 & 0.6722624 & 6.747252 & 7.533556e-12 & 11\\\\\n",
       "\t 9  & MFAP5   & 3.019067 & 0.4530927 & 6.663244 & 1.339244e-11 & 9 \\\\\n",
       "\t 9  & C1QTNF3 & 2.525249 & 0.3883603 & 6.502337 & 3.954093e-11 & 9 \\\\\n",
       "\t 9  & CYP4B1  & 1.912124 & 0.3295715 & 5.801849 & 3.279386e-09 & 9 \\\\\n",
       "\\end{tabular}\n"
      ],
      "text/markdown": [
       "\n",
       "A tibble: 6 × 7\n",
       "\n",
       "| contrast &lt;chr&gt; | feature &lt;chr&gt; | beta &lt;dbl&gt; | sigma &lt;dbl&gt; | zscore &lt;dbl&gt; | pvalue &lt;dbl&gt; | Cluster &lt;chr&gt; |\n",
       "|---|---|---|---|---|---|---|\n",
       "| 11 | CCL19   | 4.866968 | 0.6387375 | 7.619669 | 1.271637e-14 | 11 |\n",
       "| 9  | PCOLCE2 | 2.606899 | 0.3801777 | 6.857055 | 3.514730e-12 | 9  |\n",
       "| 11 | CXCL10  | 4.535924 | 0.6722624 | 6.747252 | 7.533556e-12 | 11 |\n",
       "| 9  | MFAP5   | 3.019067 | 0.4530927 | 6.663244 | 1.339244e-11 | 9  |\n",
       "| 9  | C1QTNF3 | 2.525249 | 0.3883603 | 6.502337 | 3.954093e-11 | 9  |\n",
       "| 9  | CYP4B1  | 1.912124 | 0.3295715 | 5.801849 | 3.279386e-09 | 9  |\n",
       "\n"
      ],
      "text/plain": [
       "  contrast feature beta     sigma     zscore   pvalue       Cluster\n",
       "1 11       CCL19   4.866968 0.6387375 7.619669 1.271637e-14 11     \n",
       "2 9        PCOLCE2 2.606899 0.3801777 6.857055 3.514730e-12 9      \n",
       "3 11       CXCL10  4.535924 0.6722624 6.747252 7.533556e-12 11     \n",
       "4 9        MFAP5   3.019067 0.4530927 6.663244 1.339244e-11 9      \n",
       "5 9        C1QTNF3 2.525249 0.3883603 6.502337 3.954093e-11 9      \n",
       "6 9        CYP4B1  1.912124 0.3295715 5.801849 3.279386e-09 9      "
      ]
     },
     "metadata": {},
     "output_type": "display_data"
    }
   ],
   "source": [
    "roche <- readRDS('/data/srlab2/ik936/Roche/data/cache/obj_fibroblasts/effects_marginal.rds')\n",
    "head(roche)"
   ]
  },
  {
   "cell_type": "code",
   "execution_count": 25,
   "id": "b66f564f-2c60-4c73-8d10-f4f5d24c0281",
   "metadata": {},
   "outputs": [
    {
     "data": {
      "text/plain": [
       "Cluster\n",
       " 10   8   9  13   4  11   5   6   3  12   1   7   2   0 \n",
       "661 620 407 330 289 260 241 137  76  58  53  51  30  17 "
      ]
     },
     "metadata": {},
     "output_type": "display_data"
    }
   ],
   "source": [
    "roche %>% \n",
    "    subset(pvalue < .05 & beta > 0) %>% \n",
    "    with(table(Cluster)) %>% sort(TRUE)\n"
   ]
  },
  {
   "cell_type": "markdown",
   "id": "c3954988-d1b3-41e4-ada6-fdc3ab8a9451",
   "metadata": {},
   "source": [
    "### AHCA"
   ]
  },
  {
   "cell_type": "code",
   "execution_count": 26,
   "id": "fb531951-a7a4-4e73-828d-a2eb02497bd9",
   "metadata": {},
   "outputs": [
    {
     "data": {
      "text/html": [
       "256"
      ],
      "text/latex": [
       "256"
      ],
      "text/markdown": [
       "256"
      ],
      "text/plain": [
       "[1] 256"
      ]
     },
     "metadata": {},
     "output_type": "display_data"
    },
    {
     "data": {
      "text/plain": [
       "Cluster\n",
       " 5  9  4  1 11  8  7  3 10 13  0 12  2  6 \n",
       "62 59 25 11 10  9  6  5  1  1  0  0  0  0 "
      ]
     },
     "metadata": {},
     "output_type": "display_data"
    }
   ],
   "source": [
    "df <- data.table(effects_ahca)[\n",
    "    ## marker is upregulated in all tissues for that cluster\n",
    "    , sum(padj < .05 & beta > 0), by = .(Cluster, feature)\n",
    "][V1 > 0 & Cluster == 'fibroblast'][V1 == 7][, Cluster := NULL][]\n",
    "\n",
    "nrow(df)\n",
    "\n",
    "df %>% \n",
    "    left_join(roche, by = 'feature') %>% \n",
    "    dplyr::mutate(Cluster = factor(Cluster)) %>% \n",
    "    subset(pvalue < .05 & beta > 0) %>% \n",
    "    with(table(Cluster)) %>% sort(TRUE) \n"
   ]
  },
  {
   "cell_type": "markdown",
   "id": "66c706e6-d913-4d10-a9d1-7b3834be6f73",
   "metadata": {},
   "source": [
    "### Tabula Sapiens"
   ]
  },
  {
   "cell_type": "code",
   "execution_count": 27,
   "id": "23ba815a-3c7b-422d-80e0-e5faaee524f8",
   "metadata": {},
   "outputs": [
    {
     "data": {
      "text/html": [
       "357"
      ],
      "text/latex": [
       "357"
      ],
      "text/markdown": [
       "357"
      ],
      "text/plain": [
       "[1] 357"
      ]
     },
     "metadata": {},
     "output_type": "display_data"
    },
    {
     "data": {
      "text/plain": [
       "Cluster\n",
       " 9  5  4 13  8 10  3  6  1 11  7  0 12  2 \n",
       "35 22 16 10  8  7  6  4  3  2  1  0  0  0 "
      ]
     },
     "metadata": {},
     "output_type": "display_data"
    }
   ],
   "source": [
    "df <- data.table(effects_ts)[\n",
    "    ## marker is upregulated in all tissues for that cluster\n",
    "    , sum(padj < .05 & beta > 0), by = .(Cluster, feature)\n",
    "][V1 > 0 & Cluster == 'Stromal'][V1 == 7][, Cluster := NULL][] \n",
    "\n",
    "nrow(df)\n",
    "\n",
    "df %>% \n",
    "    left_join(roche, by = 'feature') %>% \n",
    "    dplyr::mutate(Cluster = factor(Cluster)) %>% \n",
    "    subset(pvalue < .05 & beta > 0) %>% \n",
    "    with(table(Cluster)) %>% sort(TRUE) "
   ]
  }
 ],
 "metadata": {
  "kernelspec": {
   "display_name": "R",
   "language": "R",
   "name": "ir"
  },
  "language_info": {
   "codemirror_mode": "r",
   "file_extension": ".r",
   "mimetype": "text/x-r-source",
   "name": "R",
   "pygments_lexer": "r",
   "version": "4.1.1"
  }
 },
 "nbformat": 4,
 "nbformat_minor": 5
}
