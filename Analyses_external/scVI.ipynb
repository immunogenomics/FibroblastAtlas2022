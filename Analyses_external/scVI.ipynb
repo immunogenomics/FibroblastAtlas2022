{
 "cells": [
  {
   "cell_type": "markdown",
   "id": "surrounded-habitat",
   "metadata": {},
   "source": [
    "Must run this in Centos 7 (e.g. yocto001 or eristwo)"
   ]
  },
  {
   "cell_type": "code",
   "execution_count": 1,
   "id": "fabulous-lottery",
   "metadata": {},
   "outputs": [],
   "source": [
    "import pandas as pd\n",
    "import numpy as np\n",
    "import scanpy as sc\n",
    "import matplotlib.pyplot as plt"
   ]
  },
  {
   "cell_type": "code",
   "execution_count": 2,
   "id": "antique-opinion",
   "metadata": {},
   "outputs": [
    {
     "ename": "OSError",
     "evalue": "/lib64/libc.so.6: version `GLIBC_2.14' not found (required by /PHShome/ik936/anaconda3/lib/python3.7/site-packages/torch/lib/libgomp-a34b3233.so.1)",
     "output_type": "error",
     "traceback": [
      "\u001b[0;31m---------------------------------------------------------------------------\u001b[0m",
      "\u001b[0;31mOSError\u001b[0m                                   Traceback (most recent call last)",
      "\u001b[0;32m<ipython-input-2-5a2f005f809d>\u001b[0m in \u001b[0;36m<module>\u001b[0;34m\u001b[0m\n\u001b[0;32m----> 1\u001b[0;31m \u001b[0;32mimport\u001b[0m \u001b[0mscvi\u001b[0m\u001b[0;34m\u001b[0m\u001b[0;34m\u001b[0m\u001b[0m\n\u001b[0m\u001b[1;32m      2\u001b[0m \u001b[0;32mfrom\u001b[0m \u001b[0msys\u001b[0m \u001b[0;32mimport\u001b[0m \u001b[0mexit\u001b[0m\u001b[0;34m\u001b[0m\u001b[0;34m\u001b[0m\u001b[0m\n\u001b[1;32m      3\u001b[0m \u001b[0;32mimport\u001b[0m \u001b[0mscipy\u001b[0m\u001b[0;34m\u001b[0m\u001b[0;34m\u001b[0m\u001b[0m\n\u001b[1;32m      4\u001b[0m \u001b[0;31m# import openTSNE\u001b[0m\u001b[0;34m\u001b[0m\u001b[0;34m\u001b[0m\u001b[0;34m\u001b[0m\u001b[0m\n\u001b[1;32m      5\u001b[0m \u001b[0;34m\u001b[0m\u001b[0m\n",
      "\u001b[0;32m~/anaconda3/lib/python3.7/site-packages/scvi/__init__.py\u001b[0m in \u001b[0;36m<module>\u001b[0;34m\u001b[0m\n\u001b[1;32m      5\u001b[0m \u001b[0;34m\u001b[0m\u001b[0m\n\u001b[1;32m      6\u001b[0m \u001b[0;32mfrom\u001b[0m \u001b[0;34m.\u001b[0m\u001b[0m_constants\u001b[0m \u001b[0;32mimport\u001b[0m \u001b[0m_CONSTANTS\u001b[0m\u001b[0;34m\u001b[0m\u001b[0;34m\u001b[0m\u001b[0m\n\u001b[0;32m----> 7\u001b[0;31m \u001b[0;32mfrom\u001b[0m \u001b[0;34m.\u001b[0m\u001b[0m_settings\u001b[0m \u001b[0;32mimport\u001b[0m \u001b[0msettings\u001b[0m\u001b[0;34m\u001b[0m\u001b[0;34m\u001b[0m\u001b[0m\n\u001b[0m\u001b[1;32m      8\u001b[0m \u001b[0;34m\u001b[0m\u001b[0m\n\u001b[1;32m      9\u001b[0m \u001b[0;31m# this import needs to come after prior imports to prevent circular import\u001b[0m\u001b[0;34m\u001b[0m\u001b[0;34m\u001b[0m\u001b[0;34m\u001b[0m\u001b[0m\n",
      "\u001b[0;32m~/anaconda3/lib/python3.7/site-packages/scvi/_settings.py\u001b[0m in \u001b[0;36m<module>\u001b[0;34m\u001b[0m\n\u001b[1;32m      4\u001b[0m \u001b[0;34m\u001b[0m\u001b[0m\n\u001b[1;32m      5\u001b[0m \u001b[0;32mimport\u001b[0m \u001b[0mnumpy\u001b[0m \u001b[0;32mas\u001b[0m \u001b[0mnp\u001b[0m\u001b[0;34m\u001b[0m\u001b[0;34m\u001b[0m\u001b[0m\n\u001b[0;32m----> 6\u001b[0;31m \u001b[0;32mimport\u001b[0m \u001b[0mtorch\u001b[0m\u001b[0;34m\u001b[0m\u001b[0;34m\u001b[0m\u001b[0m\n\u001b[0m\u001b[1;32m      7\u001b[0m \u001b[0;32mfrom\u001b[0m \u001b[0mrich\u001b[0m\u001b[0;34m.\u001b[0m\u001b[0mconsole\u001b[0m \u001b[0;32mimport\u001b[0m \u001b[0mConsole\u001b[0m\u001b[0;34m\u001b[0m\u001b[0;34m\u001b[0m\u001b[0m\n\u001b[1;32m      8\u001b[0m \u001b[0;32mfrom\u001b[0m \u001b[0mrich\u001b[0m\u001b[0;34m.\u001b[0m\u001b[0mlogging\u001b[0m \u001b[0;32mimport\u001b[0m \u001b[0mRichHandler\u001b[0m\u001b[0;34m\u001b[0m\u001b[0;34m\u001b[0m\u001b[0m\n",
      "\u001b[0;32m~/anaconda3/lib/python3.7/site-packages/torch/__init__.py\u001b[0m in \u001b[0;36m<module>\u001b[0;34m\u001b[0m\n\u001b[1;32m    193\u001b[0m     \u001b[0;31m# See Note [Global dependencies]\u001b[0m\u001b[0;34m\u001b[0m\u001b[0;34m\u001b[0m\u001b[0;34m\u001b[0m\u001b[0m\n\u001b[1;32m    194\u001b[0m     \u001b[0;32mif\u001b[0m \u001b[0mUSE_GLOBAL_DEPS\u001b[0m\u001b[0;34m:\u001b[0m\u001b[0;34m\u001b[0m\u001b[0;34m\u001b[0m\u001b[0m\n\u001b[0;32m--> 195\u001b[0;31m         \u001b[0m_load_global_deps\u001b[0m\u001b[0;34m(\u001b[0m\u001b[0;34m)\u001b[0m\u001b[0;34m\u001b[0m\u001b[0;34m\u001b[0m\u001b[0m\n\u001b[0m\u001b[1;32m    196\u001b[0m     \u001b[0;32mfrom\u001b[0m \u001b[0mtorch\u001b[0m\u001b[0;34m.\u001b[0m\u001b[0m_C\u001b[0m \u001b[0;32mimport\u001b[0m \u001b[0;34m*\u001b[0m\u001b[0;34m\u001b[0m\u001b[0;34m\u001b[0m\u001b[0m\n\u001b[1;32m    197\u001b[0m \u001b[0;34m\u001b[0m\u001b[0m\n",
      "\u001b[0;32m~/anaconda3/lib/python3.7/site-packages/torch/__init__.py\u001b[0m in \u001b[0;36m_load_global_deps\u001b[0;34m()\u001b[0m\n\u001b[1;32m    146\u001b[0m     \u001b[0mlib_path\u001b[0m \u001b[0;34m=\u001b[0m \u001b[0mos\u001b[0m\u001b[0;34m.\u001b[0m\u001b[0mpath\u001b[0m\u001b[0;34m.\u001b[0m\u001b[0mjoin\u001b[0m\u001b[0;34m(\u001b[0m\u001b[0mos\u001b[0m\u001b[0;34m.\u001b[0m\u001b[0mpath\u001b[0m\u001b[0;34m.\u001b[0m\u001b[0mdirname\u001b[0m\u001b[0;34m(\u001b[0m\u001b[0mhere\u001b[0m\u001b[0;34m)\u001b[0m\u001b[0;34m,\u001b[0m \u001b[0;34m'lib'\u001b[0m\u001b[0;34m,\u001b[0m \u001b[0mlib_name\u001b[0m\u001b[0;34m)\u001b[0m\u001b[0;34m\u001b[0m\u001b[0;34m\u001b[0m\u001b[0m\n\u001b[1;32m    147\u001b[0m \u001b[0;34m\u001b[0m\u001b[0m\n\u001b[0;32m--> 148\u001b[0;31m     \u001b[0mctypes\u001b[0m\u001b[0;34m.\u001b[0m\u001b[0mCDLL\u001b[0m\u001b[0;34m(\u001b[0m\u001b[0mlib_path\u001b[0m\u001b[0;34m,\u001b[0m \u001b[0mmode\u001b[0m\u001b[0;34m=\u001b[0m\u001b[0mctypes\u001b[0m\u001b[0;34m.\u001b[0m\u001b[0mRTLD_GLOBAL\u001b[0m\u001b[0;34m)\u001b[0m\u001b[0;34m\u001b[0m\u001b[0;34m\u001b[0m\u001b[0m\n\u001b[0m\u001b[1;32m    149\u001b[0m \u001b[0;34m\u001b[0m\u001b[0m\n\u001b[1;32m    150\u001b[0m \u001b[0;34m\u001b[0m\u001b[0m\n",
      "\u001b[0;32m~/anaconda3/lib/python3.7/ctypes/__init__.py\u001b[0m in \u001b[0;36m__init__\u001b[0;34m(self, name, mode, handle, use_errno, use_last_error)\u001b[0m\n\u001b[1;32m    362\u001b[0m \u001b[0;34m\u001b[0m\u001b[0m\n\u001b[1;32m    363\u001b[0m         \u001b[0;32mif\u001b[0m \u001b[0mhandle\u001b[0m \u001b[0;32mis\u001b[0m \u001b[0;32mNone\u001b[0m\u001b[0;34m:\u001b[0m\u001b[0;34m\u001b[0m\u001b[0;34m\u001b[0m\u001b[0m\n\u001b[0;32m--> 364\u001b[0;31m             \u001b[0mself\u001b[0m\u001b[0;34m.\u001b[0m\u001b[0m_handle\u001b[0m \u001b[0;34m=\u001b[0m \u001b[0m_dlopen\u001b[0m\u001b[0;34m(\u001b[0m\u001b[0mself\u001b[0m\u001b[0;34m.\u001b[0m\u001b[0m_name\u001b[0m\u001b[0;34m,\u001b[0m \u001b[0mmode\u001b[0m\u001b[0;34m)\u001b[0m\u001b[0;34m\u001b[0m\u001b[0;34m\u001b[0m\u001b[0m\n\u001b[0m\u001b[1;32m    365\u001b[0m         \u001b[0;32melse\u001b[0m\u001b[0;34m:\u001b[0m\u001b[0;34m\u001b[0m\u001b[0;34m\u001b[0m\u001b[0m\n\u001b[1;32m    366\u001b[0m             \u001b[0mself\u001b[0m\u001b[0;34m.\u001b[0m\u001b[0m_handle\u001b[0m \u001b[0;34m=\u001b[0m \u001b[0mhandle\u001b[0m\u001b[0;34m\u001b[0m\u001b[0;34m\u001b[0m\u001b[0m\n",
      "\u001b[0;31mOSError\u001b[0m: /lib64/libc.so.6: version `GLIBC_2.14' not found (required by /PHShome/ik936/anaconda3/lib/python3.7/site-packages/torch/lib/libgomp-a34b3233.so.1)"
     ]
    }
   ],
   "source": [
    "import scvi\n",
    "from sys import exit\n",
    "import scipy\n",
    "# import openTSNE\n",
    "\n",
    "sc.set_figure_params(facecolor = 'white')\n"
   ]
  },
  {
   "cell_type": "markdown",
   "id": "peaceful-thread",
   "metadata": {
    "toc-hr-collapsed": true
   },
   "source": [
    "# Over tissue"
   ]
  },
  {
   "cell_type": "markdown",
   "id": "breathing-morgan",
   "metadata": {},
   "source": [
    "## Load"
   ]
  },
  {
   "cell_type": "code",
   "execution_count": 3,
   "id": "heavy-steam",
   "metadata": {},
   "outputs": [
    {
     "data": {
      "text/html": [
       "<div>\n",
       "<style scoped>\n",
       "    .dataframe tbody tr th:only-of-type {\n",
       "        vertical-align: middle;\n",
       "    }\n",
       "\n",
       "    .dataframe tbody tr th {\n",
       "        vertical-align: top;\n",
       "    }\n",
       "\n",
       "    .dataframe thead th {\n",
       "        text-align: right;\n",
       "    }\n",
       "</style>\n",
       "<table border=\"1\" class=\"dataframe\">\n",
       "  <thead>\n",
       "    <tr style=\"text-align: right;\">\n",
       "      <th></th>\n",
       "      <th>CellID</th>\n",
       "      <th>LibraryID</th>\n",
       "      <th>nGene</th>\n",
       "      <th>nUMI</th>\n",
       "      <th>percent_mito</th>\n",
       "      <th>SampleID</th>\n",
       "      <th>Technology</th>\n",
       "      <th>Tissue</th>\n",
       "      <th>DonorID</th>\n",
       "      <th>Case</th>\n",
       "      <th>...</th>\n",
       "      <th>Name_conserved</th>\n",
       "      <th>Name_overall</th>\n",
       "      <th>Cluster_name</th>\n",
       "      <th>InflamScore</th>\n",
       "      <th>InflamScore_raw</th>\n",
       "      <th>percent_cd45</th>\n",
       "      <th>q</th>\n",
       "      <th>percent_cd45_rescaled</th>\n",
       "      <th>percent_cd45_betaU</th>\n",
       "      <th>percent_cd45_beta3</th>\n",
       "    </tr>\n",
       "  </thead>\n",
       "  <tbody>\n",
       "    <tr>\n",
       "      <th>0</th>\n",
       "      <td>AAACGCTCAGTTGTCA_GX44</td>\n",
       "      <td>GX44</td>\n",
       "      <td>2335.0</td>\n",
       "      <td>6313.0</td>\n",
       "      <td>0.089656</td>\n",
       "      <td>GX44</td>\n",
       "      <td>10XV3</td>\n",
       "      <td>SalivaryGland</td>\n",
       "      <td>GX44</td>\n",
       "      <td>SICCA</td>\n",
       "      <td>...</td>\n",
       "      <td>CD34+FBLN1+</td>\n",
       "      <td>CD34+FBLN1+</td>\n",
       "      <td>FBLN1+ C5</td>\n",
       "      <td>0.329723</td>\n",
       "      <td>0.159826</td>\n",
       "      <td>23.954223</td>\n",
       "      <td>0.285714</td>\n",
       "      <td>0.222637</td>\n",
       "      <td>0.151323</td>\n",
       "      <td>0.381334</td>\n",
       "    </tr>\n",
       "    <tr>\n",
       "      <th>1</th>\n",
       "      <td>AAACGCTTCCTTATAC_GX44</td>\n",
       "      <td>GX44</td>\n",
       "      <td>3113.0</td>\n",
       "      <td>11020.0</td>\n",
       "      <td>0.093013</td>\n",
       "      <td>GX44</td>\n",
       "      <td>10XV3</td>\n",
       "      <td>SalivaryGland</td>\n",
       "      <td>GX44</td>\n",
       "      <td>SICCA</td>\n",
       "      <td>...</td>\n",
       "      <td>JUN+FOS+</td>\n",
       "      <td>JUN+FOS+</td>\n",
       "      <td>C2</td>\n",
       "      <td>0.329723</td>\n",
       "      <td>0.159826</td>\n",
       "      <td>23.954223</td>\n",
       "      <td>0.285714</td>\n",
       "      <td>0.222637</td>\n",
       "      <td>0.151323</td>\n",
       "      <td>0.381334</td>\n",
       "    </tr>\n",
       "    <tr>\n",
       "      <th>2</th>\n",
       "      <td>AAAGGATTCTGCATGA_GX44</td>\n",
       "      <td>GX44</td>\n",
       "      <td>2367.0</td>\n",
       "      <td>5787.0</td>\n",
       "      <td>0.140142</td>\n",
       "      <td>GX44</td>\n",
       "      <td>10XV3</td>\n",
       "      <td>SalivaryGland</td>\n",
       "      <td>GX44</td>\n",
       "      <td>SICCA</td>\n",
       "      <td>...</td>\n",
       "      <td>ADAM12+SPARC+</td>\n",
       "      <td>ADAM12+SPARC+</td>\n",
       "      <td>SPARC+COL3A1+ C4</td>\n",
       "      <td>0.329723</td>\n",
       "      <td>0.159826</td>\n",
       "      <td>23.954223</td>\n",
       "      <td>0.285714</td>\n",
       "      <td>0.222637</td>\n",
       "      <td>0.151323</td>\n",
       "      <td>0.381334</td>\n",
       "    </tr>\n",
       "    <tr>\n",
       "      <th>3</th>\n",
       "      <td>AAAGGATTCTTTCCAA_GX44</td>\n",
       "      <td>GX44</td>\n",
       "      <td>1992.0</td>\n",
       "      <td>5306.0</td>\n",
       "      <td>0.174331</td>\n",
       "      <td>GX44</td>\n",
       "      <td>10XV3</td>\n",
       "      <td>SalivaryGland</td>\n",
       "      <td>GX44</td>\n",
       "      <td>SICCA</td>\n",
       "      <td>...</td>\n",
       "      <td>FN1+</td>\n",
       "      <td>COL6A6+</td>\n",
       "      <td>C1</td>\n",
       "      <td>0.329723</td>\n",
       "      <td>0.159826</td>\n",
       "      <td>23.954223</td>\n",
       "      <td>0.285714</td>\n",
       "      <td>0.222637</td>\n",
       "      <td>0.151323</td>\n",
       "      <td>0.381334</td>\n",
       "    </tr>\n",
       "    <tr>\n",
       "      <th>4</th>\n",
       "      <td>AAAGGGCAGAGTGTTA_GX44</td>\n",
       "      <td>GX44</td>\n",
       "      <td>2417.0</td>\n",
       "      <td>7568.0</td>\n",
       "      <td>0.074789</td>\n",
       "      <td>GX44</td>\n",
       "      <td>10XV3</td>\n",
       "      <td>SalivaryGland</td>\n",
       "      <td>GX44</td>\n",
       "      <td>SICCA</td>\n",
       "      <td>...</td>\n",
       "      <td>CD34+FBLN1+</td>\n",
       "      <td>CD34+FBLN1+</td>\n",
       "      <td>FBLN1+ C5</td>\n",
       "      <td>0.329723</td>\n",
       "      <td>0.159826</td>\n",
       "      <td>23.954223</td>\n",
       "      <td>0.285714</td>\n",
       "      <td>0.222637</td>\n",
       "      <td>0.151323</td>\n",
       "      <td>0.381334</td>\n",
       "    </tr>\n",
       "  </tbody>\n",
       "</table>\n",
       "<p>5 rows × 31 columns</p>\n",
       "</div>"
      ],
      "text/plain": [
       "                  CellID LibraryID   nGene     nUMI  percent_mito SampleID  \\\n",
       "0  AAACGCTCAGTTGTCA_GX44      GX44  2335.0   6313.0      0.089656     GX44   \n",
       "1  AAACGCTTCCTTATAC_GX44      GX44  3113.0  11020.0      0.093013     GX44   \n",
       "2  AAAGGATTCTGCATGA_GX44      GX44  2367.0   5787.0      0.140142     GX44   \n",
       "3  AAAGGATTCTTTCCAA_GX44      GX44  1992.0   5306.0      0.174331     GX44   \n",
       "4  AAAGGGCAGAGTGTTA_GX44      GX44  2417.0   7568.0      0.074789     GX44   \n",
       "\n",
       "  Technology         Tissue DonorID   Case  ... Name_conserved   Name_overall  \\\n",
       "0      10XV3  SalivaryGland    GX44  SICCA  ...    CD34+FBLN1+    CD34+FBLN1+   \n",
       "1      10XV3  SalivaryGland    GX44  SICCA  ...       JUN+FOS+       JUN+FOS+   \n",
       "2      10XV3  SalivaryGland    GX44  SICCA  ...  ADAM12+SPARC+  ADAM12+SPARC+   \n",
       "3      10XV3  SalivaryGland    GX44  SICCA  ...           FN1+        COL6A6+   \n",
       "4      10XV3  SalivaryGland    GX44  SICCA  ...    CD34+FBLN1+    CD34+FBLN1+   \n",
       "\n",
       "       Cluster_name  InflamScore  InflamScore_raw  percent_cd45         q  \\\n",
       "0         FBLN1+ C5     0.329723         0.159826     23.954223  0.285714   \n",
       "1                C2     0.329723         0.159826     23.954223  0.285714   \n",
       "2  SPARC+COL3A1+ C4     0.329723         0.159826     23.954223  0.285714   \n",
       "3                C1     0.329723         0.159826     23.954223  0.285714   \n",
       "4         FBLN1+ C5     0.329723         0.159826     23.954223  0.285714   \n",
       "\n",
       "   percent_cd45_rescaled  percent_cd45_betaU  percent_cd45_beta3  \n",
       "0               0.222637            0.151323            0.381334  \n",
       "1               0.222637            0.151323            0.381334  \n",
       "2               0.222637            0.151323            0.381334  \n",
       "3               0.222637            0.151323            0.381334  \n",
       "4               0.222637            0.151323            0.381334  \n",
       "\n",
       "[5 rows x 31 columns]"
      ]
     },
     "execution_count": 3,
     "metadata": {},
     "output_type": "execute_result"
    }
   ],
   "source": [
    "adata = sc.read_h5ad('/data/srlab/ik936/Roche/data/cache/obj_fibroblasts_scanpy.h5ad')\n",
    "adata.obs.head()"
   ]
  },
  {
   "cell_type": "markdown",
   "id": "uniform-workshop",
   "metadata": {},
   "source": [
    "## Pre-process\n"
   ]
  },
  {
   "cell_type": "code",
   "execution_count": 4,
   "id": "decreased-painting",
   "metadata": {},
   "outputs": [],
   "source": [
    "adata.layers[\"counts\"] = adata.X.copy()\n",
    "sc.pp.normalize_total(adata, target_sum=1e4)\n",
    "sc.pp.log1p(adata)\n",
    "adata.raw = adata\n",
    "sc.pp.highly_variable_genes(adata, flavor='seurat_v3', layer='counts', n_top_genes=5000, subset=True)"
   ]
  },
  {
   "cell_type": "markdown",
   "id": "norman-thomson",
   "metadata": {},
   "source": [
    "## scvi"
   ]
  },
  {
   "cell_type": "code",
   "execution_count": 5,
   "id": "caroline-spectacular",
   "metadata": {},
   "outputs": [
    {
     "name": "stdout",
     "output_type": "stream",
     "text": [
      "\u001b[34mINFO    \u001b[0m Using batches from adata.obs\u001b[1m[\u001b[0m\u001b[32m\"Tissue\"\u001b[0m\u001b[1m]\u001b[0m                                              \n",
      "\u001b[34mINFO    \u001b[0m No label_key inputted, assuming all cells have same label                           \n",
      "\u001b[34mINFO    \u001b[0m Using data from adata.layers\u001b[1m[\u001b[0m\u001b[32m\"counts\"\u001b[0m\u001b[1m]\u001b[0m                                              \n",
      "\u001b[34mINFO    \u001b[0m Computing library size prior per batch                                              \n",
      "\u001b[34mINFO    \u001b[0m Successfully registered anndata object containing \u001b[1;34m79968\u001b[0m cells, \u001b[1;34m5000\u001b[0m vars, \u001b[1;34m4\u001b[0m batches,\n",
      "         \u001b[1;34m1\u001b[0m labels, and \u001b[1;34m0\u001b[0m proteins. Also registered \u001b[1;34m0\u001b[0m extra categorical covariates and \u001b[1;34m0\u001b[0m extra\n",
      "         continuous covariates.                                                              \n",
      "\u001b[34mINFO    \u001b[0m Please do not further modify adata until model is trained.                          \n",
      "\u001b[31mWARNING \u001b[0m Training will be faster when sparse matrix is formatted as CSR. It is safe to cast  \n",
      "         before model initialization.                                                        \n"
     ]
    }
   ],
   "source": [
    "scvi.data.setup_anndata(adata, layer=\"counts\", batch_key=\"Tissue\")"
   ]
  },
  {
   "cell_type": "code",
   "execution_count": 6,
   "id": "lucky-influence",
   "metadata": {},
   "outputs": [
    {
     "ename": "TypeError",
     "evalue": "__init__() got an unexpected keyword argument 'max_epochs'",
     "output_type": "error",
     "traceback": [
      "\u001b[0;31m---------------------------------------------------------------------------\u001b[0m",
      "\u001b[0;31mTypeError\u001b[0m                                 Traceback (most recent call last)",
      "\u001b[0;32m<ipython-input-6-e3b46124ce7e>\u001b[0m in \u001b[0;36m<module>\u001b[0;34m\u001b[0m\n\u001b[1;32m      2\u001b[0m \u001b[0;31m# vae = scvi.model.SCVI(adata, gene_likelihood='poisson')\u001b[0m\u001b[0;34m\u001b[0m\u001b[0;34m\u001b[0m\u001b[0;34m\u001b[0m\u001b[0m\n\u001b[1;32m      3\u001b[0m \u001b[0;31m# vae.train(max_epochs=100)\u001b[0m\u001b[0;34m\u001b[0m\u001b[0;34m\u001b[0m\u001b[0;34m\u001b[0m\u001b[0m\n\u001b[0;32m----> 4\u001b[0;31m \u001b[0mvae\u001b[0m\u001b[0;34m.\u001b[0m\u001b[0mtrain\u001b[0m\u001b[0;34m(\u001b[0m\u001b[0mmax_epochs\u001b[0m\u001b[0;34m=\u001b[0m\u001b[0;36m1\u001b[0m\u001b[0;34m)\u001b[0m\u001b[0;34m\u001b[0m\u001b[0;34m\u001b[0m\u001b[0m\n\u001b[0m\u001b[1;32m      5\u001b[0m \u001b[0madata\u001b[0m\u001b[0;34m.\u001b[0m\u001b[0mobsm\u001b[0m\u001b[0;34m[\u001b[0m\u001b[0;34m\"X_scVI\"\u001b[0m\u001b[0;34m]\u001b[0m \u001b[0;34m=\u001b[0m \u001b[0mvae\u001b[0m\u001b[0;34m.\u001b[0m\u001b[0mget_latent_representation\u001b[0m\u001b[0;34m(\u001b[0m\u001b[0;34m)\u001b[0m\u001b[0;34m\u001b[0m\u001b[0;34m\u001b[0m\u001b[0m\n",
      "\u001b[0;32m~/anaconda3/envs/gpu/lib/python3.7/site-packages/scvi/core/models/vaemixin.py\u001b[0m in \u001b[0;36mtrain\u001b[0;34m(self, n_epochs, train_size, test_size, lr, n_epochs_kl_warmup, n_iter_kl_warmup, frequency, train_fun_kwargs, **kwargs)\u001b[0m\n\u001b[1;32m     62\u001b[0m                 \u001b[0mfrequency\u001b[0m\u001b[0;34m=\u001b[0m\u001b[0mfrequency\u001b[0m\u001b[0;34m,\u001b[0m\u001b[0;34m\u001b[0m\u001b[0;34m\u001b[0m\u001b[0m\n\u001b[1;32m     63\u001b[0m                 \u001b[0muse_cuda\u001b[0m\u001b[0;34m=\u001b[0m\u001b[0mself\u001b[0m\u001b[0;34m.\u001b[0m\u001b[0muse_cuda\u001b[0m\u001b[0;34m,\u001b[0m\u001b[0;34m\u001b[0m\u001b[0;34m\u001b[0m\u001b[0m\n\u001b[0;32m---> 64\u001b[0;31m                 \u001b[0;34m**\u001b[0m\u001b[0mkwargs\u001b[0m\u001b[0;34m,\u001b[0m\u001b[0;34m\u001b[0m\u001b[0;34m\u001b[0m\u001b[0m\n\u001b[0m\u001b[1;32m     65\u001b[0m             )\n\u001b[1;32m     66\u001b[0m             \u001b[0mself\u001b[0m\u001b[0;34m.\u001b[0m\u001b[0mtrain_indices_\u001b[0m \u001b[0;34m=\u001b[0m \u001b[0mself\u001b[0m\u001b[0;34m.\u001b[0m\u001b[0mtrainer\u001b[0m\u001b[0;34m.\u001b[0m\u001b[0mtrain_set\u001b[0m\u001b[0;34m.\u001b[0m\u001b[0mindices\u001b[0m\u001b[0;34m\u001b[0m\u001b[0;34m\u001b[0m\u001b[0m\n",
      "\u001b[0;32m~/anaconda3/envs/gpu/lib/python3.7/site-packages/scvi/core/trainers/inference.py\u001b[0m in \u001b[0;36m__init__\u001b[0;34m(self, model, adata, train_size, test_size, n_iter_kl_warmup, n_epochs_kl_warmup, normalize_loss, **kwargs)\u001b[0m\n\u001b[1;32m     87\u001b[0m                 \u001b[0;34m\"train_size needs to be greater than 0 and less than or equal to 1\"\u001b[0m\u001b[0;34m\u001b[0m\u001b[0;34m\u001b[0m\u001b[0m\n\u001b[1;32m     88\u001b[0m             )\n\u001b[0;32m---> 89\u001b[0;31m         \u001b[0msuper\u001b[0m\u001b[0;34m(\u001b[0m\u001b[0;34m)\u001b[0m\u001b[0;34m.\u001b[0m\u001b[0m__init__\u001b[0m\u001b[0;34m(\u001b[0m\u001b[0mmodel\u001b[0m\u001b[0;34m,\u001b[0m \u001b[0madata\u001b[0m\u001b[0;34m,\u001b[0m \u001b[0;34m**\u001b[0m\u001b[0mkwargs\u001b[0m\u001b[0;34m)\u001b[0m\u001b[0;34m\u001b[0m\u001b[0;34m\u001b[0m\u001b[0m\n\u001b[0m\u001b[1;32m     90\u001b[0m \u001b[0;34m\u001b[0m\u001b[0m\n\u001b[1;32m     91\u001b[0m         \u001b[0;31m# Set up number of warmup iterations\u001b[0m\u001b[0;34m\u001b[0m\u001b[0;34m\u001b[0m\u001b[0;34m\u001b[0m\u001b[0m\n",
      "\u001b[0;31mTypeError\u001b[0m: __init__() got an unexpected keyword argument 'max_epochs'"
     ]
    }
   ],
   "source": [
    "vae = scvi.model.SCVI(adata)\n",
    "# vae = scvi.model.SCVI(adata, gene_likelihood='poisson')\n",
    "# vae.train(max_epochs=100)\n",
    "vae.train(max_epochs=1)\n",
    "adata.obsm[\"X_scVI\"] = vae.get_latent_representation()"
   ]
  },
  {
   "cell_type": "code",
   "execution_count": null,
   "id": "exotic-comment",
   "metadata": {},
   "outputs": [],
   "source": [
    "# vae.history['reconstruction_loss_train']"
   ]
  },
  {
   "cell_type": "markdown",
   "id": "preliminary-qualification",
   "metadata": {},
   "source": [
    "## Viz"
   ]
  },
  {
   "cell_type": "code",
   "execution_count": null,
   "id": "rubber-cheat",
   "metadata": {},
   "outputs": [],
   "source": [
    "sc.pp.neighbors(adata, use_rep=\"X_scVI\")\n",
    "sc.tl.leiden(adata)\n",
    "sc.tl.tsne(adata, use_rep='X_scVI')"
   ]
  },
  {
   "cell_type": "code",
   "execution_count": null,
   "id": "rural-builder",
   "metadata": {},
   "outputs": [],
   "source": [
    "sc.pl.tsne(\n",
    "    adata,\n",
    "    color=[\"Tissue\", \"leiden\"],\n",
    "    frameon=False,\n",
    "    ncols=1,\n",
    ")"
   ]
  },
  {
   "cell_type": "markdown",
   "id": "level-harassment",
   "metadata": {},
   "source": [
    "## Cache"
   ]
  },
  {
   "cell_type": "code",
   "execution_count": null,
   "id": "informational-school",
   "metadata": {},
   "outputs": [],
   "source": [
    "np.savetxt(X=adata.obsm[\"X_scVI\"], fname='/data/srlab/ik936/Roche/data/cache/scvi_tissues.csv', fmt='%.5f', delimiter=',')"
   ]
  },
  {
   "cell_type": "markdown",
   "id": "interesting-integral",
   "metadata": {},
   "source": [
    "## UMAP"
   ]
  },
  {
   "cell_type": "code",
   "execution_count": 2,
   "id": "juvenile-stockholm",
   "metadata": {},
   "outputs": [
    {
     "name": "stdout",
     "output_type": "stream",
     "text": [
      "CPU times: user 3min 26s, sys: 1min 25s, total: 4min 51s\n",
      "Wall time: 2min 22s\n"
     ]
    }
   ],
   "source": [
    "%%time\n",
    "\n",
    "import umap\n",
    "from umap import umap_\n",
    "\n",
    "V=np.loadtxt('/data/srlab/ik936/Roche/data/cache/scvi_tissues.csv', delimiter=',')\n",
    "reducer=umap.umap_.UMAP(random_state=42)\n",
    "U=reducer.fit(V)\n",
    "np.savetxt(X=U.embedding_, fname='/data/srlab/ik936/Roche/data/cache/scvi_tissues_umap.csv', fmt='%.5f', delimiter=',')"
   ]
  },
  {
   "cell_type": "code",
   "execution_count": 3,
   "id": "heavy-darkness",
   "metadata": {},
   "outputs": [
    {
     "data": {
      "text/plain": [
       "'/data/srlab/ik936/Roche/data/cache/scvi_tissues_umap.csv'"
      ]
     },
     "execution_count": 3,
     "metadata": {},
     "output_type": "execute_result"
    }
   ],
   "source": []
  },
  {
   "cell_type": "markdown",
   "id": "peripheral-cradle",
   "metadata": {
    "toc-hr-collapsed": true
   },
   "source": [
    "# Over donors"
   ]
  },
  {
   "cell_type": "markdown",
   "id": "peripheral-browser",
   "metadata": {},
   "source": [
    "## Load"
   ]
  },
  {
   "cell_type": "code",
   "execution_count": 4,
   "id": "cognitive-expense",
   "metadata": {},
   "outputs": [
    {
     "data": {
      "text/html": [
       "<div>\n",
       "<style scoped>\n",
       "    .dataframe tbody tr th:only-of-type {\n",
       "        vertical-align: middle;\n",
       "    }\n",
       "\n",
       "    .dataframe tbody tr th {\n",
       "        vertical-align: top;\n",
       "    }\n",
       "\n",
       "    .dataframe thead th {\n",
       "        text-align: right;\n",
       "    }\n",
       "</style>\n",
       "<table border=\"1\" class=\"dataframe\">\n",
       "  <thead>\n",
       "    <tr style=\"text-align: right;\">\n",
       "      <th></th>\n",
       "      <th>CellID</th>\n",
       "      <th>LibraryID</th>\n",
       "      <th>nGene</th>\n",
       "      <th>nUMI</th>\n",
       "      <th>percent_mito</th>\n",
       "      <th>SampleID</th>\n",
       "      <th>Technology</th>\n",
       "      <th>Tissue</th>\n",
       "      <th>DonorID</th>\n",
       "      <th>Case</th>\n",
       "      <th>...</th>\n",
       "      <th>Name_conserved</th>\n",
       "      <th>Name_overall</th>\n",
       "      <th>Cluster_name</th>\n",
       "      <th>InflamScore</th>\n",
       "      <th>InflamScore_raw</th>\n",
       "      <th>percent_cd45</th>\n",
       "      <th>q</th>\n",
       "      <th>percent_cd45_rescaled</th>\n",
       "      <th>percent_cd45_betaU</th>\n",
       "      <th>percent_cd45_beta3</th>\n",
       "    </tr>\n",
       "  </thead>\n",
       "  <tbody>\n",
       "    <tr>\n",
       "      <th>0</th>\n",
       "      <td>AAACGCTCAGTTGTCA_GX44</td>\n",
       "      <td>GX44</td>\n",
       "      <td>2335.0</td>\n",
       "      <td>6313.0</td>\n",
       "      <td>0.089656</td>\n",
       "      <td>GX44</td>\n",
       "      <td>10XV3</td>\n",
       "      <td>SalivaryGland</td>\n",
       "      <td>GX44</td>\n",
       "      <td>SICCA</td>\n",
       "      <td>...</td>\n",
       "      <td>CD34+FBLN1+</td>\n",
       "      <td>CD34+FBLN1+</td>\n",
       "      <td>FBLN1+ C5</td>\n",
       "      <td>0.329723</td>\n",
       "      <td>0.159826</td>\n",
       "      <td>23.954223</td>\n",
       "      <td>0.285714</td>\n",
       "      <td>0.222637</td>\n",
       "      <td>0.151323</td>\n",
       "      <td>0.381334</td>\n",
       "    </tr>\n",
       "    <tr>\n",
       "      <th>1</th>\n",
       "      <td>AAACGCTTCCTTATAC_GX44</td>\n",
       "      <td>GX44</td>\n",
       "      <td>3113.0</td>\n",
       "      <td>11020.0</td>\n",
       "      <td>0.093013</td>\n",
       "      <td>GX44</td>\n",
       "      <td>10XV3</td>\n",
       "      <td>SalivaryGland</td>\n",
       "      <td>GX44</td>\n",
       "      <td>SICCA</td>\n",
       "      <td>...</td>\n",
       "      <td>JUN+FOS+</td>\n",
       "      <td>JUN+FOS+</td>\n",
       "      <td>C2</td>\n",
       "      <td>0.329723</td>\n",
       "      <td>0.159826</td>\n",
       "      <td>23.954223</td>\n",
       "      <td>0.285714</td>\n",
       "      <td>0.222637</td>\n",
       "      <td>0.151323</td>\n",
       "      <td>0.381334</td>\n",
       "    </tr>\n",
       "    <tr>\n",
       "      <th>2</th>\n",
       "      <td>AAAGGATTCTGCATGA_GX44</td>\n",
       "      <td>GX44</td>\n",
       "      <td>2367.0</td>\n",
       "      <td>5787.0</td>\n",
       "      <td>0.140142</td>\n",
       "      <td>GX44</td>\n",
       "      <td>10XV3</td>\n",
       "      <td>SalivaryGland</td>\n",
       "      <td>GX44</td>\n",
       "      <td>SICCA</td>\n",
       "      <td>...</td>\n",
       "      <td>ADAM12+SPARC+</td>\n",
       "      <td>ADAM12+SPARC+</td>\n",
       "      <td>SPARC+COL3A1+ C4</td>\n",
       "      <td>0.329723</td>\n",
       "      <td>0.159826</td>\n",
       "      <td>23.954223</td>\n",
       "      <td>0.285714</td>\n",
       "      <td>0.222637</td>\n",
       "      <td>0.151323</td>\n",
       "      <td>0.381334</td>\n",
       "    </tr>\n",
       "    <tr>\n",
       "      <th>3</th>\n",
       "      <td>AAAGGATTCTTTCCAA_GX44</td>\n",
       "      <td>GX44</td>\n",
       "      <td>1992.0</td>\n",
       "      <td>5306.0</td>\n",
       "      <td>0.174331</td>\n",
       "      <td>GX44</td>\n",
       "      <td>10XV3</td>\n",
       "      <td>SalivaryGland</td>\n",
       "      <td>GX44</td>\n",
       "      <td>SICCA</td>\n",
       "      <td>...</td>\n",
       "      <td>FN1+</td>\n",
       "      <td>COL6A6+</td>\n",
       "      <td>C1</td>\n",
       "      <td>0.329723</td>\n",
       "      <td>0.159826</td>\n",
       "      <td>23.954223</td>\n",
       "      <td>0.285714</td>\n",
       "      <td>0.222637</td>\n",
       "      <td>0.151323</td>\n",
       "      <td>0.381334</td>\n",
       "    </tr>\n",
       "    <tr>\n",
       "      <th>4</th>\n",
       "      <td>AAAGGGCAGAGTGTTA_GX44</td>\n",
       "      <td>GX44</td>\n",
       "      <td>2417.0</td>\n",
       "      <td>7568.0</td>\n",
       "      <td>0.074789</td>\n",
       "      <td>GX44</td>\n",
       "      <td>10XV3</td>\n",
       "      <td>SalivaryGland</td>\n",
       "      <td>GX44</td>\n",
       "      <td>SICCA</td>\n",
       "      <td>...</td>\n",
       "      <td>CD34+FBLN1+</td>\n",
       "      <td>CD34+FBLN1+</td>\n",
       "      <td>FBLN1+ C5</td>\n",
       "      <td>0.329723</td>\n",
       "      <td>0.159826</td>\n",
       "      <td>23.954223</td>\n",
       "      <td>0.285714</td>\n",
       "      <td>0.222637</td>\n",
       "      <td>0.151323</td>\n",
       "      <td>0.381334</td>\n",
       "    </tr>\n",
       "  </tbody>\n",
       "</table>\n",
       "<p>5 rows × 31 columns</p>\n",
       "</div>"
      ],
      "text/plain": [
       "                  CellID LibraryID   nGene     nUMI  percent_mito SampleID  \\\n",
       "0  AAACGCTCAGTTGTCA_GX44      GX44  2335.0   6313.0      0.089656     GX44   \n",
       "1  AAACGCTTCCTTATAC_GX44      GX44  3113.0  11020.0      0.093013     GX44   \n",
       "2  AAAGGATTCTGCATGA_GX44      GX44  2367.0   5787.0      0.140142     GX44   \n",
       "3  AAAGGATTCTTTCCAA_GX44      GX44  1992.0   5306.0      0.174331     GX44   \n",
       "4  AAAGGGCAGAGTGTTA_GX44      GX44  2417.0   7568.0      0.074789     GX44   \n",
       "\n",
       "  Technology         Tissue DonorID   Case  ... Name_conserved   Name_overall  \\\n",
       "0      10XV3  SalivaryGland    GX44  SICCA  ...    CD34+FBLN1+    CD34+FBLN1+   \n",
       "1      10XV3  SalivaryGland    GX44  SICCA  ...       JUN+FOS+       JUN+FOS+   \n",
       "2      10XV3  SalivaryGland    GX44  SICCA  ...  ADAM12+SPARC+  ADAM12+SPARC+   \n",
       "3      10XV3  SalivaryGland    GX44  SICCA  ...           FN1+        COL6A6+   \n",
       "4      10XV3  SalivaryGland    GX44  SICCA  ...    CD34+FBLN1+    CD34+FBLN1+   \n",
       "\n",
       "       Cluster_name  InflamScore  InflamScore_raw  percent_cd45         q  \\\n",
       "0         FBLN1+ C5     0.329723         0.159826     23.954223  0.285714   \n",
       "1                C2     0.329723         0.159826     23.954223  0.285714   \n",
       "2  SPARC+COL3A1+ C4     0.329723         0.159826     23.954223  0.285714   \n",
       "3                C1     0.329723         0.159826     23.954223  0.285714   \n",
       "4         FBLN1+ C5     0.329723         0.159826     23.954223  0.285714   \n",
       "\n",
       "   percent_cd45_rescaled  percent_cd45_betaU  percent_cd45_beta3  \n",
       "0               0.222637            0.151323            0.381334  \n",
       "1               0.222637            0.151323            0.381334  \n",
       "2               0.222637            0.151323            0.381334  \n",
       "3               0.222637            0.151323            0.381334  \n",
       "4               0.222637            0.151323            0.381334  \n",
       "\n",
       "[5 rows x 31 columns]"
      ]
     },
     "execution_count": 4,
     "metadata": {},
     "output_type": "execute_result"
    }
   ],
   "source": [
    "adata = sc.read_h5ad('/data/srlab/ik936/Roche/data/cache/obj_fibroblasts_scanpy.h5ad')\n",
    "adata.obs.head()"
   ]
  },
  {
   "cell_type": "code",
   "execution_count": 6,
   "id": "assisted-cycle",
   "metadata": {},
   "outputs": [],
   "source": [
    "adata.obs.to_csv('/data/srlab/ik936/Roche/data/cache/scvi_donors_meta.csv')"
   ]
  },
  {
   "cell_type": "markdown",
   "id": "human-roads",
   "metadata": {},
   "source": [
    "## Pre-process\n"
   ]
  },
  {
   "cell_type": "code",
   "execution_count": null,
   "id": "pregnant-thanksgiving",
   "metadata": {},
   "outputs": [],
   "source": [
    "adata.layers[\"counts\"] = adata.X.copy()\n",
    "sc.pp.normalize_total(adata, target_sum=1e4)\n",
    "sc.pp.log1p(adata)\n",
    "adata.raw = adata\n",
    "sc.pp.highly_variable_genes(adata, flavor='seurat_v3', layer='counts', n_top_genes=5000, subset=True)"
   ]
  },
  {
   "cell_type": "markdown",
   "id": "infectious-things",
   "metadata": {},
   "source": [
    "## scvi"
   ]
  },
  {
   "cell_type": "code",
   "execution_count": null,
   "id": "perfect-swedish",
   "metadata": {},
   "outputs": [],
   "source": [
    "%%time\n",
    "scvi.data.setup_anndata(adata, layer=\"counts\", batch_key=\"LibraryID\")"
   ]
  },
  {
   "cell_type": "code",
   "execution_count": null,
   "id": "reduced-intranet",
   "metadata": {},
   "outputs": [],
   "source": [
    "%%time\n",
    "# vae = scvi.model.SCVI(adata, gene_likelihood='nb')\n",
    "vae = scvi.model.SCVI(adata, gene_likelihood='poisson')\n",
    "vae.train(max_epochs=1)\n",
    "adata.obsm[\"X_scVI\"] = vae.get_latent_representation()"
   ]
  },
  {
   "cell_type": "code",
   "execution_count": null,
   "id": "pregnant-expression",
   "metadata": {},
   "outputs": [],
   "source": [
    "# vae.history['reconstruction_loss_train']"
   ]
  },
  {
   "cell_type": "markdown",
   "id": "needed-coverage",
   "metadata": {},
   "source": [
    "## Viz"
   ]
  },
  {
   "cell_type": "code",
   "execution_count": null,
   "id": "overhead-messenger",
   "metadata": {},
   "outputs": [],
   "source": [
    "%%time\n",
    "# sc.pp.neighbors(adata, use_rep=\"X_scVI\")\n",
    "# sc.tl.leiden(adata)\n",
    "sc.tl.tsne(adata, use_rep='X_scVI')"
   ]
  },
  {
   "cell_type": "code",
   "execution_count": null,
   "id": "spiritual-external",
   "metadata": {},
   "outputs": [],
   "source": [
    "sc.pl.tsne(adata, color=[\"Tissue\"], frameon=False, ncols=1)"
   ]
  },
  {
   "cell_type": "markdown",
   "id": "handy-vietnam",
   "metadata": {},
   "source": [
    "## Cache"
   ]
  },
  {
   "cell_type": "code",
   "execution_count": null,
   "id": "adverse-rebecca",
   "metadata": {},
   "outputs": [],
   "source": [
    "np.savetxt(X=adata.obsm[\"X_scVI\"], fname='/data/srlab/ik936/Roche/data/cache/scvi_donors.csv', fmt='%.5f', delimiter=',')"
   ]
  },
  {
   "cell_type": "markdown",
   "id": "documented-disney",
   "metadata": {},
   "source": [
    "## UMAP"
   ]
  },
  {
   "cell_type": "code",
   "execution_count": 23,
   "id": "descending-monitor",
   "metadata": {},
   "outputs": [
    {
     "name": "stdout",
     "output_type": "stream",
     "text": [
      "CPU times: user 2min 50s, sys: 1min 27s, total: 4min 17s\n",
      "Wall time: 1min 33s\n"
     ]
    }
   ],
   "source": [
    "%%time\n",
    "\n",
    "import umap\n",
    "from umap import umap_\n",
    "reducer=umap.umap_.UMAP(random_state=42)\n",
    "\n",
    "V=np.loadtxt('/data/srlab/ik936/Roche/data/cache/scvi_donors.csv', delimiter=',')\n",
    "U=reducer.fit(V)\n",
    "np.savetxt(X=U.embedding_, fname='/data/srlab/ik936/Roche/data/cache/scvi_donors_umap.csv', fmt='%.5f', delimiter=',')"
   ]
  },
  {
   "cell_type": "markdown",
   "id": "middle-environment",
   "metadata": {},
   "source": [
    "# Per-tissue"
   ]
  },
  {
   "cell_type": "markdown",
   "id": "threaded-thumb",
   "metadata": {},
   "source": [
    "## Load"
   ]
  },
  {
   "cell_type": "code",
   "execution_count": 3,
   "id": "automotive-battle",
   "metadata": {},
   "outputs": [
    {
     "data": {
      "text/html": [
       "<div>\n",
       "<style scoped>\n",
       "    .dataframe tbody tr th:only-of-type {\n",
       "        vertical-align: middle;\n",
       "    }\n",
       "\n",
       "    .dataframe tbody tr th {\n",
       "        vertical-align: top;\n",
       "    }\n",
       "\n",
       "    .dataframe thead th {\n",
       "        text-align: right;\n",
       "    }\n",
       "</style>\n",
       "<table border=\"1\" class=\"dataframe\">\n",
       "  <thead>\n",
       "    <tr style=\"text-align: right;\">\n",
       "      <th></th>\n",
       "      <th>CellID</th>\n",
       "      <th>LibraryID</th>\n",
       "      <th>nGene</th>\n",
       "      <th>nUMI</th>\n",
       "      <th>percent_mito</th>\n",
       "      <th>SampleID</th>\n",
       "      <th>Technology</th>\n",
       "      <th>Tissue</th>\n",
       "      <th>DonorID</th>\n",
       "      <th>Case</th>\n",
       "      <th>...</th>\n",
       "      <th>Name_conserved</th>\n",
       "      <th>Name_overall</th>\n",
       "      <th>Cluster_name</th>\n",
       "      <th>InflamScore</th>\n",
       "      <th>InflamScore_raw</th>\n",
       "      <th>percent_cd45</th>\n",
       "      <th>q</th>\n",
       "      <th>percent_cd45_rescaled</th>\n",
       "      <th>percent_cd45_betaU</th>\n",
       "      <th>percent_cd45_beta3</th>\n",
       "    </tr>\n",
       "  </thead>\n",
       "  <tbody>\n",
       "    <tr>\n",
       "      <th>0</th>\n",
       "      <td>AAACGCTCAGTTGTCA_GX44</td>\n",
       "      <td>GX44</td>\n",
       "      <td>2335.0</td>\n",
       "      <td>6313.0</td>\n",
       "      <td>0.089656</td>\n",
       "      <td>GX44</td>\n",
       "      <td>10XV3</td>\n",
       "      <td>SalivaryGland</td>\n",
       "      <td>GX44</td>\n",
       "      <td>SICCA</td>\n",
       "      <td>...</td>\n",
       "      <td>CD34+FBLN1+</td>\n",
       "      <td>CD34+FBLN1+</td>\n",
       "      <td>FBLN1+ C5</td>\n",
       "      <td>0.329723</td>\n",
       "      <td>0.159826</td>\n",
       "      <td>23.954223</td>\n",
       "      <td>0.285714</td>\n",
       "      <td>0.222637</td>\n",
       "      <td>0.151323</td>\n",
       "      <td>0.381334</td>\n",
       "    </tr>\n",
       "    <tr>\n",
       "      <th>1</th>\n",
       "      <td>AAACGCTTCCTTATAC_GX44</td>\n",
       "      <td>GX44</td>\n",
       "      <td>3113.0</td>\n",
       "      <td>11020.0</td>\n",
       "      <td>0.093013</td>\n",
       "      <td>GX44</td>\n",
       "      <td>10XV3</td>\n",
       "      <td>SalivaryGland</td>\n",
       "      <td>GX44</td>\n",
       "      <td>SICCA</td>\n",
       "      <td>...</td>\n",
       "      <td>JUN+FOS+</td>\n",
       "      <td>JUN+FOS+</td>\n",
       "      <td>C2</td>\n",
       "      <td>0.329723</td>\n",
       "      <td>0.159826</td>\n",
       "      <td>23.954223</td>\n",
       "      <td>0.285714</td>\n",
       "      <td>0.222637</td>\n",
       "      <td>0.151323</td>\n",
       "      <td>0.381334</td>\n",
       "    </tr>\n",
       "    <tr>\n",
       "      <th>2</th>\n",
       "      <td>AAAGGATTCTGCATGA_GX44</td>\n",
       "      <td>GX44</td>\n",
       "      <td>2367.0</td>\n",
       "      <td>5787.0</td>\n",
       "      <td>0.140142</td>\n",
       "      <td>GX44</td>\n",
       "      <td>10XV3</td>\n",
       "      <td>SalivaryGland</td>\n",
       "      <td>GX44</td>\n",
       "      <td>SICCA</td>\n",
       "      <td>...</td>\n",
       "      <td>ADAM12+SPARC+</td>\n",
       "      <td>ADAM12+SPARC+</td>\n",
       "      <td>SPARC+COL3A1+ C4</td>\n",
       "      <td>0.329723</td>\n",
       "      <td>0.159826</td>\n",
       "      <td>23.954223</td>\n",
       "      <td>0.285714</td>\n",
       "      <td>0.222637</td>\n",
       "      <td>0.151323</td>\n",
       "      <td>0.381334</td>\n",
       "    </tr>\n",
       "    <tr>\n",
       "      <th>3</th>\n",
       "      <td>AAAGGATTCTTTCCAA_GX44</td>\n",
       "      <td>GX44</td>\n",
       "      <td>1992.0</td>\n",
       "      <td>5306.0</td>\n",
       "      <td>0.174331</td>\n",
       "      <td>GX44</td>\n",
       "      <td>10XV3</td>\n",
       "      <td>SalivaryGland</td>\n",
       "      <td>GX44</td>\n",
       "      <td>SICCA</td>\n",
       "      <td>...</td>\n",
       "      <td>FN1+</td>\n",
       "      <td>COL6A6+</td>\n",
       "      <td>C1</td>\n",
       "      <td>0.329723</td>\n",
       "      <td>0.159826</td>\n",
       "      <td>23.954223</td>\n",
       "      <td>0.285714</td>\n",
       "      <td>0.222637</td>\n",
       "      <td>0.151323</td>\n",
       "      <td>0.381334</td>\n",
       "    </tr>\n",
       "    <tr>\n",
       "      <th>4</th>\n",
       "      <td>AAAGGGCAGAGTGTTA_GX44</td>\n",
       "      <td>GX44</td>\n",
       "      <td>2417.0</td>\n",
       "      <td>7568.0</td>\n",
       "      <td>0.074789</td>\n",
       "      <td>GX44</td>\n",
       "      <td>10XV3</td>\n",
       "      <td>SalivaryGland</td>\n",
       "      <td>GX44</td>\n",
       "      <td>SICCA</td>\n",
       "      <td>...</td>\n",
       "      <td>CD34+FBLN1+</td>\n",
       "      <td>CD34+FBLN1+</td>\n",
       "      <td>FBLN1+ C5</td>\n",
       "      <td>0.329723</td>\n",
       "      <td>0.159826</td>\n",
       "      <td>23.954223</td>\n",
       "      <td>0.285714</td>\n",
       "      <td>0.222637</td>\n",
       "      <td>0.151323</td>\n",
       "      <td>0.381334</td>\n",
       "    </tr>\n",
       "  </tbody>\n",
       "</table>\n",
       "<p>5 rows × 31 columns</p>\n",
       "</div>"
      ],
      "text/plain": [
       "                  CellID LibraryID   nGene     nUMI  percent_mito SampleID  \\\n",
       "0  AAACGCTCAGTTGTCA_GX44      GX44  2335.0   6313.0      0.089656     GX44   \n",
       "1  AAACGCTTCCTTATAC_GX44      GX44  3113.0  11020.0      0.093013     GX44   \n",
       "2  AAAGGATTCTGCATGA_GX44      GX44  2367.0   5787.0      0.140142     GX44   \n",
       "3  AAAGGATTCTTTCCAA_GX44      GX44  1992.0   5306.0      0.174331     GX44   \n",
       "4  AAAGGGCAGAGTGTTA_GX44      GX44  2417.0   7568.0      0.074789     GX44   \n",
       "\n",
       "  Technology         Tissue DonorID   Case  ... Name_conserved   Name_overall  \\\n",
       "0      10XV3  SalivaryGland    GX44  SICCA  ...    CD34+FBLN1+    CD34+FBLN1+   \n",
       "1      10XV3  SalivaryGland    GX44  SICCA  ...       JUN+FOS+       JUN+FOS+   \n",
       "2      10XV3  SalivaryGland    GX44  SICCA  ...  ADAM12+SPARC+  ADAM12+SPARC+   \n",
       "3      10XV3  SalivaryGland    GX44  SICCA  ...           FN1+        COL6A6+   \n",
       "4      10XV3  SalivaryGland    GX44  SICCA  ...    CD34+FBLN1+    CD34+FBLN1+   \n",
       "\n",
       "       Cluster_name  InflamScore  InflamScore_raw  percent_cd45         q  \\\n",
       "0         FBLN1+ C5     0.329723         0.159826     23.954223  0.285714   \n",
       "1                C2     0.329723         0.159826     23.954223  0.285714   \n",
       "2  SPARC+COL3A1+ C4     0.329723         0.159826     23.954223  0.285714   \n",
       "3                C1     0.329723         0.159826     23.954223  0.285714   \n",
       "4         FBLN1+ C5     0.329723         0.159826     23.954223  0.285714   \n",
       "\n",
       "   percent_cd45_rescaled  percent_cd45_betaU  percent_cd45_beta3  \n",
       "0               0.222637            0.151323            0.381334  \n",
       "1               0.222637            0.151323            0.381334  \n",
       "2               0.222637            0.151323            0.381334  \n",
       "3               0.222637            0.151323            0.381334  \n",
       "4               0.222637            0.151323            0.381334  \n",
       "\n",
       "[5 rows x 31 columns]"
      ]
     },
     "execution_count": 3,
     "metadata": {},
     "output_type": "execute_result"
    }
   ],
   "source": [
    "adata_all = sc.read_h5ad('/data/srlab/ik936/Roche/data/cache/obj_fibroblasts_scanpy.h5ad')\n",
    "adata_all.obs.head()"
   ]
  },
  {
   "cell_type": "markdown",
   "id": "honest-compilation",
   "metadata": {},
   "source": [
    "## One tissue (example)"
   ]
  },
  {
   "cell_type": "code",
   "execution_count": 5,
   "id": "narrative-sleeve",
   "metadata": {},
   "outputs": [],
   "source": [
    "tissue = 'Lung'\n",
    "adata = adata_all[adata_all.obs.Tissue == tissue].copy()\n",
    "\n",
    "adata.layers[\"counts\"] = adata.X.copy()\n",
    "sc.pp.normalize_total(adata, target_sum=1e4)\n",
    "sc.pp.log1p(adata)\n",
    "adata.raw = adata\n",
    "\n",
    "sc.pp.highly_variable_genes(adata, flavor='seurat_v3', layer='counts', n_top_genes=2000, subset=True)"
   ]
  },
  {
   "cell_type": "code",
   "execution_count": 6,
   "id": "accredited-factor",
   "metadata": {},
   "outputs": [
    {
     "name": "stdout",
     "output_type": "stream",
     "text": [
      "\u001b[34mINFO    \u001b[0m Using batches from adata.obs\u001b[1m[\u001b[0m\u001b[32m\"LibraryID\"\u001b[0m\u001b[1m]\u001b[0m                                           \n",
      "\u001b[34mINFO    \u001b[0m No label_key inputted, assuming all cells have same label                           \n",
      "\u001b[34mINFO    \u001b[0m Using data from adata.layers\u001b[1m[\u001b[0m\u001b[32m\"counts\"\u001b[0m\u001b[1m]\u001b[0m                                              \n",
      "\u001b[34mINFO    \u001b[0m Computing library size prior per batch                                              \n"
     ]
    },
    {
     "name": "stderr",
     "output_type": "stream",
     "text": [
      "/PHShome/ik936/anaconda3/envs/gpu/lib/python3.7/site-packages/scvi/data/_anndata.py:731: UserWarning: Category 19 in adata.obs['_scvi_batch'] has fewer than 3 cells. SCVI may not train properly.\n",
      "  category, alternate_column_key\n"
     ]
    },
    {
     "name": "stdout",
     "output_type": "stream",
     "text": [
      "\u001b[34mINFO    \u001b[0m Successfully registered anndata object containing \u001b[1;34m1442\u001b[0m cells, \u001b[1;34m2000\u001b[0m vars, \u001b[1;34m23\u001b[0m batches,\n",
      "         \u001b[1;34m1\u001b[0m labels, and \u001b[1;34m0\u001b[0m proteins. Also registered \u001b[1;34m0\u001b[0m extra categorical covariates and \u001b[1;34m0\u001b[0m extra\n",
      "         continuous covariates.                                                              \n",
      "\u001b[34mINFO    \u001b[0m Please do not further modify adata until model is trained.                          \n"
     ]
    },
    {
     "name": "stderr",
     "output_type": "stream",
     "text": [
      "/PHShome/ik936/anaconda3/envs/gpu/lib/python3.7/site-packages/scvi/data/_anndata.py:302: UserWarning: Training will be faster when sparse matrix is formatted as CSR. It is safe to cast before model initialization.\n",
      "  \"Training will be faster when sparse matrix is formatted as CSR. It is safe to cast before model initialization.\"\n"
     ]
    }
   ],
   "source": [
    "scvi.data.setup_anndata(adata, layer=\"counts\", batch_key=\"LibraryID\")"
   ]
  },
  {
   "cell_type": "code",
   "execution_count": 8,
   "id": "hearing-terrace",
   "metadata": {},
   "outputs": [
    {
     "name": "stderr",
     "output_type": "stream",
     "text": [
      "GPU available: False, used: False\n",
      "TPU available: False, using: 0 TPU cores\n"
     ]
    },
    {
     "name": "stdout",
     "output_type": "stream",
     "text": [
      "Epoch 1/1: 100%|██████████| 1/1 [00:02<00:00,  2.59s/it, loss=2.83e+03, v_num=1]\n"
     ]
    }
   ],
   "source": [
    "# vae = scvi.model.SCVI(adata, gene_likelihood='nb')\n",
    "vae = scvi.model.SCVI(adata, gene_likelihood='poisson')\n",
    "vae.train(max_epochs=1)\n",
    "adata.obsm[\"X_scVI\"] = vae.get_latent_representation()"
   ]
  },
  {
   "cell_type": "code",
   "execution_count": null,
   "id": "nasty-postage",
   "metadata": {},
   "outputs": [],
   "source": [
    "# vae.history['reconstruction_loss_train']"
   ]
  },
  {
   "cell_type": "code",
   "execution_count": null,
   "id": "endless-works",
   "metadata": {},
   "outputs": [],
   "source": [
    "sc.pp.neighbors(adata, use_rep=\"X_scVI\")\n",
    "sc.tl.leiden(adata)\n",
    "sc.tl.tsne(adata, use_rep='X_scVI')"
   ]
  },
  {
   "cell_type": "code",
   "execution_count": null,
   "id": "acting-barcelona",
   "metadata": {},
   "outputs": [],
   "source": [
    "sc.set_figure_params(facecolor = 'white')\n"
   ]
  },
  {
   "cell_type": "code",
   "execution_count": null,
   "id": "outstanding-ancient",
   "metadata": {},
   "outputs": [],
   "source": [
    "sc.pl.tsne(\n",
    "    adata,\n",
    "    color=[\"LibraryID\", 'Case', \"leiden\"],\n",
    "    frameon=False,\n",
    "    ncols=1,\n",
    ")"
   ]
  },
  {
   "cell_type": "markdown",
   "id": "understanding-cleveland",
   "metadata": {},
   "source": [
    "## Run all"
   ]
  },
  {
   "cell_type": "code",
   "execution_count": null,
   "id": "arabic-exception",
   "metadata": {},
   "outputs": [
    {
     "name": "stdout",
     "output_type": "stream",
     "text": [
      "SalivaryGland\n",
      "\u001b[34mINFO    \u001b[0m Using batches from adata.obs\u001b[1m[\u001b[0m\u001b[32m\"LibraryID\"\u001b[0m\u001b[1m]\u001b[0m                                           \n",
      "\u001b[34mINFO    \u001b[0m No label_key inputted, assuming all cells have same label                           \n",
      "\u001b[34mINFO    \u001b[0m Using data from adata.layers\u001b[1m[\u001b[0m\u001b[32m\"counts\"\u001b[0m\u001b[1m]\u001b[0m                                              \n",
      "\u001b[34mINFO    \u001b[0m Computing library size prior per batch                                              \n",
      "\u001b[34mINFO    \u001b[0m Successfully registered anndata object containing \u001b[1;34m7474\u001b[0m cells, \u001b[1;34m2000\u001b[0m vars, \u001b[1;34m13\u001b[0m batches,\n",
      "         \u001b[1;34m1\u001b[0m labels, and \u001b[1;34m0\u001b[0m proteins. Also registered \u001b[1;34m0\u001b[0m extra categorical covariates and \u001b[1;34m0\u001b[0m extra\n",
      "         continuous covariates.                                                              \n",
      "\u001b[34mINFO    \u001b[0m Please do not further modify adata until model is trained.                          \n"
     ]
    },
    {
     "name": "stderr",
     "output_type": "stream",
     "text": [
      "/PHShome/ik936/anaconda3/envs/gpu/lib/python3.7/site-packages/scvi/data/_anndata.py:302: UserWarning: Training will be faster when sparse matrix is formatted as CSR. It is safe to cast before model initialization.\n",
      "  \"Training will be faster when sparse matrix is formatted as CSR. It is safe to cast before model initialization.\"\n",
      "GPU available: False, used: False\n",
      "TPU available: False, using: 0 TPU cores\n"
     ]
    },
    {
     "name": "stdout",
     "output_type": "stream",
     "text": [
      "Epoch 100/100: 100%|██████████| 100/100 [28:34<00:00, 17.15s/it, loss=941, v_num=1] \n",
      "Gut\n",
      "\u001b[34mINFO    \u001b[0m Using batches from adata.obs\u001b[1m[\u001b[0m\u001b[32m\"LibraryID\"\u001b[0m\u001b[1m]\u001b[0m                                           \n",
      "\u001b[34mINFO    \u001b[0m No label_key inputted, assuming all cells have same label                           \n",
      "\u001b[34mINFO    \u001b[0m Using data from adata.layers\u001b[1m[\u001b[0m\u001b[32m\"counts\"\u001b[0m\u001b[1m]\u001b[0m                                              \n",
      "\u001b[34mINFO    \u001b[0m Computing library size prior per batch                                              \n",
      "\u001b[34mINFO    \u001b[0m Successfully registered anndata object containing \u001b[1;34m15909\u001b[0m cells, \u001b[1;34m2000\u001b[0m vars, \u001b[1;34m17\u001b[0m        \n",
      "         batches, \u001b[1;34m1\u001b[0m labels, and \u001b[1;34m0\u001b[0m proteins. Also registered \u001b[1;34m0\u001b[0m extra categorical covariates   \n",
      "         and \u001b[1;34m0\u001b[0m extra continuous covariates.                                                  \n",
      "\u001b[34mINFO    \u001b[0m Please do not further modify adata until model is trained.                          \n"
     ]
    },
    {
     "name": "stderr",
     "output_type": "stream",
     "text": [
      "/PHShome/ik936/anaconda3/envs/gpu/lib/python3.7/site-packages/scvi/data/_anndata.py:302: UserWarning: Training will be faster when sparse matrix is formatted as CSR. It is safe to cast before model initialization.\n",
      "  \"Training will be faster when sparse matrix is formatted as CSR. It is safe to cast before model initialization.\"\n",
      "GPU available: False, used: False\n",
      "TPU available: False, using: 0 TPU cores\n"
     ]
    },
    {
     "name": "stdout",
     "output_type": "stream",
     "text": [
      "Epoch 23/100:  22%|██▏       | 22/100 [13:20<47:15, 36.35s/it, loss=574, v_num=1]"
     ]
    }
   ],
   "source": [
    "%%time\n",
    "import umap\n",
    "from umap import umap_\n",
    "\n",
    "adatas=[]\n",
    "for tissue in adata_all.obs.Tissue.unique(): \n",
    "    print(tissue)\n",
    "    ## Subset and preprocess\n",
    "    adata = adata_all[adata_all.obs.Tissue == tissue].copy()    \n",
    "    adata.layers[\"counts\"] = adata.X.copy()\n",
    "    sc.pp.normalize_total(adata, target_sum=1e4)\n",
    "    sc.pp.log1p(adata)\n",
    "    adata.raw = adata\n",
    "    \n",
    "    ## scVI\n",
    "    sc.pp.highly_variable_genes(adata, flavor='seurat_v3', layer='counts', n_top_genes=2000, subset=True)    \n",
    "    scvi.data.setup_anndata(adata, layer=\"counts\", batch_key=\"LibraryID\")\n",
    "    vae = scvi.model.SCVI(adata, gene_likelihood='nb')\n",
    "    # vae = scvi.model.SCVI(adata, gene_likelihood='poisson')\n",
    "#     vae.train()\n",
    "    vae.train(max_epochs=100)\n",
    "    adata.obsm[\"X_scVI\"] = vae.get_latent_representation()\n",
    "    \n",
    "    ## UMAP \n",
    "    reducer=umap.umap_.UMAP(random_state=42)\n",
    "    U=reducer.fit(adata.obsm['X_scVI'])\n",
    "    \n",
    "    ## Cache results \n",
    "    fname_out='/data/srlab/ik936/Roche/data/cache/scvi_donors_{}_umap.csv'.format(tissue)\n",
    "    np.savetxt(X=U.embedding_, fname=fname_out, fmt='%.5f', delimiter=',')\n",
    "    fname_out='/data/srlab/ik936/Roche/data/cache/scvi_donors_{}_meta.csv'.format(tissue)\n",
    "    adata.obs.to_csv(fname_out)     \n",
    "    \n",
    "    adatas.append(adata)\n"
   ]
  }
 ],
 "metadata": {
  "kernelspec": {
   "display_name": "Python 3",
   "language": "python",
   "name": "python3"
  },
  "language_info": {
   "codemirror_mode": {
    "name": "ipython",
    "version": 3
   },
   "file_extension": ".py",
   "mimetype": "text/x-python",
   "name": "python",
   "nbconvert_exporter": "python",
   "pygments_lexer": "ipython3",
   "version": "3.7.8"
  },
  "toc-autonumbering": true
 },
 "nbformat": 4,
 "nbformat_minor": 5
}
