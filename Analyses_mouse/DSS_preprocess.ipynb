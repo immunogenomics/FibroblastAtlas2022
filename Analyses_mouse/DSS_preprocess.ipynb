{
 "cells": [
  {
   "cell_type": "markdown",
   "id": "1d478f48-3f22-4b13-8d07-38b90a1e0186",
   "metadata": {},
   "source": [
    "# Load"
   ]
  },
  {
   "cell_type": "markdown",
   "id": "e249aeb8-eead-4d39-88c9-6654ad10b195",
   "metadata": {},
   "source": [
    "\n",
    "## libs"
   ]
  },
  {
   "cell_type": "code",
   "execution_count": 3,
   "id": "8adc9d23-67e5-474f-a84f-e8eab0214cbe",
   "metadata": {},
   "outputs": [],
   "source": [
    "suppressPackageStartupMessages({\n",
    "    source('/data/srlab2/ik936/Roche/R/libs.R')\n",
    "    source('/data/srlab2/ik936/Roche/R/utils.R')    \n",
    "    source('/data/srlab2/ik936/Roche/R/Figures/colors.R')    \n",
    "    source('/data/srlab2/ik936/Roche/R/utils_mapping.R') ## For get_ortho() \n",
    "    source('/data/srlab2/ik936/Roche/R/utils_plotting.R')\n",
    "})\n"
   ]
  },
  {
   "cell_type": "markdown",
   "id": "0f282c80-dd06-426a-bbc8-c27cb7fd2257",
   "metadata": {},
   "source": [
    "## Get FASTQs"
   ]
  },
  {
   "cell_type": "code",
   "execution_count": 2,
   "id": "3a823f11-d841-4583-85fd-4da0a118d5fa",
   "metadata": {},
   "outputs": [],
   "source": [
    "x <- 'ftp://broadilya@kgenftp.kennedy.ox.ac.uk/10_B.fastq.1.gz\n",
    "ftp://broadilya@kgenftp.kennedy.ox.ac.uk/10_B.fastq.2.gz\n",
    "ftp://broadilya@kgenftp.kennedy.ox.ac.uk/11_B.fastq.1.gz\n",
    "ftp://broadilya@kgenftp.kennedy.ox.ac.uk/11_B.fastq.2.gz\n",
    "ftp://broadilya@kgenftp.kennedy.ox.ac.uk/12_B.fastq.1.gz\n",
    "ftp://broadilya@kgenftp.kennedy.ox.ac.uk/12_B.fastq.2.gz\n",
    "ftp://broadilya@kgenftp.kennedy.ox.ac.uk/13_B.fastq.1.gz\n",
    "ftp://broadilya@kgenftp.kennedy.ox.ac.uk/13_B.fastq.2.gz\n",
    "ftp://broadilya@kgenftp.kennedy.ox.ac.uk/14_B.fastq.1.gz\n",
    "ftp://broadilya@kgenftp.kennedy.ox.ac.uk/14_B.fastq.2.gz\n",
    "ftp://broadilya@kgenftp.kennedy.ox.ac.uk/15_B.fastq.1.gz\n",
    "ftp://broadilya@kgenftp.kennedy.ox.ac.uk/15_B.fastq.2.gz\n",
    "ftp://broadilya@kgenftp.kennedy.ox.ac.uk/16_B.fastq.1.gz\n",
    "ftp://broadilya@kgenftp.kennedy.ox.ac.uk/16_B.fastq.2.gz\n",
    "ftp://broadilya@kgenftp.kennedy.ox.ac.uk/17_B.fastq.1.gz\n",
    "ftp://broadilya@kgenftp.kennedy.ox.ac.uk/17_B.fastq.2.gz\n",
    "ftp://broadilya@kgenftp.kennedy.ox.ac.uk/18_B.fastq.1.gz\n",
    "ftp://broadilya@kgenftp.kennedy.ox.ac.uk/18_B.fastq.2.gz\n",
    "ftp://broadilya@kgenftp.kennedy.ox.ac.uk/19_B.fastq.1.gz\n",
    "ftp://broadilya@kgenftp.kennedy.ox.ac.uk/19_B.fastq.2.gz\n",
    "ftp://broadilya@kgenftp.kennedy.ox.ac.uk/1_B.fastq.1.gz\n",
    "ftp://broadilya@kgenftp.kennedy.ox.ac.uk/1_B.fastq.2.gz\n",
    "ftp://broadilya@kgenftp.kennedy.ox.ac.uk/20_B.fastq.1.gz\n",
    "ftp://broadilya@kgenftp.kennedy.ox.ac.uk/20_B.fastq.2.gz\n",
    "ftp://broadilya@kgenftp.kennedy.ox.ac.uk/21_B.fastq.1.gz\n",
    "ftp://broadilya@kgenftp.kennedy.ox.ac.uk/21_B.fastq.2.gz\n",
    "ftp://broadilya@kgenftp.kennedy.ox.ac.uk/22_B.fastq.1.gz\n",
    "ftp://broadilya@kgenftp.kennedy.ox.ac.uk/22_B.fastq.2.gz\n",
    "ftp://broadilya@kgenftp.kennedy.ox.ac.uk/23_B.fastq.1.gz\n",
    "ftp://broadilya@kgenftp.kennedy.ox.ac.uk/23_B.fastq.2.gz\n",
    "ftp://broadilya@kgenftp.kennedy.ox.ac.uk/24_B.fastq.1.gz\n",
    "ftp://broadilya@kgenftp.kennedy.ox.ac.uk/24_B.fastq.2.gz\n",
    "ftp://broadilya@kgenftp.kennedy.ox.ac.uk/2_B.fastq.1.gz\n",
    "ftp://broadilya@kgenftp.kennedy.ox.ac.uk/2_B.fastq.2.gz\n",
    "ftp://broadilya@kgenftp.kennedy.ox.ac.uk/3_B.fastq.1.gz\n",
    "ftp://broadilya@kgenftp.kennedy.ox.ac.uk/3_B.fastq.2.gz\n",
    "ftp://broadilya@kgenftp.kennedy.ox.ac.uk/4_B.fastq.1.gz\n",
    "ftp://broadilya@kgenftp.kennedy.ox.ac.uk/4_B.fastq.2.gz\n",
    "ftp://broadilya@kgenftp.kennedy.ox.ac.uk/5_B.fastq.1.gz\n",
    "ftp://broadilya@kgenftp.kennedy.ox.ac.uk/5_B.fastq.2.gz\n",
    "ftp://broadilya@kgenftp.kennedy.ox.ac.uk/6_B.fastq.1.gz\n",
    "ftp://broadilya@kgenftp.kennedy.ox.ac.uk/6_B.fastq.2.gz\n",
    "ftp://broadilya@kgenftp.kennedy.ox.ac.uk/7_B.fastq.1.gz\n",
    "ftp://broadilya@kgenftp.kennedy.ox.ac.uk/7_B.fastq.2.gz\n",
    "ftp://broadilya@kgenftp.kennedy.ox.ac.uk/8_B.fastq.1.gz\n",
    "ftp://broadilya@kgenftp.kennedy.ox.ac.uk/8_B.fastq.2.gz\n",
    "ftp://broadilya@kgenftp.kennedy.ox.ac.uk/9_B.fastq.1.gz\n",
    "ftp://broadilya@kgenftp.kennedy.ox.ac.uk/9_B.fastq.2.gz'"
   ]
  },
  {
   "cell_type": "code",
   "execution_count": 1,
   "id": "86a5fd23-cbee-4451-869c-4e70b345eb34",
   "metadata": {},
   "outputs": [],
   "source": [
    "# x <- 'ftp://broadilya@kgenftp.kennedy.ox.ac.uk/10_F.fastq.1.gz\n",
    "# ftp://broadilya@kgenftp.kennedy.ox.ac.uk/10_F.fastq.2.gz\n",
    "# ftp://broadilya@kgenftp.kennedy.ox.ac.uk/11_F.fastq.1.gz\n",
    "# ftp://broadilya@kgenftp.kennedy.ox.ac.uk/11_F.fastq.2.gz\n",
    "# ftp://broadilya@kgenftp.kennedy.ox.ac.uk/13_F.fastq.1.gz\n",
    "# ftp://broadilya@kgenftp.kennedy.ox.ac.uk/13_F.fastq.2.gz\n",
    "# ftp://broadilya@kgenftp.kennedy.ox.ac.uk/14_F.fastq.1.gz\n",
    "# ftp://broadilya@kgenftp.kennedy.ox.ac.uk/14_F.fastq.2.gz\n",
    "# ftp://broadilya@kgenftp.kennedy.ox.ac.uk/16_F.fastq.1.gz\n",
    "# ftp://broadilya@kgenftp.kennedy.ox.ac.uk/16_F.fastq.2.gz\n",
    "# ftp://broadilya@kgenftp.kennedy.ox.ac.uk/17_F.fastq.1.gz\n",
    "# ftp://broadilya@kgenftp.kennedy.ox.ac.uk/17_F.fastq.2.gz\n",
    "# ftp://broadilya@kgenftp.kennedy.ox.ac.uk/19_F.fastq.1.gz\n",
    "# ftp://broadilya@kgenftp.kennedy.ox.ac.uk/19_F.fastq.2.gz\n",
    "# ftp://broadilya@kgenftp.kennedy.ox.ac.uk/1_F.fastq.1.gz\n",
    "# ftp://broadilya@kgenftp.kennedy.ox.ac.uk/1_F.fastq.2.gz\n",
    "# ftp://broadilya@kgenftp.kennedy.ox.ac.uk/20_F.fastq.1.gz\n",
    "# ftp://broadilya@kgenftp.kennedy.ox.ac.uk/20_F.fastq.2.gz\n",
    "# ftp://broadilya@kgenftp.kennedy.ox.ac.uk/22_F.fastq.1.gz\n",
    "# ftp://broadilya@kgenftp.kennedy.ox.ac.uk/22_F.fastq.2.gz\n",
    "# ftp://broadilya@kgenftp.kennedy.ox.ac.uk/23_F.fastq.1.gz\n",
    "# ftp://broadilya@kgenftp.kennedy.ox.ac.uk/23_F.fastq.2.gz\n",
    "# ftp://broadilya@kgenftp.kennedy.ox.ac.uk/25_F.fastq.1.gz\n",
    "# ftp://broadilya@kgenftp.kennedy.ox.ac.uk/25_F.fastq.2.gz\n",
    "# ftp://broadilya@kgenftp.kennedy.ox.ac.uk/26_F.fastq.1.gz\n",
    "# ftp://broadilya@kgenftp.kennedy.ox.ac.uk/26_F.fastq.2.gz\n",
    "# ftp://broadilya@kgenftp.kennedy.ox.ac.uk/27_F.fastq.1.gz\n",
    "# ftp://broadilya@kgenftp.kennedy.ox.ac.uk/27_F.fastq.2.gz\n",
    "# ftp://broadilya@kgenftp.kennedy.ox.ac.uk/28_F.fastq.1.gz\n",
    "# ftp://broadilya@kgenftp.kennedy.ox.ac.uk/28_F.fastq.2.gz\n",
    "# ftp://broadilya@kgenftp.kennedy.ox.ac.uk/29_F.fastq.1.gz\n",
    "# ftp://broadilya@kgenftp.kennedy.ox.ac.uk/29_F.fastq.2.gz\n",
    "# ftp://broadilya@kgenftp.kennedy.ox.ac.uk/2_F.fastq.1.gz\n",
    "# ftp://broadilya@kgenftp.kennedy.ox.ac.uk/2_F.fastq.2.gz\n",
    "# ftp://broadilya@kgenftp.kennedy.ox.ac.uk/30_F.fastq.1.gz\n",
    "# ftp://broadilya@kgenftp.kennedy.ox.ac.uk/30_F.fastq.2.gz\n",
    "# ftp://broadilya@kgenftp.kennedy.ox.ac.uk/31_F.fastq.1.gz\n",
    "# ftp://broadilya@kgenftp.kennedy.ox.ac.uk/31_F.fastq.2.gz\n",
    "# ftp://broadilya@kgenftp.kennedy.ox.ac.uk/32_F.fastq.1.gz\n",
    "# ftp://broadilya@kgenftp.kennedy.ox.ac.uk/32_F.fastq.2.gz\n",
    "# ftp://broadilya@kgenftp.kennedy.ox.ac.uk/33_F.fastq.1.gz\n",
    "# ftp://broadilya@kgenftp.kennedy.ox.ac.uk/33_F.fastq.2.gz\n",
    "# ftp://broadilya@kgenftp.kennedy.ox.ac.uk/34_F.fastq.1.gz\n",
    "# ftp://broadilya@kgenftp.kennedy.ox.ac.uk/34_F.fastq.2.gz\n",
    "# ftp://broadilya@kgenftp.kennedy.ox.ac.uk/35_F.fastq.1.gz\n",
    "# ftp://broadilya@kgenftp.kennedy.ox.ac.uk/35_F.fastq.2.gz\n",
    "# ftp://broadilya@kgenftp.kennedy.ox.ac.uk/36_F.fastq.1.gz\n",
    "# ftp://broadilya@kgenftp.kennedy.ox.ac.uk/36_F.fastq.2.gz\n",
    "# ftp://broadilya@kgenftp.kennedy.ox.ac.uk/37_F.fastq.1.gz\n",
    "# ftp://broadilya@kgenftp.kennedy.ox.ac.uk/37_F.fastq.2.gz\n",
    "# ftp://broadilya@kgenftp.kennedy.ox.ac.uk/38_F.fastq.1.gz\n",
    "# ftp://broadilya@kgenftp.kennedy.ox.ac.uk/38_F.fastq.2.gz\n",
    "# ftp://broadilya@kgenftp.kennedy.ox.ac.uk/39_F.fastq.1.gz\n",
    "# ftp://broadilya@kgenftp.kennedy.ox.ac.uk/39_F.fastq.2.gz\n",
    "# ftp://broadilya@kgenftp.kennedy.ox.ac.uk/41_F.fastq.1.gz\n",
    "# ftp://broadilya@kgenftp.kennedy.ox.ac.uk/41_F.fastq.2.gz\n",
    "# ftp://broadilya@kgenftp.kennedy.ox.ac.uk/42_F.fastq.1.gz\n",
    "# ftp://broadilya@kgenftp.kennedy.ox.ac.uk/42_F.fastq.2.gz\n",
    "# ftp://broadilya@kgenftp.kennedy.ox.ac.uk/4_F.fastq.1.gz\n",
    "# ftp://broadilya@kgenftp.kennedy.ox.ac.uk/4_F.fastq.2.gz\n",
    "# ftp://broadilya@kgenftp.kennedy.ox.ac.uk/5_F.fastq.1.gz\n",
    "# ftp://broadilya@kgenftp.kennedy.ox.ac.uk/5_F.fastq.2.gz\n",
    "# ftp://broadilya@kgenftp.kennedy.ox.ac.uk/7_F.fastq.1.gz\n",
    "# ftp://broadilya@kgenftp.kennedy.ox.ac.uk/7_F.fastq.2.gz\n",
    "# ftp://broadilya@kgenftp.kennedy.ox.ac.uk/8_F.fastq.1.gz\n",
    "# ftp://broadilya@kgenftp.kennedy.ox.ac.uk/8_F.fastq.2.gz'"
   ]
  },
  {
   "cell_type": "code",
   "execution_count": 7,
   "id": "9985dcd9-76ad-470b-8b27-452b4a7a87cb",
   "metadata": {},
   "outputs": [],
   "source": [
    "# writeLines(\n",
    "#     text = paste0(\"wget --password='Z%m5tu68J9P49tK\\' \", str_split(x, '\\n')[[1]]), \n",
    "#     con = '/data/srlab2/ik936/Roche/data/DSS/fastqs/fastqs_manifest.sh'\n",
    "# )"
   ]
  },
  {
   "cell_type": "code",
   "execution_count": 11,
   "id": "724aefc8-0917-4e5a-9956-ae5dca4e978c",
   "metadata": {},
   "outputs": [],
   "source": [
    "# ## Download 12 files at a time \n",
    "# setwd('/data/srlab2/ik936/Roche/data/DSS/fastqs')\n",
    "# cmds <- paste0(\"wget --password='Z%m5tu68J9P49tK\\' \", str_split(x, '\\n')[[1]])\n",
    "# plan(multicore)\n",
    "# future_map(cmds, system)\n",
    "# setwd('/data/srlab2/ik936/Roche/R/Revisions')"
   ]
  },
  {
   "cell_type": "markdown",
   "id": "6cce3295-ae00-4526-bb87-a8e23b9dec64",
   "metadata": {
    "tags": []
   },
   "source": [
    "# Kallisto "
   ]
  },
  {
   "cell_type": "code",
   "execution_count": 5,
   "id": "a732e907-565d-42b3-9973-f01da8a8f98e",
   "metadata": {},
   "outputs": [],
   "source": [
    "fastq_dir <- '/data/srlab2/ik936/Roche/data/DSS/fastqs/'\n",
    "kb_outdir <- '/data/srlab2/ik936/Roche/data/DSS/KB'\n",
    "kallisto_index <- '/data/srlab/ik936/kallisto/transcriptome_gencode25_mm.idx'\n",
    "mouse_t2g <- '/data/srlab/ik936/kallisto/transcripts_to_genes.txt'\n",
    "\n",
    "# dir.create(kb_outdir)"
   ]
  },
  {
   "cell_type": "markdown",
   "id": "ed520258-9c42-4d73-bc59-de92aeadb34f",
   "metadata": {},
   "source": [
    "## Fastq df"
   ]
  },
  {
   "cell_type": "code",
   "execution_count": 6,
   "id": "f108b308-3b83-4af4-97d4-87447ca4435a",
   "metadata": {},
   "outputs": [
    {
     "data": {
      "text/html": [
       "<table class=\"dataframe\">\n",
       "<caption>A tibble: 6 × 3</caption>\n",
       "<thead>\n",
       "\t<tr><th scope=col>fname</th><th scope=col>ReadNum</th><th scope=col>LibraryID</th></tr>\n",
       "\t<tr><th scope=col>&lt;chr&gt;</th><th scope=col>&lt;chr&gt;</th><th scope=col>&lt;chr&gt;</th></tr>\n",
       "</thead>\n",
       "<tbody>\n",
       "\t<tr><td>/data/srlab2/ik936/Roche/data/DSS/fastqs//1_B.fastq.1.gz </td><td>R1</td><td>Lib1_B </td></tr>\n",
       "\t<tr><td>/data/srlab2/ik936/Roche/data/DSS/fastqs//1_B.fastq.2.gz </td><td>R2</td><td>Lib1_B </td></tr>\n",
       "\t<tr><td>/data/srlab2/ik936/Roche/data/DSS/fastqs//1_F.fastq.1.gz </td><td>R1</td><td>Lib1_F </td></tr>\n",
       "\t<tr><td>/data/srlab2/ik936/Roche/data/DSS/fastqs//1_F.fastq.2.gz </td><td>R2</td><td>Lib1_F </td></tr>\n",
       "\t<tr><td>/data/srlab2/ik936/Roche/data/DSS/fastqs//10_B.fastq.1.gz</td><td>R1</td><td>Lib10_B</td></tr>\n",
       "\t<tr><td>/data/srlab2/ik936/Roche/data/DSS/fastqs//10_B.fastq.2.gz</td><td>R2</td><td>Lib10_B</td></tr>\n",
       "</tbody>\n",
       "</table>\n"
      ],
      "text/latex": [
       "A tibble: 6 × 3\n",
       "\\begin{tabular}{lll}\n",
       " fname & ReadNum & LibraryID\\\\\n",
       " <chr> & <chr> & <chr>\\\\\n",
       "\\hline\n",
       "\t /data/srlab2/ik936/Roche/data/DSS/fastqs//1\\_B.fastq.1.gz  & R1 & Lib1\\_B \\\\\n",
       "\t /data/srlab2/ik936/Roche/data/DSS/fastqs//1\\_B.fastq.2.gz  & R2 & Lib1\\_B \\\\\n",
       "\t /data/srlab2/ik936/Roche/data/DSS/fastqs//1\\_F.fastq.1.gz  & R1 & Lib1\\_F \\\\\n",
       "\t /data/srlab2/ik936/Roche/data/DSS/fastqs//1\\_F.fastq.2.gz  & R2 & Lib1\\_F \\\\\n",
       "\t /data/srlab2/ik936/Roche/data/DSS/fastqs//10\\_B.fastq.1.gz & R1 & Lib10\\_B\\\\\n",
       "\t /data/srlab2/ik936/Roche/data/DSS/fastqs//10\\_B.fastq.2.gz & R2 & Lib10\\_B\\\\\n",
       "\\end{tabular}\n"
      ],
      "text/markdown": [
       "\n",
       "A tibble: 6 × 3\n",
       "\n",
       "| fname &lt;chr&gt; | ReadNum &lt;chr&gt; | LibraryID &lt;chr&gt; |\n",
       "|---|---|---|\n",
       "| /data/srlab2/ik936/Roche/data/DSS/fastqs//1_B.fastq.1.gz  | R1 | Lib1_B  |\n",
       "| /data/srlab2/ik936/Roche/data/DSS/fastqs//1_B.fastq.2.gz  | R2 | Lib1_B  |\n",
       "| /data/srlab2/ik936/Roche/data/DSS/fastqs//1_F.fastq.1.gz  | R1 | Lib1_F  |\n",
       "| /data/srlab2/ik936/Roche/data/DSS/fastqs//1_F.fastq.2.gz  | R2 | Lib1_F  |\n",
       "| /data/srlab2/ik936/Roche/data/DSS/fastqs//10_B.fastq.1.gz | R1 | Lib10_B |\n",
       "| /data/srlab2/ik936/Roche/data/DSS/fastqs//10_B.fastq.2.gz | R2 | Lib10_B |\n",
       "\n"
      ],
      "text/plain": [
       "  fname                                                     ReadNum LibraryID\n",
       "1 /data/srlab2/ik936/Roche/data/DSS/fastqs//1_B.fastq.1.gz  R1      Lib1_B   \n",
       "2 /data/srlab2/ik936/Roche/data/DSS/fastqs//1_B.fastq.2.gz  R2      Lib1_B   \n",
       "3 /data/srlab2/ik936/Roche/data/DSS/fastqs//1_F.fastq.1.gz  R1      Lib1_F   \n",
       "4 /data/srlab2/ik936/Roche/data/DSS/fastqs//1_F.fastq.2.gz  R2      Lib1_F   \n",
       "5 /data/srlab2/ik936/Roche/data/DSS/fastqs//10_B.fastq.1.gz R1      Lib10_B  \n",
       "6 /data/srlab2/ik936/Roche/data/DSS/fastqs//10_B.fastq.2.gz R2      Lib10_B  "
      ]
     },
     "metadata": {},
     "output_type": "display_data"
    }
   ],
   "source": [
    "fastq_df <- tibble(\n",
    "    fname = list.files(fastq_dir, recursive = TRUE, pattern='fastq.\\\\d.gz$', full.names = TRUE),\n",
    "    ReadNum = gsub('.*(\\\\d).gz', 'R\\\\1', fname),\n",
    "    LibraryID = gsub('.*?(\\\\d+_.).fastq.\\\\d.gz', 'Lib\\\\1', fname)\n",
    ")\n",
    "\n",
    "head(fastq_df)\n"
   ]
  },
  {
   "cell_type": "code",
   "execution_count": null,
   "id": "879e7660-603c-44b9-af51-d82986f88e1e",
   "metadata": {},
   "outputs": [],
   "source": [
    "# # count_dir <- '/data/srlab2/ik936/AMP_AIM/data/vizgen/cos_kallisto'\n",
    "\n",
    "# ## Kallisto v0.42\n",
    "# cmd_str <- '/source/kallisto/0.42.3/bin/kallisto quant -i {kallisto_index} -t 8 -o {kb_outdir}/{LibraryID} {R1} {R2}'\n",
    "# # cmd_str <- 'kallisto quant -i {kallisto_index} -t 16 -o {kb_outdir}/{LibraryID} {fastq_dir}/{R1} {fastq_dir}/{R2}'\n",
    "\n",
    "# ## Kallisto v0.46\n",
    "# # cmd_str <- 'kallisto quant -i {outdir}/ensembl104.idx -t 16 -g {fname_gtf} -o {count_dir}/{DonorID} {fastq_dir}/{R1} {fastq_dir}/{R2}'\n",
    "\n",
    "# fastq_df %>% \n",
    "# #     left_join(md5_res, by = 'fname') %>% \n",
    "# #     subset(downloaded & !is.na(md5sum_computed)) %>% \n",
    "#     dplyr::select(LibraryID, fname, ReadNum) %>% \n",
    "#     arrange(LibraryID) %>% \n",
    "#     tidyr::spread(ReadNum, fname) %>% \n",
    "#     dplyr::mutate(cmd = glue(cmd_str)) %>% \n",
    "#     with(cmd) %>% \n",
    "# #     with(writeLines(cmd))\n",
    "#     future_map(system)\n"
   ]
  },
  {
   "cell_type": "markdown",
   "id": "226132b2-709d-4eb9-820e-1bb860090085",
   "metadata": {},
   "source": [
    "## Matrices"
   ]
  },
  {
   "cell_type": "code",
   "execution_count": 7,
   "id": "7f5ffa65-9e9a-4d89-b185-a5801c7c4a81",
   "metadata": {},
   "outputs": [],
   "source": [
    "mats <- map(unique(fastq_df$LibraryID), function(.libid) {\n",
    "    fname <- glue('/data/srlab2/ik936/Roche/data/DSS/KB/{.libid}/abundance.tsv')\n",
    "    if (file.exists(fname)) {\n",
    "        res <- fread(fname) %>% \n",
    "            cbind(LibraryID = .libid)\n",
    "    } else {\n",
    "        return(NULL)\n",
    "    }\n",
    "}) \n",
    "\n",
    "## Remove failed kallisto runs \n",
    "mats <- mats[which(!map_lgl(mats, is.null))]"
   ]
  },
  {
   "cell_type": "code",
   "execution_count": 8,
   "id": "a30c7306-3237-400d-b70b-3f52106858c7",
   "metadata": {},
   "outputs": [],
   "source": [
    "## Put it all together! \n",
    "counts_tidy <- bind_rows(mats)\n",
    "\n",
    "counts <- counts_tidy %>% \n",
    "    dplyr::select(target_id, est_counts, LibraryID) %>% \n",
    "    tidyr::spread(LibraryID, est_counts) %>% \n",
    "    tibble::column_to_rownames('target_id')"
   ]
  },
  {
   "cell_type": "code",
   "execution_count": 9,
   "id": "a33fc284-c09c-4d76-9f16-1473fe0b2fc5",
   "metadata": {},
   "outputs": [],
   "source": [
    "## Convert to gene symbols \n",
    "gtf <- fread(mouse_t2g, header = FALSE) %>% \n",
    "    data.frame() %>%     \n",
    "    tibble::column_to_rownames('V1')\n",
    "design <- Matrix::sparse.model.matrix(~0+V3, gtf)[rownames(counts), ]\n",
    "colnames(design) <- gsub('^V3', '', colnames(design))\n",
    "\n",
    "counts <- (t(design) %*% as.matrix(counts))"
   ]
  },
  {
   "cell_type": "code",
   "execution_count": 10,
   "id": "88e6ff58-dc51-4a20-9334-6c9eddd6e089",
   "metadata": {},
   "outputs": [
    {
     "data": {
      "text/html": [
       "<style>\n",
       ".list-inline {list-style: none; margin:0; padding: 0}\n",
       ".list-inline>li {display: inline-block}\n",
       ".list-inline>li:not(:last-child)::after {content: \"\\00b7\"; padding: 0 .5ex}\n",
       "</style>\n",
       "<ol class=list-inline><li>55367</li><li>57</li></ol>\n"
      ],
      "text/latex": [
       "\\begin{enumerate*}\n",
       "\\item 55367\n",
       "\\item 57\n",
       "\\end{enumerate*}\n"
      ],
      "text/markdown": [
       "1. 55367\n",
       "2. 57\n",
       "\n",
       "\n"
      ],
      "text/plain": [
       "[1] 55367    57"
      ]
     },
     "metadata": {},
     "output_type": "display_data"
    }
   ],
   "source": [
    "dim(counts)"
   ]
  },
  {
   "cell_type": "markdown",
   "id": "a09be9b1-e815-4d4c-bf19-e6fe15126f03",
   "metadata": {},
   "source": [
    "## metadata "
   ]
  },
  {
   "cell_type": "code",
   "execution_count": 11,
   "id": "e06a6379-e143-4573-8d37-297e124cc9c3",
   "metadata": {},
   "outputs": [
    {
     "data": {
      "text/html": [
       "<table class=\"dataframe\">\n",
       "<caption>A tibble: 6 × 7</caption>\n",
       "<thead>\n",
       "\t<tr><th scope=col>LibraryID</th><th scope=col>Code</th><th scope=col>TimePoint</th><th scope=col>TimeInt</th><th scope=col>Case</th><th scope=col>Cage</th><th scope=col>Depth</th></tr>\n",
       "\t<tr><th scope=col>&lt;chr&gt;</th><th scope=col>&lt;int&gt;</th><th scope=col>&lt;chr&gt;</th><th scope=col>&lt;int&gt;</th><th scope=col>&lt;chr&gt;</th><th scope=col>&lt;chr&gt;</th><th scope=col>&lt;dbl&gt;</th></tr>\n",
       "</thead>\n",
       "<tbody>\n",
       "\t<tr><td>Lib1_B </td><td> 1</td><td>D0</td><td>0</td><td>SS </td><td>G</td><td>27689372</td></tr>\n",
       "\t<tr><td>Lib1_F </td><td> 1</td><td>D0</td><td>0</td><td>SS </td><td>G</td><td>33747055</td></tr>\n",
       "\t<tr><td>Lib10_B</td><td>10</td><td>D4</td><td>4</td><td>DSS</td><td>B</td><td>17674678</td></tr>\n",
       "\t<tr><td>Lib10_F</td><td>10</td><td>D4</td><td>4</td><td>DSS</td><td>B</td><td>27980662</td></tr>\n",
       "\t<tr><td>Lib11_B</td><td>11</td><td>D4</td><td>4</td><td>DSS</td><td>C</td><td>25765938</td></tr>\n",
       "\t<tr><td>Lib11_F</td><td>11</td><td>D4</td><td>4</td><td>DSS</td><td>C</td><td>32377792</td></tr>\n",
       "</tbody>\n",
       "</table>\n"
      ],
      "text/latex": [
       "A tibble: 6 × 7\n",
       "\\begin{tabular}{lllllll}\n",
       " LibraryID & Code & TimePoint & TimeInt & Case & Cage & Depth\\\\\n",
       " <chr> & <int> & <chr> & <int> & <chr> & <chr> & <dbl>\\\\\n",
       "\\hline\n",
       "\t Lib1\\_B  &  1 & D0 & 0 & SS  & G & 27689372\\\\\n",
       "\t Lib1\\_F  &  1 & D0 & 0 & SS  & G & 33747055\\\\\n",
       "\t Lib10\\_B & 10 & D4 & 4 & DSS & B & 17674678\\\\\n",
       "\t Lib10\\_F & 10 & D4 & 4 & DSS & B & 27980662\\\\\n",
       "\t Lib11\\_B & 11 & D4 & 4 & DSS & C & 25765938\\\\\n",
       "\t Lib11\\_F & 11 & D4 & 4 & DSS & C & 32377792\\\\\n",
       "\\end{tabular}\n"
      ],
      "text/markdown": [
       "\n",
       "A tibble: 6 × 7\n",
       "\n",
       "| LibraryID &lt;chr&gt; | Code &lt;int&gt; | TimePoint &lt;chr&gt; | TimeInt &lt;int&gt; | Case &lt;chr&gt; | Cage &lt;chr&gt; | Depth &lt;dbl&gt; |\n",
       "|---|---|---|---|---|---|---|\n",
       "| Lib1_B  |  1 | D0 | 0 | SS  | G | 27689372 |\n",
       "| Lib1_F  |  1 | D0 | 0 | SS  | G | 33747055 |\n",
       "| Lib10_B | 10 | D4 | 4 | DSS | B | 17674678 |\n",
       "| Lib10_F | 10 | D4 | 4 | DSS | B | 27980662 |\n",
       "| Lib11_B | 11 | D4 | 4 | DSS | C | 25765938 |\n",
       "| Lib11_F | 11 | D4 | 4 | DSS | C | 32377792 |\n",
       "\n"
      ],
      "text/plain": [
       "  LibraryID Code TimePoint TimeInt Case Cage Depth   \n",
       "1 Lib1_B     1   D0        0       SS   G    27689372\n",
       "2 Lib1_F     1   D0        0       SS   G    33747055\n",
       "3 Lib10_B   10   D4        4       DSS  B    17674678\n",
       "4 Lib10_F   10   D4        4       DSS  B    27980662\n",
       "5 Lib11_B   11   D4        4       DSS  C    25765938\n",
       "6 Lib11_F   11   D4        4       DSS  C    32377792"
      ]
     },
     "metadata": {},
     "output_type": "display_data"
    }
   ],
   "source": [
    "meta_data <- tibble(\n",
    "    LibraryID = colnames(counts),\n",
    "    Code = as.integer(gsub('Lib(\\\\d+)_.', '\\\\1', LibraryID)),\n",
    "    TimePoint = case_when(\n",
    "        Code == 1 ~ 'D0',\n",
    "        Code %in% 2:8 ~ 'D2',\n",
    "        Code %in% 9:15 ~ 'D4',\n",
    "        Code %in% 16:22 ~ 'D7',\n",
    "        Code %in% 23:29 ~ 'D9',\n",
    "        Code %in% 30:35 ~ 'D11',\n",
    "        Code %in% 36:42 ~ 'D14'\n",
    "    ),\n",
    "    TimeInt = as.integer(gsub('D', '', TimePoint)),\n",
    "    Case = case_when(\n",
    "        Code %in% c(1, 8, 15, 22, 29, 36) ~ 'SS', \n",
    "        TRUE ~ 'DSS'\n",
    "    ), \n",
    "    Cage = case_when(\n",
    "        Code %in% seq(2, 37, by = 7) ~ 'A',\n",
    "        Code %in% seq(3, 38, by = 7) ~ 'B',\n",
    "        Code %in% seq(4, 39, by = 7) ~ 'C',\n",
    "        Code %in% seq(5, 40, by = 7) ~ 'D',\n",
    "        Code %in% seq(6, 41, by = 7) ~ 'E',\n",
    "        Code %in% seq(7, 42, by = 7) ~ 'F',\n",
    "        Code %in% seq(1, 36, by = 7) ~ 'G'\n",
    "    ), \n",
    "    Depth = colSums(counts)\n",
    ")\n",
    "head(meta_data)"
   ]
  },
  {
   "cell_type": "code",
   "execution_count": 12,
   "id": "38284940-14b1-46c9-8c60-972244f2054c",
   "metadata": {},
   "outputs": [
    {
     "data": {
      "text/html": [
       "<style>\n",
       ".dl-inline {width: auto; margin:0; padding: 0}\n",
       ".dl-inline>dt, .dl-inline>dd {float: none; width: auto; display: inline-block}\n",
       ".dl-inline>dt::after {content: \":\\0020\"; padding-right: .5ex}\n",
       ".dl-inline>dt:not(:first-of-type) {padding-left: .5ex}\n",
       "</style><dl class=dl-inline><dt>0%</dt><dd>17.6746779868376</dd><dt>100%</dt><dd>36.6839268248001</dd></dl>\n"
      ],
      "text/latex": [
       "\\begin{description*}\n",
       "\\item[0\\textbackslash{}\\%] 17.6746779868376\n",
       "\\item[100\\textbackslash{}\\%] 36.6839268248001\n",
       "\\end{description*}\n"
      ],
      "text/markdown": [
       "0%\n",
       ":   17.6746779868376100%\n",
       ":   36.6839268248001\n",
       "\n"
      ],
      "text/plain": [
       "      0%     100% \n",
       "17.67468 36.68393 "
      ]
     },
     "metadata": {},
     "output_type": "display_data"
    }
   ],
   "source": [
    "## 21 to 37 million reads per library \n",
    "quantile(meta_data$Depth, c(0, 1))/1e6"
   ]
  },
  {
   "cell_type": "markdown",
   "id": "39a5ecbd-d9ad-45c2-8ee1-57f0a9308459",
   "metadata": {},
   "source": [
    "## Subset to fibroblasts only "
   ]
  },
  {
   "cell_type": "code",
   "execution_count": 14,
   "id": "04e3a793-b265-4a6d-a78c-9bab749a22da",
   "metadata": {},
   "outputs": [],
   "source": [
    "meta_data <- meta_data %>% \n",
    "    subset(\n",
    "        Code %in% 1:24 & grepl('_B', LibraryID) | \n",
    "        Code %in% 25:42 & grepl('_F', LibraryID) \n",
    "    ) \n",
    "counts <- counts[, meta_data$LibraryID]"
   ]
  },
  {
   "cell_type": "code",
   "execution_count": 15,
   "id": "626aa743-7f42-4e10-881e-0c02d522dc75",
   "metadata": {},
   "outputs": [
    {
     "data": {
      "text/html": [
       "41"
      ],
      "text/latex": [
       "41"
      ],
      "text/markdown": [
       "41"
      ],
      "text/plain": [
       "[1] 41"
      ]
     },
     "metadata": {},
     "output_type": "display_data"
    }
   ],
   "source": [
    "nrow(meta_data)"
   ]
  },
  {
   "cell_type": "markdown",
   "id": "4bd7e138-f774-4976-862e-ae7a24fb9e48",
   "metadata": {},
   "source": [
    "## Cache"
   ]
  },
  {
   "cell_type": "code",
   "execution_count": 16,
   "id": "70ef85c5-fc88-4c2b-91be-616964b9f818",
   "metadata": {},
   "outputs": [],
   "source": [
    "saveRDS(counts, '/data/srlab2/ik936/Roche/data/DSS/cache/counts.rds')\n",
    "saveRDS(meta_data, '/data/srlab2/ik936/Roche/data/DSS/cache/metadata.rds')"
   ]
  },
  {
   "cell_type": "markdown",
   "id": "650c0a67-55ca-4580-b8d7-74cf031d12e8",
   "metadata": {},
   "source": [
    "# Normalize etc. "
   ]
  },
  {
   "cell_type": "code",
   "execution_count": 20,
   "id": "ed714cb1-bb54-4cd3-825c-076177e4063d",
   "metadata": {},
   "outputs": [
    {
     "name": "stderr",
     "output_type": "stream",
     "text": [
      "Warning message:\n",
      "“Setting row names on a tibble is deprecated.”\n"
     ]
    }
   ],
   "source": [
    "counts <- readRDS('/data/srlab2/ik936/Roche/data/DSS/cache/counts.rds')\n",
    "meta_data <- readRDS('/data/srlab2/ik936/Roche/data/DSS/cache/metadata.rds')\n",
    "rownames(meta_data) <- meta_data$LibraryID"
   ]
  },
  {
   "cell_type": "markdown",
   "id": "109d9616-f48e-49fb-81fb-fc3c47a7f9cf",
   "metadata": {},
   "source": [
    "## logCPM"
   ]
  },
  {
   "cell_type": "code",
   "execution_count": 8,
   "id": "22076959-067b-4585-8099-23a4b1cfd896",
   "metadata": {},
   "outputs": [],
   "source": [
    "logcpm <- log1p(1e6 * (counts %*% Matrix::Diagonal(x = 1/Matrix::colSums(counts))))\n"
   ]
  },
  {
   "cell_type": "markdown",
   "id": "384417b5-a2fa-4623-aea3-eba48907bc13",
   "metadata": {},
   "source": [
    "## sample plot"
   ]
  },
  {
   "cell_type": "code",
   "execution_count": 21,
   "id": "2558738e-2e9f-465d-a23f-8f4911049adc",
   "metadata": {},
   "outputs": [
    {
     "name": "stderr",
     "output_type": "stream",
     "text": [
      "`geom_smooth()` using method = 'loess' and formula 'y ~ x'\n",
      "\n",
      "Warning message in simpleLoess(y, x, w, span, degree = degree, parametric = parametric, :\n",
      "“pseudoinverse used at 9”\n",
      "Warning message in simpleLoess(y, x, w, span, degree = degree, parametric = parametric, :\n",
      "“neighborhood radius 5”\n",
      "Warning message in simpleLoess(y, x, w, span, degree = degree, parametric = parametric, :\n",
      "“reciprocal condition number  9.4448e-18”\n",
      "Warning message in predLoess(object$y, object$x, newx = if (is.null(newdata)) object$x else if (is.data.frame(newdata)) as.matrix(model.frame(delete.response(terms(object)), :\n",
      "“pseudoinverse used at 9”\n",
      "Warning message in predLoess(object$y, object$x, newx = if (is.null(newdata)) object$x else if (is.data.frame(newdata)) as.matrix(model.frame(delete.response(terms(object)), :\n",
      "“neighborhood radius 5”\n",
      "Warning message in predLoess(object$y, object$x, newx = if (is.null(newdata)) object$x else if (is.data.frame(newdata)) as.matrix(model.frame(delete.response(terms(object)), :\n",
      "“reciprocal condition number  9.4448e-18”\n"
     ]
    },
    {
     "data": {
      "image/png": "[encoded data removed]",
      "text/plain": [
       "plot without title"
      ]
     },
     "metadata": {
      "image/png": {
       "height": 240,
       "width": 360
      }
     },
     "output_type": "display_data"
    }
   ],
   "source": [
    "fig.size(4, 6)\n",
    "\n",
    "meta_data[colnames(dlogcpm), ] %>% \n",
    "    cbind(val = dlogcpm['Thy1', ]) %>% \n",
    "    ggplot(aes(TimeInt, val)) + \n",
    "    geom_point(shape = 21, position = position_jitter(width = .2, height = 0)) + \n",
    "    geom_smooth() + \n",
    "    scale_x_continuous(breaks = unique(meta_data$TimeInt)) + \n",
    "    geom_vline(xintercept = 6, linetype = 2, color = muted('red')) + \n",
    "    scale_color_tableau() + \n",
    "    geom_hline(yintercept = 0, linetype = 2) + \n",
    "    NULL        \n"
   ]
  },
  {
   "cell_type": "markdown",
   "id": "ccac5843-8b84-4d5e-951c-275c1cfb0cef",
   "metadata": {},
   "source": [
    "## Cache"
   ]
  },
  {
   "cell_type": "code",
   "execution_count": 418,
   "id": "ecf47cb2-0948-41ef-aaa7-469de11e4101",
   "metadata": {},
   "outputs": [],
   "source": [
    "saveRDS(logcpm, '/data/srlab2/ik936/Roche/data/DSS/cache/logcpm.rds')\n",
    "saveRDS(dlogcpm, '/data/srlab2/ik936/Roche/data/DSS/cache/dlogcpm.rds')\n"
   ]
  },
  {
   "cell_type": "markdown",
   "id": "490f6f7d-f557-4cef-bcee-1c8c8fad94b9",
   "metadata": {},
   "source": [
    "# Ortho"
   ]
  },
  {
   "cell_type": "code",
   "execution_count": 22,
   "id": "45366341-7fa3-4825-9d50-e5a96e5b5926",
   "metadata": {},
   "outputs": [],
   "source": [
    "genes_hs <- unique(readRDS('/data/srlab2/ik936/Roche/data/cache/obj_fibroblasts/effects_marginal.rds')$feature)\n",
    "ortho <- get_ortho(rownames(counts), genes_hs, 'mouse', 'human')\n",
    "saveRDS(ortho, '/data/srlab2/ik936/Roche/data/DSS/cache/ortho.rds')"
   ]
  },
  {
   "cell_type": "code",
   "execution_count": null,
   "id": "51351f55-1d0a-4731-acfb-0552f339e567",
   "metadata": {},
   "outputs": [],
   "source": []
  },
  {
   "cell_type": "code",
   "execution_count": null,
   "id": "9ebf9b67-f0e8-4476-8e18-e29683829360",
   "metadata": {},
   "outputs": [],
   "source": []
  }
 ],
 "metadata": {
  "kernelspec": {
   "display_name": "R",
   "language": "R",
   "name": "ir"
  },
  "language_info": {
   "codemirror_mode": "r",
   "file_extension": ".r",
   "mimetype": "text/x-r-source",
   "name": "R",
   "pygments_lexer": "r",
   "version": "4.1.2"
  }
 },
 "nbformat": 4,
 "nbformat_minor": 5
}
